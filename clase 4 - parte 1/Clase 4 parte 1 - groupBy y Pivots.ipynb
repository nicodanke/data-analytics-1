{
 "cells": [
  {
   "cell_type": "markdown",
   "metadata": {
    "id": "gPvxwTlmVWtK"
   },
   "source": [
    "<img src=\"img/Marca-ITBA-Color-ALTA.png\" width=\"250\">\n",
    "\n",
    "# Programación para el Análisis de Datos\n",
    "\n",
    "## Clase 4 parte 1 - Agrupaciones y agregaciones con Pandas\n",
    "\n",
    "#### Referencias y bibliografía de consulta:\n",
    "\n",
    "- Python for Data Analysis by Wes McKinney (O’Reilly) 2022 - capítulo 10\n",
    "\n",
    "- https://pandas.pydata.org/\n",
    "\n",
    "### Introducción\n",
    "\n",
    "En la sección anterior se realizó una introducción a la transformación de datos utilizando funciones como `map`, `apply`, y `applymap`. Estas funciones son una de las piedras fundamentales en el análisis de datos.\n",
    "\n",
    "Ahora se explorarán funciones que se utilizan para agrupar datos y realizar agregaciones con diferentes funciones y operaciones matemáticas.\n",
    "La agrupación de datos se utiliza para ordenar y clasificar datos según un valor o categoría.\n",
    "\n",
    "Después de cargar, fusionar y preparar un conjunto de datos, puede que sea necesario calcular estadísticas de grupo o tablas pivot para reportes y/o visualización.\n",
    "\n",
    "El módulo `Pandas` provee métodos que nos permiten realizar estas tareas de forma natural.\n",
    "\n",
    "\n",
    "- Dividir un objeto `Pandas` en partes usando una o más claves.\n",
    "\n",
    "- Calcular estadísticos sobre grupos, como la media, el desvío estandar, o cualquier función definida por el usuario.\n",
    "\n",
    "- Aplicar transformaciones por grupos.\n",
    "\n",
    "- Construir tablas pivot."
   ]
  },
  {
   "cell_type": "code",
   "execution_count": 1,
   "metadata": {
    "id": "qIJeJ8VxVWtL"
   },
   "outputs": [],
   "source": [
    "import numpy as np\n",
    "import pandas as pd"
   ]
  },
  {
   "cell_type": "markdown",
   "metadata": {
    "id": "Jocco-bMVWtM"
   },
   "source": [
    "Para empezar, importamos el dataset que utilizaremos a modo de ejemplo.\n",
    "En la clase de hoy vamos a usar un dataset sobre datos de una compañía telefónica. Este dataset contiene la siguiente información\n",
    "- **date**: Fecha y hora del evento. Formato 'DD/MM/YY HH:mm'\n",
    "- **duration**: Duración en segundos de cada llamada, la cantidad de datos (en MB) enviados y la cantidad de mensajes de texto enviados.\n",
    "- **item**: Descripción del evento. Puede ser uno de los 3 grupos: Llamada (call), SMS (sms) o GPRS (data)\n",
    "- **month**: Mes de facturación al que corresponde el evento. Formato 'YYYY-MM'\n",
    "- **network**: Red movil utilizada por el evento.\n",
    "- **network_type**: Tipo de servicio utilizado. Llamada local a celular (mobile), llamada a teléfono fijo (landline), internacional (world), buzón de voz (voicemail), envio de datos (data) u otros (special).\n",
    "\n"
   ]
  },
  {
   "cell_type": "markdown",
   "metadata": {
    "id": "4spVtHHcVWtM"
   },
   "source": [
    "Investiguemos el dataset!"
   ]
  },
  {
   "cell_type": "code",
   "execution_count": 2,
   "metadata": {
    "id": "39SiyalHVWtM",
    "outputId": "763d4a47-fd70-439d-a036-a0e3f039b4a5"
   },
   "outputs": [
    {
     "data": {
      "text/html": [
       "<div>\n",
       "<style scoped>\n",
       "    .dataframe tbody tr th:only-of-type {\n",
       "        vertical-align: middle;\n",
       "    }\n",
       "\n",
       "    .dataframe tbody tr th {\n",
       "        vertical-align: top;\n",
       "    }\n",
       "\n",
       "    .dataframe thead th {\n",
       "        text-align: right;\n",
       "    }\n",
       "</style>\n",
       "<table border=\"1\" class=\"dataframe\">\n",
       "  <thead>\n",
       "    <tr style=\"text-align: right;\">\n",
       "      <th></th>\n",
       "      <th>date</th>\n",
       "      <th>duration</th>\n",
       "      <th>item</th>\n",
       "      <th>month</th>\n",
       "      <th>network</th>\n",
       "      <th>network_type</th>\n",
       "    </tr>\n",
       "    <tr>\n",
       "      <th>index</th>\n",
       "      <th></th>\n",
       "      <th></th>\n",
       "      <th></th>\n",
       "      <th></th>\n",
       "      <th></th>\n",
       "      <th></th>\n",
       "    </tr>\n",
       "  </thead>\n",
       "  <tbody>\n",
       "    <tr>\n",
       "      <th>0</th>\n",
       "      <td>15/10/14 06:58</td>\n",
       "      <td>34.429</td>\n",
       "      <td>data</td>\n",
       "      <td>2014-11</td>\n",
       "      <td>data</td>\n",
       "      <td>data</td>\n",
       "    </tr>\n",
       "    <tr>\n",
       "      <th>1</th>\n",
       "      <td>15/10/14 06:58</td>\n",
       "      <td>13.000</td>\n",
       "      <td>call</td>\n",
       "      <td>2014-11</td>\n",
       "      <td>Vodafone</td>\n",
       "      <td>mobile</td>\n",
       "    </tr>\n",
       "    <tr>\n",
       "      <th>2</th>\n",
       "      <td>15/10/14 14:46</td>\n",
       "      <td>23.000</td>\n",
       "      <td>call</td>\n",
       "      <td>2014-11</td>\n",
       "      <td>Meteor</td>\n",
       "      <td>mobile</td>\n",
       "    </tr>\n",
       "    <tr>\n",
       "      <th>3</th>\n",
       "      <td>15/10/14 14:48</td>\n",
       "      <td>4.000</td>\n",
       "      <td>call</td>\n",
       "      <td>2014-11</td>\n",
       "      <td>Tesco</td>\n",
       "      <td>mobile</td>\n",
       "    </tr>\n",
       "    <tr>\n",
       "      <th>4</th>\n",
       "      <td>15/10/14 17:27</td>\n",
       "      <td>4.000</td>\n",
       "      <td>call</td>\n",
       "      <td>2014-11</td>\n",
       "      <td>Tesco</td>\n",
       "      <td>mobile</td>\n",
       "    </tr>\n",
       "  </tbody>\n",
       "</table>\n",
       "</div>"
      ],
      "text/plain": [
       "                 date  duration  item    month   network network_type\n",
       "index                                                                \n",
       "0      15/10/14 06:58    34.429  data  2014-11      data         data\n",
       "1      15/10/14 06:58    13.000  call  2014-11  Vodafone       mobile\n",
       "2      15/10/14 14:46    23.000  call  2014-11    Meteor       mobile\n",
       "3      15/10/14 14:48     4.000  call  2014-11     Tesco       mobile\n",
       "4      15/10/14 17:27     4.000  call  2014-11     Tesco       mobile"
      ]
     },
     "execution_count": 2,
     "metadata": {},
     "output_type": "execute_result"
    }
   ],
   "source": [
    "dataset = pd.read_csv('data/phone_data.csv', index_col=0)\n",
    "\n",
    "dataset.head()"
   ]
  },
  {
   "cell_type": "code",
   "execution_count": 3,
   "metadata": {
    "id": "VDhmARqgVWtN",
    "outputId": "4233c3c9-c43e-4d30-bfd9-56ae3af07720"
   },
   "outputs": [
    {
     "data": {
      "text/plain": [
       "(830, 6)"
      ]
     },
     "execution_count": 3,
     "metadata": {},
     "output_type": "execute_result"
    }
   ],
   "source": [
    "dataset.shape"
   ]
  },
  {
   "cell_type": "code",
   "execution_count": 4,
   "metadata": {
    "id": "hoe04om3VWtN",
    "outputId": "6df7eb8a-27d0-454d-8fef-70764ffcc522"
   },
   "outputs": [
    {
     "name": "stdout",
     "output_type": "stream",
     "text": [
      "<class 'pandas.core.frame.DataFrame'>\n",
      "Index: 830 entries, 0 to 829\n",
      "Data columns (total 6 columns):\n",
      " #   Column        Non-Null Count  Dtype  \n",
      "---  ------        --------------  -----  \n",
      " 0   date          830 non-null    object \n",
      " 1   duration      830 non-null    float64\n",
      " 2   item          830 non-null    object \n",
      " 3   month         830 non-null    object \n",
      " 4   network       830 non-null    object \n",
      " 5   network_type  830 non-null    object \n",
      "dtypes: float64(1), object(5)\n",
      "memory usage: 45.4+ KB\n"
     ]
    }
   ],
   "source": [
    "dataset.info()"
   ]
  },
  {
   "cell_type": "code",
   "execution_count": 5,
   "metadata": {
    "id": "TooOTJzjVWtN",
    "outputId": "5359df38-6a49-4eae-9498-19f2b380861e"
   },
   "outputs": [
    {
     "data": {
      "text/plain": [
       "array(['data', 'call', 'sms'], dtype=object)"
      ]
     },
     "execution_count": 5,
     "metadata": {},
     "output_type": "execute_result"
    }
   ],
   "source": [
    "dataset['item'].unique()"
   ]
  },
  {
   "cell_type": "markdown",
   "metadata": {
    "id": "8zy9NvQ3VWtN"
   },
   "source": [
    "Vemos que la *feature* `date` está casteada como object. Vamos a Transformarlo en datetime. "
   ]
  },
  {
   "cell_type": "code",
   "execution_count": 6,
   "metadata": {},
   "outputs": [],
   "source": [
    "dataset['date'] = pd.to_datetime(dataset['date'], format='%d/%m/%y %H:%M')"
   ]
  },
  {
   "cell_type": "markdown",
   "metadata": {
    "id": "93d7hu9mVWtO"
   },
   "source": [
    "Tomemos una muestra de 3 elementos para ver cómo podemos trabajar con los datetime de `Pandas`:"
   ]
  },
  {
   "cell_type": "code",
   "execution_count": 7,
   "metadata": {
    "id": "hjelPAYsVWtO",
    "outputId": "51493df0-1170-4dd6-9621-2540fbf140fa"
   },
   "outputs": [
    {
     "data": {
      "text/plain": [
       "index\n",
       "0   2014-10-15 06:58:00\n",
       "1   2014-10-15 06:58:00\n",
       "2   2014-10-15 14:46:00\n",
       "Name: date, dtype: datetime64[ns]"
      ]
     },
     "execution_count": 7,
     "metadata": {},
     "output_type": "execute_result"
    }
   ],
   "source": [
    "head_date = dataset.head(3)['date']\n",
    "head_date"
   ]
  },
  {
   "cell_type": "code",
   "execution_count": 8,
   "metadata": {
    "id": "MLeHKX3JVWtO",
    "outputId": "a40adb1d-c5eb-44ca-8e00-505173f36813"
   },
   "outputs": [
    {
     "name": "stdout",
     "output_type": "stream",
     "text": [
      "days:\n",
      "index\n",
      "0    15\n",
      "1    15\n",
      "2    15\n",
      "Name: date, dtype: int32\n",
      "\n",
      "months:\n",
      "index\n",
      "0    10\n",
      "1    10\n",
      "2    10\n",
      "Name: date, dtype: int32\n",
      "\n",
      "years:\n",
      "index\n",
      "0    2014\n",
      "1    2014\n",
      "2    2014\n",
      "Name: date, dtype: int32\n",
      "\n"
     ]
    }
   ],
   "source": [
    "print(f\"days:\\n{head_date.dt.day}\\n\")\n",
    "print(f\"months:\\n{head_date.dt.month}\\n\")\n",
    "print(f\"years:\\n{head_date.dt.year}\\n\")"
   ]
  },
  {
   "cell_type": "markdown",
   "metadata": {
    "id": "3pHKx1fRVWtO"
   },
   "source": [
    "### Exploración de los datos\n",
    "\n",
    "* ¿Qué período de tiempo abarca el dataset?\n",
    "\n",
    "* ¿En qué meses hubo más facturación?"
   ]
  },
  {
   "cell_type": "code",
   "execution_count": 9,
   "metadata": {
    "id": "pIGHlRvbVWtO",
    "outputId": "b0a044b1-f955-4bf9-fc02-602815e0f2e4"
   },
   "outputs": [
    {
     "name": "stdout",
     "output_type": "stream",
     "text": [
      "Período: 2014-10-15 - 2015-03-14\n"
     ]
    }
   ],
   "source": [
    "start = dataset['date'].min()\n",
    "end = dataset['date'].max()\n",
    "\n",
    "print(f\"Período: {start.date()} - {end.date()}\")"
   ]
  },
  {
   "cell_type": "code",
   "execution_count": 10,
   "metadata": {
    "id": "5nmdN1q8VWtO",
    "outputId": "eb49a66f-035c-45d6-a5ee-e3a4db61d8dd"
   },
   "outputs": [
    {
     "name": "stdout",
     "output_type": "stream",
     "text": [
      "Cantidad de observaciones por mes\n"
     ]
    },
    {
     "data": {
      "text/plain": [
       "date\n",
       "1     169\n",
       "2     118\n",
       "3      39\n",
       "10    111\n",
       "11    227\n",
       "12    166\n",
       "Name: count, dtype: int64"
      ]
     },
     "execution_count": 10,
     "metadata": {},
     "output_type": "execute_result"
    }
   ],
   "source": [
    "print(\"Cantidad de observaciones por mes\")\n",
    "\n",
    "dataset['date'].dt.month.value_counts().sort_index()"
   ]
  },
  {
   "cell_type": "markdown",
   "metadata": {
    "id": "2cGnIvnfVWtO"
   },
   "source": [
    "- Cuál es la duración máxima de las llamadas?"
   ]
  },
  {
   "cell_type": "code",
   "execution_count": 11,
   "metadata": {
    "id": "q-zKWP_RVWtP",
    "outputId": "20947574-abaf-4bf6-e0bf-90c97283bf0b"
   },
   "outputs": [
    {
     "name": "stdout",
     "output_type": "stream",
     "text": [
      "La duración máxima de una llamada fue de 10528.0 segundos\n"
     ]
    }
   ],
   "source": [
    "d_max = dataset[dataset['item'] =='call']['duration'].max()\n",
    "print(f\"La duración máxima de una llamada fue de {d_max} segundos\")"
   ]
  },
  {
   "cell_type": "markdown",
   "metadata": {
    "id": "WMbWVOzjVWtP"
   },
   "source": [
    "- A qué llamada corresponde?"
   ]
  },
  {
   "cell_type": "code",
   "execution_count": 12,
   "metadata": {
    "id": "o6cqcrizVWtP",
    "outputId": "9aee6a2e-58a4-4d6c-ca85-40517d247c78"
   },
   "outputs": [
    {
     "data": {
      "text/html": [
       "<div>\n",
       "<style scoped>\n",
       "    .dataframe tbody tr th:only-of-type {\n",
       "        vertical-align: middle;\n",
       "    }\n",
       "\n",
       "    .dataframe tbody tr th {\n",
       "        vertical-align: top;\n",
       "    }\n",
       "\n",
       "    .dataframe thead th {\n",
       "        text-align: right;\n",
       "    }\n",
       "</style>\n",
       "<table border=\"1\" class=\"dataframe\">\n",
       "  <thead>\n",
       "    <tr style=\"text-align: right;\">\n",
       "      <th></th>\n",
       "      <th>date</th>\n",
       "      <th>duration</th>\n",
       "      <th>item</th>\n",
       "      <th>month</th>\n",
       "      <th>network</th>\n",
       "      <th>network_type</th>\n",
       "    </tr>\n",
       "    <tr>\n",
       "      <th>index</th>\n",
       "      <th></th>\n",
       "      <th></th>\n",
       "      <th></th>\n",
       "      <th></th>\n",
       "      <th></th>\n",
       "      <th></th>\n",
       "    </tr>\n",
       "  </thead>\n",
       "  <tbody>\n",
       "    <tr>\n",
       "      <th>816</th>\n",
       "      <td>2015-03-04 12:29:00</td>\n",
       "      <td>10528.0</td>\n",
       "      <td>call</td>\n",
       "      <td>2015-03</td>\n",
       "      <td>landline</td>\n",
       "      <td>landline</td>\n",
       "    </tr>\n",
       "  </tbody>\n",
       "</table>\n",
       "</div>"
      ],
      "text/plain": [
       "                     date  duration  item    month   network network_type\n",
       "index                                                                    \n",
       "816   2015-03-04 12:29:00   10528.0  call  2015-03  landline     landline"
      ]
     },
     "execution_count": 12,
     "metadata": {},
     "output_type": "execute_result"
    }
   ],
   "source": [
    "dataset[dataset['duration'] == d_max]"
   ]
  },
  {
   "cell_type": "markdown",
   "metadata": {
    "id": "B_Kt5oSYVWtP"
   },
   "source": [
    "Vamos a crear una variable categorica que divida los eventos de llamadas según la duración (mayor igual o menor a 117seg)"
   ]
  },
  {
   "cell_type": "code",
   "execution_count": 13,
   "metadata": {
    "id": "w7P28ZzUVWtP"
   },
   "outputs": [],
   "source": [
    "mask = (dataset['item'] == 'call') & (dataset['duration'] < 117)\n",
    "dataset.loc[mask, 'key_bin'] = 'D0'\n",
    "dataset.loc[~ mask, 'key_bin'] = 'D1'"
   ]
  },
  {
   "cell_type": "code",
   "execution_count": 14,
   "metadata": {
    "id": "LQtZSFgsVWtP",
    "outputId": "124e4961-cbfe-40f8-91b6-a61b8a271441"
   },
   "outputs": [
    {
     "data": {
      "text/html": [
       "<div>\n",
       "<style scoped>\n",
       "    .dataframe tbody tr th:only-of-type {\n",
       "        vertical-align: middle;\n",
       "    }\n",
       "\n",
       "    .dataframe tbody tr th {\n",
       "        vertical-align: top;\n",
       "    }\n",
       "\n",
       "    .dataframe thead th {\n",
       "        text-align: right;\n",
       "    }\n",
       "</style>\n",
       "<table border=\"1\" class=\"dataframe\">\n",
       "  <thead>\n",
       "    <tr style=\"text-align: right;\">\n",
       "      <th></th>\n",
       "      <th>date</th>\n",
       "      <th>duration</th>\n",
       "      <th>item</th>\n",
       "      <th>month</th>\n",
       "      <th>network</th>\n",
       "      <th>network_type</th>\n",
       "      <th>key_bin</th>\n",
       "    </tr>\n",
       "    <tr>\n",
       "      <th>index</th>\n",
       "      <th></th>\n",
       "      <th></th>\n",
       "      <th></th>\n",
       "      <th></th>\n",
       "      <th></th>\n",
       "      <th></th>\n",
       "      <th></th>\n",
       "    </tr>\n",
       "  </thead>\n",
       "  <tbody>\n",
       "    <tr>\n",
       "      <th>786</th>\n",
       "      <td>2015-02-28 17:14:00</td>\n",
       "      <td>3.000</td>\n",
       "      <td>call</td>\n",
       "      <td>2015-03</td>\n",
       "      <td>landline</td>\n",
       "      <td>landline</td>\n",
       "      <td>D0</td>\n",
       "    </tr>\n",
       "    <tr>\n",
       "      <th>522</th>\n",
       "      <td>2015-01-05 10:52:00</td>\n",
       "      <td>1.000</td>\n",
       "      <td>sms</td>\n",
       "      <td>2015-01</td>\n",
       "      <td>Three</td>\n",
       "      <td>mobile</td>\n",
       "      <td>D1</td>\n",
       "    </tr>\n",
       "    <tr>\n",
       "      <th>811</th>\n",
       "      <td>2015-03-04 06:58:00</td>\n",
       "      <td>34.429</td>\n",
       "      <td>data</td>\n",
       "      <td>2015-03</td>\n",
       "      <td>data</td>\n",
       "      <td>data</td>\n",
       "      <td>D1</td>\n",
       "    </tr>\n",
       "    <tr>\n",
       "      <th>579</th>\n",
       "      <td>2015-01-13 19:09:00</td>\n",
       "      <td>1.000</td>\n",
       "      <td>sms</td>\n",
       "      <td>2015-01</td>\n",
       "      <td>Three</td>\n",
       "      <td>mobile</td>\n",
       "      <td>D1</td>\n",
       "    </tr>\n",
       "    <tr>\n",
       "      <th>573</th>\n",
       "      <td>2015-01-12 12:01:00</td>\n",
       "      <td>7.000</td>\n",
       "      <td>call</td>\n",
       "      <td>2015-01</td>\n",
       "      <td>Meteor</td>\n",
       "      <td>mobile</td>\n",
       "      <td>D0</td>\n",
       "    </tr>\n",
       "    <tr>\n",
       "      <th>8</th>\n",
       "      <td>2014-10-16 15:12:00</td>\n",
       "      <td>1050.000</td>\n",
       "      <td>call</td>\n",
       "      <td>2014-11</td>\n",
       "      <td>Three</td>\n",
       "      <td>mobile</td>\n",
       "      <td>D1</td>\n",
       "    </tr>\n",
       "    <tr>\n",
       "      <th>457</th>\n",
       "      <td>2014-12-24 13:56:00</td>\n",
       "      <td>3.000</td>\n",
       "      <td>call</td>\n",
       "      <td>2015-01</td>\n",
       "      <td>Three</td>\n",
       "      <td>mobile</td>\n",
       "      <td>D0</td>\n",
       "    </tr>\n",
       "    <tr>\n",
       "      <th>364</th>\n",
       "      <td>2014-12-07 13:03:00</td>\n",
       "      <td>99.000</td>\n",
       "      <td>call</td>\n",
       "      <td>2014-12</td>\n",
       "      <td>voicemail</td>\n",
       "      <td>voicemail</td>\n",
       "      <td>D0</td>\n",
       "    </tr>\n",
       "    <tr>\n",
       "      <th>610</th>\n",
       "      <td>2015-01-17 06:58:00</td>\n",
       "      <td>34.429</td>\n",
       "      <td>data</td>\n",
       "      <td>2015-02</td>\n",
       "      <td>data</td>\n",
       "      <td>data</td>\n",
       "      <td>D1</td>\n",
       "    </tr>\n",
       "    <tr>\n",
       "      <th>554</th>\n",
       "      <td>2015-01-08 23:06:00</td>\n",
       "      <td>1.000</td>\n",
       "      <td>sms</td>\n",
       "      <td>2015-01</td>\n",
       "      <td>Vodafone</td>\n",
       "      <td>mobile</td>\n",
       "      <td>D1</td>\n",
       "    </tr>\n",
       "  </tbody>\n",
       "</table>\n",
       "</div>"
      ],
      "text/plain": [
       "                     date  duration  item    month    network network_type  \\\n",
       "index                                                                        \n",
       "786   2015-02-28 17:14:00     3.000  call  2015-03   landline     landline   \n",
       "522   2015-01-05 10:52:00     1.000   sms  2015-01      Three       mobile   \n",
       "811   2015-03-04 06:58:00    34.429  data  2015-03       data         data   \n",
       "579   2015-01-13 19:09:00     1.000   sms  2015-01      Three       mobile   \n",
       "573   2015-01-12 12:01:00     7.000  call  2015-01     Meteor       mobile   \n",
       "8     2014-10-16 15:12:00  1050.000  call  2014-11      Three       mobile   \n",
       "457   2014-12-24 13:56:00     3.000  call  2015-01      Three       mobile   \n",
       "364   2014-12-07 13:03:00    99.000  call  2014-12  voicemail    voicemail   \n",
       "610   2015-01-17 06:58:00    34.429  data  2015-02       data         data   \n",
       "554   2015-01-08 23:06:00     1.000   sms  2015-01   Vodafone       mobile   \n",
       "\n",
       "      key_bin  \n",
       "index          \n",
       "786        D0  \n",
       "522        D1  \n",
       "811        D1  \n",
       "579        D1  \n",
       "573        D0  \n",
       "8          D1  \n",
       "457        D0  \n",
       "364        D0  \n",
       "610        D1  \n",
       "554        D1  "
      ]
     },
     "execution_count": 14,
     "metadata": {},
     "output_type": "execute_result"
    }
   ],
   "source": [
    "dataset.sample(10, random_state=1)"
   ]
  },
  {
   "cell_type": "markdown",
   "metadata": {
    "id": "qvztiqWwVWtP"
   },
   "source": [
    "Para poder contestar preguntas mas complejas, se define el concepto de agrupación por clave, o **group by**.\n",
    "\n",
    "Pandas implementa un método especial para este tipo de tareas.\n",
    "\n",
    "## GroupBy\n",
    "\n",
    "Podemos describir las operaciones sobre grupos en términos del proceso **split-apply-combine**. \n",
    "\n",
    "En la primera etapa del proceso, el **split**, los datos en un objeto `Pandas` (una instancia de `Series` o de `DataFrame`) se dividen en grupos en base a una o más claves. \n",
    "\n",
    "Luego, en la fase de **apply**, aplicamos una función a cada uno de los grupos dando como resultado un nuevo valor por grupo.\n",
    "\n",
    "En el último paso, el **combine**, los resultados de la aplicación de la función en cada uno de los grupos se combinan en un objeto resultado.\n",
    "\n",
    "\n",
    "<img src=\"img/split_apply_combine.png\" width=\"450\">\n",
    "\n",
    "\n",
    "El objeto `GroupBy` realiza todo este proceso en un solo paso. \n",
    "\n",
    "En el paso de *Apply* se puede necesitar realizar distintas operaciones, como pueden ser:\n",
    "\n",
    "- Aggregaciones: Aplica una función de reduccion, generalmente estadistica (suma, cantidad, media), para cada uno de los subgrupos\n",
    "- Transformaciones: Aplicar una transformación específica para cada uno de los subgrupos. (Completar nulos)\n",
    "- Filtrado: Filtra en función del grupo. (Descartar algunos grupos, eliminar outliers)\n",
    "\n",
    "Las operaciones de group by se realizan con el objeto **GroupBy**\n",
    "\n",
    "### El objeto GroupBy\n",
    "\n",
    "\n",
    "\n",
    "El objeto `GroupBy` es un abstracción muy flexible. Pandas permite utilizar el objeto tanto para `DataFrame` como para `Serie`.\n",
    "\n",
    "Este objeto **NO** retorna un `DataFrame`, sino un objeto `DataFrameGroupBy`. "
   ]
  },
  {
   "cell_type": "code",
   "execution_count": 15,
   "metadata": {
    "id": "PaziTTGyVWtP",
    "outputId": "d320e291-fdfe-4ac2-9179-cbfb251329ce",
    "scrolled": true
   },
   "outputs": [
    {
     "data": {
      "text/plain": [
       "<pandas.core.groupby.generic.DataFrameGroupBy object at 0x11f96ffe0>"
      ]
     },
     "execution_count": 15,
     "metadata": {},
     "output_type": "execute_result"
    }
   ],
   "source": [
    "grouped_item = dataset.groupby('item')\n",
    "grouped_item"
   ]
  },
  {
   "cell_type": "markdown",
   "metadata": {
    "id": "E-FJVDn6VWtP"
   },
   "source": [
    "Con el atributo `groups` podemos ver cómo repartió a los elementos del `index` en lo diferentes grupos. El atributo groups nos muestra un diccionario cuyas claves son los items y los valores son los índices para cada item."
   ]
  },
  {
   "cell_type": "code",
   "execution_count": 16,
   "metadata": {
    "id": "qoPpbZMUVWtQ",
    "outputId": "191d4fff-44cd-4abb-c6ee-9bcc7819901f"
   },
   "outputs": [
    {
     "data": {
      "text/plain": [
       "{'call': [1, 2, 3, 4, 5, 7, 8, 9, 10, 19, 20, 21, 27, 28, 29, 30, 31, 32, 34, 35, 40, 41, 42, 43, 44, 46, 47, 48, 49, 50, 51, 55, 57, 59, 60, 64, 65, 78, 82, 83, 84, 85, 86, 88, 89, 90, 91, 93, 94, 96, 98, 99, 100, 104, 105, 106, 109, 110, 112, 113, 115, 116, 117, 118, 119, 122, 123, 124, 126, 127, 128, 129, 130, 136, 137, 139, 140, 141, 146, 147, 150, 152, 156, 162, 163, 164, 165, 166, 168, 169, 171, 172, 183, 184, 190, 191, 193, 194, 195, 196, ...], 'data': [0, 6, 13, 26, 39, 45, 54, 56, 58, 66, 80, 81, 87, 92, 95, 97, 101, 111, 114, 120, 131, 151, 159, 170, 182, 189, 192, 199, 208, 228, 231, 234, 235, 237, 238, 249, 254, 263, 275, 281, 288, 291, 305, 321, 324, 328, 330, 338, 341, 343, 346, 351, 355, 363, 372, 374, 376, 377, 378, 381, 386, 389, 396, 397, 400, 409, 420, 426, 427, 443, 453, 463, 465, 468, 473, 474, 476, 496, 504, 505, 509, 512, 516, 529, 537, 541, 555, 560, 568, 571, 577, 586, 594, 598, 610, 613, 616, 621, 625, 634, ...], 'sms': [11, 12, 14, 15, 16, 17, 18, 22, 23, 24, 25, 33, 36, 37, 38, 52, 53, 61, 62, 63, 67, 68, 69, 70, 71, 72, 73, 74, 75, 76, 77, 79, 102, 103, 107, 108, 121, 125, 132, 133, 134, 135, 138, 142, 143, 144, 145, 148, 149, 153, 154, 155, 157, 158, 160, 161, 167, 173, 174, 175, 176, 177, 178, 179, 180, 181, 185, 186, 187, 188, 197, 198, 202, 204, 205, 206, 207, 209, 210, 211, 212, 213, 214, 215, 217, 218, 219, 220, 221, 225, 226, 227, 229, 230, 233, 239, 240, 241, 242, 243, ...]}"
      ]
     },
     "execution_count": 16,
     "metadata": {},
     "output_type": "execute_result"
    }
   ],
   "source": [
    "grouped_item.groups"
   ]
  },
  {
   "cell_type": "code",
   "execution_count": 17,
   "metadata": {
    "id": "Uw2X1eYYVWtQ",
    "outputId": "7a686c3d-fc64-40ef-8d70-671173253daf"
   },
   "outputs": [
    {
     "data": {
      "text/plain": [
       "dict_keys(['call', 'data', 'sms'])"
      ]
     },
     "execution_count": 17,
     "metadata": {},
     "output_type": "execute_result"
    }
   ],
   "source": [
    "grouped_item.groups.keys()"
   ]
  },
  {
   "cell_type": "code",
   "execution_count": 18,
   "metadata": {
    "id": "jaZ7pS9QVWtQ",
    "outputId": "dfbc8036-6c8f-41f7-c2e0-b874e7ef7d05"
   },
   "outputs": [
    {
     "data": {
      "text/plain": [
       "Index([  1,   2,   3,   4,   5,   7,   8,   9,  10,  19,\n",
       "       ...\n",
       "       801, 802, 803, 805, 806, 807, 808, 809, 810, 816],\n",
       "      dtype='int64', name='index', length=388)"
      ]
     },
     "execution_count": 18,
     "metadata": {},
     "output_type": "execute_result"
    }
   ],
   "source": [
    "grouped_item.groups['call']"
   ]
  },
  {
   "cell_type": "markdown",
   "metadata": {
    "id": "Va5oFzX7VWtQ"
   },
   "source": [
    "Se puede pensar en el `DataFrameGroupBy` como una vista especial de un `DataFrame` que construye los grupos pero que no realiza ningún cómputo hasta que la etapa de agregación es aplicada.\n",
    "\n",
    "Para producir un resultado podemos aplicar una función de agregación a este `DataFrameGroupBy` que a realiza la operación (apply) y avanza en el paso de combine.\n",
    "\n",
    "Veamos algunos ejemplos:"
   ]
  },
  {
   "cell_type": "code",
   "execution_count": 19,
   "metadata": {
    "id": "86QntJggVWtQ",
    "outputId": "ca46aa3b-eab5-4966-da03-3e9ae269d7d5"
   },
   "outputs": [
    {
     "data": {
      "text/html": [
       "<div>\n",
       "<style scoped>\n",
       "    .dataframe tbody tr th:only-of-type {\n",
       "        vertical-align: middle;\n",
       "    }\n",
       "\n",
       "    .dataframe tbody tr th {\n",
       "        vertical-align: top;\n",
       "    }\n",
       "\n",
       "    .dataframe thead th {\n",
       "        text-align: right;\n",
       "    }\n",
       "</style>\n",
       "<table border=\"1\" class=\"dataframe\">\n",
       "  <thead>\n",
       "    <tr style=\"text-align: right;\">\n",
       "      <th></th>\n",
       "      <th>duration</th>\n",
       "    </tr>\n",
       "    <tr>\n",
       "      <th>item</th>\n",
       "      <th></th>\n",
       "    </tr>\n",
       "  </thead>\n",
       "  <tbody>\n",
       "    <tr>\n",
       "      <th>call</th>\n",
       "      <td>237.940722</td>\n",
       "    </tr>\n",
       "    <tr>\n",
       "      <th>data</th>\n",
       "      <td>34.429000</td>\n",
       "    </tr>\n",
       "    <tr>\n",
       "      <th>sms</th>\n",
       "      <td>1.000000</td>\n",
       "    </tr>\n",
       "  </tbody>\n",
       "</table>\n",
       "</div>"
      ],
      "text/plain": [
       "        duration\n",
       "item            \n",
       "call  237.940722\n",
       "data   34.429000\n",
       "sms     1.000000"
      ]
     },
     "execution_count": 19,
     "metadata": {},
     "output_type": "execute_result"
    }
   ],
   "source": [
    "grouped_item[['duration']].mean()"
   ]
  },
  {
   "cell_type": "code",
   "execution_count": 20,
   "metadata": {
    "id": "TKFvVYkIVWtQ",
    "outputId": "b92a0dee-f1a3-4e9e-e66f-4a5e734a2820"
   },
   "outputs": [
    {
     "data": {
      "text/plain": [
       "item\n",
       "call    237.940722\n",
       "data     34.429000\n",
       "sms       1.000000\n",
       "Name: duration, dtype: float64"
      ]
     },
     "execution_count": 20,
     "metadata": {},
     "output_type": "execute_result"
    }
   ],
   "source": [
    "grouped_item['duration'].mean()"
   ]
  },
  {
   "cell_type": "code",
   "execution_count": 21,
   "metadata": {
    "id": "1nZjxO9gVWtQ",
    "outputId": "090e0a65-4b7a-4b00-e45f-7e4079e1c4a8"
   },
   "outputs": [
    {
     "data": {
      "text/html": [
       "<div>\n",
       "<style scoped>\n",
       "    .dataframe tbody tr th:only-of-type {\n",
       "        vertical-align: middle;\n",
       "    }\n",
       "\n",
       "    .dataframe tbody tr th {\n",
       "        vertical-align: top;\n",
       "    }\n",
       "\n",
       "    .dataframe thead th {\n",
       "        text-align: right;\n",
       "    }\n",
       "</style>\n",
       "<table border=\"1\" class=\"dataframe\">\n",
       "  <thead>\n",
       "    <tr style=\"text-align: right;\">\n",
       "      <th></th>\n",
       "      <th>duration</th>\n",
       "    </tr>\n",
       "    <tr>\n",
       "      <th>item</th>\n",
       "      <th></th>\n",
       "    </tr>\n",
       "  </thead>\n",
       "  <tbody>\n",
       "    <tr>\n",
       "      <th>call</th>\n",
       "      <td>628.551264</td>\n",
       "    </tr>\n",
       "    <tr>\n",
       "      <th>data</th>\n",
       "      <td>0.000000</td>\n",
       "    </tr>\n",
       "    <tr>\n",
       "      <th>sms</th>\n",
       "      <td>0.000000</td>\n",
       "    </tr>\n",
       "  </tbody>\n",
       "</table>\n",
       "</div>"
      ],
      "text/plain": [
       "        duration\n",
       "item            \n",
       "call  628.551264\n",
       "data    0.000000\n",
       "sms     0.000000"
      ]
     },
     "execution_count": 21,
     "metadata": {},
     "output_type": "execute_result"
    }
   ],
   "source": [
    "grouped_item[['duration']].std()"
   ]
  },
  {
   "cell_type": "markdown",
   "metadata": {
    "id": "DYCuhbi2VWtQ"
   },
   "source": [
    "También se pueden realizar operaciones mas complejas para contestar preguntas cómo.\n",
    "- Cuál es el promedio de la duración de llamada para cada red utilizada?"
   ]
  },
  {
   "cell_type": "code",
   "execution_count": 22,
   "metadata": {
    "id": "r5WyB2rhVWtQ",
    "outputId": "053976d6-860f-4e54-b7d6-e57b563856b6"
   },
   "outputs": [
    {
     "data": {
      "text/html": [
       "<div>\n",
       "<style scoped>\n",
       "    .dataframe tbody tr th:only-of-type {\n",
       "        vertical-align: middle;\n",
       "    }\n",
       "\n",
       "    .dataframe tbody tr th {\n",
       "        vertical-align: top;\n",
       "    }\n",
       "\n",
       "    .dataframe thead th {\n",
       "        text-align: right;\n",
       "    }\n",
       "</style>\n",
       "<table border=\"1\" class=\"dataframe\">\n",
       "  <thead>\n",
       "    <tr style=\"text-align: right;\">\n",
       "      <th></th>\n",
       "      <th>duration</th>\n",
       "    </tr>\n",
       "    <tr>\n",
       "      <th>network</th>\n",
       "      <th></th>\n",
       "    </tr>\n",
       "  </thead>\n",
       "  <tbody>\n",
       "    <tr>\n",
       "      <th>Meteor</th>\n",
       "      <td>133.333333</td>\n",
       "    </tr>\n",
       "    <tr>\n",
       "      <th>Tesco</th>\n",
       "      <td>194.760563</td>\n",
       "    </tr>\n",
       "    <tr>\n",
       "      <th>Three</th>\n",
       "      <td>284.875000</td>\n",
       "    </tr>\n",
       "    <tr>\n",
       "      <th>Vodafone</th>\n",
       "      <td>221.530303</td>\n",
       "    </tr>\n",
       "    <tr>\n",
       "      <th>landline</th>\n",
       "      <td>438.880952</td>\n",
       "    </tr>\n",
       "    <tr>\n",
       "      <th>voicemail</th>\n",
       "      <td>65.740741</td>\n",
       "    </tr>\n",
       "  </tbody>\n",
       "</table>\n",
       "</div>"
      ],
      "text/plain": [
       "             duration\n",
       "network              \n",
       "Meteor     133.333333\n",
       "Tesco      194.760563\n",
       "Three      284.875000\n",
       "Vodafone   221.530303\n",
       "landline   438.880952\n",
       "voicemail   65.740741"
      ]
     },
     "execution_count": 22,
     "metadata": {},
     "output_type": "execute_result"
    }
   ],
   "source": [
    "dataset.loc[dataset['item'] == 'call'].groupby('network')[['duration']].mean()"
   ]
  },
  {
   "cell_type": "markdown",
   "metadata": {
    "id": "istGGrDNVWtQ"
   },
   "source": [
    "El `GroupBy` también nos permite utilizar más de una clave:"
   ]
  },
  {
   "cell_type": "code",
   "execution_count": 23,
   "metadata": {
    "id": "Fvz5qAhCVWtR",
    "outputId": "2760c73e-7a48-4854-9433-55a3cd810edc"
   },
   "outputs": [
    {
     "data": {
      "text/plain": [
       "[('2014-11', 'call'),\n",
       " ('2014-11', 'data'),\n",
       " ('2014-11', 'sms'),\n",
       " ('2014-12', 'call'),\n",
       " ('2014-12', 'data'),\n",
       " ('2014-12', 'sms'),\n",
       " ('2015-01', 'call'),\n",
       " ('2015-01', 'data'),\n",
       " ('2015-01', 'sms'),\n",
       " ('2015-02', 'call'),\n",
       " ('2015-02', 'data'),\n",
       " ('2015-02', 'sms'),\n",
       " ('2015-03', 'call'),\n",
       " ('2015-03', 'data'),\n",
       " ('2015-03', 'sms')]"
      ]
     },
     "execution_count": 23,
     "metadata": {},
     "output_type": "execute_result"
    }
   ],
   "source": [
    "list(dataset.groupby(['month', 'item']).groups.keys())"
   ]
  },
  {
   "cell_type": "markdown",
   "metadata": {
    "id": "s9LcXnvzVWtR"
   },
   "source": [
    "Se puede ver que se genera una clave para cada combinación única de ambas columnas.\n",
    "\n",
    "La cantidad máxima de claves resulta ser $C_1*C_2$, siendo $C_i$ la cardinalidad de la columna $i$"
   ]
  },
  {
   "cell_type": "code",
   "execution_count": 24,
   "metadata": {
    "id": "JcYv02--VWtR",
    "outputId": "4caa9b5b-3375-4db6-9040-a8441bbfc595"
   },
   "outputs": [
    {
     "data": {
      "text/html": [
       "<div>\n",
       "<style scoped>\n",
       "    .dataframe tbody tr th:only-of-type {\n",
       "        vertical-align: middle;\n",
       "    }\n",
       "\n",
       "    .dataframe tbody tr th {\n",
       "        vertical-align: top;\n",
       "    }\n",
       "\n",
       "    .dataframe thead th {\n",
       "        text-align: right;\n",
       "    }\n",
       "</style>\n",
       "<table border=\"1\" class=\"dataframe\">\n",
       "  <thead>\n",
       "    <tr style=\"text-align: right;\">\n",
       "      <th></th>\n",
       "      <th></th>\n",
       "      <th>date</th>\n",
       "    </tr>\n",
       "    <tr>\n",
       "      <th>month</th>\n",
       "      <th>item</th>\n",
       "      <th></th>\n",
       "    </tr>\n",
       "  </thead>\n",
       "  <tbody>\n",
       "    <tr>\n",
       "      <th rowspan=\"3\" valign=\"top\">2014-11</th>\n",
       "      <th>call</th>\n",
       "      <td>107</td>\n",
       "    </tr>\n",
       "    <tr>\n",
       "      <th>data</th>\n",
       "      <td>29</td>\n",
       "    </tr>\n",
       "    <tr>\n",
       "      <th>sms</th>\n",
       "      <td>94</td>\n",
       "    </tr>\n",
       "    <tr>\n",
       "      <th rowspan=\"3\" valign=\"top\">2014-12</th>\n",
       "      <th>call</th>\n",
       "      <td>79</td>\n",
       "    </tr>\n",
       "    <tr>\n",
       "      <th>data</th>\n",
       "      <td>30</td>\n",
       "    </tr>\n",
       "    <tr>\n",
       "      <th>sms</th>\n",
       "      <td>48</td>\n",
       "    </tr>\n",
       "    <tr>\n",
       "      <th rowspan=\"3\" valign=\"top\">2015-01</th>\n",
       "      <th>call</th>\n",
       "      <td>88</td>\n",
       "    </tr>\n",
       "    <tr>\n",
       "      <th>data</th>\n",
       "      <td>31</td>\n",
       "    </tr>\n",
       "    <tr>\n",
       "      <th>sms</th>\n",
       "      <td>86</td>\n",
       "    </tr>\n",
       "    <tr>\n",
       "      <th rowspan=\"3\" valign=\"top\">2015-02</th>\n",
       "      <th>call</th>\n",
       "      <td>67</td>\n",
       "    </tr>\n",
       "    <tr>\n",
       "      <th>data</th>\n",
       "      <td>31</td>\n",
       "    </tr>\n",
       "    <tr>\n",
       "      <th>sms</th>\n",
       "      <td>39</td>\n",
       "    </tr>\n",
       "    <tr>\n",
       "      <th rowspan=\"3\" valign=\"top\">2015-03</th>\n",
       "      <th>call</th>\n",
       "      <td>47</td>\n",
       "    </tr>\n",
       "    <tr>\n",
       "      <th>data</th>\n",
       "      <td>29</td>\n",
       "    </tr>\n",
       "    <tr>\n",
       "      <th>sms</th>\n",
       "      <td>25</td>\n",
       "    </tr>\n",
       "  </tbody>\n",
       "</table>\n",
       "</div>"
      ],
      "text/plain": [
       "              date\n",
       "month   item      \n",
       "2014-11 call   107\n",
       "        data    29\n",
       "        sms     94\n",
       "2014-12 call    79\n",
       "        data    30\n",
       "        sms     48\n",
       "2015-01 call    88\n",
       "        data    31\n",
       "        sms     86\n",
       "2015-02 call    67\n",
       "        data    31\n",
       "        sms     39\n",
       "2015-03 call    47\n",
       "        data    29\n",
       "        sms     25"
      ]
     },
     "execution_count": 24,
     "metadata": {},
     "output_type": "execute_result"
    }
   ],
   "source": [
    "dataset.groupby(['month', 'item'])[['date']].count()"
   ]
  },
  {
   "cell_type": "code",
   "execution_count": 25,
   "metadata": {
    "id": "W5Ju5rIDVWtR",
    "outputId": "8da96213-9d88-4e21-a03d-2488357d1933"
   },
   "outputs": [
    {
     "data": {
      "text/plain": [
       "month    item\n",
       "2014-11  call    107\n",
       "         data     29\n",
       "         sms      94\n",
       "2014-12  call     79\n",
       "         data     30\n",
       "         sms      48\n",
       "2015-01  call     88\n",
       "         data     31\n",
       "         sms      86\n",
       "2015-02  call     67\n",
       "         data     31\n",
       "         sms      39\n",
       "2015-03  call     47\n",
       "         data     29\n",
       "         sms      25\n",
       "dtype: int64"
      ]
     },
     "execution_count": 25,
     "metadata": {},
     "output_type": "execute_result"
    }
   ],
   "source": [
    "dataset.groupby(['month', 'item']).size()"
   ]
  },
  {
   "cell_type": "markdown",
   "metadata": {
    "id": "7pZolDXfVWtR"
   },
   "source": [
    "El tipo de dato de salida depende de la cantidad de columnas y como se seleccionen. \n",
    "Esto es similar a la selección de columnas dentro de un dataframe."
   ]
  },
  {
   "cell_type": "code",
   "execution_count": 26,
   "metadata": {
    "id": "vE3NiA4YVWtR",
    "outputId": "3713ba21-6a6b-4474-a3f9-7ca92ba20e7f"
   },
   "outputs": [
    {
     "name": "stdout",
     "output_type": "stream",
     "text": [
      "Utilizando [], el tipo de dato es: <class 'pandas.core.series.Series'>\n",
      "Utilizando [[]], el tipo de dato es: <class 'pandas.core.frame.DataFrame'>\n"
     ]
    }
   ],
   "source": [
    "print(\"Utilizando [], el tipo de dato es: {}\".format(type(dataset.groupby(['month', 'item'])['date'].count())))\n",
    "print(\"Utilizando [[]], el tipo de dato es: {}\".format(type(dataset.groupby(['month', 'item'])[['date']].count())))\n"
   ]
  },
  {
   "cell_type": "markdown",
   "metadata": {
    "id": "foWdofWGVWtR"
   },
   "source": [
    "## Aggregation\n",
    "\n",
    "El método `aggregate()` puede tomar una función o una lista y computar todos los agregados en un solo paso."
   ]
  },
  {
   "cell_type": "code",
   "execution_count": 27,
   "metadata": {
    "id": "b2TRZS_kVWtR",
    "outputId": "644f0fa1-04f6-4cfb-bd10-95e3e61da05a"
   },
   "outputs": [
    {
     "data": {
      "text/html": [
       "<div>\n",
       "<style scoped>\n",
       "    .dataframe tbody tr th:only-of-type {\n",
       "        vertical-align: middle;\n",
       "    }\n",
       "\n",
       "    .dataframe tbody tr th {\n",
       "        vertical-align: top;\n",
       "    }\n",
       "\n",
       "    .dataframe thead th {\n",
       "        text-align: right;\n",
       "    }\n",
       "</style>\n",
       "<table border=\"1\" class=\"dataframe\">\n",
       "  <thead>\n",
       "    <tr style=\"text-align: right;\">\n",
       "      <th></th>\n",
       "      <th>min</th>\n",
       "      <th>mean</th>\n",
       "      <th>median</th>\n",
       "      <th>max</th>\n",
       "      <th>count</th>\n",
       "      <th>std</th>\n",
       "    </tr>\n",
       "    <tr>\n",
       "      <th>item</th>\n",
       "      <th></th>\n",
       "      <th></th>\n",
       "      <th></th>\n",
       "      <th></th>\n",
       "      <th></th>\n",
       "      <th></th>\n",
       "    </tr>\n",
       "  </thead>\n",
       "  <tbody>\n",
       "    <tr>\n",
       "      <th>call</th>\n",
       "      <td>1.000</td>\n",
       "      <td>237.940722</td>\n",
       "      <td>68.500</td>\n",
       "      <td>10528.000</td>\n",
       "      <td>388</td>\n",
       "      <td>628.551264</td>\n",
       "    </tr>\n",
       "    <tr>\n",
       "      <th>data</th>\n",
       "      <td>34.429</td>\n",
       "      <td>34.429000</td>\n",
       "      <td>34.429</td>\n",
       "      <td>34.429</td>\n",
       "      <td>150</td>\n",
       "      <td>0.000000</td>\n",
       "    </tr>\n",
       "    <tr>\n",
       "      <th>sms</th>\n",
       "      <td>1.000</td>\n",
       "      <td>1.000000</td>\n",
       "      <td>1.000</td>\n",
       "      <td>1.000</td>\n",
       "      <td>292</td>\n",
       "      <td>0.000000</td>\n",
       "    </tr>\n",
       "  </tbody>\n",
       "</table>\n",
       "</div>"
      ],
      "text/plain": [
       "         min        mean  median        max  count         std\n",
       "item                                                          \n",
       "call   1.000  237.940722  68.500  10528.000    388  628.551264\n",
       "data  34.429   34.429000  34.429     34.429    150    0.000000\n",
       "sms    1.000    1.000000   1.000      1.000    292    0.000000"
      ]
     },
     "execution_count": 27,
     "metadata": {},
     "output_type": "execute_result"
    }
   ],
   "source": [
    "dataset.groupby('item')['duration'].aggregate(['min', 'mean', 'median',\n",
    "                                               'max', 'count', 'std'])"
   ]
  },
  {
   "cell_type": "markdown",
   "metadata": {},
   "source": [
    "El resultado es un DataFrame:"
   ]
  },
  {
   "cell_type": "code",
   "execution_count": 28,
   "metadata": {
    "id": "qaXnkSCYVWtR",
    "outputId": "2580a2da-df89-4bfb-b6d5-ba44e8987141"
   },
   "outputs": [
    {
     "data": {
      "text/plain": [
       "pandas.core.frame.DataFrame"
      ]
     },
     "execution_count": 28,
     "metadata": {},
     "output_type": "execute_result"
    }
   ],
   "source": [
    "type(dataset.groupby('item')['duration'].aggregate(['min', 'mean', 'median', 'max', 'count', 'std']))"
   ]
  },
  {
   "cell_type": "markdown",
   "metadata": {
    "id": "et0Nvo_OVWtR"
   },
   "source": [
    "Como el resultado es un DataFrame, podemos por ejemplo cambiar el nombre de las columnas:"
   ]
  },
  {
   "cell_type": "code",
   "execution_count": 29,
   "metadata": {
    "id": "rAPi98HSVWtR"
   },
   "outputs": [],
   "source": [
    "df_gb = dataset.groupby('item')['duration'].aggregate(['min', 'mean', 'median',\n",
    "                                                       'max', 'count', 'std'])\n",
    "\n",
    "df_gb = df_gb.rename(columns={'min': 'valor mínimo', 'mean': 'media',\n",
    "                             'median': 'mediana','max':'valor máximo',\n",
    "                             'count':'#registros', 'std': 'desvío estándar'})"
   ]
  },
  {
   "cell_type": "code",
   "execution_count": 30,
   "metadata": {
    "id": "RHD89FueVWtS",
    "outputId": "6398baf4-5b4b-4870-df5c-dcb3f6e6f1c5"
   },
   "outputs": [
    {
     "data": {
      "text/html": [
       "<div>\n",
       "<style scoped>\n",
       "    .dataframe tbody tr th:only-of-type {\n",
       "        vertical-align: middle;\n",
       "    }\n",
       "\n",
       "    .dataframe tbody tr th {\n",
       "        vertical-align: top;\n",
       "    }\n",
       "\n",
       "    .dataframe thead th {\n",
       "        text-align: right;\n",
       "    }\n",
       "</style>\n",
       "<table border=\"1\" class=\"dataframe\">\n",
       "  <thead>\n",
       "    <tr style=\"text-align: right;\">\n",
       "      <th></th>\n",
       "      <th>valor mínimo</th>\n",
       "      <th>media</th>\n",
       "      <th>mediana</th>\n",
       "      <th>valor máximo</th>\n",
       "      <th>#registros</th>\n",
       "      <th>desvío estándar</th>\n",
       "    </tr>\n",
       "    <tr>\n",
       "      <th>item</th>\n",
       "      <th></th>\n",
       "      <th></th>\n",
       "      <th></th>\n",
       "      <th></th>\n",
       "      <th></th>\n",
       "      <th></th>\n",
       "    </tr>\n",
       "  </thead>\n",
       "  <tbody>\n",
       "    <tr>\n",
       "      <th>call</th>\n",
       "      <td>1.000</td>\n",
       "      <td>237.940722</td>\n",
       "      <td>68.500</td>\n",
       "      <td>10528.000</td>\n",
       "      <td>388</td>\n",
       "      <td>628.551264</td>\n",
       "    </tr>\n",
       "    <tr>\n",
       "      <th>data</th>\n",
       "      <td>34.429</td>\n",
       "      <td>34.429000</td>\n",
       "      <td>34.429</td>\n",
       "      <td>34.429</td>\n",
       "      <td>150</td>\n",
       "      <td>0.000000</td>\n",
       "    </tr>\n",
       "    <tr>\n",
       "      <th>sms</th>\n",
       "      <td>1.000</td>\n",
       "      <td>1.000000</td>\n",
       "      <td>1.000</td>\n",
       "      <td>1.000</td>\n",
       "      <td>292</td>\n",
       "      <td>0.000000</td>\n",
       "    </tr>\n",
       "  </tbody>\n",
       "</table>\n",
       "</div>"
      ],
      "text/plain": [
       "      valor mínimo       media  mediana  valor máximo  #registros  \\\n",
       "item                                                                \n",
       "call         1.000  237.940722   68.500     10528.000         388   \n",
       "data        34.429   34.429000   34.429        34.429         150   \n",
       "sms          1.000    1.000000    1.000         1.000         292   \n",
       "\n",
       "      desvío estándar  \n",
       "item                   \n",
       "call       628.551264  \n",
       "data         0.000000  \n",
       "sms          0.000000  "
      ]
     },
     "execution_count": 30,
     "metadata": {},
     "output_type": "execute_result"
    }
   ],
   "source": [
    "df_gb"
   ]
  },
  {
   "cell_type": "markdown",
   "metadata": {
    "id": "nKBEGdU2VWtS"
   },
   "source": [
    "Se puede utilizar también el método `aggregate` pasando diccionario para indicar los nombres de las columnas y las funciones de agregación a utilizar."
   ]
  },
  {
   "cell_type": "code",
   "execution_count": 31,
   "metadata": {
    "id": "--1Ucld9VWtS",
    "outputId": "76e6e5ce-c3c9-46c7-a5fb-13d61483688d"
   },
   "outputs": [
    {
     "data": {
      "text/html": [
       "<div>\n",
       "<style scoped>\n",
       "    .dataframe tbody tr th:only-of-type {\n",
       "        vertical-align: middle;\n",
       "    }\n",
       "\n",
       "    .dataframe tbody tr th {\n",
       "        vertical-align: top;\n",
       "    }\n",
       "\n",
       "    .dataframe thead th {\n",
       "        text-align: right;\n",
       "    }\n",
       "</style>\n",
       "<table border=\"1\" class=\"dataframe\">\n",
       "  <thead>\n",
       "    <tr style=\"text-align: right;\">\n",
       "      <th></th>\n",
       "      <th></th>\n",
       "      <th>duration</th>\n",
       "      <th>network_type</th>\n",
       "      <th>date</th>\n",
       "    </tr>\n",
       "    <tr>\n",
       "      <th>month</th>\n",
       "      <th>item</th>\n",
       "      <th></th>\n",
       "      <th></th>\n",
       "      <th></th>\n",
       "    </tr>\n",
       "  </thead>\n",
       "  <tbody>\n",
       "    <tr>\n",
       "      <th rowspan=\"3\" valign=\"top\">2014-11</th>\n",
       "      <th>call</th>\n",
       "      <td>25547.000</td>\n",
       "      <td>107</td>\n",
       "      <td>2014-10-15 06:58:00</td>\n",
       "    </tr>\n",
       "    <tr>\n",
       "      <th>data</th>\n",
       "      <td>998.441</td>\n",
       "      <td>29</td>\n",
       "      <td>2014-10-15 06:58:00</td>\n",
       "    </tr>\n",
       "    <tr>\n",
       "      <th>sms</th>\n",
       "      <td>94.000</td>\n",
       "      <td>94</td>\n",
       "      <td>2014-10-16 22:18:00</td>\n",
       "    </tr>\n",
       "    <tr>\n",
       "      <th rowspan=\"3\" valign=\"top\">2014-12</th>\n",
       "      <th>call</th>\n",
       "      <td>13561.000</td>\n",
       "      <td>79</td>\n",
       "      <td>2014-11-14 17:24:00</td>\n",
       "    </tr>\n",
       "    <tr>\n",
       "      <th>data</th>\n",
       "      <td>1032.870</td>\n",
       "      <td>30</td>\n",
       "      <td>2014-11-13 06:58:00</td>\n",
       "    </tr>\n",
       "    <tr>\n",
       "      <th>sms</th>\n",
       "      <td>48.000</td>\n",
       "      <td>48</td>\n",
       "      <td>2014-11-14 17:28:00</td>\n",
       "    </tr>\n",
       "    <tr>\n",
       "      <th rowspan=\"3\" valign=\"top\">2015-01</th>\n",
       "      <th>call</th>\n",
       "      <td>17070.000</td>\n",
       "      <td>88</td>\n",
       "      <td>2014-12-15 20:03:00</td>\n",
       "    </tr>\n",
       "    <tr>\n",
       "      <th>data</th>\n",
       "      <td>1067.299</td>\n",
       "      <td>31</td>\n",
       "      <td>2014-12-13 06:58:00</td>\n",
       "    </tr>\n",
       "    <tr>\n",
       "      <th>sms</th>\n",
       "      <td>86.000</td>\n",
       "      <td>86</td>\n",
       "      <td>2014-12-15 19:56:00</td>\n",
       "    </tr>\n",
       "    <tr>\n",
       "      <th rowspan=\"3\" valign=\"top\">2015-02</th>\n",
       "      <th>call</th>\n",
       "      <td>14416.000</td>\n",
       "      <td>67</td>\n",
       "      <td>2015-01-15 10:36:00</td>\n",
       "    </tr>\n",
       "    <tr>\n",
       "      <th>data</th>\n",
       "      <td>1067.299</td>\n",
       "      <td>31</td>\n",
       "      <td>2015-01-13 06:58:00</td>\n",
       "    </tr>\n",
       "    <tr>\n",
       "      <th>sms</th>\n",
       "      <td>39.000</td>\n",
       "      <td>39</td>\n",
       "      <td>2015-01-15 12:23:00</td>\n",
       "    </tr>\n",
       "    <tr>\n",
       "      <th rowspan=\"3\" valign=\"top\">2015-03</th>\n",
       "      <th>call</th>\n",
       "      <td>21727.000</td>\n",
       "      <td>47</td>\n",
       "      <td>2015-02-12 20:15:00</td>\n",
       "    </tr>\n",
       "    <tr>\n",
       "      <th>data</th>\n",
       "      <td>998.441</td>\n",
       "      <td>29</td>\n",
       "      <td>2015-02-13 06:58:00</td>\n",
       "    </tr>\n",
       "    <tr>\n",
       "      <th>sms</th>\n",
       "      <td>25.000</td>\n",
       "      <td>25</td>\n",
       "      <td>2015-02-19 18:46:00</td>\n",
       "    </tr>\n",
       "  </tbody>\n",
       "</table>\n",
       "</div>"
      ],
      "text/plain": [
       "               duration  network_type                date\n",
       "month   item                                             \n",
       "2014-11 call  25547.000           107 2014-10-15 06:58:00\n",
       "        data    998.441            29 2014-10-15 06:58:00\n",
       "        sms      94.000            94 2014-10-16 22:18:00\n",
       "2014-12 call  13561.000            79 2014-11-14 17:24:00\n",
       "        data   1032.870            30 2014-11-13 06:58:00\n",
       "        sms      48.000            48 2014-11-14 17:28:00\n",
       "2015-01 call  17070.000            88 2014-12-15 20:03:00\n",
       "        data   1067.299            31 2014-12-13 06:58:00\n",
       "        sms      86.000            86 2014-12-15 19:56:00\n",
       "2015-02 call  14416.000            67 2015-01-15 10:36:00\n",
       "        data   1067.299            31 2015-01-13 06:58:00\n",
       "        sms      39.000            39 2015-01-15 12:23:00\n",
       "2015-03 call  21727.000            47 2015-02-12 20:15:00\n",
       "        data    998.441            29 2015-02-13 06:58:00\n",
       "        sms      25.000            25 2015-02-19 18:46:00"
      ]
     },
     "execution_count": 31,
     "metadata": {},
     "output_type": "execute_result"
    }
   ],
   "source": [
    "dataset.groupby(\n",
    "   ['month', 'item']\n",
    ").aggregate(\n",
    "    {\n",
    "         'duration': 'sum',    # Suma duración por grupo\n",
    "         'network_type': 'count',  # cuenta el network_type\n",
    "         'date': 'first' # primera fecha\n",
    "    }\n",
    ")"
   ]
  },
  {
   "cell_type": "markdown",
   "metadata": {
    "id": "tCp682hsVWtS"
   },
   "source": [
    "El método `aggregate` tambien nos permite aplicar distintas funciones de agregación para la misma columna"
   ]
  },
  {
   "cell_type": "code",
   "execution_count": 32,
   "metadata": {
    "id": "Wwg-0sKgVWtS",
    "outputId": "794aae65-2167-435f-9eb9-694d9f005bdd"
   },
   "outputs": [
    {
     "data": {
      "text/html": [
       "<div>\n",
       "<style scoped>\n",
       "    .dataframe tbody tr th:only-of-type {\n",
       "        vertical-align: middle;\n",
       "    }\n",
       "\n",
       "    .dataframe tbody tr th {\n",
       "        vertical-align: top;\n",
       "    }\n",
       "\n",
       "    .dataframe thead tr th {\n",
       "        text-align: left;\n",
       "    }\n",
       "\n",
       "    .dataframe thead tr:last-of-type th {\n",
       "        text-align: right;\n",
       "    }\n",
       "</style>\n",
       "<table border=\"1\" class=\"dataframe\">\n",
       "  <thead>\n",
       "    <tr>\n",
       "      <th></th>\n",
       "      <th></th>\n",
       "      <th colspan=\"3\" halign=\"left\">duration</th>\n",
       "      <th>network_type</th>\n",
       "      <th colspan=\"3\" halign=\"left\">date</th>\n",
       "    </tr>\n",
       "    <tr>\n",
       "      <th></th>\n",
       "      <th></th>\n",
       "      <th>min</th>\n",
       "      <th>max</th>\n",
       "      <th>sum</th>\n",
       "      <th>count</th>\n",
       "      <th>first</th>\n",
       "      <th>last</th>\n",
       "      <th>nunique</th>\n",
       "    </tr>\n",
       "    <tr>\n",
       "      <th>month</th>\n",
       "      <th>item</th>\n",
       "      <th></th>\n",
       "      <th></th>\n",
       "      <th></th>\n",
       "      <th></th>\n",
       "      <th></th>\n",
       "      <th></th>\n",
       "      <th></th>\n",
       "    </tr>\n",
       "  </thead>\n",
       "  <tbody>\n",
       "    <tr>\n",
       "      <th rowspan=\"3\" valign=\"top\">2014-11</th>\n",
       "      <th>call</th>\n",
       "      <td>1.000</td>\n",
       "      <td>1940.000</td>\n",
       "      <td>25547.000</td>\n",
       "      <td>107</td>\n",
       "      <td>2014-10-15 06:58:00</td>\n",
       "      <td>2014-11-12 19:01:00</td>\n",
       "      <td>104</td>\n",
       "    </tr>\n",
       "    <tr>\n",
       "      <th>data</th>\n",
       "      <td>34.429</td>\n",
       "      <td>34.429</td>\n",
       "      <td>998.441</td>\n",
       "      <td>29</td>\n",
       "      <td>2014-10-15 06:58:00</td>\n",
       "      <td>2014-11-12 06:58:00</td>\n",
       "      <td>29</td>\n",
       "    </tr>\n",
       "    <tr>\n",
       "      <th>sms</th>\n",
       "      <td>1.000</td>\n",
       "      <td>1.000</td>\n",
       "      <td>94.000</td>\n",
       "      <td>94</td>\n",
       "      <td>2014-10-16 22:18:00</td>\n",
       "      <td>2014-11-13 22:31:00</td>\n",
       "      <td>79</td>\n",
       "    </tr>\n",
       "    <tr>\n",
       "      <th rowspan=\"3\" valign=\"top\">2014-12</th>\n",
       "      <th>call</th>\n",
       "      <td>2.000</td>\n",
       "      <td>2120.000</td>\n",
       "      <td>13561.000</td>\n",
       "      <td>79</td>\n",
       "      <td>2014-11-14 17:24:00</td>\n",
       "      <td>2014-12-14 19:54:00</td>\n",
       "      <td>76</td>\n",
       "    </tr>\n",
       "    <tr>\n",
       "      <th>data</th>\n",
       "      <td>34.429</td>\n",
       "      <td>34.429</td>\n",
       "      <td>1032.870</td>\n",
       "      <td>30</td>\n",
       "      <td>2014-11-13 06:58:00</td>\n",
       "      <td>2014-12-12 06:58:00</td>\n",
       "      <td>30</td>\n",
       "    </tr>\n",
       "    <tr>\n",
       "      <th>sms</th>\n",
       "      <td>1.000</td>\n",
       "      <td>1.000</td>\n",
       "      <td>48.000</td>\n",
       "      <td>48</td>\n",
       "      <td>2014-11-14 17:28:00</td>\n",
       "      <td>2014-12-07 23:22:00</td>\n",
       "      <td>41</td>\n",
       "    </tr>\n",
       "    <tr>\n",
       "      <th rowspan=\"3\" valign=\"top\">2015-01</th>\n",
       "      <th>call</th>\n",
       "      <td>2.000</td>\n",
       "      <td>1859.000</td>\n",
       "      <td>17070.000</td>\n",
       "      <td>88</td>\n",
       "      <td>2014-12-15 20:03:00</td>\n",
       "      <td>2015-01-14 20:47:00</td>\n",
       "      <td>84</td>\n",
       "    </tr>\n",
       "    <tr>\n",
       "      <th>data</th>\n",
       "      <td>34.429</td>\n",
       "      <td>34.429</td>\n",
       "      <td>1067.299</td>\n",
       "      <td>31</td>\n",
       "      <td>2014-12-13 06:58:00</td>\n",
       "      <td>2015-01-12 06:58:00</td>\n",
       "      <td>31</td>\n",
       "    </tr>\n",
       "    <tr>\n",
       "      <th>sms</th>\n",
       "      <td>1.000</td>\n",
       "      <td>1.000</td>\n",
       "      <td>86.000</td>\n",
       "      <td>86</td>\n",
       "      <td>2014-12-15 19:56:00</td>\n",
       "      <td>2015-01-14 23:36:00</td>\n",
       "      <td>58</td>\n",
       "    </tr>\n",
       "    <tr>\n",
       "      <th rowspan=\"3\" valign=\"top\">2015-02</th>\n",
       "      <th>call</th>\n",
       "      <td>1.000</td>\n",
       "      <td>1863.000</td>\n",
       "      <td>14416.000</td>\n",
       "      <td>67</td>\n",
       "      <td>2015-01-15 10:36:00</td>\n",
       "      <td>2015-02-09 17:54:00</td>\n",
       "      <td>67</td>\n",
       "    </tr>\n",
       "    <tr>\n",
       "      <th>data</th>\n",
       "      <td>34.429</td>\n",
       "      <td>34.429</td>\n",
       "      <td>1067.299</td>\n",
       "      <td>31</td>\n",
       "      <td>2015-01-13 06:58:00</td>\n",
       "      <td>2015-02-12 06:58:00</td>\n",
       "      <td>31</td>\n",
       "    </tr>\n",
       "    <tr>\n",
       "      <th>sms</th>\n",
       "      <td>1.000</td>\n",
       "      <td>1.000</td>\n",
       "      <td>39.000</td>\n",
       "      <td>39</td>\n",
       "      <td>2015-01-15 12:23:00</td>\n",
       "      <td>2015-02-10 21:40:00</td>\n",
       "      <td>27</td>\n",
       "    </tr>\n",
       "    <tr>\n",
       "      <th rowspan=\"3\" valign=\"top\">2015-03</th>\n",
       "      <th>call</th>\n",
       "      <td>2.000</td>\n",
       "      <td>10528.000</td>\n",
       "      <td>21727.000</td>\n",
       "      <td>47</td>\n",
       "      <td>2015-02-12 20:15:00</td>\n",
       "      <td>2015-03-04 12:29:00</td>\n",
       "      <td>47</td>\n",
       "    </tr>\n",
       "    <tr>\n",
       "      <th>data</th>\n",
       "      <td>34.429</td>\n",
       "      <td>34.429</td>\n",
       "      <td>998.441</td>\n",
       "      <td>29</td>\n",
       "      <td>2015-02-13 06:58:00</td>\n",
       "      <td>2015-03-13 06:58:00</td>\n",
       "      <td>29</td>\n",
       "    </tr>\n",
       "    <tr>\n",
       "      <th>sms</th>\n",
       "      <td>1.000</td>\n",
       "      <td>1.000</td>\n",
       "      <td>25.000</td>\n",
       "      <td>25</td>\n",
       "      <td>2015-02-19 18:46:00</td>\n",
       "      <td>2015-03-14 00:16:00</td>\n",
       "      <td>17</td>\n",
       "    </tr>\n",
       "  </tbody>\n",
       "</table>\n",
       "</div>"
      ],
      "text/plain": [
       "             duration                       network_type                date  \\\n",
       "                  min        max        sum        count               first   \n",
       "month   item                                                                   \n",
       "2014-11 call    1.000   1940.000  25547.000          107 2014-10-15 06:58:00   \n",
       "        data   34.429     34.429    998.441           29 2014-10-15 06:58:00   \n",
       "        sms     1.000      1.000     94.000           94 2014-10-16 22:18:00   \n",
       "2014-12 call    2.000   2120.000  13561.000           79 2014-11-14 17:24:00   \n",
       "        data   34.429     34.429   1032.870           30 2014-11-13 06:58:00   \n",
       "        sms     1.000      1.000     48.000           48 2014-11-14 17:28:00   \n",
       "2015-01 call    2.000   1859.000  17070.000           88 2014-12-15 20:03:00   \n",
       "        data   34.429     34.429   1067.299           31 2014-12-13 06:58:00   \n",
       "        sms     1.000      1.000     86.000           86 2014-12-15 19:56:00   \n",
       "2015-02 call    1.000   1863.000  14416.000           67 2015-01-15 10:36:00   \n",
       "        data   34.429     34.429   1067.299           31 2015-01-13 06:58:00   \n",
       "        sms     1.000      1.000     39.000           39 2015-01-15 12:23:00   \n",
       "2015-03 call    2.000  10528.000  21727.000           47 2015-02-12 20:15:00   \n",
       "        data   34.429     34.429    998.441           29 2015-02-13 06:58:00   \n",
       "        sms     1.000      1.000     25.000           25 2015-02-19 18:46:00   \n",
       "\n",
       "                                          \n",
       "                            last nunique  \n",
       "month   item                              \n",
       "2014-11 call 2014-11-12 19:01:00     104  \n",
       "        data 2014-11-12 06:58:00      29  \n",
       "        sms  2014-11-13 22:31:00      79  \n",
       "2014-12 call 2014-12-14 19:54:00      76  \n",
       "        data 2014-12-12 06:58:00      30  \n",
       "        sms  2014-12-07 23:22:00      41  \n",
       "2015-01 call 2015-01-14 20:47:00      84  \n",
       "        data 2015-01-12 06:58:00      31  \n",
       "        sms  2015-01-14 23:36:00      58  \n",
       "2015-02 call 2015-02-09 17:54:00      67  \n",
       "        data 2015-02-12 06:58:00      31  \n",
       "        sms  2015-02-10 21:40:00      27  \n",
       "2015-03 call 2015-03-04 12:29:00      47  \n",
       "        data 2015-03-13 06:58:00      29  \n",
       "        sms  2015-03-14 00:16:00      17  "
      ]
     },
     "execution_count": 32,
     "metadata": {},
     "output_type": "execute_result"
    }
   ],
   "source": [
    "dataset.groupby(\n",
    "    ['month', 'item']\n",
    ").aggregate(\n",
    "    {\n",
    "        'duration': ['min', 'max', 'sum'],\n",
    "        'network_type': \"count\",\n",
    "        'date': ['first', 'last', 'nunique']\n",
    "    }\n",
    ")"
   ]
  },
  {
   "cell_type": "markdown",
   "metadata": {
    "id": "Xrh8E4avVWtS"
   },
   "source": [
    "### Filtering\n",
    "\n",
    "- Una operación de `filtering` permite descartar datos basado en propiedades del grupo.\n",
    "- Por ejemplo, podríamos querer mantener todos los grupos en los que la desviación estándar sea mayor que algún valor de corte:"
   ]
  },
  {
   "cell_type": "code",
   "execution_count": 33,
   "metadata": {
    "id": "3Zr65O-5VWtS",
    "outputId": "bacfe9dd-d85e-4cc0-e938-dcff2a7369a7"
   },
   "outputs": [
    {
     "data": {
      "text/html": [
       "<div>\n",
       "<style scoped>\n",
       "    .dataframe tbody tr th:only-of-type {\n",
       "        vertical-align: middle;\n",
       "    }\n",
       "\n",
       "    .dataframe tbody tr th {\n",
       "        vertical-align: top;\n",
       "    }\n",
       "\n",
       "    .dataframe thead th {\n",
       "        text-align: right;\n",
       "    }\n",
       "</style>\n",
       "<table border=\"1\" class=\"dataframe\">\n",
       "  <thead>\n",
       "    <tr style=\"text-align: right;\">\n",
       "      <th></th>\n",
       "      <th>date</th>\n",
       "      <th>duration</th>\n",
       "      <th>item</th>\n",
       "      <th>month</th>\n",
       "      <th>network</th>\n",
       "      <th>network_type</th>\n",
       "      <th>key_bin</th>\n",
       "    </tr>\n",
       "    <tr>\n",
       "      <th>index</th>\n",
       "      <th></th>\n",
       "      <th></th>\n",
       "      <th></th>\n",
       "      <th></th>\n",
       "      <th></th>\n",
       "      <th></th>\n",
       "      <th></th>\n",
       "    </tr>\n",
       "  </thead>\n",
       "  <tbody>\n",
       "    <tr>\n",
       "      <th>0</th>\n",
       "      <td>2014-10-15 06:58:00</td>\n",
       "      <td>34.429</td>\n",
       "      <td>data</td>\n",
       "      <td>2014-11</td>\n",
       "      <td>data</td>\n",
       "      <td>data</td>\n",
       "      <td>D1</td>\n",
       "    </tr>\n",
       "    <tr>\n",
       "      <th>1</th>\n",
       "      <td>2014-10-15 06:58:00</td>\n",
       "      <td>13.000</td>\n",
       "      <td>call</td>\n",
       "      <td>2014-11</td>\n",
       "      <td>Vodafone</td>\n",
       "      <td>mobile</td>\n",
       "      <td>D0</td>\n",
       "    </tr>\n",
       "    <tr>\n",
       "      <th>2</th>\n",
       "      <td>2014-10-15 14:46:00</td>\n",
       "      <td>23.000</td>\n",
       "      <td>call</td>\n",
       "      <td>2014-11</td>\n",
       "      <td>Meteor</td>\n",
       "      <td>mobile</td>\n",
       "      <td>D0</td>\n",
       "    </tr>\n",
       "    <tr>\n",
       "      <th>3</th>\n",
       "      <td>2014-10-15 14:48:00</td>\n",
       "      <td>4.000</td>\n",
       "      <td>call</td>\n",
       "      <td>2014-11</td>\n",
       "      <td>Tesco</td>\n",
       "      <td>mobile</td>\n",
       "      <td>D0</td>\n",
       "    </tr>\n",
       "    <tr>\n",
       "      <th>4</th>\n",
       "      <td>2014-10-15 17:27:00</td>\n",
       "      <td>4.000</td>\n",
       "      <td>call</td>\n",
       "      <td>2014-11</td>\n",
       "      <td>Tesco</td>\n",
       "      <td>mobile</td>\n",
       "      <td>D0</td>\n",
       "    </tr>\n",
       "    <tr>\n",
       "      <th>...</th>\n",
       "      <td>...</td>\n",
       "      <td>...</td>\n",
       "      <td>...</td>\n",
       "      <td>...</td>\n",
       "      <td>...</td>\n",
       "      <td>...</td>\n",
       "      <td>...</td>\n",
       "    </tr>\n",
       "    <tr>\n",
       "      <th>825</th>\n",
       "      <td>2015-03-13 00:38:00</td>\n",
       "      <td>1.000</td>\n",
       "      <td>sms</td>\n",
       "      <td>2015-03</td>\n",
       "      <td>world</td>\n",
       "      <td>world</td>\n",
       "      <td>D1</td>\n",
       "    </tr>\n",
       "    <tr>\n",
       "      <th>826</th>\n",
       "      <td>2015-03-13 00:39:00</td>\n",
       "      <td>1.000</td>\n",
       "      <td>sms</td>\n",
       "      <td>2015-03</td>\n",
       "      <td>Vodafone</td>\n",
       "      <td>mobile</td>\n",
       "      <td>D1</td>\n",
       "    </tr>\n",
       "    <tr>\n",
       "      <th>827</th>\n",
       "      <td>2015-03-13 06:58:00</td>\n",
       "      <td>34.429</td>\n",
       "      <td>data</td>\n",
       "      <td>2015-03</td>\n",
       "      <td>data</td>\n",
       "      <td>data</td>\n",
       "      <td>D1</td>\n",
       "    </tr>\n",
       "    <tr>\n",
       "      <th>828</th>\n",
       "      <td>2015-03-14 00:13:00</td>\n",
       "      <td>1.000</td>\n",
       "      <td>sms</td>\n",
       "      <td>2015-03</td>\n",
       "      <td>world</td>\n",
       "      <td>world</td>\n",
       "      <td>D1</td>\n",
       "    </tr>\n",
       "    <tr>\n",
       "      <th>829</th>\n",
       "      <td>2015-03-14 00:16:00</td>\n",
       "      <td>1.000</td>\n",
       "      <td>sms</td>\n",
       "      <td>2015-03</td>\n",
       "      <td>world</td>\n",
       "      <td>world</td>\n",
       "      <td>D1</td>\n",
       "    </tr>\n",
       "  </tbody>\n",
       "</table>\n",
       "<p>468 rows × 7 columns</p>\n",
       "</div>"
      ],
      "text/plain": [
       "                     date  duration  item    month   network network_type  \\\n",
       "index                                                                       \n",
       "0     2014-10-15 06:58:00    34.429  data  2014-11      data         data   \n",
       "1     2014-10-15 06:58:00    13.000  call  2014-11  Vodafone       mobile   \n",
       "2     2014-10-15 14:46:00    23.000  call  2014-11    Meteor       mobile   \n",
       "3     2014-10-15 14:48:00     4.000  call  2014-11     Tesco       mobile   \n",
       "4     2014-10-15 17:27:00     4.000  call  2014-11     Tesco       mobile   \n",
       "...                   ...       ...   ...      ...       ...          ...   \n",
       "825   2015-03-13 00:38:00     1.000   sms  2015-03     world        world   \n",
       "826   2015-03-13 00:39:00     1.000   sms  2015-03  Vodafone       mobile   \n",
       "827   2015-03-13 06:58:00    34.429  data  2015-03      data         data   \n",
       "828   2015-03-14 00:13:00     1.000   sms  2015-03     world        world   \n",
       "829   2015-03-14 00:16:00     1.000   sms  2015-03     world        world   \n",
       "\n",
       "      key_bin  \n",
       "index          \n",
       "0          D1  \n",
       "1          D0  \n",
       "2          D0  \n",
       "3          D0  \n",
       "4          D0  \n",
       "...       ...  \n",
       "825        D1  \n",
       "826        D1  \n",
       "827        D1  \n",
       "828        D1  \n",
       "829        D1  \n",
       "\n",
       "[468 rows x 7 columns]"
      ]
     },
     "execution_count": 33,
     "metadata": {},
     "output_type": "execute_result"
    }
   ],
   "source": [
    "dataset.groupby('month').filter(lambda x: x['duration'].std() > 250)"
   ]
  },
  {
   "cell_type": "code",
   "execution_count": 35,
   "metadata": {
    "id": "4R3uXz3GVWtS",
    "outputId": "7e141150-ba1f-41a0-964a-245b50dcc101"
   },
   "outputs": [
    {
     "data": {
      "text/plain": [
       "array(['2014-11', '2015-02', '2015-03'], dtype=object)"
      ]
     },
     "execution_count": 35,
     "metadata": {},
     "output_type": "execute_result"
    }
   ],
   "source": [
    "dataset.groupby('month').filter(lambda x: x['duration'].std() > 250)['month'].unique()"
   ]
  },
  {
   "cell_type": "markdown",
   "metadata": {
    "id": "-mGTPjyuVWtT"
   },
   "source": [
    "Podemos aplicar el método `describe()` al `Groupby` y ver que, efectivamente, solamente los meses `2014-11`, `2015-02` y `2015-03` tienen un desvío estándar mayor a 250 en la variable 'duration'. "
   ]
  },
  {
   "cell_type": "code",
   "execution_count": 36,
   "metadata": {
    "id": "vjP1NHNGVWtT",
    "outputId": "063135df-db55-4c14-f148-dbfca6a12e3e"
   },
   "outputs": [
    {
     "data": {
      "text/html": [
       "<div>\n",
       "<style scoped>\n",
       "    .dataframe tbody tr th:only-of-type {\n",
       "        vertical-align: middle;\n",
       "    }\n",
       "\n",
       "    .dataframe tbody tr th {\n",
       "        vertical-align: top;\n",
       "    }\n",
       "\n",
       "    .dataframe thead tr th {\n",
       "        text-align: left;\n",
       "    }\n",
       "\n",
       "    .dataframe thead tr:last-of-type th {\n",
       "        text-align: right;\n",
       "    }\n",
       "</style>\n",
       "<table border=\"1\" class=\"dataframe\">\n",
       "  <thead>\n",
       "    <tr>\n",
       "      <th></th>\n",
       "      <th colspan=\"8\" halign=\"left\">duration</th>\n",
       "    </tr>\n",
       "    <tr>\n",
       "      <th></th>\n",
       "      <th>count</th>\n",
       "      <th>mean</th>\n",
       "      <th>std</th>\n",
       "      <th>min</th>\n",
       "      <th>25%</th>\n",
       "      <th>50%</th>\n",
       "      <th>75%</th>\n",
       "      <th>max</th>\n",
       "    </tr>\n",
       "    <tr>\n",
       "      <th>month</th>\n",
       "      <th></th>\n",
       "      <th></th>\n",
       "      <th></th>\n",
       "      <th></th>\n",
       "      <th></th>\n",
       "      <th></th>\n",
       "      <th></th>\n",
       "      <th></th>\n",
       "    </tr>\n",
       "  </thead>\n",
       "  <tbody>\n",
       "    <tr>\n",
       "      <th>2014-11</th>\n",
       "      <td>230.0</td>\n",
       "      <td>115.823657</td>\n",
       "      <td>287.548051</td>\n",
       "      <td>1.0</td>\n",
       "      <td>1.0</td>\n",
       "      <td>4.000</td>\n",
       "      <td>36.75</td>\n",
       "      <td>1940.0</td>\n",
       "    </tr>\n",
       "    <tr>\n",
       "      <th>2014-12</th>\n",
       "      <td>157.0</td>\n",
       "      <td>93.260318</td>\n",
       "      <td>243.151296</td>\n",
       "      <td>1.0</td>\n",
       "      <td>1.0</td>\n",
       "      <td>28.000</td>\n",
       "      <td>55.00</td>\n",
       "      <td>2120.0</td>\n",
       "    </tr>\n",
       "    <tr>\n",
       "      <th>2015-01</th>\n",
       "      <td>205.0</td>\n",
       "      <td>88.894141</td>\n",
       "      <td>216.853383</td>\n",
       "      <td>1.0</td>\n",
       "      <td>1.0</td>\n",
       "      <td>6.000</td>\n",
       "      <td>41.00</td>\n",
       "      <td>1859.0</td>\n",
       "    </tr>\n",
       "    <tr>\n",
       "      <th>2015-02</th>\n",
       "      <td>137.0</td>\n",
       "      <td>113.301453</td>\n",
       "      <td>250.778963</td>\n",
       "      <td>1.0</td>\n",
       "      <td>1.0</td>\n",
       "      <td>34.429</td>\n",
       "      <td>82.00</td>\n",
       "      <td>1863.0</td>\n",
       "    </tr>\n",
       "    <tr>\n",
       "      <th>2015-03</th>\n",
       "      <td>101.0</td>\n",
       "      <td>225.251891</td>\n",
       "      <td>1076.018287</td>\n",
       "      <td>1.0</td>\n",
       "      <td>2.0</td>\n",
       "      <td>34.429</td>\n",
       "      <td>106.00</td>\n",
       "      <td>10528.0</td>\n",
       "    </tr>\n",
       "  </tbody>\n",
       "</table>\n",
       "</div>"
      ],
      "text/plain": [
       "        duration                                                            \n",
       "           count        mean          std  min  25%     50%     75%      max\n",
       "month                                                                       \n",
       "2014-11    230.0  115.823657   287.548051  1.0  1.0   4.000   36.75   1940.0\n",
       "2014-12    157.0   93.260318   243.151296  1.0  1.0  28.000   55.00   2120.0\n",
       "2015-01    205.0   88.894141   216.853383  1.0  1.0   6.000   41.00   1859.0\n",
       "2015-02    137.0  113.301453   250.778963  1.0  1.0  34.429   82.00   1863.0\n",
       "2015-03    101.0  225.251891  1076.018287  1.0  2.0  34.429  106.00  10528.0"
      ]
     },
     "execution_count": 36,
     "metadata": {},
     "output_type": "execute_result"
    }
   ],
   "source": [
    "dataset.groupby('month')[['duration']].describe()"
   ]
  },
  {
   "cell_type": "markdown",
   "metadata": {
    "id": "HqDH_FSGVWtT"
   },
   "source": [
    "### Transformation\n",
    "\n",
    "Mientras que aggregation devuelve una versión reducida de los datos, transformation retorna alguna versión transformada de los datos para, luego, hacer el combine.\n",
    "\n",
    "El output de una transformation es del mismo `shape` que el input.\n",
    "\n"
   ]
  },
  {
   "cell_type": "code",
   "execution_count": 37,
   "metadata": {
    "id": "7T1nzTj_VWtT",
    "outputId": "d2b588e9-7660-454b-c401-346305bac966"
   },
   "outputs": [
    {
     "data": {
      "text/html": [
       "<div>\n",
       "<style scoped>\n",
       "    .dataframe tbody tr th:only-of-type {\n",
       "        vertical-align: middle;\n",
       "    }\n",
       "\n",
       "    .dataframe tbody tr th {\n",
       "        vertical-align: top;\n",
       "    }\n",
       "\n",
       "    .dataframe thead th {\n",
       "        text-align: right;\n",
       "    }\n",
       "</style>\n",
       "<table border=\"1\" class=\"dataframe\">\n",
       "  <thead>\n",
       "    <tr style=\"text-align: right;\">\n",
       "      <th></th>\n",
       "      <th>date</th>\n",
       "      <th>duration</th>\n",
       "      <th>item</th>\n",
       "      <th>month</th>\n",
       "      <th>network</th>\n",
       "      <th>network_type</th>\n",
       "      <th>key_bin</th>\n",
       "    </tr>\n",
       "    <tr>\n",
       "      <th>index</th>\n",
       "      <th></th>\n",
       "      <th></th>\n",
       "      <th></th>\n",
       "      <th></th>\n",
       "      <th></th>\n",
       "      <th></th>\n",
       "      <th></th>\n",
       "    </tr>\n",
       "  </thead>\n",
       "  <tbody>\n",
       "    <tr>\n",
       "      <th>0</th>\n",
       "      <td>2014-10-15 06:58:00</td>\n",
       "      <td>34.429</td>\n",
       "      <td>data</td>\n",
       "      <td>2014-11</td>\n",
       "      <td>data</td>\n",
       "      <td>data</td>\n",
       "      <td>D1</td>\n",
       "    </tr>\n",
       "    <tr>\n",
       "      <th>1</th>\n",
       "      <td>2014-10-15 06:58:00</td>\n",
       "      <td>13.000</td>\n",
       "      <td>call</td>\n",
       "      <td>2014-11</td>\n",
       "      <td>Vodafone</td>\n",
       "      <td>mobile</td>\n",
       "      <td>D0</td>\n",
       "    </tr>\n",
       "    <tr>\n",
       "      <th>2</th>\n",
       "      <td>2014-10-15 14:46:00</td>\n",
       "      <td>23.000</td>\n",
       "      <td>call</td>\n",
       "      <td>2014-11</td>\n",
       "      <td>Meteor</td>\n",
       "      <td>mobile</td>\n",
       "      <td>D0</td>\n",
       "    </tr>\n",
       "    <tr>\n",
       "      <th>3</th>\n",
       "      <td>2014-10-15 14:48:00</td>\n",
       "      <td>4.000</td>\n",
       "      <td>call</td>\n",
       "      <td>2014-11</td>\n",
       "      <td>Tesco</td>\n",
       "      <td>mobile</td>\n",
       "      <td>D0</td>\n",
       "    </tr>\n",
       "    <tr>\n",
       "      <th>4</th>\n",
       "      <td>2014-10-15 17:27:00</td>\n",
       "      <td>4.000</td>\n",
       "      <td>call</td>\n",
       "      <td>2014-11</td>\n",
       "      <td>Tesco</td>\n",
       "      <td>mobile</td>\n",
       "      <td>D0</td>\n",
       "    </tr>\n",
       "  </tbody>\n",
       "</table>\n",
       "</div>"
      ],
      "text/plain": [
       "                     date  duration  item    month   network network_type  \\\n",
       "index                                                                       \n",
       "0     2014-10-15 06:58:00    34.429  data  2014-11      data         data   \n",
       "1     2014-10-15 06:58:00    13.000  call  2014-11  Vodafone       mobile   \n",
       "2     2014-10-15 14:46:00    23.000  call  2014-11    Meteor       mobile   \n",
       "3     2014-10-15 14:48:00     4.000  call  2014-11     Tesco       mobile   \n",
       "4     2014-10-15 17:27:00     4.000  call  2014-11     Tesco       mobile   \n",
       "\n",
       "      key_bin  \n",
       "index          \n",
       "0          D1  \n",
       "1          D0  \n",
       "2          D0  \n",
       "3          D0  \n",
       "4          D0  "
      ]
     },
     "execution_count": 37,
     "metadata": {},
     "output_type": "execute_result"
    }
   ],
   "source": [
    "dataset.head()"
   ]
  },
  {
   "cell_type": "code",
   "execution_count": 38,
   "metadata": {
    "id": "16irprj4VWtT",
    "outputId": "a5f7b0da-7827-4974-82b1-d78d9b792bd2"
   },
   "outputs": [
    {
     "data": {
      "text/html": [
       "<div>\n",
       "<style scoped>\n",
       "    .dataframe tbody tr th:only-of-type {\n",
       "        vertical-align: middle;\n",
       "    }\n",
       "\n",
       "    .dataframe tbody tr th {\n",
       "        vertical-align: top;\n",
       "    }\n",
       "\n",
       "    .dataframe thead th {\n",
       "        text-align: right;\n",
       "    }\n",
       "</style>\n",
       "<table border=\"1\" class=\"dataframe\">\n",
       "  <thead>\n",
       "    <tr style=\"text-align: right;\">\n",
       "      <th></th>\n",
       "      <th>month</th>\n",
       "      <th>media_mensual</th>\n",
       "      <th>duration</th>\n",
       "    </tr>\n",
       "    <tr>\n",
       "      <th>index</th>\n",
       "      <th></th>\n",
       "      <th></th>\n",
       "      <th></th>\n",
       "    </tr>\n",
       "  </thead>\n",
       "  <tbody>\n",
       "    <tr>\n",
       "      <th>0</th>\n",
       "      <td>2014-11</td>\n",
       "      <td>115.823657</td>\n",
       "      <td>34.429</td>\n",
       "    </tr>\n",
       "    <tr>\n",
       "      <th>1</th>\n",
       "      <td>2014-11</td>\n",
       "      <td>115.823657</td>\n",
       "      <td>13.000</td>\n",
       "    </tr>\n",
       "    <tr>\n",
       "      <th>2</th>\n",
       "      <td>2014-11</td>\n",
       "      <td>115.823657</td>\n",
       "      <td>23.000</td>\n",
       "    </tr>\n",
       "    <tr>\n",
       "      <th>3</th>\n",
       "      <td>2014-11</td>\n",
       "      <td>115.823657</td>\n",
       "      <td>4.000</td>\n",
       "    </tr>\n",
       "    <tr>\n",
       "      <th>4</th>\n",
       "      <td>2014-11</td>\n",
       "      <td>115.823657</td>\n",
       "      <td>4.000</td>\n",
       "    </tr>\n",
       "    <tr>\n",
       "      <th>...</th>\n",
       "      <td>...</td>\n",
       "      <td>...</td>\n",
       "      <td>...</td>\n",
       "    </tr>\n",
       "    <tr>\n",
       "      <th>825</th>\n",
       "      <td>2015-03</td>\n",
       "      <td>225.251891</td>\n",
       "      <td>1.000</td>\n",
       "    </tr>\n",
       "    <tr>\n",
       "      <th>826</th>\n",
       "      <td>2015-03</td>\n",
       "      <td>225.251891</td>\n",
       "      <td>1.000</td>\n",
       "    </tr>\n",
       "    <tr>\n",
       "      <th>827</th>\n",
       "      <td>2015-03</td>\n",
       "      <td>225.251891</td>\n",
       "      <td>34.429</td>\n",
       "    </tr>\n",
       "    <tr>\n",
       "      <th>828</th>\n",
       "      <td>2015-03</td>\n",
       "      <td>225.251891</td>\n",
       "      <td>1.000</td>\n",
       "    </tr>\n",
       "    <tr>\n",
       "      <th>829</th>\n",
       "      <td>2015-03</td>\n",
       "      <td>225.251891</td>\n",
       "      <td>1.000</td>\n",
       "    </tr>\n",
       "  </tbody>\n",
       "</table>\n",
       "<p>830 rows × 3 columns</p>\n",
       "</div>"
      ],
      "text/plain": [
       "         month  media_mensual  duration\n",
       "index                                  \n",
       "0      2014-11     115.823657    34.429\n",
       "1      2014-11     115.823657    13.000\n",
       "2      2014-11     115.823657    23.000\n",
       "3      2014-11     115.823657     4.000\n",
       "4      2014-11     115.823657     4.000\n",
       "...        ...            ...       ...\n",
       "825    2015-03     225.251891     1.000\n",
       "826    2015-03     225.251891     1.000\n",
       "827    2015-03     225.251891    34.429\n",
       "828    2015-03     225.251891     1.000\n",
       "829    2015-03     225.251891     1.000\n",
       "\n",
       "[830 rows x 3 columns]"
      ]
     },
     "execution_count": 38,
     "metadata": {},
     "output_type": "execute_result"
    }
   ],
   "source": [
    "dataset['media_mensual'] = dataset.groupby('month')['duration'].transform('mean')\n",
    "dataset[['month', 'media_mensual', 'duration']]"
   ]
  },
  {
   "cell_type": "markdown",
   "metadata": {
    "id": "OjP8hfJJVWtT"
   },
   "source": [
    "### El método `apply()`\n",
    "\n",
    "El método `apply()` permite aplicar alguna función dada a los resultados del grupo.\n",
    "\n",
    "La función debería tomar como input ``DataFrame`` y devolver un objeto `Pandas` o un escalar. \n",
    "\n",
    "La operación combine se adaptará al tipo de salida.\n",
    "\n",
    "En el siguiente ejemplo, se obtiene la normalización estandar de la duración según el mes."
   ]
  },
  {
   "cell_type": "code",
   "execution_count": 39,
   "metadata": {
    "id": "VyfaOTTBVWtT"
   },
   "outputs": [],
   "source": [
    "dataset['norm_duration'] = dataset.groupby('month', group_keys=False)['duration'].apply(lambda x: (x-x.mean())/x.std())"
   ]
  },
  {
   "cell_type": "code",
   "execution_count": 40,
   "metadata": {},
   "outputs": [
    {
     "data": {
      "text/html": [
       "<div>\n",
       "<style scoped>\n",
       "    .dataframe tbody tr th:only-of-type {\n",
       "        vertical-align: middle;\n",
       "    }\n",
       "\n",
       "    .dataframe tbody tr th {\n",
       "        vertical-align: top;\n",
       "    }\n",
       "\n",
       "    .dataframe thead th {\n",
       "        text-align: right;\n",
       "    }\n",
       "</style>\n",
       "<table border=\"1\" class=\"dataframe\">\n",
       "  <thead>\n",
       "    <tr style=\"text-align: right;\">\n",
       "      <th></th>\n",
       "      <th>mean</th>\n",
       "      <th>std</th>\n",
       "    </tr>\n",
       "    <tr>\n",
       "      <th>month</th>\n",
       "      <th></th>\n",
       "      <th></th>\n",
       "    </tr>\n",
       "  </thead>\n",
       "  <tbody>\n",
       "    <tr>\n",
       "      <th>2014-11</th>\n",
       "      <td>115.823657</td>\n",
       "      <td>287.548051</td>\n",
       "    </tr>\n",
       "    <tr>\n",
       "      <th>2014-12</th>\n",
       "      <td>93.260318</td>\n",
       "      <td>243.151296</td>\n",
       "    </tr>\n",
       "    <tr>\n",
       "      <th>2015-01</th>\n",
       "      <td>88.894141</td>\n",
       "      <td>216.853383</td>\n",
       "    </tr>\n",
       "    <tr>\n",
       "      <th>2015-02</th>\n",
       "      <td>113.301453</td>\n",
       "      <td>250.778963</td>\n",
       "    </tr>\n",
       "    <tr>\n",
       "      <th>2015-03</th>\n",
       "      <td>225.251891</td>\n",
       "      <td>1076.018287</td>\n",
       "    </tr>\n",
       "  </tbody>\n",
       "</table>\n",
       "</div>"
      ],
      "text/plain": [
       "               mean          std\n",
       "month                           \n",
       "2014-11  115.823657   287.548051\n",
       "2014-12   93.260318   243.151296\n",
       "2015-01   88.894141   216.853383\n",
       "2015-02  113.301453   250.778963\n",
       "2015-03  225.251891  1076.018287"
      ]
     },
     "execution_count": 40,
     "metadata": {},
     "output_type": "execute_result"
    }
   ],
   "source": [
    "dataset.groupby('month')['duration'].aggregate(['mean', 'std'])"
   ]
  },
  {
   "cell_type": "code",
   "execution_count": 41,
   "metadata": {
    "id": "scmrPwCwVWtT",
    "outputId": "7f125ffb-f833-4bd8-ad2b-14c9d8985b50"
   },
   "outputs": [
    {
     "data": {
      "text/html": [
       "<div>\n",
       "<style scoped>\n",
       "    .dataframe tbody tr th:only-of-type {\n",
       "        vertical-align: middle;\n",
       "    }\n",
       "\n",
       "    .dataframe tbody tr th {\n",
       "        vertical-align: top;\n",
       "    }\n",
       "\n",
       "    .dataframe thead th {\n",
       "        text-align: right;\n",
       "    }\n",
       "</style>\n",
       "<table border=\"1\" class=\"dataframe\">\n",
       "  <thead>\n",
       "    <tr style=\"text-align: right;\">\n",
       "      <th></th>\n",
       "      <th>date</th>\n",
       "      <th>duration</th>\n",
       "      <th>item</th>\n",
       "      <th>month</th>\n",
       "      <th>network</th>\n",
       "      <th>network_type</th>\n",
       "      <th>key_bin</th>\n",
       "      <th>media_mensual</th>\n",
       "      <th>norm_duration</th>\n",
       "    </tr>\n",
       "    <tr>\n",
       "      <th>index</th>\n",
       "      <th></th>\n",
       "      <th></th>\n",
       "      <th></th>\n",
       "      <th></th>\n",
       "      <th></th>\n",
       "      <th></th>\n",
       "      <th></th>\n",
       "      <th></th>\n",
       "      <th></th>\n",
       "    </tr>\n",
       "  </thead>\n",
       "  <tbody>\n",
       "    <tr>\n",
       "      <th>0</th>\n",
       "      <td>2014-10-15 06:58:00</td>\n",
       "      <td>34.429</td>\n",
       "      <td>data</td>\n",
       "      <td>2014-11</td>\n",
       "      <td>data</td>\n",
       "      <td>data</td>\n",
       "      <td>D1</td>\n",
       "      <td>115.823657</td>\n",
       "      <td>-0.283065</td>\n",
       "    </tr>\n",
       "    <tr>\n",
       "      <th>1</th>\n",
       "      <td>2014-10-15 06:58:00</td>\n",
       "      <td>13.000</td>\n",
       "      <td>call</td>\n",
       "      <td>2014-11</td>\n",
       "      <td>Vodafone</td>\n",
       "      <td>mobile</td>\n",
       "      <td>D0</td>\n",
       "      <td>115.823657</td>\n",
       "      <td>-0.357588</td>\n",
       "    </tr>\n",
       "    <tr>\n",
       "      <th>2</th>\n",
       "      <td>2014-10-15 14:46:00</td>\n",
       "      <td>23.000</td>\n",
       "      <td>call</td>\n",
       "      <td>2014-11</td>\n",
       "      <td>Meteor</td>\n",
       "      <td>mobile</td>\n",
       "      <td>D0</td>\n",
       "      <td>115.823657</td>\n",
       "      <td>-0.322811</td>\n",
       "    </tr>\n",
       "    <tr>\n",
       "      <th>3</th>\n",
       "      <td>2014-10-15 14:48:00</td>\n",
       "      <td>4.000</td>\n",
       "      <td>call</td>\n",
       "      <td>2014-11</td>\n",
       "      <td>Tesco</td>\n",
       "      <td>mobile</td>\n",
       "      <td>D0</td>\n",
       "      <td>115.823657</td>\n",
       "      <td>-0.388887</td>\n",
       "    </tr>\n",
       "    <tr>\n",
       "      <th>4</th>\n",
       "      <td>2014-10-15 17:27:00</td>\n",
       "      <td>4.000</td>\n",
       "      <td>call</td>\n",
       "      <td>2014-11</td>\n",
       "      <td>Tesco</td>\n",
       "      <td>mobile</td>\n",
       "      <td>D0</td>\n",
       "      <td>115.823657</td>\n",
       "      <td>-0.388887</td>\n",
       "    </tr>\n",
       "  </tbody>\n",
       "</table>\n",
       "</div>"
      ],
      "text/plain": [
       "                     date  duration  item    month   network network_type  \\\n",
       "index                                                                       \n",
       "0     2014-10-15 06:58:00    34.429  data  2014-11      data         data   \n",
       "1     2014-10-15 06:58:00    13.000  call  2014-11  Vodafone       mobile   \n",
       "2     2014-10-15 14:46:00    23.000  call  2014-11    Meteor       mobile   \n",
       "3     2014-10-15 14:48:00     4.000  call  2014-11     Tesco       mobile   \n",
       "4     2014-10-15 17:27:00     4.000  call  2014-11     Tesco       mobile   \n",
       "\n",
       "      key_bin  media_mensual  norm_duration  \n",
       "index                                        \n",
       "0          D1     115.823657      -0.283065  \n",
       "1          D0     115.823657      -0.357588  \n",
       "2          D0     115.823657      -0.322811  \n",
       "3          D0     115.823657      -0.388887  \n",
       "4          D0     115.823657      -0.388887  "
      ]
     },
     "execution_count": 41,
     "metadata": {},
     "output_type": "execute_result"
    }
   ],
   "source": [
    "dataset.head()"
   ]
  },
  {
   "cell_type": "markdown",
   "metadata": {
    "id": "5-ryVkEqVWtT"
   },
   "source": [
    "\n",
    "Veamos en detalle la normalización de la duration de la primera fila:"
   ]
  },
  {
   "cell_type": "code",
   "execution_count": 42,
   "metadata": {},
   "outputs": [
    {
     "name": "stdout",
     "output_type": "stream",
     "text": [
      "Desvío estándar de duración en noviembre 2014: 115.82\n",
      "Desvío estándar de duración en noviembre 2014: 287.55\n"
     ]
    },
    {
     "data": {
      "text/plain": [
       "-0.28306453933603276"
      ]
     },
     "execution_count": 42,
     "metadata": {},
     "output_type": "execute_result"
    }
   ],
   "source": [
    "nov_mean = dataset.groupby('month')['duration'].mean()['2014-11']\n",
    "nov_std = dataset.groupby('month')['duration'].std()['2014-11']\n",
    "\n",
    "print(f\"Desvío estándar de duración en noviembre 2014: {format(nov_mean, '.2f')}\")\n",
    "print(f\"Desvío estándar de duración en noviembre 2014: {format(nov_std, '.2f')}\")\n",
    "\n",
    "(34.429-nov_mean)/nov_std"
   ]
  },
  {
   "cell_type": "markdown",
   "metadata": {},
   "source": [
    "A continuación se muestran las distribuciones previo a la transformación y posterior a la transformación."
   ]
  },
  {
   "cell_type": "code",
   "execution_count": 43,
   "metadata": {
    "id": "dO9ZsE-WVWtT",
    "outputId": "2f80132e-68fa-4649-e703-bc32f3e5db4a"
   },
   "outputs": [
    {
     "name": "stderr",
     "output_type": "stream",
     "text": [
      "Matplotlib is building the font cache; this may take a moment.\n"
     ]
    },
    {
     "data": {
      "image/png": "[encoded data removed]",
      "text/plain": [
       "<Figure size 640x480 with 1 Axes>"
      ]
     },
     "metadata": {},
     "output_type": "display_data"
    }
   ],
   "source": [
    "dataset.groupby('month')['duration'].hist();"
   ]
  },
  {
   "cell_type": "code",
   "execution_count": 44,
   "metadata": {
    "id": "SaPp0eP7VWtT",
    "outputId": "b045871b-5029-43be-a929-484328b6dbeb"
   },
   "outputs": [
    {
     "data": {
      "image/png": "[encoded data removed]",
      "text/plain": [
       "<Figure size 640x480 with 1 Axes>"
      ]
     },
     "metadata": {},
     "output_type": "display_data"
    }
   ],
   "source": [
    "dataset.groupby('month')['norm_duration'].hist(legend=True);"
   ]
  },
  {
   "cell_type": "markdown",
   "metadata": {
    "id": "2bGjBPCTVWtT"
   },
   "source": [
    "## Pivot_table"
   ]
  },
  {
   "cell_type": "code",
   "execution_count": 45,
   "metadata": {
    "id": "40iNELGZVWtU",
    "outputId": "bb4dbd66-c049-4d84-d7a5-17d7bc4fb5f9"
   },
   "outputs": [
    {
     "data": {
      "text/html": [
       "<div>\n",
       "<style scoped>\n",
       "    .dataframe tbody tr th:only-of-type {\n",
       "        vertical-align: middle;\n",
       "    }\n",
       "\n",
       "    .dataframe tbody tr th {\n",
       "        vertical-align: top;\n",
       "    }\n",
       "\n",
       "    .dataframe thead th {\n",
       "        text-align: right;\n",
       "    }\n",
       "</style>\n",
       "<table border=\"1\" class=\"dataframe\">\n",
       "  <thead>\n",
       "    <tr style=\"text-align: right;\">\n",
       "      <th>key_bin</th>\n",
       "      <th>D0</th>\n",
       "      <th>D1</th>\n",
       "    </tr>\n",
       "    <tr>\n",
       "      <th>month</th>\n",
       "      <th></th>\n",
       "      <th></th>\n",
       "    </tr>\n",
       "  </thead>\n",
       "  <tbody>\n",
       "    <tr>\n",
       "      <th>2014-11</th>\n",
       "      <td>101.0</td>\n",
       "      <td>1940.0</td>\n",
       "    </tr>\n",
       "    <tr>\n",
       "      <th>2014-12</th>\n",
       "      <td>114.0</td>\n",
       "      <td>2120.0</td>\n",
       "    </tr>\n",
       "    <tr>\n",
       "      <th>2015-01</th>\n",
       "      <td>106.0</td>\n",
       "      <td>1859.0</td>\n",
       "    </tr>\n",
       "    <tr>\n",
       "      <th>2015-02</th>\n",
       "      <td>104.0</td>\n",
       "      <td>1863.0</td>\n",
       "    </tr>\n",
       "    <tr>\n",
       "      <th>2015-03</th>\n",
       "      <td>107.0</td>\n",
       "      <td>10528.0</td>\n",
       "    </tr>\n",
       "  </tbody>\n",
       "</table>\n",
       "</div>"
      ],
      "text/plain": [
       "key_bin     D0       D1\n",
       "month                  \n",
       "2014-11  101.0   1940.0\n",
       "2014-12  114.0   2120.0\n",
       "2015-01  106.0   1859.0\n",
       "2015-02  104.0   1863.0\n",
       "2015-03  107.0  10528.0"
      ]
     },
     "execution_count": 45,
     "metadata": {},
     "output_type": "execute_result"
    }
   ],
   "source": [
    "dataset.pivot_table(values='duration', index='month', columns='key_bin', aggfunc='max')"
   ]
  },
  {
   "cell_type": "markdown",
   "metadata": {
    "id": "Hj0wACOPVWtU"
   },
   "source": [
    "Los argumentos del método `pivot_table` son: \n",
    "-  el campo sobre el que vamos a calcular la función de agregación, en este caso $mean$.\n",
    "-  index define la columna del `DataFrame` original cuyos valores sirven de índice de la tabla dinámica.\n",
    "-  `columns` define la columna del `DataFrame` original cuyos valores sirven de columnas de la tabla dinámica\n"
   ]
  },
  {
   "cell_type": "markdown",
   "metadata": {
    "id": "2oB7xmawVWtU"
   },
   "source": [
    "Podemos agregar los totales con el parámetro `margins=True`"
   ]
  },
  {
   "cell_type": "code",
   "execution_count": null,
   "metadata": {
    "id": "h7iYFuFUVWtU",
    "outputId": "ee140d8b-ff9d-4484-e065-19560a819396"
   },
   "outputs": [],
   "source": [
    "dataset.pivot_table('duration', index=['month', 'network'], columns='key_bin',\\\n",
    "                    margins=True, margins_name= 'totales')"
   ]
  },
  {
   "cell_type": "markdown",
   "metadata": {
    "id": "PdtGe1ikVWtU"
   },
   "source": [
    "En las siguientes clases seguiremos profundizando los conceptos de analisis de datos con Pandas, realizando combinaciones con distintos datasets, aplicando *joins*.\n",
    "\n",
    "<!-- <span style=\"font-size:1.5em\">Fin de la clase.</span> -->\n",
    "\n",
    "<span style=\"font-size:2em\">Muchas gracias por su atención!</span>"
   ]
  }
 ],
 "metadata": {
  "colab": {
   "provenance": []
  },
  "kernelspec": {
   "display_name": "base",
   "language": "python",
   "name": "python3"
  },
  "language_info": {
   "codemirror_mode": {
    "name": "ipython",
    "version": 3
   },
   "file_extension": ".py",
   "mimetype": "text/x-python",
   "name": "python",
   "nbconvert_exporter": "python",
   "pygments_lexer": "ipython3",
   "version": "3.12.7"
  }
 },
 "nbformat": 4,
 "nbformat_minor": 1
}
