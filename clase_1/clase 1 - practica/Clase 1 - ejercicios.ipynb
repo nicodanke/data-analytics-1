{
 "cells": [
  {
   "cell_type": "markdown",
   "metadata": {},
   "source": [
    "<img src=\"img/Marca-ITBA-Color-ALTA.png\" width=\"200\">\n",
    "\n",
    "# Programación para el Análisis de Datos\n",
    "\n",
    "## Ejercicios clase 1"
   ]
  },
  {
   "cell_type": "markdown",
   "metadata": {},
   "source": [
    "### Ejercicio 1\n",
    "\n",
    "Dados 2 números enteros, imprimir por pantalla el producto.\n",
    "Si el producto de ambos numeros es mayor a 100, mostrar además la suma de los numeros.\n",
    "\n",
    "Se puede utilizar el siguiente código para mostrar por pantalla\n",
    "``` python\n",
    "print(\"El producto entre {} y {} es: {}\".format(n1, n2, prod))\n",
    "print(\"La suma entre {} y {} es: {}\".format(n1, n2, suma))"
   ]
  },
  {
   "cell_type": "code",
   "execution_count": 1,
   "metadata": {},
   "outputs": [
    {
     "name": "stdout",
     "output_type": "stream",
     "text": [
      "El producto entre 1 y 2 es: 2\n"
     ]
    }
   ],
   "source": [
    "n1 = 1\n",
    "n2 = 2\n",
    "\n",
    "## Completar con código\n",
    "prod = n1 * n2\n",
    "print(\"El producto entre {} y {} es: {}\".format(n1, n2, prod))\n",
    "\n",
    "if prod > 100:\n",
    "    suma = n1 + n2\n",
    "    print(\"La suma entre {} y {} es: {}\".format(n1, n2, suma))\n",
    "##"
   ]
  },
  {
   "cell_type": "markdown",
   "metadata": {},
   "source": [
    "### Ejercicio 2\n",
    "\n",
    "Dada una lista de números, se pide iterar los elementos de la lista y almacenar en otra lista el resultado de sumar ese elemento con el anterior.\n",
    "\n",
    "Por ejemplo, dada la lista: `[1, 2, 3, 4]`, se espera que la salida sea una lista con los elementos `[3, 5, 7]`\n",
    "\n",
    "Resolver el problema de dos maneras diferentes: con un for loop y con una lista por comprensión.\n",
    "\n",
    "**Pistas**:\n",
    "- Iterar la lista, elemento por elemento\n",
    "- Utilizar variables auxiliares para almacenar información"
   ]
  },
  {
   "cell_type": "code",
   "execution_count": 2,
   "metadata": {},
   "outputs": [
    {
     "data": {
      "text/plain": [
       "[3, 5, 7]"
      ]
     },
     "execution_count": 2,
     "metadata": {},
     "output_type": "execute_result"
    }
   ],
   "source": [
    "l_in = [1, 2, 3, 4]\n",
    "l_out = []\n",
    "\n",
    "## Completar con código\n",
    "# For loop\n",
    "for i in range(len(l_in) - 1):\n",
    "    l_out.insert(i, l_in[i] + l_in[i+1])\n",
    "\n",
    "# Comprensión\n",
    "l_out = [l_in[i] + l_in[i+1] for i in range(len(l_in) - 1)]\n",
    "##\n",
    "\n",
    "l_out"
   ]
  },
  {
   "cell_type": "markdown",
   "metadata": {},
   "source": [
    "### Ejercicio 3\n",
    "\n",
    "Dado un string, mostrar por pantalla unicamente las vocales en formato Mayuscula\n",
    "\n",
    "Por ejemplo, el string `\"Este es un string de prueba\"` obtendra como output `['E', 'E', 'E', 'U', 'I', 'E', 'U', 'E', 'A']`\n",
    "\n",
    "Resolver el problema de dos maneras diferentes: con un for loop y con una lista por comprensión.\n",
    "\n",
    "**Pistas:**\n",
    "- Utilizar funciones propias de strings como `upper`, `lower`"
   ]
  },
  {
   "cell_type": "code",
   "execution_count": 3,
   "metadata": {},
   "outputs": [
    {
     "name": "stdout",
     "output_type": "stream",
     "text": [
      "['U', 'A', 'U', 'I', 'I', 'I', 'E', 'I', 'E', 'I', 'E', 'O', 'A', 'E', 'U', 'I', 'O']\n"
     ]
    }
   ],
   "source": [
    "string = 'Nullam suscipit imperdiet libero at euismod'\n",
    "# string = 'Este es un string de prueba'\n",
    "\n",
    "vocales = ['a','e','i','o','u']\n",
    "\n",
    "\n",
    "## Completar con código\n",
    "l_out = [s.upper() for s in string if s.lower() in vocales]\n",
    "##\n",
    "print(l_out)"
   ]
  },
  {
   "cell_type": "markdown",
   "metadata": {},
   "source": [
    "### Ejercicio 4\n",
    "\n",
    "Dada una lista de numeros, genere una lista con todos los múltiplos de 7.\n",
    "\n",
    "Por ejemplo, para la lista `[1, 2, 7, 10, 21]`, se muestran por pantalla los numeros `7` y `21`\n",
    "\n",
    "Resolver el problema de dos maneras diferentes: con un for loop y con una lista por comprensión."
   ]
  },
  {
   "cell_type": "code",
   "execution_count": 4,
   "metadata": {},
   "outputs": [
    {
     "name": "stdout",
     "output_type": "stream",
     "text": [
      "[21, 7, 63, 63, 91, 98, 98, 84, 42, 98, 49, 56, 35, 7, 14, 91]\n"
     ]
    }
   ],
   "source": [
    "l_in = [85, 21, 29, 37, 50, 53,  7, 26, 26, 97, 20, 29, 96, 27, 63, 96, 68,\n",
    "       60, 47, 18,  3, 34, 63, 48, 16, 43, 91, 29, 92, 45,  5, 98, 36, 23,\n",
    "       92, 45, 52, 94, 98, 59, 96, 62, 84, 31, 86, 32, 66, 17, 24, 94, 53,\n",
    "       57, 66, 45, 23, 31, 46, 85, 22, 65, 26,  1, 89, 16, 32,  8, 42, 47,\n",
    "       38, 92, 41, 25, 98, 49, 24, 23, 12, 59,  6, 56, 35, 44, 19, 64,  7,\n",
    "       15, 13, 75, 86, 14, 91, 97, 65, 31, 86, 62, 85, 50, 24, 57]\n",
    "\n",
    "# l_in = [1, 2, 7, 10 , 21]\n",
    "\n",
    "\n",
    "## Completar con código\n",
    "l_out = [n for n in l_in if n % 7 == 0]\n",
    "#         print(el)\n",
    "print(l_out)\n"
   ]
  },
  {
   "cell_type": "markdown",
   "metadata": {},
   "source": [
    "### Ejercicio 5\n",
    "\n",
    "Contar cuántos elementos de la lista cumplen con alguna de las siguientes condiciones:\n",
    "\n",
    "- El elemento es un carácter en minúscula y es alfanumérico\n",
    "- Es un número entero par\n",
    "``` python\n",
    "lista = ['a', 2, 5, 'B', 9, 'd', 4, 'o', 7, '%', 3.1, '&']\n",
    "```\n",
    "\n",
    "Pista:\n",
    "- analizar la función `isinstance()`"
   ]
  },
  {
   "cell_type": "code",
   "execution_count": 5,
   "metadata": {},
   "outputs": [
    {
     "name": "stdout",
     "output_type": "stream",
     "text": [
      "5\n"
     ]
    }
   ],
   "source": [
    "lista = ['a', 2, 5, 'B', 9, 'd', 4, 'o', 7, '%', 3.1, '&']\n",
    "\n",
    "## Completar con código\n",
    "# For loop\n",
    "counter = 0\n",
    "for x in lista:\n",
    "    if isinstance(x, str) and x.isalnum() and x.islower():\n",
    "        counter += 1\n",
    "    elif isinstance(x, int) and int(x) % 2 == 0:\n",
    "        counter += 1\n",
    "print(counter)\n",
    "\n",
    "# Comprensión\n",
    "# len([x for x in lista if isinstance(x, str) and x.isalnum() and x.islower() or isinstance(x, int) and int(x) % 2 == 0])\n",
    "##"
   ]
  },
  {
   "cell_type": "markdown",
   "metadata": {},
   "source": [
    "### Ejercicio 6\n",
    "\n",
    "Obtener el módulo entre el máximo y el mínimo de la siguiente lista.\n",
    "```\n",
    "lista = [893, 755, 708, 746, 801, 581, 187, 688, 492, 579, 469, 195, 918, 667, 7, 15, 212, 114, 635, 331]\n",
    "```\n",
    "\n",
    "`result= 918%7 = 1`\n",
    "\n",
    "Resuelvan el ejercicio de dos formas diferentes: utilizando sin usar las funciones `max()` y `min()` y utilizándolas."
   ]
  },
  {
   "cell_type": "code",
   "execution_count": 6,
   "metadata": {},
   "outputs": [
    {
     "name": "stdout",
     "output_type": "stream",
     "text": [
      "1\n"
     ]
    }
   ],
   "source": [
    "lista = [893, 755, 708, 746, 801, 581, 187, 688, 492, 579, 469, 195, 918, 667, 7, 15, 212, 114, 635, 331]\n",
    "\n",
    "## Completar con código\n",
    "# Usando las funciones `max()` y `min()`\n",
    "# max_value = max(lista)\n",
    "# min_value = min(lista)\n",
    "# result = max_value % min_value\n",
    "# print(result)\n",
    "\n",
    "# Sin usar las funciones `max()` y `min()`\n",
    "max_value = lista[0]\n",
    "min_value = lista[0]\n",
    "for x in lista:\n",
    "    if x > max_value:\n",
    "        max_value = x\n",
    "    if x < min_value:\n",
    "        min_value = x\n",
    "print(max_value % min_value)\n",
    "##"
   ]
  },
  {
   "cell_type": "markdown",
   "metadata": {},
   "source": [
    "### Ejercicio 7\n",
    "A partir de la siguiente lista de alumnos, obtener el nombre del alumno con mayor nota.\n"
   ]
  },
  {
   "cell_type": "code",
   "execution_count": 7,
   "metadata": {},
   "outputs": [
    {
     "data": {
      "text/plain": [
       "'Savannah Nunez'"
      ]
     },
     "execution_count": 7,
     "metadata": {},
     "output_type": "execute_result"
    }
   ],
   "source": [
    "alumnos={\n",
    "  \"Shelby Snider\": 6,\n",
    "  \"Barlow Hammond\": 5,\n",
    "  \"Jennifer Simon\": 7,\n",
    "  \"Hollie Abbott\": 2,\n",
    "  \"Vinson Garcia\": 7,\n",
    "  \"Savannah Nunez\": 10,\n",
    "}\n",
    "\n",
    "## Completar con código\n",
    "alumnos_list = [(x, alumnos[x]) for x in alumnos]\n",
    "\n",
    "def sort_by_note(e):\n",
    "    return e[1]\n",
    "\n",
    "alumnos_list.sort(key=sort_by_note, reverse=True)\n",
    "\n",
    "alumnos_list[0][0]\n",
    "\n",
    "###"
   ]
  },
  {
   "cell_type": "markdown",
   "metadata": {},
   "source": [
    "### Ejercicio 8\n",
    "Dados una lista de números, calcular el promedio de los números pares y el promedio  de los números impares por separado.\n",
    "\n",
    "Por ejemplo, para la lista [1, 2, 3, 4, 5, 6], el promedio de pares es 4 y el de impares es 3."
   ]
  },
  {
   "cell_type": "code",
   "execution_count": 8,
   "metadata": {},
   "outputs": [
    {
     "name": "stdout",
     "output_type": "stream",
     "text": [
      "El promedio de pares es: 6.0\n",
      "El promedio de impares es: 5.0\n"
     ]
    }
   ],
   "source": [
    "numeros = [1, 2, 3, 4, 5, 6, 7, 8, 9, 10]\n",
    "\n",
    "# Completar con tu código\n",
    "even = [x for x in numeros if x % 2 == 0]\n",
    "uneven = [x for x in numeros if x % 2 != 0]\n",
    "\n",
    "avg_even = sum(even) / len(even)\n",
    "avg_uneven = sum(uneven) / len(uneven)\n",
    "\n",
    "print(\"El promedio de pares es: {}\".format(avg_even))\n",
    "print(\"El promedio de impares es: {}\".format(avg_uneven))\n"
   ]
  },
  {
   "cell_type": "markdown",
   "metadata": {},
   "source": [
    "### Ejercicio 9\n",
    "Dado un string, contar cuántas veces aparece cada vocal (a, e, i, o, u) sin importar si es mayúscula o minúscula.\n",
    "\n",
    "Por ejemplo, para el string \"Hola Mundo\", el resultado debería ser:\n",
    "\n",
    "``` python\n",
    "a: 1, e: 0, i: 0, o: 2, u: 1\n",
    "```"
   ]
  },
  {
   "cell_type": "code",
   "execution_count": 9,
   "metadata": {},
   "outputs": [
    {
     "name": "stdout",
     "output_type": "stream",
     "text": [
      "a: 7, e: 2, i: 3, o: 3, u: 0\n"
     ]
    }
   ],
   "source": [
    "texto = \"Programación para el Análisis de Datos\"\n",
    "# texto = \"Hola Mundo\"\n",
    "\n",
    "# Completar con tu código\n",
    "text_sanitized = texto.lower()\n",
    "text_sanitized = text_sanitized.replace('á', 'a')\n",
    "text_sanitized = text_sanitized.replace('é', 'e')\n",
    "text_sanitized = text_sanitized.replace('í', 'i')\n",
    "text_sanitized = text_sanitized.replace(\"ó\", 'o')\n",
    "text_sanitized = text_sanitized.replace('ú', 'u')\n",
    "text_sanitized = text_sanitized.replace(' ', '')\n",
    "\n",
    "a = 0\n",
    "e = 0\n",
    "i = 0\n",
    "o = 0\n",
    "u = 0\n",
    "\n",
    "for s in text_sanitized:\n",
    "    if s == 'a':\n",
    "        a += 1\n",
    "    elif s == 'e':\n",
    "        e += 1\n",
    "    elif s == 'i':\n",
    "        i += 1\n",
    "    elif s == 'o':\n",
    "        o += 1\n",
    "    elif s == 'u':\n",
    "        u += 1\n",
    "\n",
    "print(\"a: {}, e: {}, i: {}, o: {}, u: {}\".format(a, e, i, o, u))\n",
    "        "
   ]
  },
  {
   "cell_type": "markdown",
   "metadata": {},
   "source": [
    "### Ejercicio 10\n",
    "Dada una lista de strings, encontrar la palabra más larga y la más corta.\n",
    "\n",
    "Por ejemplo, para la lista [\"hola\", \"mundo\", \"python\", \"programación\"], el más largo es \"programación\" y el más corto es \"hola\"."
   ]
  },
  {
   "cell_type": "code",
   "execution_count": 10,
   "metadata": {},
   "outputs": [
    {
     "name": "stdout",
     "output_type": "stream",
     "text": [
      "La palabra más larga es: programación\n",
      "La palabra más corta es: datos\n"
     ]
    }
   ],
   "source": [
    "palabras = [\"python\", \"programación\", \"datos\", \"análisis\"]\n",
    "# palabras = [\"hola\", \"mundo\", \"python\", \"programación\"]\n",
    "\n",
    "# Completar con tu código\n",
    "def sort_by_length(e):\n",
    "    return len(e)\n",
    "\n",
    "palabras.sort(key=sort_by_length, reverse=True)\n",
    "\n",
    "print(\"La palabra más larga es: {}\".format(palabras[0]))\n",
    "print(\"La palabra más corta es: {}\".format(palabras[-1]))\n",
    "\n"
   ]
  },
  {
   "cell_type": "markdown",
   "metadata": {},
   "source": [
    "### Ejercicio 11\n",
    "\n",
    "Dada una lista de strings, encontrar todas las palabras que son palíndromos (se leen igual de izquierda a derecha que de derecha a izquierda).\n",
    "\n",
    "Por ejemplo, para la lista [\"radar\", \"python\", \"ana\", \"casa\", \"reconocer\"], el resultado debería ser [\"radar\", \"ana\", \"reconocer\"]."
   ]
  },
  {
   "cell_type": "code",
   "execution_count": 11,
   "metadata": {},
   "outputs": [
    {
     "name": "stdout",
     "output_type": "stream",
     "text": [
      "['radar', 'ana', 'reconocer', 'oso']\n"
     ]
    }
   ],
   "source": [
    "palabras = [\"radar\", \"python\", \"ana\", \"casa\", \"reconocer\", \"oso\"]\n",
    "\n",
    "# Completar con tu código\n",
    "def is_palindrome(s):\n",
    "    return s == s[::-1]\n",
    "\n",
    "palindromes = [s for s in palabras if is_palindrome(s)]\n",
    "\n",
    "print(palindromes)\n"
   ]
  }
 ],
 "metadata": {
  "kernelspec": {
   "display_name": "base",
   "language": "python",
   "name": "python3"
  },
  "language_info": {
   "codemirror_mode": {
    "name": "ipython",
    "version": 3
   },
   "file_extension": ".py",
   "mimetype": "text/x-python",
   "name": "python",
   "nbconvert_exporter": "python",
   "pygments_lexer": "ipython3",
   "version": "3.12.7"
  }
 },
 "nbformat": 4,
 "nbformat_minor": 4
}
