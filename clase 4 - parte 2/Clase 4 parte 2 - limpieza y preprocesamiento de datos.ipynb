{
 "cells": [
  {
   "cell_type": "markdown",
   "metadata": {
    "id": "kT6M2Wi3Vr-Y"
   },
   "source": [
    "<img src=\"img/Marca-ITBA-Color-ALTA.png\" width=\"200\">\n",
    "\n",
    "# Programación para el Análisis de Datos\n",
    "\n",
    "## Clase 4 - parte 2 - Limpieza y preprocesamiento de datos"
   ]
  },
  {
   "cell_type": "markdown",
   "metadata": {
    "id": "xUN0H101Vr-Z"
   },
   "source": [
    "#### Referencias y bibliografía de consulta:\n",
    "\n",
    "- Python for Data Analysis by Wes McKinney (O’Reilly) 2022 - capítulo 7\n",
    "- Introduction to Machine Learning with Python by Andreas C. Müller and Sarah Guido (O’Reilly) 2017 - capítulo 4"
   ]
  },
  {
   "cell_type": "markdown",
   "metadata": {
    "id": "FKq0cm07Vr-Z"
   },
   "source": [
    "### Introducción\n",
    "\n",
    "Generalmente, los datos no vienen limpios y listos para entrenar modelos. Lo más frecuente es que el trabajo de recolectar, procesar, limpiar y transformar los datos, de acuerdo a los objetivos de nuestro proyecto, representen un porcentaje muy elevado del tiempo de trabajo en el proyecto. Depende mucho del proyecto, pero se estima que estas tareas representan aproximadamente un 80% del tiempo de un proyecto. \n",
    "\n",
    "En la sección de **limpieza de datos** de este módulo vamos a aprender a detectar y a subsanar a los principales problemas que se suelen encontrar en los dataset:\n",
    "\n",
    "- **Datos duplicados**\n",
    "- **Datos faltantes**\n",
    "- **Valores extremos (outliers)**\n",
    "\n",
    "Otra tarea importante de la limpieza de datos es la de resolver problemas de formato. Ya vimos algunas formas de resolver estos problemas en los primeros módulos de `Pandas`.\n",
    "\n",
    "Además, en la sección de **procesamiento**, vamos a ver cómo trabajar con variables categóricas. La mayoría de los modelos solamente puede recibir valores numéricos como input, y por lo tanto vamos a tener que transformar a las variables categóricas en variables numéricas. En esta clase vamos a ver cómo.\n"
   ]
  },
  {
   "cell_type": "markdown",
   "metadata": {
    "id": "qaMgZHdpVr-Z"
   },
   "source": [
    "### 1) Limpieza de datos\n",
    "\n",
    "Vamos a comenzar importando `Numpy` y `Pandas` con sus alias, como de costumbre. Vamos a importar también un dataset de ejemplo con información sobre vinos."
   ]
  },
  {
   "cell_type": "code",
   "execution_count": 1,
   "metadata": {
    "id": "wQQgPKQNVr-a"
   },
   "outputs": [],
   "source": [
    "import numpy as np\n",
    "import pandas as pd"
   ]
  },
  {
   "cell_type": "code",
   "execution_count": 2,
   "metadata": {
    "id": "J4Rac_nDVr-a",
    "outputId": "8566559f-78b4-43e1-9b98-52852fec52e1"
   },
   "outputs": [
    {
     "data": {
      "text/html": [
       "<div>\n",
       "<style scoped>\n",
       "    .dataframe tbody tr th:only-of-type {\n",
       "        vertical-align: middle;\n",
       "    }\n",
       "\n",
       "    .dataframe tbody tr th {\n",
       "        vertical-align: top;\n",
       "    }\n",
       "\n",
       "    .dataframe thead th {\n",
       "        text-align: right;\n",
       "    }\n",
       "</style>\n",
       "<table border=\"1\" class=\"dataframe\">\n",
       "  <thead>\n",
       "    <tr style=\"text-align: right;\">\n",
       "      <th></th>\n",
       "      <th>country</th>\n",
       "      <th>description</th>\n",
       "      <th>designation</th>\n",
       "      <th>points</th>\n",
       "      <th>price</th>\n",
       "      <th>province</th>\n",
       "      <th>region_1</th>\n",
       "      <th>region_2</th>\n",
       "      <th>taster_name</th>\n",
       "      <th>taster_twitter_handle</th>\n",
       "      <th>title</th>\n",
       "      <th>variety</th>\n",
       "      <th>winery</th>\n",
       "    </tr>\n",
       "  </thead>\n",
       "  <tbody>\n",
       "    <tr>\n",
       "      <th>0</th>\n",
       "      <td>Italy</td>\n",
       "      <td>Aromas include tropical fruit, broom, brimston...</td>\n",
       "      <td>Vulkà Bianco</td>\n",
       "      <td>87</td>\n",
       "      <td>NaN</td>\n",
       "      <td>Sicily &amp; Sardinia</td>\n",
       "      <td>Etna</td>\n",
       "      <td>NaN</td>\n",
       "      <td>Kerin O’Keefe</td>\n",
       "      <td>@kerinokeefe</td>\n",
       "      <td>Nicosia 2013 Vulkà Bianco  (Etna)</td>\n",
       "      <td>White Blend</td>\n",
       "      <td>Nicosia</td>\n",
       "    </tr>\n",
       "    <tr>\n",
       "      <th>1</th>\n",
       "      <td>Portugal</td>\n",
       "      <td>This is ripe and fruity, a wine that is smooth...</td>\n",
       "      <td>Avidagos</td>\n",
       "      <td>87</td>\n",
       "      <td>15.0</td>\n",
       "      <td>Douro</td>\n",
       "      <td>NaN</td>\n",
       "      <td>NaN</td>\n",
       "      <td>Roger Voss</td>\n",
       "      <td>@vossroger</td>\n",
       "      <td>Quinta dos Avidagos 2011 Avidagos Red (Douro)</td>\n",
       "      <td>Portuguese Red</td>\n",
       "      <td>Quinta dos Avidagos</td>\n",
       "    </tr>\n",
       "    <tr>\n",
       "      <th>2</th>\n",
       "      <td>US</td>\n",
       "      <td>Tart and snappy, the flavors of lime flesh and...</td>\n",
       "      <td>NaN</td>\n",
       "      <td>87</td>\n",
       "      <td>14.0</td>\n",
       "      <td>Oregon</td>\n",
       "      <td>Willamette Valley</td>\n",
       "      <td>Willamette Valley</td>\n",
       "      <td>Paul Gregutt</td>\n",
       "      <td>@paulgwine</td>\n",
       "      <td>Rainstorm 2013 Pinot Gris (Willamette Valley)</td>\n",
       "      <td>Pinot Gris</td>\n",
       "      <td>Rainstorm</td>\n",
       "    </tr>\n",
       "    <tr>\n",
       "      <th>3</th>\n",
       "      <td>US</td>\n",
       "      <td>Pineapple rind, lemon pith and orange blossom ...</td>\n",
       "      <td>Reserve Late Harvest</td>\n",
       "      <td>87</td>\n",
       "      <td>13.0</td>\n",
       "      <td>Michigan</td>\n",
       "      <td>Lake Michigan Shore</td>\n",
       "      <td>NaN</td>\n",
       "      <td>Alexander Peartree</td>\n",
       "      <td>NaN</td>\n",
       "      <td>St. Julian 2013 Reserve Late Harvest Riesling ...</td>\n",
       "      <td>Riesling</td>\n",
       "      <td>St. Julian</td>\n",
       "    </tr>\n",
       "    <tr>\n",
       "      <th>4</th>\n",
       "      <td>US</td>\n",
       "      <td>Much like the regular bottling from 2012, this...</td>\n",
       "      <td>Vintner's Reserve Wild Child Block</td>\n",
       "      <td>87</td>\n",
       "      <td>65.0</td>\n",
       "      <td>Oregon</td>\n",
       "      <td>Willamette Valley</td>\n",
       "      <td>Willamette Valley</td>\n",
       "      <td>Paul Gregutt</td>\n",
       "      <td>@paulgwine</td>\n",
       "      <td>Sweet Cheeks 2012 Vintner's Reserve Wild Child...</td>\n",
       "      <td>Pinot Noir</td>\n",
       "      <td>Sweet Cheeks</td>\n",
       "    </tr>\n",
       "  </tbody>\n",
       "</table>\n",
       "</div>"
      ],
      "text/plain": [
       "    country                                        description  \\\n",
       "0     Italy  Aromas include tropical fruit, broom, brimston...   \n",
       "1  Portugal  This is ripe and fruity, a wine that is smooth...   \n",
       "2        US  Tart and snappy, the flavors of lime flesh and...   \n",
       "3        US  Pineapple rind, lemon pith and orange blossom ...   \n",
       "4        US  Much like the regular bottling from 2012, this...   \n",
       "\n",
       "                          designation  points  price           province  \\\n",
       "0                        Vulkà Bianco      87    NaN  Sicily & Sardinia   \n",
       "1                            Avidagos      87   15.0              Douro   \n",
       "2                                 NaN      87   14.0             Oregon   \n",
       "3                Reserve Late Harvest      87   13.0           Michigan   \n",
       "4  Vintner's Reserve Wild Child Block      87   65.0             Oregon   \n",
       "\n",
       "              region_1           region_2         taster_name  \\\n",
       "0                 Etna                NaN       Kerin O’Keefe   \n",
       "1                  NaN                NaN          Roger Voss   \n",
       "2    Willamette Valley  Willamette Valley        Paul Gregutt   \n",
       "3  Lake Michigan Shore                NaN  Alexander Peartree   \n",
       "4    Willamette Valley  Willamette Valley        Paul Gregutt   \n",
       "\n",
       "  taster_twitter_handle                                              title  \\\n",
       "0          @kerinokeefe                  Nicosia 2013 Vulkà Bianco  (Etna)   \n",
       "1            @vossroger      Quinta dos Avidagos 2011 Avidagos Red (Douro)   \n",
       "2           @paulgwine       Rainstorm 2013 Pinot Gris (Willamette Valley)   \n",
       "3                   NaN  St. Julian 2013 Reserve Late Harvest Riesling ...   \n",
       "4           @paulgwine   Sweet Cheeks 2012 Vintner's Reserve Wild Child...   \n",
       "\n",
       "          variety               winery  \n",
       "0     White Blend              Nicosia  \n",
       "1  Portuguese Red  Quinta dos Avidagos  \n",
       "2      Pinot Gris            Rainstorm  \n",
       "3        Riesling           St. Julian  \n",
       "4      Pinot Noir         Sweet Cheeks  "
      ]
     },
     "execution_count": 2,
     "metadata": {},
     "output_type": "execute_result"
    }
   ],
   "source": [
    "dataset = pd.read_csv('data/winemag-data-130k-v2.csv', index_col=0)\n",
    "\n",
    "dataset.head()"
   ]
  },
  {
   "cell_type": "code",
   "execution_count": 3,
   "metadata": {
    "id": "3emKfBAYVr-b",
    "outputId": "c4919c45-b323-4b04-87f1-d476b60a4b42"
   },
   "outputs": [
    {
     "data": {
      "text/plain": [
       "(65499, 13)"
      ]
     },
     "execution_count": 3,
     "metadata": {},
     "output_type": "execute_result"
    }
   ],
   "source": [
    "dataset.shape"
   ]
  },
  {
   "cell_type": "code",
   "execution_count": 4,
   "metadata": {
    "id": "tJFqkeJSVr-b",
    "outputId": "c90ad6cb-a0bb-4ef7-8077-aeadf3e366b0"
   },
   "outputs": [
    {
     "name": "stdout",
     "output_type": "stream",
     "text": [
      "<class 'pandas.core.frame.DataFrame'>\n",
      "Index: 65499 entries, 0 to 65498\n",
      "Data columns (total 13 columns):\n",
      " #   Column                 Non-Null Count  Dtype  \n",
      "---  ------                 --------------  -----  \n",
      " 0   country                65467 non-null  object \n",
      " 1   description            65499 non-null  object \n",
      " 2   designation            46588 non-null  object \n",
      " 3   points                 65499 non-null  int64  \n",
      " 4   price                  60829 non-null  float64\n",
      " 5   province               65467 non-null  object \n",
      " 6   region_1               54744 non-null  object \n",
      " 7   region_2               25170 non-null  object \n",
      " 8   taster_name            51856 non-null  object \n",
      " 9   taster_twitter_handle  49467 non-null  object \n",
      " 10  title                  65499 non-null  object \n",
      " 11  variety                65499 non-null  object \n",
      " 12  winery                 65499 non-null  object \n",
      "dtypes: float64(1), int64(1), object(11)\n",
      "memory usage: 7.0+ MB\n"
     ]
    }
   ],
   "source": [
    "dataset.info()"
   ]
  },
  {
   "cell_type": "markdown",
   "metadata": {
    "id": "LAZL_4K6Vr-b"
   },
   "source": [
    "#### 1.1) Detección y filtrado de valores duplicados\n",
    "\n",
    "`Pandas` provee métodos para detectar y filtrar datos duplicados. \n",
    "\n",
    "- `duplicated()` identificando los datos duplicados. Devuelve valores booleanos. \n",
    "-  `drop_duplicates()` filtra los casos duplicados "
   ]
  },
  {
   "cell_type": "code",
   "execution_count": 5,
   "metadata": {
    "id": "Jz5XbT_xVr-b",
    "outputId": "0bace98e-d914-4500-c479-53a1f714e20f"
   },
   "outputs": [
    {
     "data": {
      "text/plain": [
       "0        False\n",
       "1        False\n",
       "2        False\n",
       "3        False\n",
       "4        False\n",
       "         ...  \n",
       "65494    False\n",
       "65495    False\n",
       "65496    False\n",
       "65497    False\n",
       "65498    False\n",
       "Length: 65499, dtype: bool"
      ]
     },
     "execution_count": 5,
     "metadata": {},
     "output_type": "execute_result"
    }
   ],
   "source": [
    "dataset.duplicated()"
   ]
  },
  {
   "cell_type": "code",
   "execution_count": 6,
   "metadata": {},
   "outputs": [
    {
     "name": "stdout",
     "output_type": "stream",
     "text": [
      "Help on function duplicated in pandas.DataFrame:\n",
      "\n",
      "pandas.DataFrame.duplicated = duplicated(self, subset: 'Hashable | Sequence[Hashable] | None' = None, keep: 'DropKeep' = 'first') -> 'Series'\n",
      "    Return boolean Series denoting duplicate rows.\n",
      "\n",
      "    Considering certain columns is optional.\n",
      "\n",
      "    Parameters\n",
      "    ----------\n",
      "    subset : column label or sequence of labels, optional\n",
      "        Only consider certain columns for identifying duplicates, by\n",
      "        default use all of the columns.\n",
      "    keep : {'first', 'last', False}, default 'first'\n",
      "        Determines which duplicates (if any) to mark.\n",
      "\n",
      "        - ``first`` : Mark duplicates as ``True`` except for the first occurrence.\n",
      "        - ``last`` : Mark duplicates as ``True`` except for the last occurrence.\n",
      "        - False : Mark all duplicates as ``True``.\n",
      "\n",
      "    Returns\n",
      "    -------\n",
      "    Series\n",
      "        Boolean series for each duplicated rows.\n",
      "\n",
      "    See Also\n",
      "    --------\n",
      "    Index.duplicated : Equivalent method on index.\n",
      "    Series.duplicated : Equivalent method on Series.\n",
      "    Series.drop_duplicates : Remove duplicate values from Series.\n",
      "    DataFrame.drop_duplicates : Remove duplicate values from DataFrame.\n",
      "\n",
      "    Examples\n",
      "    --------\n",
      "    Consider dataset containing ramen rating.\n",
      "\n",
      "    >>> df = pd.DataFrame({\n",
      "    ...     'brand': ['Yum Yum', 'Yum Yum', 'Indomie', 'Indomie', 'Indomie'],\n",
      "    ...     'style': ['cup', 'cup', 'cup', 'pack', 'pack'],\n",
      "    ...     'rating': [4, 4, 3.5, 15, 5]\n",
      "    ... })\n",
      "    >>> df\n",
      "        brand style  rating\n",
      "    0  Yum Yum   cup     4.0\n",
      "    1  Yum Yum   cup     4.0\n",
      "    2  Indomie   cup     3.5\n",
      "    3  Indomie  pack    15.0\n",
      "    4  Indomie  pack     5.0\n",
      "\n",
      "    By default, for each set of duplicated values, the first occurrence\n",
      "    is set on False and all others on True.\n",
      "\n",
      "    >>> df.duplicated()\n",
      "    0    False\n",
      "    1     True\n",
      "    2    False\n",
      "    3    False\n",
      "    4    False\n",
      "    dtype: bool\n",
      "\n",
      "    By using 'last', the last occurrence of each set of duplicated values\n",
      "    is set on False and all others on True.\n",
      "\n",
      "    >>> df.duplicated(keep='last')\n",
      "    0     True\n",
      "    1    False\n",
      "    2    False\n",
      "    3    False\n",
      "    4    False\n",
      "    dtype: bool\n",
      "\n",
      "    By setting ``keep`` on False, all duplicates are True.\n",
      "\n",
      "    >>> df.duplicated(keep=False)\n",
      "    0     True\n",
      "    1     True\n",
      "    2    False\n",
      "    3    False\n",
      "    4    False\n",
      "    dtype: bool\n",
      "\n",
      "    To find duplicates on specific column(s), use ``subset``.\n",
      "\n",
      "    >>> df.duplicated(subset=['brand'])\n",
      "    0    False\n",
      "    1     True\n",
      "    2    False\n",
      "    3     True\n",
      "    4     True\n",
      "    dtype: bool\n",
      "\n"
     ]
    }
   ],
   "source": [
    "help('pandas.DataFrame.duplicated')"
   ]
  },
  {
   "cell_type": "code",
   "execution_count": 7,
   "metadata": {},
   "outputs": [
    {
     "data": {
      "text/plain": [
       "2408     True\n",
       "2409     True\n",
       "2410     True\n",
       "2412     True\n",
       "2413     True\n",
       "         ... \n",
       "65467    True\n",
       "65468    True\n",
       "65475    True\n",
       "65476    True\n",
       "65477    True\n",
       "Length: 2660, dtype: bool"
      ]
     },
     "execution_count": 7,
     "metadata": {},
     "output_type": "execute_result"
    }
   ],
   "source": [
    "dataset.duplicated()[dataset.duplicated()==True]"
   ]
  },
  {
   "cell_type": "markdown",
   "metadata": {},
   "source": [
    "Con el parámetro `keep` podemos determinar cuál de los valores duplicados marcar como duplicados:"
   ]
  },
  {
   "cell_type": "code",
   "execution_count": 8,
   "metadata": {
    "id": "YRMvFLo8Vr-b",
    "outputId": "9e608840-3687-45b4-ae82-ab86a3be9dc4"
   },
   "outputs": [
    {
     "data": {
      "text/plain": [
       "41       True\n",
       "42       True\n",
       "45       True\n",
       "46       True\n",
       "47       True\n",
       "         ... \n",
       "63286    True\n",
       "63287    True\n",
       "63288    True\n",
       "63289    True\n",
       "64002    True\n",
       "Length: 2660, dtype: bool"
      ]
     },
     "execution_count": 8,
     "metadata": {},
     "output_type": "execute_result"
    }
   ],
   "source": [
    "dataset.duplicated(keep='last')[dataset.duplicated(keep='last')==True]"
   ]
  },
  {
   "cell_type": "markdown",
   "metadata": {
    "id": "HzncgJuiVr-b"
   },
   "source": [
    "El método `pd.duplicated()` devuelve valores booleanos. Para saber si y cuántos duplicados hay, podemos sumar estos valores. Los `True` van a sumar 1 y los `False` van a sumar 0.  "
   ]
  },
  {
   "cell_type": "code",
   "execution_count": 9,
   "metadata": {
    "id": "4bZLh42KVr-b",
    "outputId": "01bfa303-04c9-4681-8bce-800ef1eca73f"
   },
   "outputs": [
    {
     "data": {
      "text/plain": [
       "2660"
      ]
     },
     "execution_count": 9,
     "metadata": {},
     "output_type": "execute_result"
    }
   ],
   "source": [
    "dataset.duplicated().sum()"
   ]
  },
  {
   "cell_type": "markdown",
   "metadata": {
    "id": "bvryo0EuVr-b"
   },
   "source": [
    "Hay 2.660 valores duplicados."
   ]
  },
  {
   "cell_type": "markdown",
   "metadata": {
    "id": "oKAOrky5Vr-b"
   },
   "source": [
    "Podemos ajustar el criterio y considerar solamente un subset de columnas para identificar los duplicados. Al especificar un subset, 2 filas serán consideradas duplicados si los valores de dichas columnas están duplicadas, independientemente de los valores de las demás. "
   ]
  },
  {
   "cell_type": "code",
   "execution_count": 10,
   "metadata": {
    "id": "1F0nqOytVr-c",
    "outputId": "a67fb4db-aeca-4327-d2f9-27e36fb38be9"
   },
   "outputs": [
    {
     "data": {
      "text/plain": [
       "2910"
      ]
     },
     "execution_count": 10,
     "metadata": {},
     "output_type": "execute_result"
    }
   ],
   "source": [
    "dataset.duplicated(['winery','variety', 'title', 'taster_name']).sum()"
   ]
  },
  {
   "cell_type": "markdown",
   "metadata": {
    "id": "MXyaqo67Vr-c"
   },
   "source": [
    "Vemos que el número de duplicados se incrementó a 2.910."
   ]
  },
  {
   "cell_type": "markdown",
   "metadata": {
    "id": "ci0xyNW2Vr-c"
   },
   "source": [
    "##### drop_duplicates()"
   ]
  },
  {
   "cell_type": "code",
   "execution_count": 11,
   "metadata": {
    "id": "Q3xh1veqVr-c"
   },
   "outputs": [],
   "source": [
    "dataset = dataset.drop_duplicates(['winery','variety', 'title', 'taster_name'],\n",
    "                                   keep='last')"
   ]
  },
  {
   "cell_type": "code",
   "execution_count": 12,
   "metadata": {
    "id": "70daplrvVr-c",
    "outputId": "c8533e89-5b69-4c75-cefa-5abe4d177acb"
   },
   "outputs": [
    {
     "data": {
      "text/plain": [
       "(62589, 13)"
      ]
     },
     "execution_count": 12,
     "metadata": {},
     "output_type": "execute_result"
    }
   ],
   "source": [
    "dataset.shape"
   ]
  },
  {
   "cell_type": "markdown",
   "metadata": {
    "id": "eMLN2nnvVr-c"
   },
   "source": [
    "#### 1.2) Detección, filtrado e imputación de datos faltantes\n",
    "\n",
    "Es frecuente que en los datasets haya **datos faltantes**. Puede ser por algún error en el proceso de carga o recolección de los datos. También puede ser que la información provenga de diferentes fuentes y en alguna de las fuentes no haya datos para alguna observación. \n",
    "\n",
    "En cualquier caso, uno de los objetivos de `Pandas` es hacer que el trabajo con los datos faltantes sea lo menos doloroso posible. Por ejemplo, todas las estadísticas descriptivas de los objetos `Pandas` ignoran por default a los datos que faltan.\n",
    "\n",
    "La principales formas que tiene `Pandas` de representar a los datos nulos son las siguentes:\n",
    "\n",
    "- `None`: objeto de Python que representa ausencia de dato\n",
    "- `NaN` (Not a Number): representación de datos faltantes para datos numéricos\n",
    "- `NaT`: se utiliza para valores faltantes del tipo Timestamp"
   ]
  },
  {
   "cell_type": "markdown",
   "metadata": {
    "id": "qPEOfBHGVr-c"
   },
   "source": [
    "##### Detección de datos faltantes\n",
    "\n",
    "Los objetos de `Pandas` tienen el método `isnull()` que nos permite identificar datos faltantes. \n",
    "\n",
    "Veamos si nuestro dataset tiene datos faltantes:"
   ]
  },
  {
   "cell_type": "code",
   "execution_count": 13,
   "metadata": {
    "id": "sePVtOGMVr-c",
    "outputId": "e0f3d2a1-699d-4078-a75c-070525ae5c61"
   },
   "outputs": [
    {
     "data": {
      "text/html": [
       "<div>\n",
       "<style scoped>\n",
       "    .dataframe tbody tr th:only-of-type {\n",
       "        vertical-align: middle;\n",
       "    }\n",
       "\n",
       "    .dataframe tbody tr th {\n",
       "        vertical-align: top;\n",
       "    }\n",
       "\n",
       "    .dataframe thead th {\n",
       "        text-align: right;\n",
       "    }\n",
       "</style>\n",
       "<table border=\"1\" class=\"dataframe\">\n",
       "  <thead>\n",
       "    <tr style=\"text-align: right;\">\n",
       "      <th></th>\n",
       "      <th>country</th>\n",
       "      <th>description</th>\n",
       "      <th>designation</th>\n",
       "      <th>points</th>\n",
       "      <th>price</th>\n",
       "      <th>province</th>\n",
       "      <th>region_1</th>\n",
       "      <th>region_2</th>\n",
       "      <th>taster_name</th>\n",
       "      <th>taster_twitter_handle</th>\n",
       "      <th>title</th>\n",
       "      <th>variety</th>\n",
       "      <th>winery</th>\n",
       "    </tr>\n",
       "  </thead>\n",
       "  <tbody>\n",
       "    <tr>\n",
       "      <th>0</th>\n",
       "      <td>False</td>\n",
       "      <td>False</td>\n",
       "      <td>False</td>\n",
       "      <td>False</td>\n",
       "      <td>True</td>\n",
       "      <td>False</td>\n",
       "      <td>False</td>\n",
       "      <td>True</td>\n",
       "      <td>False</td>\n",
       "      <td>False</td>\n",
       "      <td>False</td>\n",
       "      <td>False</td>\n",
       "      <td>False</td>\n",
       "    </tr>\n",
       "    <tr>\n",
       "      <th>1</th>\n",
       "      <td>False</td>\n",
       "      <td>False</td>\n",
       "      <td>False</td>\n",
       "      <td>False</td>\n",
       "      <td>False</td>\n",
       "      <td>False</td>\n",
       "      <td>True</td>\n",
       "      <td>True</td>\n",
       "      <td>False</td>\n",
       "      <td>False</td>\n",
       "      <td>False</td>\n",
       "      <td>False</td>\n",
       "      <td>False</td>\n",
       "    </tr>\n",
       "    <tr>\n",
       "      <th>2</th>\n",
       "      <td>False</td>\n",
       "      <td>False</td>\n",
       "      <td>True</td>\n",
       "      <td>False</td>\n",
       "      <td>False</td>\n",
       "      <td>False</td>\n",
       "      <td>False</td>\n",
       "      <td>False</td>\n",
       "      <td>False</td>\n",
       "      <td>False</td>\n",
       "      <td>False</td>\n",
       "      <td>False</td>\n",
       "      <td>False</td>\n",
       "    </tr>\n",
       "    <tr>\n",
       "      <th>3</th>\n",
       "      <td>False</td>\n",
       "      <td>False</td>\n",
       "      <td>False</td>\n",
       "      <td>False</td>\n",
       "      <td>False</td>\n",
       "      <td>False</td>\n",
       "      <td>False</td>\n",
       "      <td>True</td>\n",
       "      <td>False</td>\n",
       "      <td>True</td>\n",
       "      <td>False</td>\n",
       "      <td>False</td>\n",
       "      <td>False</td>\n",
       "    </tr>\n",
       "    <tr>\n",
       "      <th>4</th>\n",
       "      <td>False</td>\n",
       "      <td>False</td>\n",
       "      <td>False</td>\n",
       "      <td>False</td>\n",
       "      <td>False</td>\n",
       "      <td>False</td>\n",
       "      <td>False</td>\n",
       "      <td>False</td>\n",
       "      <td>False</td>\n",
       "      <td>False</td>\n",
       "      <td>False</td>\n",
       "      <td>False</td>\n",
       "      <td>False</td>\n",
       "    </tr>\n",
       "    <tr>\n",
       "      <th>...</th>\n",
       "      <td>...</td>\n",
       "      <td>...</td>\n",
       "      <td>...</td>\n",
       "      <td>...</td>\n",
       "      <td>...</td>\n",
       "      <td>...</td>\n",
       "      <td>...</td>\n",
       "      <td>...</td>\n",
       "      <td>...</td>\n",
       "      <td>...</td>\n",
       "      <td>...</td>\n",
       "      <td>...</td>\n",
       "      <td>...</td>\n",
       "    </tr>\n",
       "    <tr>\n",
       "      <th>65494</th>\n",
       "      <td>False</td>\n",
       "      <td>False</td>\n",
       "      <td>False</td>\n",
       "      <td>False</td>\n",
       "      <td>False</td>\n",
       "      <td>False</td>\n",
       "      <td>False</td>\n",
       "      <td>True</td>\n",
       "      <td>False</td>\n",
       "      <td>False</td>\n",
       "      <td>False</td>\n",
       "      <td>False</td>\n",
       "      <td>False</td>\n",
       "    </tr>\n",
       "    <tr>\n",
       "      <th>65495</th>\n",
       "      <td>False</td>\n",
       "      <td>False</td>\n",
       "      <td>True</td>\n",
       "      <td>False</td>\n",
       "      <td>False</td>\n",
       "      <td>False</td>\n",
       "      <td>False</td>\n",
       "      <td>True</td>\n",
       "      <td>False</td>\n",
       "      <td>False</td>\n",
       "      <td>False</td>\n",
       "      <td>False</td>\n",
       "      <td>False</td>\n",
       "    </tr>\n",
       "    <tr>\n",
       "      <th>65496</th>\n",
       "      <td>False</td>\n",
       "      <td>False</td>\n",
       "      <td>False</td>\n",
       "      <td>False</td>\n",
       "      <td>False</td>\n",
       "      <td>False</td>\n",
       "      <td>False</td>\n",
       "      <td>False</td>\n",
       "      <td>True</td>\n",
       "      <td>True</td>\n",
       "      <td>False</td>\n",
       "      <td>False</td>\n",
       "      <td>False</td>\n",
       "    </tr>\n",
       "    <tr>\n",
       "      <th>65497</th>\n",
       "      <td>False</td>\n",
       "      <td>False</td>\n",
       "      <td>False</td>\n",
       "      <td>False</td>\n",
       "      <td>False</td>\n",
       "      <td>False</td>\n",
       "      <td>False</td>\n",
       "      <td>False</td>\n",
       "      <td>True</td>\n",
       "      <td>True</td>\n",
       "      <td>False</td>\n",
       "      <td>False</td>\n",
       "      <td>False</td>\n",
       "    </tr>\n",
       "    <tr>\n",
       "      <th>65498</th>\n",
       "      <td>False</td>\n",
       "      <td>False</td>\n",
       "      <td>False</td>\n",
       "      <td>False</td>\n",
       "      <td>False</td>\n",
       "      <td>False</td>\n",
       "      <td>False</td>\n",
       "      <td>True</td>\n",
       "      <td>False</td>\n",
       "      <td>False</td>\n",
       "      <td>False</td>\n",
       "      <td>False</td>\n",
       "      <td>False</td>\n",
       "    </tr>\n",
       "  </tbody>\n",
       "</table>\n",
       "<p>62589 rows × 13 columns</p>\n",
       "</div>"
      ],
      "text/plain": [
       "       country  description  designation  points  price  province  region_1  \\\n",
       "0        False        False        False   False   True     False     False   \n",
       "1        False        False        False   False  False     False      True   \n",
       "2        False        False         True   False  False     False     False   \n",
       "3        False        False        False   False  False     False     False   \n",
       "4        False        False        False   False  False     False     False   \n",
       "...        ...          ...          ...     ...    ...       ...       ...   \n",
       "65494    False        False        False   False  False     False     False   \n",
       "65495    False        False         True   False  False     False     False   \n",
       "65496    False        False        False   False  False     False     False   \n",
       "65497    False        False        False   False  False     False     False   \n",
       "65498    False        False        False   False  False     False     False   \n",
       "\n",
       "       region_2  taster_name  taster_twitter_handle  title  variety  winery  \n",
       "0          True        False                  False  False    False   False  \n",
       "1          True        False                  False  False    False   False  \n",
       "2         False        False                  False  False    False   False  \n",
       "3          True        False                   True  False    False   False  \n",
       "4         False        False                  False  False    False   False  \n",
       "...         ...          ...                    ...    ...      ...     ...  \n",
       "65494      True        False                  False  False    False   False  \n",
       "65495      True        False                  False  False    False   False  \n",
       "65496     False         True                   True  False    False   False  \n",
       "65497     False         True                   True  False    False   False  \n",
       "65498      True        False                  False  False    False   False  \n",
       "\n",
       "[62589 rows x 13 columns]"
      ]
     },
     "execution_count": 13,
     "metadata": {},
     "output_type": "execute_result"
    }
   ],
   "source": [
    "dataset.isnull()"
   ]
  },
  {
   "cell_type": "markdown",
   "metadata": {
    "id": "F93hWN6aVr-c"
   },
   "source": [
    "Como el método `isnull()` devuelve valores boolenanos, frecuentemente es más cómodo aplicar el método `sum()` al output, de modo tal de tener un conteo de los datos faltantes por columna. \n",
    "\n",
    "Recordemos que el método `sum()` tomará como `1` a los valores `True` y como `0` a los `False`.  "
   ]
  },
  {
   "cell_type": "code",
   "execution_count": 14,
   "metadata": {
    "id": "LyXg3hVPVr-c",
    "outputId": "c47b9f8b-92ea-478d-955e-0f99478d58b9"
   },
   "outputs": [
    {
     "data": {
      "text/plain": [
       "country                     32\n",
       "description                  0\n",
       "designation              18136\n",
       "points                       0\n",
       "price                     4489\n",
       "province                    32\n",
       "region_1                 10277\n",
       "region_2                 38442\n",
       "taster_name              13176\n",
       "taster_twitter_handle    15455\n",
       "title                        0\n",
       "variety                      0\n",
       "winery                       0\n",
       "dtype: int64"
      ]
     },
     "execution_count": 14,
     "metadata": {},
     "output_type": "execute_result"
    }
   ],
   "source": [
    "dataset.isnull().sum()"
   ]
  },
  {
   "cell_type": "markdown",
   "metadata": {
    "id": "jjvTRVcfVr-c"
   },
   "source": [
    "##### Filtrado de datos faltantes: `dropna()`\n",
    "\n",
    "`Pandas` nos provee de un método para identificar y filtrar datos faltantes en un solo paso. Este es el método `dropna()`.\n",
    "\n",
    "Apliquémoslo a nuestro dataset con datos nulos."
   ]
  },
  {
   "cell_type": "code",
   "execution_count": 15,
   "metadata": {
    "id": "wLxMZPIaVr-c"
   },
   "outputs": [],
   "source": [
    "dataset_dropna = dataset.dropna()"
   ]
  },
  {
   "cell_type": "markdown",
   "metadata": {
    "id": "NCdL-OVnVr-c"
   },
   "source": [
    "Vamos a comparar los `shape` del dataset con nulos y el dataset con los nulos filtrados, para ver el resultado del filtro:"
   ]
  },
  {
   "cell_type": "code",
   "execution_count": 16,
   "metadata": {
    "id": "mw8mO6UhVr-c",
    "outputId": "dbe48474-d0c9-4869-91f9-2a5be0a922a3"
   },
   "outputs": [
    {
     "name": "stdout",
     "output_type": "stream",
     "text": [
      "(62589, 13)\n",
      "(10516, 13)\n"
     ]
    }
   ],
   "source": [
    "print(dataset.shape)\n",
    "print(dataset_dropna.shape)"
   ]
  },
  {
   "cell_type": "markdown",
   "metadata": {
    "id": "GRkMDvyQVr-c"
   },
   "source": [
    "De las 62.589 observaciones (filas), nos quedaron 10.516. Esto sucede porque el argumento `how` viene por default con el valor `'any'`. Esto quiere decir que es suficiente con que haya 1 valor nulo en la fila para que ésta sea filtrada. El análisis se hace por fila porque también por default `axis=0`. Podemos pedir que el análisis sea por columna cambiando el valor a 1.\n",
    "\n",
    "Como se pueden imaginar, filtrar toda la fila por tener un dato nulo puede representar un problema. Veamos cómo podemos ajustar el criterio:"
   ]
  },
  {
   "cell_type": "code",
   "execution_count": 17,
   "metadata": {
    "id": "U6BTpuJGVr-c"
   },
   "outputs": [],
   "source": [
    "dataset_dropna_fullrow = dataset.dropna(how = 'all')"
   ]
  },
  {
   "cell_type": "markdown",
   "metadata": {
    "id": "8KimCm-TVr-c"
   },
   "source": [
    "Ahora le pedimos al método que solamente filtre la fila si todos los datos son nulos. Veamos el resultado:"
   ]
  },
  {
   "cell_type": "code",
   "execution_count": 18,
   "metadata": {
    "id": "-lnEMPH-Vr-d",
    "outputId": "40132852-a46b-46e3-d35d-17a982ac2b33"
   },
   "outputs": [
    {
     "name": "stdout",
     "output_type": "stream",
     "text": [
      "(62589, 13)\n",
      "(62589, 13)\n"
     ]
    }
   ],
   "source": [
    "print(dataset.shape)\n",
    "print(dataset_dropna_fullrow.shape)"
   ]
  },
  {
   "cell_type": "markdown",
   "metadata": {
    "id": "RPnVdo1MVr-d"
   },
   "source": [
    "No filtramos nada. Tal vez `how= 'all'` es un criterio demasiado restrictivo. Veamos si podemos establecer un criterio más flexible:"
   ]
  },
  {
   "cell_type": "code",
   "execution_count": 19,
   "metadata": {
    "id": "ULcUkdFpVr-d",
    "outputId": "5d33dd47-54f4-41b9-8d1f-9e1f95b22815"
   },
   "outputs": [
    {
     "name": "stdout",
     "output_type": "stream",
     "text": [
      "(62589, 13)\n",
      "(62282, 13)\n"
     ]
    }
   ],
   "source": [
    "# Tolero como máximo 4 columnas con datos nulos por fila:\n",
    "umbral = dataset.shape[1] - 4\n",
    "dataset_dropna_tresh = dataset.dropna(axis = 0, thresh=umbral)\n",
    "print(dataset.shape)\n",
    "print(dataset_dropna_tresh.shape)"
   ]
  },
  {
   "cell_type": "markdown",
   "metadata": {
    "id": "rogx2uKPVr-d"
   },
   "source": [
    "Con el uso del argumento `thresh`(de umbral) puedo definir un criterio que se amolde a las necesidades de mi análisis.\n",
    "\n",
    "También podemos usar el argumento `subset` para filtrar considerando solamente un subconjunto de columnas."
   ]
  },
  {
   "cell_type": "code",
   "execution_count": 20,
   "metadata": {
    "id": "lClHmAxPVr-d",
    "outputId": "be443a2d-1f62-4fee-e2af-0083792225ff"
   },
   "outputs": [
    {
     "name": "stdout",
     "output_type": "stream",
     "text": [
      "(62589, 13)\n",
      "(58072, 13)\n"
     ]
    }
   ],
   "source": [
    "dataset_dropna_subset = dataset.dropna(subset=['price', 'province'])\n",
    "print(dataset.shape)\n",
    "print(dataset_dropna_subset.shape)"
   ]
  },
  {
   "cell_type": "code",
   "execution_count": 21,
   "metadata": {
    "id": "_Y6hI-PQVr-d",
    "outputId": "b4010ee4-7db5-4ee9-8d68-bd4a3a96d950"
   },
   "outputs": [
    {
     "data": {
      "text/plain": [
       "4517"
      ]
     },
     "execution_count": 21,
     "metadata": {},
     "output_type": "execute_result"
    }
   ],
   "source": [
    "dataset.shape[0] - dataset_dropna_subset.shape[0]"
   ]
  },
  {
   "cell_type": "markdown",
   "metadata": {
    "id": "Ch5f41XMVr-d"
   },
   "source": [
    "Vemos que, como por default, el argumento `how = any`, entonces se eliminan las filas que tengan un nulo en por lo menos una de las columnas. Podemos modificar esto para que todas las columnas del subset sean nulas para que el registro sea eliminado. "
   ]
  },
  {
   "cell_type": "code",
   "execution_count": 22,
   "metadata": {
    "id": "350WKsq4Vr-d",
    "outputId": "cd85043f-a1bf-48db-c708-0b48cb48f214"
   },
   "outputs": [
    {
     "name": "stdout",
     "output_type": "stream",
     "text": [
      "(62589, 13)\n",
      "(62585, 13)\n"
     ]
    }
   ],
   "source": [
    "dataset_dropna_subset = dataset.dropna(how = 'all', subset=['price', 'province'])\n",
    "print(dataset.shape)\n",
    "print(dataset_dropna_subset.shape)"
   ]
  },
  {
   "cell_type": "code",
   "execution_count": 23,
   "metadata": {
    "id": "yLtv0GCJVr-d",
    "outputId": "e35670ae-14ff-4a46-8381-98f45440bc4d"
   },
   "outputs": [
    {
     "data": {
      "text/plain": [
       "4"
      ]
     },
     "execution_count": 23,
     "metadata": {},
     "output_type": "execute_result"
    }
   ],
   "source": [
    "dataset.shape[0] - dataset_dropna_subset.shape[0]"
   ]
  },
  {
   "cell_type": "markdown",
   "metadata": {
    "id": "SfT1I96WVr-d"
   },
   "source": [
    "#### Imputación\n",
    "\n",
    "Una alternativa a filtrar los datos es completar el valor que falta con algún valor que podamos estimar o definir de acuerdo a algún criterio. La técnica de completar los datos faltantes se llama **imputación**.\n",
    "\n",
    "`Pandas` provee un método para completar los datos faltantes: `fillna()`. Como primer paso, imputamos a cada dato faltante por el valor promedio de la columna:"
   ]
  },
  {
   "cell_type": "code",
   "execution_count": 25,
   "metadata": {},
   "outputs": [
    {
     "data": {
      "text/plain": [
       "0     NaN\n",
       "1    15.0\n",
       "2    14.0\n",
       "3    13.0\n",
       "4    65.0\n",
       "Name: price, dtype: float64"
      ]
     },
     "execution_count": 25,
     "metadata": {},
     "output_type": "execute_result"
    }
   ],
   "source": [
    "dataset['price'][:5]"
   ]
  },
  {
   "cell_type": "code",
   "execution_count": 26,
   "metadata": {
    "id": "rMZnrKdJVr-d",
    "outputId": "6100aa32-53c2-459a-d89b-ec263edbc180"
   },
   "outputs": [
    {
     "data": {
      "text/plain": [
       "35.32779690189329"
      ]
     },
     "execution_count": 26,
     "metadata": {},
     "output_type": "execute_result"
    }
   ],
   "source": [
    "dataset['price'].mean()"
   ]
  },
  {
   "cell_type": "code",
   "execution_count": 27,
   "metadata": {
    "id": "xaenfSnqVr-e",
    "outputId": "b690162c-47c3-428a-cba0-9005dca0f3ff"
   },
   "outputs": [
    {
     "data": {
      "text/plain": [
       "0    35.327797\n",
       "1    15.000000\n",
       "2    14.000000\n",
       "3    13.000000\n",
       "4    65.000000\n",
       "Name: price, dtype: float64"
      ]
     },
     "execution_count": 27,
     "metadata": {},
     "output_type": "execute_result"
    }
   ],
   "source": [
    "dataset['price'].fillna(dataset['price'].mean())[:5]"
   ]
  },
  {
   "cell_type": "markdown",
   "metadata": {
    "id": "knnomOZcVr-e"
   },
   "source": [
    "También podemos usar el `groupby` para dividir el dataset en grupos e imputar por la media de estos grupos. \n",
    "\n",
    "En este caso, vamos a asumir que una distinción relevante es calcular la media agrupando por variety. "
   ]
  },
  {
   "cell_type": "code",
   "execution_count": 28,
   "metadata": {
    "id": "4EHw7KfjVr-e",
    "outputId": "2e7ec549-4300-46b7-9f75-fcb31b88cd9a"
   },
   "outputs": [
    {
     "data": {
      "text/html": [
       "<div>\n",
       "<style scoped>\n",
       "    .dataframe tbody tr th:only-of-type {\n",
       "        vertical-align: middle;\n",
       "    }\n",
       "\n",
       "    .dataframe tbody tr th {\n",
       "        vertical-align: top;\n",
       "    }\n",
       "\n",
       "    .dataframe thead th {\n",
       "        text-align: right;\n",
       "    }\n",
       "</style>\n",
       "<table border=\"1\" class=\"dataframe\">\n",
       "  <thead>\n",
       "    <tr style=\"text-align: right;\">\n",
       "      <th></th>\n",
       "      <th>price</th>\n",
       "    </tr>\n",
       "  </thead>\n",
       "  <tbody>\n",
       "    <tr>\n",
       "      <th>0</th>\n",
       "      <td>22.677998</td>\n",
       "    </tr>\n",
       "    <tr>\n",
       "      <th>1</th>\n",
       "      <td>25.304428</td>\n",
       "    </tr>\n",
       "    <tr>\n",
       "      <th>2</th>\n",
       "      <td>23.211852</td>\n",
       "    </tr>\n",
       "    <tr>\n",
       "      <th>3</th>\n",
       "      <td>31.284515</td>\n",
       "    </tr>\n",
       "    <tr>\n",
       "      <th>4</th>\n",
       "      <td>47.720209</td>\n",
       "    </tr>\n",
       "    <tr>\n",
       "      <th>...</th>\n",
       "      <td>...</td>\n",
       "    </tr>\n",
       "    <tr>\n",
       "      <th>65494</th>\n",
       "      <td>35.152988</td>\n",
       "    </tr>\n",
       "    <tr>\n",
       "      <th>65495</th>\n",
       "      <td>47.007251</td>\n",
       "    </tr>\n",
       "    <tr>\n",
       "      <th>65496</th>\n",
       "      <td>20.341443</td>\n",
       "    </tr>\n",
       "    <tr>\n",
       "      <th>65497</th>\n",
       "      <td>25.351351</td>\n",
       "    </tr>\n",
       "    <tr>\n",
       "      <th>65498</th>\n",
       "      <td>26.000000</td>\n",
       "    </tr>\n",
       "  </tbody>\n",
       "</table>\n",
       "<p>62589 rows × 1 columns</p>\n",
       "</div>"
      ],
      "text/plain": [
       "           price\n",
       "0      22.677998\n",
       "1      25.304428\n",
       "2      23.211852\n",
       "3      31.284515\n",
       "4      47.720209\n",
       "...          ...\n",
       "65494  35.152988\n",
       "65495  47.007251\n",
       "65496  20.341443\n",
       "65497  25.351351\n",
       "65498  26.000000\n",
       "\n",
       "[62589 rows x 1 columns]"
      ]
     },
     "execution_count": 28,
     "metadata": {},
     "output_type": "execute_result"
    }
   ],
   "source": [
    "# Usamos groupby para imputar:\n",
    "dataset[['variety', 'price']].groupby('variety').transform('mean')"
   ]
  },
  {
   "cell_type": "code",
   "execution_count": 29,
   "metadata": {
    "id": "yGk7Lgn3Vr-e"
   },
   "outputs": [],
   "source": [
    "dataset = dataset.fillna(dataset[['variety', 'price']].groupby('variety').transform('mean'))"
   ]
  },
  {
   "cell_type": "markdown",
   "metadata": {},
   "source": [
    "Veamos cuántos datos nulos quedan luego de realizar la transformación:"
   ]
  },
  {
   "cell_type": "code",
   "execution_count": 30,
   "metadata": {
    "id": "8daNpKXJVr-e",
    "outputId": "43447bb0-b9a0-4e3f-8f93-51bd2c8f39e6"
   },
   "outputs": [
    {
     "data": {
      "text/plain": [
       "country                     32\n",
       "description                  0\n",
       "designation              18136\n",
       "points                       0\n",
       "price                       10\n",
       "province                    32\n",
       "region_1                 10277\n",
       "region_2                 38442\n",
       "taster_name              13176\n",
       "taster_twitter_handle    15455\n",
       "title                        0\n",
       "variety                      0\n",
       "winery                       0\n",
       "dtype: int64"
      ]
     },
     "execution_count": 30,
     "metadata": {},
     "output_type": "execute_result"
    }
   ],
   "source": [
    "dataset.isnull().sum()"
   ]
  },
  {
   "cell_type": "markdown",
   "metadata": {},
   "source": [
    "Siguen quedando 10 filas con la columna 'price' nula. Analicemos qué está pasando.\n",
    "\n",
    "Usamos la columna 'variety' para agregar. Veamos cuántas variedades diferentes tenemos:"
   ]
  },
  {
   "cell_type": "code",
   "execution_count": 31,
   "metadata": {},
   "outputs": [
    {
     "data": {
      "text/plain": [
       "590"
      ]
     },
     "execution_count": 31,
     "metadata": {},
     "output_type": "execute_result"
    }
   ],
   "source": [
    "len(dataset['variety'].unique())"
   ]
  },
  {
   "cell_type": "markdown",
   "metadata": {},
   "source": [
    "Cuantos registros de cada variedad hay?"
   ]
  },
  {
   "cell_type": "code",
   "execution_count": 32,
   "metadata": {},
   "outputs": [
    {
     "data": {
      "text/plain": [
       "variety\n",
       "Pinot Noir                  6380\n",
       "Chardonnay                  5617\n",
       "Cabernet Sauvignon          4603\n",
       "Red Blend                   4366\n",
       "Bordeaux-style Red Blend    3313\n",
       "                            ... \n",
       "Irsai Oliver                   1\n",
       "Baga-Touriga Nacional          1\n",
       "Muscatel                       1\n",
       "Viognier-Grenache Blanc        1\n",
       "Misket                         1\n",
       "Name: count, Length: 590, dtype: int64"
      ]
     },
     "execution_count": 32,
     "metadata": {},
     "output_type": "execute_result"
    }
   ],
   "source": [
    "dataset['variety'].value_counts()"
   ]
  },
  {
   "cell_type": "markdown",
   "metadata": {},
   "source": [
    "Vemos que hay muchas variedades con un único registro. Es posible que muchas tengan todos valores nulos. "
   ]
  },
  {
   "cell_type": "code",
   "execution_count": 33,
   "metadata": {
    "id": "V_DKpiXmVr-e",
    "outputId": "ccbcf8ef-8260-4071-d0e2-95a941eaa37b",
    "scrolled": true
   },
   "outputs": [
    {
     "data": {
      "text/plain": [
       "price    8\n",
       "dtype: int64"
      ]
     },
     "execution_count": 33,
     "metadata": {},
     "output_type": "execute_result"
    }
   ],
   "source": [
    "dataset[['variety', 'price']].groupby('variety').mean().isnull().sum()"
   ]
  },
  {
   "cell_type": "markdown",
   "metadata": {},
   "source": [
    "Hay 8 variedades para las cuales no tenemos ningun precio. Vamos a terminar la imputación aplicando la media general del dataset:"
   ]
  },
  {
   "cell_type": "code",
   "execution_count": 34,
   "metadata": {
    "id": "Koy8wDdWVr-e",
    "outputId": "99c519e2-b1ee-4b3b-d885-32d7ffec3a52"
   },
   "outputs": [
    {
     "data": {
      "text/plain": [
       "country                     32\n",
       "description                  0\n",
       "designation              18136\n",
       "points                       0\n",
       "price                        0\n",
       "province                    32\n",
       "region_1                 10277\n",
       "region_2                 38442\n",
       "taster_name              13176\n",
       "taster_twitter_handle    15455\n",
       "title                        0\n",
       "variety                      0\n",
       "winery                       0\n",
       "dtype: int64"
      ]
     },
     "execution_count": 34,
     "metadata": {},
     "output_type": "execute_result"
    }
   ],
   "source": [
    "dataset['price'] = dataset['price'].fillna(dataset['price'].mean())\n",
    "\n",
    "dataset.isnull().sum()"
   ]
  },
  {
   "cell_type": "markdown",
   "metadata": {
    "id": "FZmqVD7AVr-e"
   },
   "source": [
    "La **imputación** de datos faltantes es un tema amplio y existen diferentes técnicas. No es necesario imputar siempre por la media, por ejemplo. Se puede imputar usando los métodos de `Pandas` pero  también hay que tener en cuenta que hay disponibles librerías muy útiles que simplifican la tarea de la imputación. \n",
    "\n",
    "Por ejemplo, `Sklearn`, una biblioteca de Python que provee implementaciones de algoritmos de machine learning ofrece la clase `SimpleImputer`. Dejamos el link, pero como todavía no aprendimos a trabajar con `Sklearn`, no vamos a entrar en detalle ahora:\n",
    "\n",
    "https://scikit-learn.org/stable/modules/generated/sklearn.impute.SimpleImputer.html#sklearn.impute.SimpleImputer"
   ]
  },
  {
   "cell_type": "markdown",
   "metadata": {
    "id": "4DGWeZKDVr-e"
   },
   "source": [
    "#### 1.3) Detectar y filtrar outliers\n",
    "\n",
    "No existe un criterio que sea válido en todos los casos para identificar los outliers. \n",
    "\n",
    "En esta práctica consideraremos como outliers a los datos que sean mayores al tercer cuartil más 1.5 veces el rango intercuartil o menores al primer cuartil menos 1.5 veces el rango intercuartil. \n",
    "\n",
    "Vamos a generar una máscaras booleanas que nos van a servir para identificar a los outliers."
   ]
  },
  {
   "cell_type": "code",
   "execution_count": 35,
   "metadata": {
    "id": "zSuBv5cAVr-e",
    "outputId": "2d2da658-f54c-4d00-de31-cf29f5f6f470"
   },
   "outputs": [
    {
     "data": {
      "text/plain": [
       "2500.0"
      ]
     },
     "execution_count": 35,
     "metadata": {},
     "output_type": "execute_result"
    }
   ],
   "source": [
    "dataset.loc[:, 'price'].max()"
   ]
  },
  {
   "cell_type": "code",
   "execution_count": 36,
   "metadata": {
    "id": "vhPRF2qQVr-f",
    "outputId": "eddd8b0e-c89f-45df-da51-9480ac483457"
   },
   "outputs": [
    {
     "data": {
      "text/plain": [
       "26.0"
      ]
     },
     "execution_count": 36,
     "metadata": {},
     "output_type": "execute_result"
    }
   ],
   "source": [
    "dataset.loc[:, 'price'].quantile(0.5)"
   ]
  },
  {
   "cell_type": "code",
   "execution_count": 37,
   "metadata": {
    "id": "SjK2jAeKVr-f"
   },
   "outputs": [],
   "source": [
    "q1 = dataset.loc[:, 'price'].quantile(0.25)\n",
    "q3 = dataset.loc[:, 'price'].quantile(0.75)\n",
    "iqr = q3 - q1"
   ]
  },
  {
   "cell_type": "code",
   "execution_count": 38,
   "metadata": {
    "id": "0Ru015RKVr-f",
    "outputId": "cd6cdcdd-db59-4c41-f887-374011d7063c"
   },
   "outputs": [
    {
     "data": {
      "text/plain": [
       "18.0"
      ]
     },
     "execution_count": 38,
     "metadata": {},
     "output_type": "execute_result"
    }
   ],
   "source": [
    "q1"
   ]
  },
  {
   "cell_type": "code",
   "execution_count": 39,
   "metadata": {
    "id": "lu8A7uRjVr-f",
    "outputId": "81728cd5-2ef7-42cf-b38f-e7d0ffe81d74"
   },
   "outputs": [
    {
     "data": {
      "text/plain": [
       "44.471774193548384"
      ]
     },
     "execution_count": 39,
     "metadata": {},
     "output_type": "execute_result"
    }
   ],
   "source": [
    "q3"
   ]
  },
  {
   "cell_type": "code",
   "execution_count": 40,
   "metadata": {
    "id": "NqQTmWkDVr-f",
    "outputId": "116145be-cd67-4441-f37d-4b0b670c804c"
   },
   "outputs": [
    {
     "data": {
      "text/plain": [
       "26.471774193548384"
      ]
     },
     "execution_count": 40,
     "metadata": {},
     "output_type": "execute_result"
    }
   ],
   "source": [
    "# Rango intercuartil\n",
    "iqr"
   ]
  },
  {
   "cell_type": "markdown",
   "metadata": {
    "id": "iwaWLc5SVr-f"
   },
   "source": [
    "Una forma frecuente de considerar a valores como outliers, es si superan el Q3 + 1.5 * RI o Q1 - 1.5 * RI.\n",
    "\n",
    "Este es el criterio que por ejemplo se utiliza en los box-plots."
   ]
  },
  {
   "cell_type": "code",
   "execution_count": 41,
   "metadata": {
    "id": "uNxX1dAoVr-f",
    "outputId": "34fb3f3b-ee41-4b64-8837-aae6829e078e"
   },
   "outputs": [
    {
     "data": {
      "text/plain": [
       "84.17943548387096"
      ]
     },
     "execution_count": 41,
     "metadata": {},
     "output_type": "execute_result"
    }
   ],
   "source": [
    "q3 + 1.5 * iqr"
   ]
  },
  {
   "cell_type": "code",
   "execution_count": 42,
   "metadata": {
    "id": "d6zJM5ScVr-f",
    "outputId": "83a519eb-119f-4e7b-e110-cafb3839abd0"
   },
   "outputs": [
    {
     "data": {
      "text/plain": [
       "-21.707661290322577"
      ]
     },
     "execution_count": 42,
     "metadata": {},
     "output_type": "execute_result"
    }
   ],
   "source": [
    "q1 - 1.5 * iqr"
   ]
  },
  {
   "cell_type": "markdown",
   "metadata": {
    "id": "seAMbJUbVr-f"
   },
   "source": [
    "Vemos que el valor Q1 - 1.5 * RI es negativo, por lo cual, para este caso de uso, carece de sentido, y por lo tanto no lo vamos a considerar. "
   ]
  },
  {
   "cell_type": "code",
   "execution_count": 43,
   "metadata": {
    "id": "37NHX1_pVr-f"
   },
   "outputs": [],
   "source": [
    "mask_high = (dataset.loc[:, 'price'] > (q3 + 1.5 * iqr))"
   ]
  },
  {
   "cell_type": "code",
   "execution_count": 44,
   "metadata": {},
   "outputs": [
    {
     "data": {
      "text/plain": [
       "0        False\n",
       "1        False\n",
       "2        False\n",
       "3        False\n",
       "4        False\n",
       "         ...  \n",
       "65494    False\n",
       "65495    False\n",
       "65496    False\n",
       "65497    False\n",
       "65498    False\n",
       "Name: price, Length: 62589, dtype: bool"
      ]
     },
     "execution_count": 44,
     "metadata": {},
     "output_type": "execute_result"
    }
   ],
   "source": [
    "mask_high"
   ]
  },
  {
   "cell_type": "code",
   "execution_count": 45,
   "metadata": {
    "id": "fkYKMI6iVr-f",
    "outputId": "7dfb8da9-cf33-4da2-a8be-fc574b51c072"
   },
   "outputs": [
    {
     "data": {
      "text/html": [
       "<div>\n",
       "<style scoped>\n",
       "    .dataframe tbody tr th:only-of-type {\n",
       "        vertical-align: middle;\n",
       "    }\n",
       "\n",
       "    .dataframe tbody tr th {\n",
       "        vertical-align: top;\n",
       "    }\n",
       "\n",
       "    .dataframe thead th {\n",
       "        text-align: right;\n",
       "    }\n",
       "</style>\n",
       "<table border=\"1\" class=\"dataframe\">\n",
       "  <thead>\n",
       "    <tr style=\"text-align: right;\">\n",
       "      <th></th>\n",
       "      <th>country</th>\n",
       "      <th>description</th>\n",
       "      <th>designation</th>\n",
       "      <th>points</th>\n",
       "      <th>price</th>\n",
       "      <th>province</th>\n",
       "      <th>region_1</th>\n",
       "      <th>region_2</th>\n",
       "      <th>taster_name</th>\n",
       "      <th>taster_twitter_handle</th>\n",
       "      <th>title</th>\n",
       "      <th>variety</th>\n",
       "      <th>winery</th>\n",
       "    </tr>\n",
       "  </thead>\n",
       "  <tbody>\n",
       "    <tr>\n",
       "      <th>60</th>\n",
       "      <td>US</td>\n",
       "      <td>Syrupy and dense, this wine is jammy in plum a...</td>\n",
       "      <td>Estate</td>\n",
       "      <td>86</td>\n",
       "      <td>100.0</td>\n",
       "      <td>California</td>\n",
       "      <td>Napa Valley</td>\n",
       "      <td>Napa</td>\n",
       "      <td>Virginie Boone</td>\n",
       "      <td>@vboone</td>\n",
       "      <td>Okapi 2013 Estate Cabernet Sauvignon (Napa Val...</td>\n",
       "      <td>Cabernet Sauvignon</td>\n",
       "      <td>Okapi</td>\n",
       "    </tr>\n",
       "    <tr>\n",
       "      <th>111</th>\n",
       "      <td>US</td>\n",
       "      <td>This 100% varietal wine opens in a heady aroma...</td>\n",
       "      <td>Wolff Vineyard</td>\n",
       "      <td>87</td>\n",
       "      <td>85.0</td>\n",
       "      <td>California</td>\n",
       "      <td>Yountville</td>\n",
       "      <td>Napa</td>\n",
       "      <td>Virginie Boone</td>\n",
       "      <td>@vboone</td>\n",
       "      <td>Piña 2013 Wolff Vineyard Cabernet Sauvignon (Y...</td>\n",
       "      <td>Cabernet Sauvignon</td>\n",
       "      <td>Piña</td>\n",
       "    </tr>\n",
       "    <tr>\n",
       "      <th>139</th>\n",
       "      <td>France</td>\n",
       "      <td>Beautiful deep gold color. Intense, concentrat...</td>\n",
       "      <td>Cuvée Jerémy Sélection de Grains Nobles</td>\n",
       "      <td>90</td>\n",
       "      <td>112.0</td>\n",
       "      <td>Alsace</td>\n",
       "      <td>Alsace</td>\n",
       "      <td>NaN</td>\n",
       "      <td>NaN</td>\n",
       "      <td>NaN</td>\n",
       "      <td>Kuentz-Bas 2007 Cuvée Jerémy Sélection de Grai...</td>\n",
       "      <td>Pinot Gris</td>\n",
       "      <td>Kuentz-Bas</td>\n",
       "    </tr>\n",
       "    <tr>\n",
       "      <th>144</th>\n",
       "      <td>US</td>\n",
       "      <td>Thick and brooding, this dark, sweetly tannic ...</td>\n",
       "      <td>K Block</td>\n",
       "      <td>91</td>\n",
       "      <td>85.0</td>\n",
       "      <td>California</td>\n",
       "      <td>Spring Mountain District</td>\n",
       "      <td>Napa</td>\n",
       "      <td>Virginie Boone</td>\n",
       "      <td>@vboone</td>\n",
       "      <td>Terra Valentine 2013 K Block Cabernet Sauvigno...</td>\n",
       "      <td>Cabernet Sauvignon</td>\n",
       "      <td>Terra Valentine</td>\n",
       "    </tr>\n",
       "    <tr>\n",
       "      <th>236</th>\n",
       "      <td>US</td>\n",
       "      <td>Shows rich, firm mountain tannins and well-rip...</td>\n",
       "      <td>Kiss Ridge Vineyard</td>\n",
       "      <td>85</td>\n",
       "      <td>85.0</td>\n",
       "      <td>California</td>\n",
       "      <td>Diamond Mountain District</td>\n",
       "      <td>Napa</td>\n",
       "      <td>NaN</td>\n",
       "      <td>NaN</td>\n",
       "      <td>Meeker 2004 Kiss Ridge Vineyard Cabernet Sauvi...</td>\n",
       "      <td>Cabernet Sauvignon</td>\n",
       "      <td>Meeker</td>\n",
       "    </tr>\n",
       "    <tr>\n",
       "      <th>...</th>\n",
       "      <td>...</td>\n",
       "      <td>...</td>\n",
       "      <td>...</td>\n",
       "      <td>...</td>\n",
       "      <td>...</td>\n",
       "      <td>...</td>\n",
       "      <td>...</td>\n",
       "      <td>...</td>\n",
       "      <td>...</td>\n",
       "      <td>...</td>\n",
       "      <td>...</td>\n",
       "      <td>...</td>\n",
       "      <td>...</td>\n",
       "    </tr>\n",
       "    <tr>\n",
       "      <th>65357</th>\n",
       "      <td>France</td>\n",
       "      <td>This most powerful of Grand Cru vineyards has ...</td>\n",
       "      <td>NaN</td>\n",
       "      <td>96</td>\n",
       "      <td>496.0</td>\n",
       "      <td>Burgundy</td>\n",
       "      <td>Chambertin</td>\n",
       "      <td>NaN</td>\n",
       "      <td>Roger Voss</td>\n",
       "      <td>@vossroger</td>\n",
       "      <td>Roche de Bellene 2011  Chambertin</td>\n",
       "      <td>Pinot Noir</td>\n",
       "      <td>Roche de Bellene</td>\n",
       "    </tr>\n",
       "    <tr>\n",
       "      <th>65359</th>\n",
       "      <td>France</td>\n",
       "      <td>Spice and mint dominate this intensely aromati...</td>\n",
       "      <td>NaN</td>\n",
       "      <td>95</td>\n",
       "      <td>295.0</td>\n",
       "      <td>Burgundy</td>\n",
       "      <td>Clos de la Roche</td>\n",
       "      <td>NaN</td>\n",
       "      <td>Roger Voss</td>\n",
       "      <td>@vossroger</td>\n",
       "      <td>Roche de Bellene 2011  Clos de la Roche</td>\n",
       "      <td>Pinot Noir</td>\n",
       "      <td>Roche de Bellene</td>\n",
       "    </tr>\n",
       "    <tr>\n",
       "      <th>65363</th>\n",
       "      <td>France</td>\n",
       "      <td>With just a touch of bottle age giving a toast...</td>\n",
       "      <td>Comtes de Champagne Blanc de Blancs Brut</td>\n",
       "      <td>95</td>\n",
       "      <td>170.0</td>\n",
       "      <td>Champagne</td>\n",
       "      <td>Champagne</td>\n",
       "      <td>NaN</td>\n",
       "      <td>Roger Voss</td>\n",
       "      <td>@vossroger</td>\n",
       "      <td>Taittinger 2005 Comtes de Champagne Blanc de B...</td>\n",
       "      <td>Chardonnay</td>\n",
       "      <td>Taittinger</td>\n",
       "    </tr>\n",
       "    <tr>\n",
       "      <th>65364</th>\n",
       "      <td>France</td>\n",
       "      <td>Rich black fruits are supported by a dark stru...</td>\n",
       "      <td>NaN</td>\n",
       "      <td>95</td>\n",
       "      <td>262.0</td>\n",
       "      <td>Burgundy</td>\n",
       "      <td>Echézeaux</td>\n",
       "      <td>NaN</td>\n",
       "      <td>Roger Voss</td>\n",
       "      <td>@vossroger</td>\n",
       "      <td>Roche de Bellene 2011  Echézeaux</td>\n",
       "      <td>Pinot Noir</td>\n",
       "      <td>Roche de Bellene</td>\n",
       "    </tr>\n",
       "    <tr>\n",
       "      <th>65451</th>\n",
       "      <td>Italy</td>\n",
       "      <td>Reserved at first, this Brunello gradually rev...</td>\n",
       "      <td>Riserva</td>\n",
       "      <td>88</td>\n",
       "      <td>90.0</td>\n",
       "      <td>Tuscany</td>\n",
       "      <td>Brunello di Montalcino</td>\n",
       "      <td>NaN</td>\n",
       "      <td>Kerin O’Keefe</td>\n",
       "      <td>@kerinokeefe</td>\n",
       "      <td>Poggio Nardone 2011 Riserva  (Brunello di Mont...</td>\n",
       "      <td>Sangiovese</td>\n",
       "      <td>Poggio Nardone</td>\n",
       "    </tr>\n",
       "  </tbody>\n",
       "</table>\n",
       "<p>2980 rows × 13 columns</p>\n",
       "</div>"
      ],
      "text/plain": [
       "      country                                        description  \\\n",
       "60         US  Syrupy and dense, this wine is jammy in plum a...   \n",
       "111        US  This 100% varietal wine opens in a heady aroma...   \n",
       "139    France  Beautiful deep gold color. Intense, concentrat...   \n",
       "144        US  Thick and brooding, this dark, sweetly tannic ...   \n",
       "236        US  Shows rich, firm mountain tannins and well-rip...   \n",
       "...       ...                                                ...   \n",
       "65357  France  This most powerful of Grand Cru vineyards has ...   \n",
       "65359  France  Spice and mint dominate this intensely aromati...   \n",
       "65363  France  With just a touch of bottle age giving a toast...   \n",
       "65364  France  Rich black fruits are supported by a dark stru...   \n",
       "65451   Italy  Reserved at first, this Brunello gradually rev...   \n",
       "\n",
       "                                    designation  points  price    province  \\\n",
       "60                                       Estate      86  100.0  California   \n",
       "111                              Wolff Vineyard      87   85.0  California   \n",
       "139     Cuvée Jerémy Sélection de Grains Nobles      90  112.0      Alsace   \n",
       "144                                     K Block      91   85.0  California   \n",
       "236                         Kiss Ridge Vineyard      85   85.0  California   \n",
       "...                                         ...     ...    ...         ...   \n",
       "65357                                       NaN      96  496.0    Burgundy   \n",
       "65359                                       NaN      95  295.0    Burgundy   \n",
       "65363  Comtes de Champagne Blanc de Blancs Brut      95  170.0   Champagne   \n",
       "65364                                       NaN      95  262.0    Burgundy   \n",
       "65451                                   Riserva      88   90.0     Tuscany   \n",
       "\n",
       "                        region_1 region_2     taster_name  \\\n",
       "60                   Napa Valley     Napa  Virginie Boone   \n",
       "111                   Yountville     Napa  Virginie Boone   \n",
       "139                       Alsace      NaN             NaN   \n",
       "144     Spring Mountain District     Napa  Virginie Boone   \n",
       "236    Diamond Mountain District     Napa             NaN   \n",
       "...                          ...      ...             ...   \n",
       "65357                 Chambertin      NaN      Roger Voss   \n",
       "65359           Clos de la Roche      NaN      Roger Voss   \n",
       "65363                  Champagne      NaN      Roger Voss   \n",
       "65364                  Echézeaux      NaN      Roger Voss   \n",
       "65451     Brunello di Montalcino      NaN   Kerin O’Keefe   \n",
       "\n",
       "      taster_twitter_handle  \\\n",
       "60                  @vboone   \n",
       "111                 @vboone   \n",
       "139                     NaN   \n",
       "144                 @vboone   \n",
       "236                     NaN   \n",
       "...                     ...   \n",
       "65357            @vossroger   \n",
       "65359            @vossroger   \n",
       "65363            @vossroger   \n",
       "65364            @vossroger   \n",
       "65451          @kerinokeefe   \n",
       "\n",
       "                                                   title             variety  \\\n",
       "60     Okapi 2013 Estate Cabernet Sauvignon (Napa Val...  Cabernet Sauvignon   \n",
       "111    Piña 2013 Wolff Vineyard Cabernet Sauvignon (Y...  Cabernet Sauvignon   \n",
       "139    Kuentz-Bas 2007 Cuvée Jerémy Sélection de Grai...          Pinot Gris   \n",
       "144    Terra Valentine 2013 K Block Cabernet Sauvigno...  Cabernet Sauvignon   \n",
       "236    Meeker 2004 Kiss Ridge Vineyard Cabernet Sauvi...  Cabernet Sauvignon   \n",
       "...                                                  ...                 ...   \n",
       "65357                  Roche de Bellene 2011  Chambertin          Pinot Noir   \n",
       "65359            Roche de Bellene 2011  Clos de la Roche          Pinot Noir   \n",
       "65363  Taittinger 2005 Comtes de Champagne Blanc de B...          Chardonnay   \n",
       "65364                   Roche de Bellene 2011  Echézeaux          Pinot Noir   \n",
       "65451  Poggio Nardone 2011 Riserva  (Brunello di Mont...          Sangiovese   \n",
       "\n",
       "                 winery  \n",
       "60                Okapi  \n",
       "111                Piña  \n",
       "139          Kuentz-Bas  \n",
       "144     Terra Valentine  \n",
       "236              Meeker  \n",
       "...                 ...  \n",
       "65357  Roche de Bellene  \n",
       "65359  Roche de Bellene  \n",
       "65363        Taittinger  \n",
       "65364  Roche de Bellene  \n",
       "65451    Poggio Nardone  \n",
       "\n",
       "[2980 rows x 13 columns]"
      ]
     },
     "execution_count": 45,
     "metadata": {},
     "output_type": "execute_result"
    }
   ],
   "source": [
    "dataset.loc[mask_high,:]"
   ]
  },
  {
   "cell_type": "markdown",
   "metadata": {
    "id": "AhktIBKXVr-f"
   },
   "source": [
    "Hay que tener mucho cuidado con el filtrado o la corrección de valores extremos. Antes de realizar una modificación en los datos tenemos que estar seguros que esos valores extremos en realidad no sean información valiosa.\n",
    "\n",
    "En el caso de este dataset, lo más probable es que los vinos con precio muy alto sean simplemente vinos de alta gama. De todos modos, el caso de querer corregir valores extremos, podríamos realizarlo del siguiente modo:"
   ]
  },
  {
   "cell_type": "code",
   "execution_count": 46,
   "metadata": {
    "id": "R1mAqvdVVr-f"
   },
   "outputs": [],
   "source": [
    "dataset.loc[mask_high, 'price'] = dataset.loc[mask_high, 'price'].apply(lambda x: (q3 + 1.5 * iqr))"
   ]
  },
  {
   "cell_type": "code",
   "execution_count": 47,
   "metadata": {
    "id": "tyI_w_cRVr-f",
    "outputId": "f5e58744-5c98-4bef-a440-c54dd1650d25"
   },
   "outputs": [
    {
     "data": {
      "text/plain": [
       "84.17943548387096"
      ]
     },
     "execution_count": 47,
     "metadata": {},
     "output_type": "execute_result"
    }
   ],
   "source": [
    "dataset['price'].max()"
   ]
  },
  {
   "cell_type": "markdown",
   "metadata": {
    "id": "KHEI3LtHVr-g"
   },
   "source": [
    "Otro criterio que podríamos usar para detectar valores extremos es buscar valores que están a más de 3 desvíos estándar de la media. "
   ]
  },
  {
   "cell_type": "markdown",
   "metadata": {
    "id": "DUmZM3oMVr-g"
   },
   "source": [
    "### 2) Variables categóricas \n",
    "\n",
    "\n",
    "La forma más común de representar las variables categóricas es el uso de la codificación $one-hot-encoding$ también conocida como `variables dummy`. La idea detrás de las variables ficticias es reemplazar una variable categórica con una o más nuevas características que pueden tener los valores 0 y 1. \n",
    "\n",
    "Veamos un ejemplo tomado del manual de Andreas C. Müller and Sarah Guido:\n",
    "\n",
    "<img src=\"img/one_hot.png\" width=\"350\">\n"
   ]
  },
  {
   "cell_type": "markdown",
   "metadata": {
    "id": "sJCH0wYrVr-g"
   },
   "source": [
    "`Pandas` cuenta con el método `pd.get_dummies()` que recibe una serie o una lista de series y realiza el one-hot-encoding.\n",
    "\n",
    "Recordemos que una variable con `k` categorías se puede representar con `k-1` variables.\n",
    "\n",
    "Por eso un parámetro clave de `pd.get_dummies()` es `drop_first = True` que genera `k-1` categorías en lugar de `k`. "
   ]
  },
  {
   "cell_type": "code",
   "execution_count": 48,
   "metadata": {
    "id": "dJXlzFdHVr-g",
    "outputId": "48a3ac16-e019-4a85-a814-9fbdaf4c0492"
   },
   "outputs": [
    {
     "data": {
      "text/html": [
       "<div>\n",
       "<style scoped>\n",
       "    .dataframe tbody tr th:only-of-type {\n",
       "        vertical-align: middle;\n",
       "    }\n",
       "\n",
       "    .dataframe tbody tr th {\n",
       "        vertical-align: top;\n",
       "    }\n",
       "\n",
       "    .dataframe thead th {\n",
       "        text-align: right;\n",
       "    }\n",
       "</style>\n",
       "<table border=\"1\" class=\"dataframe\">\n",
       "  <thead>\n",
       "    <tr style=\"text-align: right;\">\n",
       "      <th></th>\n",
       "      <th>Argentina</th>\n",
       "      <th>Armenia</th>\n",
       "      <th>Australia</th>\n",
       "      <th>Austria</th>\n",
       "      <th>Bosnia and Herzegovina</th>\n",
       "      <th>Brazil</th>\n",
       "      <th>Bulgaria</th>\n",
       "      <th>Canada</th>\n",
       "      <th>Chile</th>\n",
       "      <th>Croatia</th>\n",
       "      <th>...</th>\n",
       "      <th>Serbia</th>\n",
       "      <th>Slovakia</th>\n",
       "      <th>Slovenia</th>\n",
       "      <th>South Africa</th>\n",
       "      <th>Spain</th>\n",
       "      <th>Switzerland</th>\n",
       "      <th>Turkey</th>\n",
       "      <th>US</th>\n",
       "      <th>Ukraine</th>\n",
       "      <th>Uruguay</th>\n",
       "    </tr>\n",
       "  </thead>\n",
       "  <tbody>\n",
       "    <tr>\n",
       "      <th>0</th>\n",
       "      <td>False</td>\n",
       "      <td>False</td>\n",
       "      <td>False</td>\n",
       "      <td>False</td>\n",
       "      <td>False</td>\n",
       "      <td>False</td>\n",
       "      <td>False</td>\n",
       "      <td>False</td>\n",
       "      <td>False</td>\n",
       "      <td>False</td>\n",
       "      <td>...</td>\n",
       "      <td>False</td>\n",
       "      <td>False</td>\n",
       "      <td>False</td>\n",
       "      <td>False</td>\n",
       "      <td>False</td>\n",
       "      <td>False</td>\n",
       "      <td>False</td>\n",
       "      <td>False</td>\n",
       "      <td>False</td>\n",
       "      <td>False</td>\n",
       "    </tr>\n",
       "    <tr>\n",
       "      <th>1</th>\n",
       "      <td>False</td>\n",
       "      <td>False</td>\n",
       "      <td>False</td>\n",
       "      <td>False</td>\n",
       "      <td>False</td>\n",
       "      <td>False</td>\n",
       "      <td>False</td>\n",
       "      <td>False</td>\n",
       "      <td>False</td>\n",
       "      <td>False</td>\n",
       "      <td>...</td>\n",
       "      <td>False</td>\n",
       "      <td>False</td>\n",
       "      <td>False</td>\n",
       "      <td>False</td>\n",
       "      <td>False</td>\n",
       "      <td>False</td>\n",
       "      <td>False</td>\n",
       "      <td>False</td>\n",
       "      <td>False</td>\n",
       "      <td>False</td>\n",
       "    </tr>\n",
       "    <tr>\n",
       "      <th>2</th>\n",
       "      <td>False</td>\n",
       "      <td>False</td>\n",
       "      <td>False</td>\n",
       "      <td>False</td>\n",
       "      <td>False</td>\n",
       "      <td>False</td>\n",
       "      <td>False</td>\n",
       "      <td>False</td>\n",
       "      <td>False</td>\n",
       "      <td>False</td>\n",
       "      <td>...</td>\n",
       "      <td>False</td>\n",
       "      <td>False</td>\n",
       "      <td>False</td>\n",
       "      <td>False</td>\n",
       "      <td>False</td>\n",
       "      <td>False</td>\n",
       "      <td>False</td>\n",
       "      <td>True</td>\n",
       "      <td>False</td>\n",
       "      <td>False</td>\n",
       "    </tr>\n",
       "    <tr>\n",
       "      <th>3</th>\n",
       "      <td>False</td>\n",
       "      <td>False</td>\n",
       "      <td>False</td>\n",
       "      <td>False</td>\n",
       "      <td>False</td>\n",
       "      <td>False</td>\n",
       "      <td>False</td>\n",
       "      <td>False</td>\n",
       "      <td>False</td>\n",
       "      <td>False</td>\n",
       "      <td>...</td>\n",
       "      <td>False</td>\n",
       "      <td>False</td>\n",
       "      <td>False</td>\n",
       "      <td>False</td>\n",
       "      <td>False</td>\n",
       "      <td>False</td>\n",
       "      <td>False</td>\n",
       "      <td>True</td>\n",
       "      <td>False</td>\n",
       "      <td>False</td>\n",
       "    </tr>\n",
       "    <tr>\n",
       "      <th>4</th>\n",
       "      <td>False</td>\n",
       "      <td>False</td>\n",
       "      <td>False</td>\n",
       "      <td>False</td>\n",
       "      <td>False</td>\n",
       "      <td>False</td>\n",
       "      <td>False</td>\n",
       "      <td>False</td>\n",
       "      <td>False</td>\n",
       "      <td>False</td>\n",
       "      <td>...</td>\n",
       "      <td>False</td>\n",
       "      <td>False</td>\n",
       "      <td>False</td>\n",
       "      <td>False</td>\n",
       "      <td>False</td>\n",
       "      <td>False</td>\n",
       "      <td>False</td>\n",
       "      <td>True</td>\n",
       "      <td>False</td>\n",
       "      <td>False</td>\n",
       "    </tr>\n",
       "    <tr>\n",
       "      <th>...</th>\n",
       "      <td>...</td>\n",
       "      <td>...</td>\n",
       "      <td>...</td>\n",
       "      <td>...</td>\n",
       "      <td>...</td>\n",
       "      <td>...</td>\n",
       "      <td>...</td>\n",
       "      <td>...</td>\n",
       "      <td>...</td>\n",
       "      <td>...</td>\n",
       "      <td>...</td>\n",
       "      <td>...</td>\n",
       "      <td>...</td>\n",
       "      <td>...</td>\n",
       "      <td>...</td>\n",
       "      <td>...</td>\n",
       "      <td>...</td>\n",
       "      <td>...</td>\n",
       "      <td>...</td>\n",
       "      <td>...</td>\n",
       "      <td>...</td>\n",
       "    </tr>\n",
       "    <tr>\n",
       "      <th>65494</th>\n",
       "      <td>False</td>\n",
       "      <td>False</td>\n",
       "      <td>False</td>\n",
       "      <td>False</td>\n",
       "      <td>False</td>\n",
       "      <td>False</td>\n",
       "      <td>False</td>\n",
       "      <td>False</td>\n",
       "      <td>False</td>\n",
       "      <td>False</td>\n",
       "      <td>...</td>\n",
       "      <td>False</td>\n",
       "      <td>False</td>\n",
       "      <td>False</td>\n",
       "      <td>False</td>\n",
       "      <td>False</td>\n",
       "      <td>False</td>\n",
       "      <td>False</td>\n",
       "      <td>False</td>\n",
       "      <td>False</td>\n",
       "      <td>False</td>\n",
       "    </tr>\n",
       "    <tr>\n",
       "      <th>65495</th>\n",
       "      <td>False</td>\n",
       "      <td>False</td>\n",
       "      <td>True</td>\n",
       "      <td>False</td>\n",
       "      <td>False</td>\n",
       "      <td>False</td>\n",
       "      <td>False</td>\n",
       "      <td>False</td>\n",
       "      <td>False</td>\n",
       "      <td>False</td>\n",
       "      <td>...</td>\n",
       "      <td>False</td>\n",
       "      <td>False</td>\n",
       "      <td>False</td>\n",
       "      <td>False</td>\n",
       "      <td>False</td>\n",
       "      <td>False</td>\n",
       "      <td>False</td>\n",
       "      <td>False</td>\n",
       "      <td>False</td>\n",
       "      <td>False</td>\n",
       "    </tr>\n",
       "    <tr>\n",
       "      <th>65496</th>\n",
       "      <td>False</td>\n",
       "      <td>False</td>\n",
       "      <td>False</td>\n",
       "      <td>False</td>\n",
       "      <td>False</td>\n",
       "      <td>False</td>\n",
       "      <td>False</td>\n",
       "      <td>False</td>\n",
       "      <td>False</td>\n",
       "      <td>False</td>\n",
       "      <td>...</td>\n",
       "      <td>False</td>\n",
       "      <td>False</td>\n",
       "      <td>False</td>\n",
       "      <td>False</td>\n",
       "      <td>False</td>\n",
       "      <td>False</td>\n",
       "      <td>False</td>\n",
       "      <td>True</td>\n",
       "      <td>False</td>\n",
       "      <td>False</td>\n",
       "    </tr>\n",
       "    <tr>\n",
       "      <th>65497</th>\n",
       "      <td>False</td>\n",
       "      <td>False</td>\n",
       "      <td>False</td>\n",
       "      <td>False</td>\n",
       "      <td>False</td>\n",
       "      <td>False</td>\n",
       "      <td>False</td>\n",
       "      <td>False</td>\n",
       "      <td>False</td>\n",
       "      <td>False</td>\n",
       "      <td>...</td>\n",
       "      <td>False</td>\n",
       "      <td>False</td>\n",
       "      <td>False</td>\n",
       "      <td>False</td>\n",
       "      <td>False</td>\n",
       "      <td>False</td>\n",
       "      <td>False</td>\n",
       "      <td>True</td>\n",
       "      <td>False</td>\n",
       "      <td>False</td>\n",
       "    </tr>\n",
       "    <tr>\n",
       "      <th>65498</th>\n",
       "      <td>False</td>\n",
       "      <td>False</td>\n",
       "      <td>False</td>\n",
       "      <td>False</td>\n",
       "      <td>False</td>\n",
       "      <td>False</td>\n",
       "      <td>False</td>\n",
       "      <td>False</td>\n",
       "      <td>False</td>\n",
       "      <td>False</td>\n",
       "      <td>...</td>\n",
       "      <td>False</td>\n",
       "      <td>False</td>\n",
       "      <td>False</td>\n",
       "      <td>False</td>\n",
       "      <td>True</td>\n",
       "      <td>False</td>\n",
       "      <td>False</td>\n",
       "      <td>False</td>\n",
       "      <td>False</td>\n",
       "      <td>False</td>\n",
       "    </tr>\n",
       "  </tbody>\n",
       "</table>\n",
       "<p>62589 rows × 41 columns</p>\n",
       "</div>"
      ],
      "text/plain": [
       "       Argentina  Armenia  Australia  Austria  Bosnia and Herzegovina  Brazil  \\\n",
       "0          False    False      False    False                   False   False   \n",
       "1          False    False      False    False                   False   False   \n",
       "2          False    False      False    False                   False   False   \n",
       "3          False    False      False    False                   False   False   \n",
       "4          False    False      False    False                   False   False   \n",
       "...          ...      ...        ...      ...                     ...     ...   \n",
       "65494      False    False      False    False                   False   False   \n",
       "65495      False    False       True    False                   False   False   \n",
       "65496      False    False      False    False                   False   False   \n",
       "65497      False    False      False    False                   False   False   \n",
       "65498      False    False      False    False                   False   False   \n",
       "\n",
       "       Bulgaria  Canada  Chile  Croatia  ...  Serbia  Slovakia  Slovenia  \\\n",
       "0         False   False  False    False  ...   False     False     False   \n",
       "1         False   False  False    False  ...   False     False     False   \n",
       "2         False   False  False    False  ...   False     False     False   \n",
       "3         False   False  False    False  ...   False     False     False   \n",
       "4         False   False  False    False  ...   False     False     False   \n",
       "...         ...     ...    ...      ...  ...     ...       ...       ...   \n",
       "65494     False   False  False    False  ...   False     False     False   \n",
       "65495     False   False  False    False  ...   False     False     False   \n",
       "65496     False   False  False    False  ...   False     False     False   \n",
       "65497     False   False  False    False  ...   False     False     False   \n",
       "65498     False   False  False    False  ...   False     False     False   \n",
       "\n",
       "       South Africa  Spain  Switzerland  Turkey     US  Ukraine  Uruguay  \n",
       "0             False  False        False   False  False    False    False  \n",
       "1             False  False        False   False  False    False    False  \n",
       "2             False  False        False   False   True    False    False  \n",
       "3             False  False        False   False   True    False    False  \n",
       "4             False  False        False   False   True    False    False  \n",
       "...             ...    ...          ...     ...    ...      ...      ...  \n",
       "65494         False  False        False   False  False    False    False  \n",
       "65495         False  False        False   False  False    False    False  \n",
       "65496         False  False        False   False   True    False    False  \n",
       "65497         False  False        False   False   True    False    False  \n",
       "65498         False   True        False   False  False    False    False  \n",
       "\n",
       "[62589 rows x 41 columns]"
      ]
     },
     "execution_count": 48,
     "metadata": {},
     "output_type": "execute_result"
    }
   ],
   "source": [
    "pd.get_dummies(dataset['country'])"
   ]
  },
  {
   "cell_type": "markdown",
   "metadata": {
    "id": "7olnBWCzVr-g"
   },
   "source": [
    "Podemos agregar un prefijo para identificar la categoría:"
   ]
  },
  {
   "cell_type": "markdown",
   "metadata": {
    "id": "1dx_l9R9Vr-g"
   },
   "source": [
    "El método `pd.get_dummies()` genera como output un `DataFrame`. Vamos a almacenar este objeto en la variable `dummies`. Vamos a pasar también el argumento `drop_first=True`."
   ]
  },
  {
   "cell_type": "code",
   "execution_count": 49,
   "metadata": {
    "id": "hN0Y4QDnVr-g",
    "outputId": "bb620cc7-8f15-447e-aa06-cd4107c34bae"
   },
   "outputs": [
    {
     "data": {
      "text/html": [
       "<div>\n",
       "<style scoped>\n",
       "    .dataframe tbody tr th:only-of-type {\n",
       "        vertical-align: middle;\n",
       "    }\n",
       "\n",
       "    .dataframe tbody tr th {\n",
       "        vertical-align: top;\n",
       "    }\n",
       "\n",
       "    .dataframe thead th {\n",
       "        text-align: right;\n",
       "    }\n",
       "</style>\n",
       "<table border=\"1\" class=\"dataframe\">\n",
       "  <thead>\n",
       "    <tr style=\"text-align: right;\">\n",
       "      <th></th>\n",
       "      <th>country_Armenia</th>\n",
       "      <th>country_Australia</th>\n",
       "      <th>country_Austria</th>\n",
       "      <th>country_Bosnia and Herzegovina</th>\n",
       "      <th>country_Brazil</th>\n",
       "      <th>country_Bulgaria</th>\n",
       "      <th>country_Canada</th>\n",
       "      <th>country_Chile</th>\n",
       "      <th>country_Croatia</th>\n",
       "      <th>country_Cyprus</th>\n",
       "      <th>...</th>\n",
       "      <th>country_Serbia</th>\n",
       "      <th>country_Slovakia</th>\n",
       "      <th>country_Slovenia</th>\n",
       "      <th>country_South Africa</th>\n",
       "      <th>country_Spain</th>\n",
       "      <th>country_Switzerland</th>\n",
       "      <th>country_Turkey</th>\n",
       "      <th>country_US</th>\n",
       "      <th>country_Ukraine</th>\n",
       "      <th>country_Uruguay</th>\n",
       "    </tr>\n",
       "  </thead>\n",
       "  <tbody>\n",
       "    <tr>\n",
       "      <th>0</th>\n",
       "      <td>False</td>\n",
       "      <td>False</td>\n",
       "      <td>False</td>\n",
       "      <td>False</td>\n",
       "      <td>False</td>\n",
       "      <td>False</td>\n",
       "      <td>False</td>\n",
       "      <td>False</td>\n",
       "      <td>False</td>\n",
       "      <td>False</td>\n",
       "      <td>...</td>\n",
       "      <td>False</td>\n",
       "      <td>False</td>\n",
       "      <td>False</td>\n",
       "      <td>False</td>\n",
       "      <td>False</td>\n",
       "      <td>False</td>\n",
       "      <td>False</td>\n",
       "      <td>False</td>\n",
       "      <td>False</td>\n",
       "      <td>False</td>\n",
       "    </tr>\n",
       "    <tr>\n",
       "      <th>1</th>\n",
       "      <td>False</td>\n",
       "      <td>False</td>\n",
       "      <td>False</td>\n",
       "      <td>False</td>\n",
       "      <td>False</td>\n",
       "      <td>False</td>\n",
       "      <td>False</td>\n",
       "      <td>False</td>\n",
       "      <td>False</td>\n",
       "      <td>False</td>\n",
       "      <td>...</td>\n",
       "      <td>False</td>\n",
       "      <td>False</td>\n",
       "      <td>False</td>\n",
       "      <td>False</td>\n",
       "      <td>False</td>\n",
       "      <td>False</td>\n",
       "      <td>False</td>\n",
       "      <td>False</td>\n",
       "      <td>False</td>\n",
       "      <td>False</td>\n",
       "    </tr>\n",
       "    <tr>\n",
       "      <th>2</th>\n",
       "      <td>False</td>\n",
       "      <td>False</td>\n",
       "      <td>False</td>\n",
       "      <td>False</td>\n",
       "      <td>False</td>\n",
       "      <td>False</td>\n",
       "      <td>False</td>\n",
       "      <td>False</td>\n",
       "      <td>False</td>\n",
       "      <td>False</td>\n",
       "      <td>...</td>\n",
       "      <td>False</td>\n",
       "      <td>False</td>\n",
       "      <td>False</td>\n",
       "      <td>False</td>\n",
       "      <td>False</td>\n",
       "      <td>False</td>\n",
       "      <td>False</td>\n",
       "      <td>True</td>\n",
       "      <td>False</td>\n",
       "      <td>False</td>\n",
       "    </tr>\n",
       "    <tr>\n",
       "      <th>3</th>\n",
       "      <td>False</td>\n",
       "      <td>False</td>\n",
       "      <td>False</td>\n",
       "      <td>False</td>\n",
       "      <td>False</td>\n",
       "      <td>False</td>\n",
       "      <td>False</td>\n",
       "      <td>False</td>\n",
       "      <td>False</td>\n",
       "      <td>False</td>\n",
       "      <td>...</td>\n",
       "      <td>False</td>\n",
       "      <td>False</td>\n",
       "      <td>False</td>\n",
       "      <td>False</td>\n",
       "      <td>False</td>\n",
       "      <td>False</td>\n",
       "      <td>False</td>\n",
       "      <td>True</td>\n",
       "      <td>False</td>\n",
       "      <td>False</td>\n",
       "    </tr>\n",
       "    <tr>\n",
       "      <th>4</th>\n",
       "      <td>False</td>\n",
       "      <td>False</td>\n",
       "      <td>False</td>\n",
       "      <td>False</td>\n",
       "      <td>False</td>\n",
       "      <td>False</td>\n",
       "      <td>False</td>\n",
       "      <td>False</td>\n",
       "      <td>False</td>\n",
       "      <td>False</td>\n",
       "      <td>...</td>\n",
       "      <td>False</td>\n",
       "      <td>False</td>\n",
       "      <td>False</td>\n",
       "      <td>False</td>\n",
       "      <td>False</td>\n",
       "      <td>False</td>\n",
       "      <td>False</td>\n",
       "      <td>True</td>\n",
       "      <td>False</td>\n",
       "      <td>False</td>\n",
       "    </tr>\n",
       "    <tr>\n",
       "      <th>...</th>\n",
       "      <td>...</td>\n",
       "      <td>...</td>\n",
       "      <td>...</td>\n",
       "      <td>...</td>\n",
       "      <td>...</td>\n",
       "      <td>...</td>\n",
       "      <td>...</td>\n",
       "      <td>...</td>\n",
       "      <td>...</td>\n",
       "      <td>...</td>\n",
       "      <td>...</td>\n",
       "      <td>...</td>\n",
       "      <td>...</td>\n",
       "      <td>...</td>\n",
       "      <td>...</td>\n",
       "      <td>...</td>\n",
       "      <td>...</td>\n",
       "      <td>...</td>\n",
       "      <td>...</td>\n",
       "      <td>...</td>\n",
       "      <td>...</td>\n",
       "    </tr>\n",
       "    <tr>\n",
       "      <th>65494</th>\n",
       "      <td>False</td>\n",
       "      <td>False</td>\n",
       "      <td>False</td>\n",
       "      <td>False</td>\n",
       "      <td>False</td>\n",
       "      <td>False</td>\n",
       "      <td>False</td>\n",
       "      <td>False</td>\n",
       "      <td>False</td>\n",
       "      <td>False</td>\n",
       "      <td>...</td>\n",
       "      <td>False</td>\n",
       "      <td>False</td>\n",
       "      <td>False</td>\n",
       "      <td>False</td>\n",
       "      <td>False</td>\n",
       "      <td>False</td>\n",
       "      <td>False</td>\n",
       "      <td>False</td>\n",
       "      <td>False</td>\n",
       "      <td>False</td>\n",
       "    </tr>\n",
       "    <tr>\n",
       "      <th>65495</th>\n",
       "      <td>False</td>\n",
       "      <td>True</td>\n",
       "      <td>False</td>\n",
       "      <td>False</td>\n",
       "      <td>False</td>\n",
       "      <td>False</td>\n",
       "      <td>False</td>\n",
       "      <td>False</td>\n",
       "      <td>False</td>\n",
       "      <td>False</td>\n",
       "      <td>...</td>\n",
       "      <td>False</td>\n",
       "      <td>False</td>\n",
       "      <td>False</td>\n",
       "      <td>False</td>\n",
       "      <td>False</td>\n",
       "      <td>False</td>\n",
       "      <td>False</td>\n",
       "      <td>False</td>\n",
       "      <td>False</td>\n",
       "      <td>False</td>\n",
       "    </tr>\n",
       "    <tr>\n",
       "      <th>65496</th>\n",
       "      <td>False</td>\n",
       "      <td>False</td>\n",
       "      <td>False</td>\n",
       "      <td>False</td>\n",
       "      <td>False</td>\n",
       "      <td>False</td>\n",
       "      <td>False</td>\n",
       "      <td>False</td>\n",
       "      <td>False</td>\n",
       "      <td>False</td>\n",
       "      <td>...</td>\n",
       "      <td>False</td>\n",
       "      <td>False</td>\n",
       "      <td>False</td>\n",
       "      <td>False</td>\n",
       "      <td>False</td>\n",
       "      <td>False</td>\n",
       "      <td>False</td>\n",
       "      <td>True</td>\n",
       "      <td>False</td>\n",
       "      <td>False</td>\n",
       "    </tr>\n",
       "    <tr>\n",
       "      <th>65497</th>\n",
       "      <td>False</td>\n",
       "      <td>False</td>\n",
       "      <td>False</td>\n",
       "      <td>False</td>\n",
       "      <td>False</td>\n",
       "      <td>False</td>\n",
       "      <td>False</td>\n",
       "      <td>False</td>\n",
       "      <td>False</td>\n",
       "      <td>False</td>\n",
       "      <td>...</td>\n",
       "      <td>False</td>\n",
       "      <td>False</td>\n",
       "      <td>False</td>\n",
       "      <td>False</td>\n",
       "      <td>False</td>\n",
       "      <td>False</td>\n",
       "      <td>False</td>\n",
       "      <td>True</td>\n",
       "      <td>False</td>\n",
       "      <td>False</td>\n",
       "    </tr>\n",
       "    <tr>\n",
       "      <th>65498</th>\n",
       "      <td>False</td>\n",
       "      <td>False</td>\n",
       "      <td>False</td>\n",
       "      <td>False</td>\n",
       "      <td>False</td>\n",
       "      <td>False</td>\n",
       "      <td>False</td>\n",
       "      <td>False</td>\n",
       "      <td>False</td>\n",
       "      <td>False</td>\n",
       "      <td>...</td>\n",
       "      <td>False</td>\n",
       "      <td>False</td>\n",
       "      <td>False</td>\n",
       "      <td>False</td>\n",
       "      <td>True</td>\n",
       "      <td>False</td>\n",
       "      <td>False</td>\n",
       "      <td>False</td>\n",
       "      <td>False</td>\n",
       "      <td>False</td>\n",
       "    </tr>\n",
       "  </tbody>\n",
       "</table>\n",
       "<p>62589 rows × 40 columns</p>\n",
       "</div>"
      ],
      "text/plain": [
       "       country_Armenia  country_Australia  country_Austria  \\\n",
       "0                False              False            False   \n",
       "1                False              False            False   \n",
       "2                False              False            False   \n",
       "3                False              False            False   \n",
       "4                False              False            False   \n",
       "...                ...                ...              ...   \n",
       "65494            False              False            False   \n",
       "65495            False               True            False   \n",
       "65496            False              False            False   \n",
       "65497            False              False            False   \n",
       "65498            False              False            False   \n",
       "\n",
       "       country_Bosnia and Herzegovina  country_Brazil  country_Bulgaria  \\\n",
       "0                               False           False             False   \n",
       "1                               False           False             False   \n",
       "2                               False           False             False   \n",
       "3                               False           False             False   \n",
       "4                               False           False             False   \n",
       "...                               ...             ...               ...   \n",
       "65494                           False           False             False   \n",
       "65495                           False           False             False   \n",
       "65496                           False           False             False   \n",
       "65497                           False           False             False   \n",
       "65498                           False           False             False   \n",
       "\n",
       "       country_Canada  country_Chile  country_Croatia  country_Cyprus  ...  \\\n",
       "0               False          False            False           False  ...   \n",
       "1               False          False            False           False  ...   \n",
       "2               False          False            False           False  ...   \n",
       "3               False          False            False           False  ...   \n",
       "4               False          False            False           False  ...   \n",
       "...               ...            ...              ...             ...  ...   \n",
       "65494           False          False            False           False  ...   \n",
       "65495           False          False            False           False  ...   \n",
       "65496           False          False            False           False  ...   \n",
       "65497           False          False            False           False  ...   \n",
       "65498           False          False            False           False  ...   \n",
       "\n",
       "       country_Serbia  country_Slovakia  country_Slovenia  \\\n",
       "0               False             False             False   \n",
       "1               False             False             False   \n",
       "2               False             False             False   \n",
       "3               False             False             False   \n",
       "4               False             False             False   \n",
       "...               ...               ...               ...   \n",
       "65494           False             False             False   \n",
       "65495           False             False             False   \n",
       "65496           False             False             False   \n",
       "65497           False             False             False   \n",
       "65498           False             False             False   \n",
       "\n",
       "       country_South Africa  country_Spain  country_Switzerland  \\\n",
       "0                     False          False                False   \n",
       "1                     False          False                False   \n",
       "2                     False          False                False   \n",
       "3                     False          False                False   \n",
       "4                     False          False                False   \n",
       "...                     ...            ...                  ...   \n",
       "65494                 False          False                False   \n",
       "65495                 False          False                False   \n",
       "65496                 False          False                False   \n",
       "65497                 False          False                False   \n",
       "65498                 False           True                False   \n",
       "\n",
       "       country_Turkey  country_US  country_Ukraine  country_Uruguay  \n",
       "0               False       False            False            False  \n",
       "1               False       False            False            False  \n",
       "2               False        True            False            False  \n",
       "3               False        True            False            False  \n",
       "4               False        True            False            False  \n",
       "...               ...         ...              ...              ...  \n",
       "65494           False       False            False            False  \n",
       "65495           False       False            False            False  \n",
       "65496           False        True            False            False  \n",
       "65497           False        True            False            False  \n",
       "65498           False       False            False            False  \n",
       "\n",
       "[62589 rows x 40 columns]"
      ]
     },
     "execution_count": 49,
     "metadata": {},
     "output_type": "execute_result"
    }
   ],
   "source": [
    "dummies = pd.get_dummies(dataset['country'], prefix='country', \\\n",
    "                         drop_first=True)\n",
    "dummies"
   ]
  },
  {
   "cell_type": "markdown",
   "metadata": {
    "id": "dZzOTY0bVr-g"
   },
   "source": [
    "Podemos generar un dataset con dummies directamente pasando un `DataFrame` con las variables numéricas y las categoricas. `Pandas` va a ignorar las variables numéricas. Además, por ejecutar la función sobre un `DataFrame`, `Pandas` va a agregar automáticamente el prefijo usando el nombre de la columna."
   ]
  },
  {
   "cell_type": "code",
   "execution_count": 50,
   "metadata": {
    "id": "DOC5GGL7Vr-g",
    "outputId": "3fada258-47f4-4194-9a6b-143804ab3e4f"
   },
   "outputs": [
    {
     "data": {
      "text/html": [
       "<div>\n",
       "<style scoped>\n",
       "    .dataframe tbody tr th:only-of-type {\n",
       "        vertical-align: middle;\n",
       "    }\n",
       "\n",
       "    .dataframe tbody tr th {\n",
       "        vertical-align: top;\n",
       "    }\n",
       "\n",
       "    .dataframe thead th {\n",
       "        text-align: right;\n",
       "    }\n",
       "</style>\n",
       "<table border=\"1\" class=\"dataframe\">\n",
       "  <thead>\n",
       "    <tr style=\"text-align: right;\">\n",
       "      <th></th>\n",
       "      <th>price</th>\n",
       "      <th>points</th>\n",
       "      <th>province_Aconcagua Costa</th>\n",
       "      <th>province_Aconcagua Valley</th>\n",
       "      <th>province_Aegean</th>\n",
       "      <th>province_Agioritikos</th>\n",
       "      <th>province_Ahr</th>\n",
       "      <th>province_Alenquer</th>\n",
       "      <th>province_Alentejano</th>\n",
       "      <th>province_Alentejo</th>\n",
       "      <th>...</th>\n",
       "      <th>country_Serbia</th>\n",
       "      <th>country_Slovakia</th>\n",
       "      <th>country_Slovenia</th>\n",
       "      <th>country_South Africa</th>\n",
       "      <th>country_Spain</th>\n",
       "      <th>country_Switzerland</th>\n",
       "      <th>country_Turkey</th>\n",
       "      <th>country_US</th>\n",
       "      <th>country_Ukraine</th>\n",
       "      <th>country_Uruguay</th>\n",
       "    </tr>\n",
       "  </thead>\n",
       "  <tbody>\n",
       "    <tr>\n",
       "      <th>0</th>\n",
       "      <td>22.677998</td>\n",
       "      <td>87</td>\n",
       "      <td>False</td>\n",
       "      <td>False</td>\n",
       "      <td>False</td>\n",
       "      <td>False</td>\n",
       "      <td>False</td>\n",
       "      <td>False</td>\n",
       "      <td>False</td>\n",
       "      <td>False</td>\n",
       "      <td>...</td>\n",
       "      <td>False</td>\n",
       "      <td>False</td>\n",
       "      <td>False</td>\n",
       "      <td>False</td>\n",
       "      <td>False</td>\n",
       "      <td>False</td>\n",
       "      <td>False</td>\n",
       "      <td>False</td>\n",
       "      <td>False</td>\n",
       "      <td>False</td>\n",
       "    </tr>\n",
       "    <tr>\n",
       "      <th>1</th>\n",
       "      <td>15.000000</td>\n",
       "      <td>87</td>\n",
       "      <td>False</td>\n",
       "      <td>False</td>\n",
       "      <td>False</td>\n",
       "      <td>False</td>\n",
       "      <td>False</td>\n",
       "      <td>False</td>\n",
       "      <td>False</td>\n",
       "      <td>False</td>\n",
       "      <td>...</td>\n",
       "      <td>False</td>\n",
       "      <td>False</td>\n",
       "      <td>False</td>\n",
       "      <td>False</td>\n",
       "      <td>False</td>\n",
       "      <td>False</td>\n",
       "      <td>False</td>\n",
       "      <td>False</td>\n",
       "      <td>False</td>\n",
       "      <td>False</td>\n",
       "    </tr>\n",
       "    <tr>\n",
       "      <th>2</th>\n",
       "      <td>14.000000</td>\n",
       "      <td>87</td>\n",
       "      <td>False</td>\n",
       "      <td>False</td>\n",
       "      <td>False</td>\n",
       "      <td>False</td>\n",
       "      <td>False</td>\n",
       "      <td>False</td>\n",
       "      <td>False</td>\n",
       "      <td>False</td>\n",
       "      <td>...</td>\n",
       "      <td>False</td>\n",
       "      <td>False</td>\n",
       "      <td>False</td>\n",
       "      <td>False</td>\n",
       "      <td>False</td>\n",
       "      <td>False</td>\n",
       "      <td>False</td>\n",
       "      <td>True</td>\n",
       "      <td>False</td>\n",
       "      <td>False</td>\n",
       "    </tr>\n",
       "    <tr>\n",
       "      <th>3</th>\n",
       "      <td>13.000000</td>\n",
       "      <td>87</td>\n",
       "      <td>False</td>\n",
       "      <td>False</td>\n",
       "      <td>False</td>\n",
       "      <td>False</td>\n",
       "      <td>False</td>\n",
       "      <td>False</td>\n",
       "      <td>False</td>\n",
       "      <td>False</td>\n",
       "      <td>...</td>\n",
       "      <td>False</td>\n",
       "      <td>False</td>\n",
       "      <td>False</td>\n",
       "      <td>False</td>\n",
       "      <td>False</td>\n",
       "      <td>False</td>\n",
       "      <td>False</td>\n",
       "      <td>True</td>\n",
       "      <td>False</td>\n",
       "      <td>False</td>\n",
       "    </tr>\n",
       "    <tr>\n",
       "      <th>4</th>\n",
       "      <td>65.000000</td>\n",
       "      <td>87</td>\n",
       "      <td>False</td>\n",
       "      <td>False</td>\n",
       "      <td>False</td>\n",
       "      <td>False</td>\n",
       "      <td>False</td>\n",
       "      <td>False</td>\n",
       "      <td>False</td>\n",
       "      <td>False</td>\n",
       "      <td>...</td>\n",
       "      <td>False</td>\n",
       "      <td>False</td>\n",
       "      <td>False</td>\n",
       "      <td>False</td>\n",
       "      <td>False</td>\n",
       "      <td>False</td>\n",
       "      <td>False</td>\n",
       "      <td>True</td>\n",
       "      <td>False</td>\n",
       "      <td>False</td>\n",
       "    </tr>\n",
       "    <tr>\n",
       "      <th>...</th>\n",
       "      <td>...</td>\n",
       "      <td>...</td>\n",
       "      <td>...</td>\n",
       "      <td>...</td>\n",
       "      <td>...</td>\n",
       "      <td>...</td>\n",
       "      <td>...</td>\n",
       "      <td>...</td>\n",
       "      <td>...</td>\n",
       "      <td>...</td>\n",
       "      <td>...</td>\n",
       "      <td>...</td>\n",
       "      <td>...</td>\n",
       "      <td>...</td>\n",
       "      <td>...</td>\n",
       "      <td>...</td>\n",
       "      <td>...</td>\n",
       "      <td>...</td>\n",
       "      <td>...</td>\n",
       "      <td>...</td>\n",
       "      <td>...</td>\n",
       "    </tr>\n",
       "    <tr>\n",
       "      <th>65494</th>\n",
       "      <td>45.000000</td>\n",
       "      <td>90</td>\n",
       "      <td>False</td>\n",
       "      <td>False</td>\n",
       "      <td>False</td>\n",
       "      <td>False</td>\n",
       "      <td>False</td>\n",
       "      <td>False</td>\n",
       "      <td>False</td>\n",
       "      <td>False</td>\n",
       "      <td>...</td>\n",
       "      <td>False</td>\n",
       "      <td>False</td>\n",
       "      <td>False</td>\n",
       "      <td>False</td>\n",
       "      <td>False</td>\n",
       "      <td>False</td>\n",
       "      <td>False</td>\n",
       "      <td>False</td>\n",
       "      <td>False</td>\n",
       "      <td>False</td>\n",
       "    </tr>\n",
       "    <tr>\n",
       "      <th>65495</th>\n",
       "      <td>22.000000</td>\n",
       "      <td>90</td>\n",
       "      <td>False</td>\n",
       "      <td>False</td>\n",
       "      <td>False</td>\n",
       "      <td>False</td>\n",
       "      <td>False</td>\n",
       "      <td>False</td>\n",
       "      <td>False</td>\n",
       "      <td>False</td>\n",
       "      <td>...</td>\n",
       "      <td>False</td>\n",
       "      <td>False</td>\n",
       "      <td>False</td>\n",
       "      <td>False</td>\n",
       "      <td>False</td>\n",
       "      <td>False</td>\n",
       "      <td>False</td>\n",
       "      <td>False</td>\n",
       "      <td>False</td>\n",
       "      <td>False</td>\n",
       "    </tr>\n",
       "    <tr>\n",
       "      <th>65496</th>\n",
       "      <td>20.000000</td>\n",
       "      <td>90</td>\n",
       "      <td>False</td>\n",
       "      <td>False</td>\n",
       "      <td>False</td>\n",
       "      <td>False</td>\n",
       "      <td>False</td>\n",
       "      <td>False</td>\n",
       "      <td>False</td>\n",
       "      <td>False</td>\n",
       "      <td>...</td>\n",
       "      <td>False</td>\n",
       "      <td>False</td>\n",
       "      <td>False</td>\n",
       "      <td>False</td>\n",
       "      <td>False</td>\n",
       "      <td>False</td>\n",
       "      <td>False</td>\n",
       "      <td>True</td>\n",
       "      <td>False</td>\n",
       "      <td>False</td>\n",
       "    </tr>\n",
       "    <tr>\n",
       "      <th>65497</th>\n",
       "      <td>31.000000</td>\n",
       "      <td>90</td>\n",
       "      <td>False</td>\n",
       "      <td>False</td>\n",
       "      <td>False</td>\n",
       "      <td>False</td>\n",
       "      <td>False</td>\n",
       "      <td>False</td>\n",
       "      <td>False</td>\n",
       "      <td>False</td>\n",
       "      <td>...</td>\n",
       "      <td>False</td>\n",
       "      <td>False</td>\n",
       "      <td>False</td>\n",
       "      <td>False</td>\n",
       "      <td>False</td>\n",
       "      <td>False</td>\n",
       "      <td>False</td>\n",
       "      <td>True</td>\n",
       "      <td>False</td>\n",
       "      <td>False</td>\n",
       "    </tr>\n",
       "    <tr>\n",
       "      <th>65498</th>\n",
       "      <td>10.000000</td>\n",
       "      <td>90</td>\n",
       "      <td>False</td>\n",
       "      <td>False</td>\n",
       "      <td>False</td>\n",
       "      <td>False</td>\n",
       "      <td>False</td>\n",
       "      <td>False</td>\n",
       "      <td>False</td>\n",
       "      <td>False</td>\n",
       "      <td>...</td>\n",
       "      <td>False</td>\n",
       "      <td>False</td>\n",
       "      <td>False</td>\n",
       "      <td>False</td>\n",
       "      <td>True</td>\n",
       "      <td>False</td>\n",
       "      <td>False</td>\n",
       "      <td>False</td>\n",
       "      <td>False</td>\n",
       "      <td>False</td>\n",
       "    </tr>\n",
       "  </tbody>\n",
       "</table>\n",
       "<p>62589 rows × 426 columns</p>\n",
       "</div>"
      ],
      "text/plain": [
       "           price  points  province_Aconcagua Costa  province_Aconcagua Valley  \\\n",
       "0      22.677998      87                     False                      False   \n",
       "1      15.000000      87                     False                      False   \n",
       "2      14.000000      87                     False                      False   \n",
       "3      13.000000      87                     False                      False   \n",
       "4      65.000000      87                     False                      False   \n",
       "...          ...     ...                       ...                        ...   \n",
       "65494  45.000000      90                     False                      False   \n",
       "65495  22.000000      90                     False                      False   \n",
       "65496  20.000000      90                     False                      False   \n",
       "65497  31.000000      90                     False                      False   \n",
       "65498  10.000000      90                     False                      False   \n",
       "\n",
       "       province_Aegean  province_Agioritikos  province_Ahr  province_Alenquer  \\\n",
       "0                False                 False         False              False   \n",
       "1                False                 False         False              False   \n",
       "2                False                 False         False              False   \n",
       "3                False                 False         False              False   \n",
       "4                False                 False         False              False   \n",
       "...                ...                   ...           ...                ...   \n",
       "65494            False                 False         False              False   \n",
       "65495            False                 False         False              False   \n",
       "65496            False                 False         False              False   \n",
       "65497            False                 False         False              False   \n",
       "65498            False                 False         False              False   \n",
       "\n",
       "       province_Alentejano  province_Alentejo  ...  country_Serbia  \\\n",
       "0                    False              False  ...           False   \n",
       "1                    False              False  ...           False   \n",
       "2                    False              False  ...           False   \n",
       "3                    False              False  ...           False   \n",
       "4                    False              False  ...           False   \n",
       "...                    ...                ...  ...             ...   \n",
       "65494                False              False  ...           False   \n",
       "65495                False              False  ...           False   \n",
       "65496                False              False  ...           False   \n",
       "65497                False              False  ...           False   \n",
       "65498                False              False  ...           False   \n",
       "\n",
       "       country_Slovakia  country_Slovenia  country_South Africa  \\\n",
       "0                 False             False                 False   \n",
       "1                 False             False                 False   \n",
       "2                 False             False                 False   \n",
       "3                 False             False                 False   \n",
       "4                 False             False                 False   \n",
       "...                 ...               ...                   ...   \n",
       "65494             False             False                 False   \n",
       "65495             False             False                 False   \n",
       "65496             False             False                 False   \n",
       "65497             False             False                 False   \n",
       "65498             False             False                 False   \n",
       "\n",
       "       country_Spain  country_Switzerland  country_Turkey  country_US  \\\n",
       "0              False                False           False       False   \n",
       "1              False                False           False       False   \n",
       "2              False                False           False        True   \n",
       "3              False                False           False        True   \n",
       "4              False                False           False        True   \n",
       "...              ...                  ...             ...         ...   \n",
       "65494          False                False           False       False   \n",
       "65495          False                False           False       False   \n",
       "65496          False                False           False        True   \n",
       "65497          False                False           False        True   \n",
       "65498           True                False           False       False   \n",
       "\n",
       "       country_Ukraine  country_Uruguay  \n",
       "0                False            False  \n",
       "1                False            False  \n",
       "2                False            False  \n",
       "3                False            False  \n",
       "4                False            False  \n",
       "...                ...              ...  \n",
       "65494            False            False  \n",
       "65495            False            False  \n",
       "65496            False            False  \n",
       "65497            False            False  \n",
       "65498            False            False  \n",
       "\n",
       "[62589 rows x 426 columns]"
      ]
     },
     "execution_count": 50,
     "metadata": {},
     "output_type": "execute_result"
    }
   ],
   "source": [
    "pd.get_dummies(dataset[['province', 'country', 'price', 'points']], drop_first=True)"
   ]
  },
  {
   "cell_type": "markdown",
   "metadata": {
    "id": "f-qgrxZbVr-g"
   },
   "source": [
    "### 3) Expresiones Regulares\n",
    "\n",
    "Una **expresión regular** es una secuencia de caracteres que define un patrón de búsqueda de texto. Las regex constituyen lenguaje muy flexible que sirve para identificar y extraer información de un cuerpo de caracteres no estructurado.\n",
    "\n",
    "**Referencia:** https://regex101.com/"
   ]
  },
  {
   "cell_type": "code",
   "execution_count": 51,
   "metadata": {
    "id": "ZPY0Jag0Vr-g",
    "outputId": "004f7406-af65-4691-8076-d8a8a247f5ce"
   },
   "outputs": [
    {
     "data": {
      "text/plain": [
       "39400                             29 & Oak Wines 2013 Reserve Cabernet Sauvignon (Oakville)\n",
       "37091                          Seven Falls 2015 GPS Jones Vineyard Viognier (Wahluke Slope)\n",
       "8823                                                       Château Reysson 2011  Haut-Médoc\n",
       "49001                                    Cantina Cortaccia 2014 Kofl Sauvignon (Alto Adige)\n",
       "63033                                                   Arrayán 2007 Premium Red (Mentrida)\n",
       "58642                                       V. Sattui 2013 Reserve Chardonnay (Napa Valley)\n",
       "25381    Williams Selyem 2012 Burt Williams' Morning Dew Ranch Pinot Noir (Anderson Valley)\n",
       "18586                        Herdade dos Templários 2011 Vale das Donas Branco White (Tejo)\n",
       "48520                             Lantides 2014 Ancient Varietal Moschofilero (Peloponnese)\n",
       "12860                                            Wiese & Krohn 1964 Branco Colheita  (Port)\n",
       "Name: title, dtype: object"
      ]
     },
     "metadata": {},
     "output_type": "display_data"
    }
   ],
   "source": [
    "with pd.option_context('display.max_colwidth', 10000):\n",
    "    display(dataset['title'].sample(10, random_state=20))"
   ]
  },
  {
   "cell_type": "markdown",
   "metadata": {
    "id": "wiqadGsvVr-g"
   },
   "source": [
    "Vamos a crear una expresión regular simple para extraer el año del texto de título."
   ]
  },
  {
   "cell_type": "code",
   "execution_count": 52,
   "metadata": {
    "id": "QBzovB8-Vr-g"
   },
   "outputs": [],
   "source": [
    "import re\n",
    "\n",
    "pattern = r\"\\b([12]\\d{3})\\b\"\n",
    "r = re.compile(pattern)"
   ]
  },
  {
   "cell_type": "markdown",
   "metadata": {},
   "source": [
    "Este patrón busca y extrae años de cuatro dígitos (probablemente entre 1000-2999)\n",
    "\n",
    "    -  \\b: Asegura que el año es un número completo (no parte de otro más largo)\n",
    "    - ([12]\\d{3}): Captura un número de 4 dígitos que empieza con '1' o '2'\n",
    "\n",
    "\n",
    "Es útil para encontrar años de cosecha en texto, como \"Vino (2013) Reserva\", extrayendo \"2013\"."
   ]
  },
  {
   "cell_type": "code",
   "execution_count": 53,
   "metadata": {
    "id": "tuKnmYyJVr-g",
    "outputId": "b7c8d169-636a-41a9-e3b6-573bbdfea4eb"
   },
   "outputs": [
    {
     "data": {
      "text/plain": [
       "re.Pattern"
      ]
     },
     "execution_count": 53,
     "metadata": {},
     "output_type": "execute_result"
    }
   ],
   "source": [
    "type(r)"
   ]
  },
  {
   "cell_type": "code",
   "execution_count": 54,
   "metadata": {
    "id": "82tBuMvgVr-h"
   },
   "outputs": [],
   "source": [
    "s1 = '29 & oak wines 2013 reserve cabernet sauvignon (oakville)'"
   ]
  },
  {
   "cell_type": "code",
   "execution_count": 55,
   "metadata": {
    "id": "GkL8bnvUVr-h",
    "outputId": "9cb480a1-3a60-4e2a-a1fb-286bd337958f"
   },
   "outputs": [
    {
     "data": {
      "text/plain": [
       "<re.Match object; span=(15, 19), match='2013'>"
      ]
     },
     "execution_count": 55,
     "metadata": {},
     "output_type": "execute_result"
    }
   ],
   "source": [
    "match = r.search(s1)\n",
    "match"
   ]
  },
  {
   "cell_type": "code",
   "execution_count": 56,
   "metadata": {
    "id": "St96oDPAVr-h",
    "outputId": "ffb8b9bc-981d-4d90-cefa-62e30134367f"
   },
   "outputs": [
    {
     "data": {
      "text/plain": [
       "('2013',)"
      ]
     },
     "execution_count": 56,
     "metadata": {},
     "output_type": "execute_result"
    }
   ],
   "source": [
    "match.groups()"
   ]
  },
  {
   "cell_type": "code",
   "execution_count": 57,
   "metadata": {
    "id": "jBe8CTT3Vr-h",
    "outputId": "e7f124a5-a522-42d1-e0c2-0cfd547bb587"
   },
   "outputs": [
    {
     "data": {
      "text/plain": [
       "'2013'"
      ]
     },
     "execution_count": 57,
     "metadata": {},
     "output_type": "execute_result"
    }
   ],
   "source": [
    "match[0]"
   ]
  },
  {
   "cell_type": "markdown",
   "metadata": {
    "id": "bfGMdVHUVr-h"
   },
   "source": [
    "¿Qué sucedería si tuviéramos más de una ocurrencia? Vamos a combinar 2 títulos para tener 2 años. "
   ]
  },
  {
   "cell_type": "code",
   "execution_count": 58,
   "metadata": {
    "id": "GWwTXC23Vr-h"
   },
   "outputs": [],
   "source": [
    "s2 = '''\n",
    "seven falls 2015 gps jones vineyard viognier (wahluke slope). \n",
    "v. sattui 2013 reserve chardonnay (napa valley)\n",
    "'''"
   ]
  },
  {
   "cell_type": "code",
   "execution_count": 59,
   "metadata": {
    "id": "CWHtI19dVr-h",
    "outputId": "524e554f-7ba8-4e03-ebfa-c15926f9ef0a"
   },
   "outputs": [
    {
     "data": {
      "text/plain": [
       "<re.Match object; span=(13, 17), match='2015'>"
      ]
     },
     "execution_count": 59,
     "metadata": {},
     "output_type": "execute_result"
    }
   ],
   "source": [
    "match = r.search(s2)\n",
    "match"
   ]
  },
  {
   "cell_type": "code",
   "execution_count": 60,
   "metadata": {
    "id": "qQJFHJoqVr-h",
    "outputId": "809ad713-ae1d-4a53-eef1-b8b10d4e7c6b"
   },
   "outputs": [
    {
     "data": {
      "text/plain": [
       "('2015',)"
      ]
     },
     "execution_count": 60,
     "metadata": {},
     "output_type": "execute_result"
    }
   ],
   "source": [
    "match.groups()"
   ]
  },
  {
   "cell_type": "markdown",
   "metadata": {
    "id": "4OaX05r-Vr-h"
   },
   "source": [
    "El método `search()` nos trae solamente la primera ocurrencia. Para obtener todas podemos usar el método `findall()`"
   ]
  },
  {
   "cell_type": "code",
   "execution_count": 61,
   "metadata": {
    "id": "uxk65MBqVr-h",
    "outputId": "fd10e880-43ef-4596-c0b3-d57595b4254f"
   },
   "outputs": [
    {
     "data": {
      "text/plain": [
       "['2015', '2013']"
      ]
     },
     "execution_count": 61,
     "metadata": {},
     "output_type": "execute_result"
    }
   ],
   "source": [
    "r.findall(s2)"
   ]
  },
  {
   "cell_type": "code",
   "execution_count": 62,
   "metadata": {
    "id": "Zuwa7cn3Vr-h"
   },
   "outputs": [],
   "source": [
    "dataset['year'] = dataset['title'].apply(lambda x: r.search(x)[0] if isinstance(x, str) and r.search(x) else None)"
   ]
  },
  {
   "cell_type": "code",
   "execution_count": 70,
   "metadata": {
    "id": "k01psPajVr-h",
    "outputId": "5954d894-ec57-40cc-c14c-14d2cf067d72"
   },
   "outputs": [
    {
     "data": {
      "text/html": [
       "<div>\n",
       "<style scoped>\n",
       "    .dataframe tbody tr th:only-of-type {\n",
       "        vertical-align: middle;\n",
       "    }\n",
       "\n",
       "    .dataframe tbody tr th {\n",
       "        vertical-align: top;\n",
       "    }\n",
       "\n",
       "    .dataframe thead th {\n",
       "        text-align: right;\n",
       "    }\n",
       "</style>\n",
       "<table border=\"1\" class=\"dataframe\">\n",
       "  <thead>\n",
       "    <tr style=\"text-align: right;\">\n",
       "      <th></th>\n",
       "      <th>title</th>\n",
       "      <th>year</th>\n",
       "    </tr>\n",
       "  </thead>\n",
       "  <tbody>\n",
       "    <tr>\n",
       "      <th>22816</th>\n",
       "      <td>Occasio 2011 Thatcher Bay Vineyard Merlot (Liv...</td>\n",
       "      <td>2011</td>\n",
       "    </tr>\n",
       "    <tr>\n",
       "      <th>22560</th>\n",
       "      <td>Keuka Spring 2015 Dynamite Vineyard Gewürztram...</td>\n",
       "      <td>2015</td>\n",
       "    </tr>\n",
       "    <tr>\n",
       "      <th>23438</th>\n",
       "      <td>Domaine Rossignol-Trapet 2011  Chambertin</td>\n",
       "      <td>2011</td>\n",
       "    </tr>\n",
       "    <tr>\n",
       "      <th>1925</th>\n",
       "      <td>Virna Borgogno 2009 Cannubi Boschis  (Barolo)</td>\n",
       "      <td>2009</td>\n",
       "    </tr>\n",
       "    <tr>\n",
       "      <th>45291</th>\n",
       "      <td>Kent Rasmussen 2007 Pinot Noir (Carneros)</td>\n",
       "      <td>2007</td>\n",
       "    </tr>\n",
       "    <tr>\n",
       "      <th>35184</th>\n",
       "      <td>Ad Vivum 2011 Sleeping Lady Vineyard Cabernet ...</td>\n",
       "      <td>2011</td>\n",
       "    </tr>\n",
       "    <tr>\n",
       "      <th>52785</th>\n",
       "      <td>Château Hosanna 2008  Pomerol</td>\n",
       "      <td>2008</td>\n",
       "    </tr>\n",
       "    <tr>\n",
       "      <th>61392</th>\n",
       "      <td>Fontes da Cunha 2015 Quinta do Mondego Branco ...</td>\n",
       "      <td>2015</td>\n",
       "    </tr>\n",
       "    <tr>\n",
       "      <th>41002</th>\n",
       "      <td>Hogue 2012 Genesis Syrah (Columbia Valley (WA))</td>\n",
       "      <td>2012</td>\n",
       "    </tr>\n",
       "    <tr>\n",
       "      <th>57488</th>\n",
       "      <td>Conway 2009 Cabernet Sauvignon (Rutherford)</td>\n",
       "      <td>2009</td>\n",
       "    </tr>\n",
       "  </tbody>\n",
       "</table>\n",
       "</div>"
      ],
      "text/plain": [
       "                                                   title  year\n",
       "22816  Occasio 2011 Thatcher Bay Vineyard Merlot (Liv...  2011\n",
       "22560  Keuka Spring 2015 Dynamite Vineyard Gewürztram...  2015\n",
       "23438          Domaine Rossignol-Trapet 2011  Chambertin  2011\n",
       "1925       Virna Borgogno 2009 Cannubi Boschis  (Barolo)  2009\n",
       "45291          Kent Rasmussen 2007 Pinot Noir (Carneros)  2007\n",
       "35184  Ad Vivum 2011 Sleeping Lady Vineyard Cabernet ...  2011\n",
       "52785                      Château Hosanna 2008  Pomerol  2008\n",
       "61392  Fontes da Cunha 2015 Quinta do Mondego Branco ...  2015\n",
       "41002    Hogue 2012 Genesis Syrah (Columbia Valley (WA))  2012\n",
       "57488        Conway 2009 Cabernet Sauvignon (Rutherford)  2009"
      ]
     },
     "execution_count": 70,
     "metadata": {},
     "output_type": "execute_result"
    }
   ],
   "source": [
    "dataset[['title', 'year']].sample(10)"
   ]
  },
  {
   "cell_type": "code",
   "execution_count": 71,
   "metadata": {
    "id": "ll6N36zPVr-h",
    "outputId": "620aa736-3768-4da9-94f4-d977657ac7bd"
   },
   "outputs": [
    {
     "data": {
      "text/plain": [
       "dtype('O')"
      ]
     },
     "execution_count": 71,
     "metadata": {},
     "output_type": "execute_result"
    }
   ],
   "source": [
    "dataset['year'].dtype"
   ]
  },
  {
   "cell_type": "code",
   "execution_count": 72,
   "metadata": {
    "id": "vQYjj5tXVr-h",
    "outputId": "9894eeb2-1caa-42f8-f77a-d6284e3645b5"
   },
   "outputs": [
    {
     "data": {
      "text/html": [
       "<div>\n",
       "<style scoped>\n",
       "    .dataframe tbody tr th:only-of-type {\n",
       "        vertical-align: middle;\n",
       "    }\n",
       "\n",
       "    .dataframe tbody tr th {\n",
       "        vertical-align: top;\n",
       "    }\n",
       "\n",
       "    .dataframe thead th {\n",
       "        text-align: right;\n",
       "    }\n",
       "</style>\n",
       "<table border=\"1\" class=\"dataframe\">\n",
       "  <thead>\n",
       "    <tr style=\"text-align: right;\">\n",
       "      <th></th>\n",
       "      <th>title</th>\n",
       "      <th>year</th>\n",
       "    </tr>\n",
       "  </thead>\n",
       "  <tbody>\n",
       "    <tr>\n",
       "      <th>63</th>\n",
       "      <td>Roland Champion NV Brut Rosé  (Champagne)</td>\n",
       "      <td>None</td>\n",
       "    </tr>\n",
       "    <tr>\n",
       "      <th>69</th>\n",
       "      <td>Collet NV Brut Rosé  (Champagne)</td>\n",
       "      <td>None</td>\n",
       "    </tr>\n",
       "    <tr>\n",
       "      <th>237</th>\n",
       "      <td>Consorzio Vini Tipici di San Marino NV Moscato...</td>\n",
       "      <td>None</td>\n",
       "    </tr>\n",
       "    <tr>\n",
       "      <th>326</th>\n",
       "      <td>Marsuret NV Extra Dry  (Prosecco di Valdobbiad...</td>\n",
       "      <td>None</td>\n",
       "    </tr>\n",
       "    <tr>\n",
       "      <th>332</th>\n",
       "      <td>Sommariva NV Palazzo Rosso Brut  (Prosecco di ...</td>\n",
       "      <td>None</td>\n",
       "    </tr>\n",
       "    <tr>\n",
       "      <th>...</th>\n",
       "      <td>...</td>\n",
       "      <td>...</td>\n",
       "    </tr>\n",
       "    <tr>\n",
       "      <th>65261</th>\n",
       "      <td>Vicente Gandia NV Sandara Sparkling (Spain)</td>\n",
       "      <td>None</td>\n",
       "    </tr>\n",
       "    <tr>\n",
       "      <th>65274</th>\n",
       "      <td>Ca' Momi NV Ca' Secco Sparkling (California)</td>\n",
       "      <td>None</td>\n",
       "    </tr>\n",
       "    <tr>\n",
       "      <th>65351</th>\n",
       "      <td>Honora NV Cabernet Sauvignon (America)</td>\n",
       "      <td>None</td>\n",
       "    </tr>\n",
       "    <tr>\n",
       "      <th>65426</th>\n",
       "      <td>Cairdeas NV Tri Red (Columbia Valley (WA))</td>\n",
       "      <td>None</td>\n",
       "    </tr>\n",
       "    <tr>\n",
       "      <th>65498</th>\n",
       "      <td>Bodegas Dios Baco S.L. NV Manzanilla Sherry (J...</td>\n",
       "      <td>None</td>\n",
       "    </tr>\n",
       "  </tbody>\n",
       "</table>\n",
       "<p>2090 rows × 2 columns</p>\n",
       "</div>"
      ],
      "text/plain": [
       "                                                   title  year\n",
       "63             Roland Champion NV Brut Rosé  (Champagne)  None\n",
       "69                      Collet NV Brut Rosé  (Champagne)  None\n",
       "237    Consorzio Vini Tipici di San Marino NV Moscato...  None\n",
       "326    Marsuret NV Extra Dry  (Prosecco di Valdobbiad...  None\n",
       "332    Sommariva NV Palazzo Rosso Brut  (Prosecco di ...  None\n",
       "...                                                  ...   ...\n",
       "65261        Vicente Gandia NV Sandara Sparkling (Spain)  None\n",
       "65274       Ca' Momi NV Ca' Secco Sparkling (California)  None\n",
       "65351             Honora NV Cabernet Sauvignon (America)  None\n",
       "65426         Cairdeas NV Tri Red (Columbia Valley (WA))  None\n",
       "65498  Bodegas Dios Baco S.L. NV Manzanilla Sherry (J...  None\n",
       "\n",
       "[2090 rows x 2 columns]"
      ]
     },
     "execution_count": 72,
     "metadata": {},
     "output_type": "execute_result"
    }
   ],
   "source": [
    "dataset.loc[dataset['year'].isnull(), ['title', 'year']]"
   ]
  },
  {
   "cell_type": "code",
   "execution_count": 73,
   "metadata": {
    "id": "6XLZLGHEVr-i",
    "outputId": "d1acd812-6fd0-43a8-cb43-93a56f225fed"
   },
   "outputs": [
    {
     "data": {
      "text/plain": [
       "2090"
      ]
     },
     "execution_count": 73,
     "metadata": {},
     "output_type": "execute_result"
    }
   ],
   "source": [
    "dataset['year'].isnull().sum()"
   ]
  },
  {
   "cell_type": "markdown",
   "metadata": {
    "id": "WJDdXQJiVr-i"
   },
   "source": [
    "Hay 2.090 vinos que son NV, es decir nonvintage, que normalmente son blends de dos o más años. Podríamos imputar como 'NV' y dejar a year como una variable categórica o pasar a int y buscar otra forma de imputar a los NV. La estrategia a utilizar dependerá de nuestro proyecto."
   ]
  },
  {
   "cell_type": "code",
   "execution_count": 74,
   "metadata": {
    "id": "j1JOnX-JVr-i"
   },
   "outputs": [],
   "source": [
    "dataset['year'] = dataset['year'].fillna('NV')"
   ]
  },
  {
   "cell_type": "code",
   "execution_count": 75,
   "metadata": {
    "id": "QXFiu2mIVr-i",
    "outputId": "55459ed1-97d3-4338-a7b1-0e71cfd0f04c"
   },
   "outputs": [
    {
     "data": {
      "text/html": [
       "<div>\n",
       "<style scoped>\n",
       "    .dataframe tbody tr th:only-of-type {\n",
       "        vertical-align: middle;\n",
       "    }\n",
       "\n",
       "    .dataframe tbody tr th {\n",
       "        vertical-align: top;\n",
       "    }\n",
       "\n",
       "    .dataframe thead th {\n",
       "        text-align: right;\n",
       "    }\n",
       "</style>\n",
       "<table border=\"1\" class=\"dataframe\">\n",
       "  <thead>\n",
       "    <tr style=\"text-align: right;\">\n",
       "      <th></th>\n",
       "      <th>title</th>\n",
       "      <th>year</th>\n",
       "    </tr>\n",
       "  </thead>\n",
       "  <tbody>\n",
       "    <tr>\n",
       "      <th>11809</th>\n",
       "      <td>CK Mondavi 2014 Willow Springs Pinot Grigio (C...</td>\n",
       "      <td>2014</td>\n",
       "    </tr>\n",
       "    <tr>\n",
       "      <th>58635</th>\n",
       "      <td>El Pistolero 2014 Limitado Chardonnay (Santa L...</td>\n",
       "      <td>2014</td>\n",
       "    </tr>\n",
       "    <tr>\n",
       "      <th>40165</th>\n",
       "      <td>Kaleidos 2014 Reserve Syrah (Paso Robles)</td>\n",
       "      <td>2014</td>\n",
       "    </tr>\n",
       "    <tr>\n",
       "      <th>45257</th>\n",
       "      <td>Mas Saint-Louis 2013 White (Châteauneuf-du-Pape)</td>\n",
       "      <td>2013</td>\n",
       "    </tr>\n",
       "    <tr>\n",
       "      <th>54721</th>\n",
       "      <td>Alex Gambal 2013 Maltroie Premier Cru  (Chassa...</td>\n",
       "      <td>2013</td>\n",
       "    </tr>\n",
       "    <tr>\n",
       "      <th>10156</th>\n",
       "      <td>Leonard Kreusch 2014 Piesporter Michelsberg Ka...</td>\n",
       "      <td>2014</td>\n",
       "    </tr>\n",
       "    <tr>\n",
       "      <th>3701</th>\n",
       "      <td>Clos de Chacras 2010 Gran Estirpe Red (Mendoza)</td>\n",
       "      <td>2010</td>\n",
       "    </tr>\n",
       "    <tr>\n",
       "      <th>30802</th>\n",
       "      <td>Joseph Drouhin 2012 Domaine Drouhin-Vaudon Séc...</td>\n",
       "      <td>2012</td>\n",
       "    </tr>\n",
       "    <tr>\n",
       "      <th>25608</th>\n",
       "      <td>J. Portugal Ramos 2014 Vila Santa Reserva Bran...</td>\n",
       "      <td>2014</td>\n",
       "    </tr>\n",
       "    <tr>\n",
       "      <th>16183</th>\n",
       "      <td>Domaine Zind-Humbrecht 2015 Roche Calcaire Gew...</td>\n",
       "      <td>2015</td>\n",
       "    </tr>\n",
       "    <tr>\n",
       "      <th>35138</th>\n",
       "      <td>Masi Tupungato 2008 Paso Doble Malbec-Corvina ...</td>\n",
       "      <td>2008</td>\n",
       "    </tr>\n",
       "    <tr>\n",
       "      <th>24324</th>\n",
       "      <td>A.A. Badenhorst Family Wines 2011 Secateurs Ci...</td>\n",
       "      <td>2011</td>\n",
       "    </tr>\n",
       "    <tr>\n",
       "      <th>48999</th>\n",
       "      <td>Black Star Farms 2013 Arcturos Dry Riesling (O...</td>\n",
       "      <td>2013</td>\n",
       "    </tr>\n",
       "    <tr>\n",
       "      <th>34925</th>\n",
       "      <td>André Blanck et ses Fils 2011 Riesling (Alsace)</td>\n",
       "      <td>2011</td>\n",
       "    </tr>\n",
       "    <tr>\n",
       "      <th>3267</th>\n",
       "      <td>Cennatoio 2011 O'Leandro Riserva  (Chianti Cla...</td>\n",
       "      <td>2011</td>\n",
       "    </tr>\n",
       "  </tbody>\n",
       "</table>\n",
       "</div>"
      ],
      "text/plain": [
       "                                                   title  year\n",
       "11809  CK Mondavi 2014 Willow Springs Pinot Grigio (C...  2014\n",
       "58635  El Pistolero 2014 Limitado Chardonnay (Santa L...  2014\n",
       "40165          Kaleidos 2014 Reserve Syrah (Paso Robles)  2014\n",
       "45257   Mas Saint-Louis 2013 White (Châteauneuf-du-Pape)  2013\n",
       "54721  Alex Gambal 2013 Maltroie Premier Cru  (Chassa...  2013\n",
       "10156  Leonard Kreusch 2014 Piesporter Michelsberg Ka...  2014\n",
       "3701     Clos de Chacras 2010 Gran Estirpe Red (Mendoza)  2010\n",
       "30802  Joseph Drouhin 2012 Domaine Drouhin-Vaudon Séc...  2012\n",
       "25608  J. Portugal Ramos 2014 Vila Santa Reserva Bran...  2014\n",
       "16183  Domaine Zind-Humbrecht 2015 Roche Calcaire Gew...  2015\n",
       "35138  Masi Tupungato 2008 Paso Doble Malbec-Corvina ...  2008\n",
       "24324  A.A. Badenhorst Family Wines 2011 Secateurs Ci...  2011\n",
       "48999  Black Star Farms 2013 Arcturos Dry Riesling (O...  2013\n",
       "34925    André Blanck et ses Fils 2011 Riesling (Alsace)  2011\n",
       "3267   Cennatoio 2011 O'Leandro Riserva  (Chianti Cla...  2011"
      ]
     },
     "execution_count": 75,
     "metadata": {},
     "output_type": "execute_result"
    }
   ],
   "source": [
    "dataset[['title', 'year']].sample(15)"
   ]
  },
  {
   "cell_type": "markdown",
   "metadata": {
    "id": "flFSkz0qVr-i"
   },
   "source": [
    "## Sintaxis en expresiones regulares en Python\n",
    "\n",
    "\n",
    "#### Metacaracteres\n",
    "\n",
    "    .  símbolo que indica cualquier caracter con excepción de nueva línea (\\n)\n",
    "    ^  símbolo que indica comienzo del string\n",
    "    $  símbolo que indica fin del string\n",
    "    \\  símbolo que escapa caracteres reservados\n",
    "    |  o lógico \n",
    "    \\d símbolo que indica cualquier dígito del 0 al 9\n",
    "    \\w símbolo que indica cualquier caracter alfanumérico (A-Z, a-z, 0-9 y _)\n",
    "    \\s símbolo que indica cualquier espacio en blanco (espacio, tabulado, nueva línea, etc.)\n",
    "    \\D símbolo que indica cualquier caracter que no sea dígito\n",
    "    \\W símbolo que indica cualquier caracter que no sea alfanumérico\n",
    "    \\S símbolo que indica cualquier caracter que no sea espacio en blanco\n",
    "\n",
    "        \n",
    "#### Cuantificadores\n",
    "\n",
    "    *  símbolo que indica cero o más ocurrencias\n",
    "    +  símbolo que indica una o más ocurrencias\n",
    "    ?  símbolo que indica optativo (puede estar o no)\n",
    "    {m}  donde m es un número entero, indica exactamente m repeticiones \n",
    "    {m,n}  donde m y n son números enteros, indica al menos m repeticiones y como máximo n repeticiones\n",
    "\n",
    "#### Opciones \n",
    "\n",
    "    [abc]  indica un caracter perteneciente al conjunto de valores posibles especificado entre corchetes\n",
    "    [a-z]  indica un caracter perteneciente al intervalo de valores posibles especificado entre corchetes\n",
    "\n",
    "#### Grupos \n",
    "    ( )  define un grupo\n",
    "    (?P<group_name> ) define un grupo etiquetado\n",
    "    \n",
    "#### Ejemplos de sintaxis:\n",
    "\n",
    "`\\d+` encuentra números de un dígito o más\n",
    "\n",
    "`.*` encuentra cadenas de caracteres de cualquier longitud, incluso vacías.\n",
    "\n",
    "`\\w{2,6}` encuentra un conjunto de caracteres alfanuméricos con una longitud que va de 2 a 6 caracteres\n",
    "\n",
    "`[a-zA-Z]` encuentra lo mismo que `[a-zA-Z]{1}` que es cualquier caracter entre a y z minúscula o A y Z mayúscula\n",
    "\n",
    "`[a-zA-Z]+` encuentra cadenas de caracteres con letras entre a y z y A y Z de longitud al menos 1\n",
    "\n",
    "`(\\d\\d\\d\\d)` encuentra lo mismo que `\\d{4}` que son cadenas de cuatro dígitos\n",
    "\n",
    "`(?P<num>\\d\\d\\d\\d)` encuentra  cadenas de cuatro dígitos y etiqueta a ese grupo como \"num\"\n"
   ]
  },
  {
   "cell_type": "markdown",
   "metadata": {
    "id": "U2W6NeKjVr-i"
   },
   "source": [
    "### ¡Muchas gracias por su atención!"
   ]
  }
 ],
 "metadata": {
  "colab": {
   "provenance": []
  },
  "kernelspec": {
   "display_name": "base",
   "language": "python",
   "name": "python3"
  },
  "language_info": {
   "codemirror_mode": {
    "name": "ipython",
    "version": 3
   },
   "file_extension": ".py",
   "mimetype": "text/x-python",
   "name": "python",
   "nbconvert_exporter": "python",
   "pygments_lexer": "ipython3",
   "version": "3.12.7"
  }
 },
 "nbformat": 4,
 "nbformat_minor": 1
}
