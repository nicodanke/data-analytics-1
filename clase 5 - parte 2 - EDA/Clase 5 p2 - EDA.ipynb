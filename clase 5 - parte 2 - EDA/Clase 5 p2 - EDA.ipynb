{
 "cells": [
  {
   "cell_type": "markdown",
   "id": "7b3d1288",
   "metadata": {},
   "source": [
    "<img src=\"img/Marca-ITBA-Color-ALTA.png\" width=\"250\">\n",
    "\n",
    "# Programación para el Análisis de Datos\n",
    "\n",
    "## Clase 5 - Estadística descriptiva - Análisis exploratorio de los datos (EDA)\n",
    "\n",
    "\n",
    "## Introducción\n",
    "\n",
    "Cualquier proyecto de análisis de datos comienza por una etapa de limpieza y exploración de los datos usando herramientas de la estadística descriptiva. Este trabajo es previo a la implementación de cualquier tipo de modelado y casi siempre nos da información relevante sobre los datos por sí mismo. El objetivo es caracterizar qué estructura presentan los datos. Para ello debemos identificar qué tipo de variables componen al dataset (categóricas, numéricas), ver las distribuciones e identificar anomalías como la presencia de valores extremos, ver si hay un desbalance de clases para variables categóricas y tratar de identificar cómo interactúan entre sí las diferentes variables. Conocer estos aspectos de los datos nos servirá para plantear nuevas hipótesis y será fundamental como paso previo a elegir qué modelo implementar en cada problema y hacer las transformaciones pertinentes para hacer una interpretación correcta de los resultados. \n",
    "\n",
    "En esta notebook trabajaremos con un dataset de métricas relativas a posteos publicitarios en facebook. El mismo se refiere a posteos hechos durante el 2014 por una reconocida marca de consméticos. Entre las variables veremos atributos conocidos previamente al posteo y métricas de impacto del mismo. Nuestro objetivo será encontrar qué relación existe entre estos atributos y las variables de impacto. \n",
    "\n",
    "Los atributos son\n",
    "\n",
    "* **Category:** caracterización manual del contenido en tres clases. 1. Acción (ofertas especiales, concursos, etc); 2. Producto (publicidad directa sobre un producto, contenido explícito de la marca) ; 3. Inspiración (contenido no relacionado explícitamente con la marca).\n",
    "\n",
    "* **Page total likes:** número de personas que likearon la página de la compañía al momento del posteo.\n",
    "\n",
    "* **Mes del posteo**\n",
    "\n",
    "* **Día de la semana del posteo**\n",
    "\n",
    "* **Hora del posteo**\n",
    "\n",
    "* **Pago:** si la compañía le pagó a facebook para publicitar el posteo\n",
    "\n",
    "Las métricas de impacto son:\n",
    "\n",
    "* **Lifetime post total reach:** el número de personas que vieron el post (cada persona se cuenta una vez, aunque lo haya visto varias veces)\n",
    "\n",
    "* **Lifetime post total impressions:** el número de veces que fue presentado el post, puede ser que una misma persona vea más de una vez el post por distintas vias de llegada.\n",
    "\n",
    "* **Lifetime engaged users:** número de personas que clickearon en algún lugar del post (ver imagen abajo)\n",
    "\n",
    "* **Lifetime post consumers:** número de personas que clickearon en algún lugar del post (ver imagen abajo)\n",
    "\n",
    "* **Lifetime post consumptions:** número de clicks sobre el post\n",
    "\n",
    "* **Lifetime post impressions by people who have liked a page:** el número de impresiones debidas a personas que habían likeado la página.\n",
    "\n",
    "* **Lifetime post reach by people who like a page:** número de personas que vieron el post porque habían likeado la página (cada persona se cuenta una sola vez).\n",
    "\n",
    "* **Lifetime people who have liked a page and engaged with a post**\n",
    "\n",
    "* **Comments:** número de comentarios en el post.\n",
    "\n",
    "* **Likes:** número de likes en el post.\n",
    "\n",
    "* **Shares:** número de veces que el post fue compartido.\n",
    "\n",
    "* **Total interactions**: la suma de comentarios, likes y shares.\n",
    "\n",
    "\n",
    "<img src=\"img/interactions_fb.png\">\n",
    "\n",
    "\n",
    "\n",
    "\n",
    "### Referencia\n",
    "\n",
    "S. Moro, P. Rita and B. Vala. Predicting social media performance metrics and evaluation \n",
    "of the impact on brand building: A data mining approach. Journal of Business Research, Elsevier, In press.\n",
    "\n",
    "Disponible en el siguiente <a href=\"http://dx.doi.org/10.1016/j.jbusres.2016.02.010\">link</a>\n",
    "\n",
    "El dataset se encuentra disponible en el siguiente <a href=\"https://archive.ics.uci.edu/ml/datasets/Facebook+metrics\">link</a>\n",
    "\n"
   ]
  },
  {
   "cell_type": "code",
   "execution_count": 1,
   "id": "6957a6a8",
   "metadata": {},
   "outputs": [],
   "source": [
    "import pandas as pd\n",
    "import numpy as np\n",
    "import scipy.stats as stats\n",
    "\n",
    "import matplotlib.pyplot as plt\n",
    "import seaborn as sns\n",
    "\n",
    "pd.set_option('display.float_format',  '{:,.2f}'.format)"
   ]
  },
  {
   "cell_type": "code",
   "execution_count": 2,
   "id": "21941133",
   "metadata": {},
   "outputs": [],
   "source": [
    "facebook = pd.read_csv('data/dataset_Facebook.csv', sep=';')"
   ]
  },
  {
   "cell_type": "code",
   "execution_count": null,
   "id": "dddbb45b",
   "metadata": {},
   "outputs": [],
   "source": [
    "facebook.shape"
   ]
  },
  {
   "cell_type": "code",
   "execution_count": null,
   "id": "2a9db0e1",
   "metadata": {
    "scrolled": false
   },
   "outputs": [],
   "source": [
    "facebook.head()"
   ]
  },
  {
   "cell_type": "markdown",
   "id": "38066733",
   "metadata": {},
   "source": [
    "### Limpieza\n",
    "\n",
    "Si bien este dataset ya está bastante limpio vamos a renombrar por comodidad algunas variables y remover valores nulos."
   ]
  },
  {
   "cell_type": "code",
   "execution_count": 5,
   "id": "bcc4ddbf",
   "metadata": {},
   "outputs": [],
   "source": [
    "# Renombramos columnas\n",
    "new_names = {\n",
    "           'Post Month':'Month',\n",
    "           'Post Weekday':'Weekday',\n",
    "           'Post Hour':'Hour',\n",
    "           'Lifetime Post Total Reach':'Reach',\n",
    "           'Lifetime Post Total Impressions':'Impressions',\n",
    "           'Lifetime Engaged Users':'Engaged users',\n",
    "           'Lifetime Post Consumers':'Consumers',\n",
    "           'Lifetime Post Consumptions':'Consumptions',\n",
    "           'Lifetime Post Impressions by people who have liked your Page':'Impressions by followers',\n",
    "           'Lifetime Post reach by people who like your Page':'Reach by followers',\n",
    "           'Lifetime People who have liked your Page and engaged with your post':'Engaged followers',    \n",
    "           'comment':'Comments',\n",
    "           'like':'Likes',\n",
    "           'share':'Shares',\n",
    "           'Total Interactions':'Total interactions'    \n",
    "           }\n",
    "facebook.rename(columns=new_names, inplace=True)"
   ]
  },
  {
   "cell_type": "code",
   "execution_count": null,
   "id": "97e19d60",
   "metadata": {},
   "outputs": [],
   "source": [
    "facebook.info()"
   ]
  },
  {
   "cell_type": "markdown",
   "id": "40688343",
   "metadata": {},
   "source": [
    "#### Valores faltantes\n",
    "\n",
    "Vemos que hay muy pocos valores nulos y por el momento vamos a dropearlos. Luego de hacer el análisis exploratorio podríamos definir algún criterio de imputación. Por ejemplo deberíamos ver si conviene usar la media o la mediana y si la imputación la haremos mirando la distribución total de cada variable o condicionada a ciertas categorías."
   ]
  },
  {
   "cell_type": "code",
   "execution_count": 7,
   "id": "01ab9bfc",
   "metadata": {},
   "outputs": [],
   "source": [
    "# Dropeamos los nulos\n",
    "facebook.dropna(inplace=True)"
   ]
  },
  {
   "cell_type": "code",
   "execution_count": 8,
   "id": "09c5406c",
   "metadata": {},
   "outputs": [],
   "source": [
    "# Identificamos variables categoricas y numericas\n",
    "categorical_vars = ['Type', 'Category', 'Month', 'Weekday', 'Paid']\n",
    "numeric_vars = ['Page total likes', 'Comments','Consumers','Consumptions','Engaged followers','Engaged users','Impressions','Impressions by followers','Likes','Reach','Reach by followers','Shares','Total interactions']\n"
   ]
  },
  {
   "cell_type": "markdown",
   "id": "4fe20ef3",
   "metadata": {},
   "source": [
    "### Análisis exploratorio de los datos (EDA)\n",
    "\n",
    "#### Métricas de posición y dispersión"
   ]
  },
  {
   "cell_type": "code",
   "execution_count": null,
   "id": "c09a36e0",
   "metadata": {},
   "outputs": [],
   "source": [
    "description = facebook[numeric_vars].describe().transpose()\n",
    "description['cv'] = description['std'] / description['mean']\n",
    "description = description[['mean','std','cv','min','25%','50%','75%','max']]\n",
    "description"
   ]
  },
  {
   "cell_type": "markdown",
   "id": "78faf6dc",
   "metadata": {},
   "source": [
    "#### Histogramas\n",
    "\n",
    "Si bien estos estadísticos nos dan un primer pantallazo sobre la estructura de los datos, lo hacen de manera demasiado resumida. Veamos gráficamente cómo se distribuyen las variables."
   ]
  },
  {
   "cell_type": "code",
   "execution_count": null,
   "id": "06b6c2d9",
   "metadata": {
    "scrolled": false
   },
   "outputs": [],
   "source": [
    "# Distribuciones para cada variable numerica\n",
    "f, ax = plt.subplots(3,5, figsize=(20,14), gridspec_kw={'wspace':0.5,'hspace':0.3})\n",
    "\n",
    "ax = ax.ravel()\n",
    "\n",
    "for i, col in enumerate(numeric_vars):\n",
    "    sns.histplot(facebook[col].astype(float), ax=ax[i], kde=False)\n",
    "    ax[i].axvline(x=facebook[col].mean(), color='k', label='mean')\n",
    "    ax[i].axvline(x=facebook[col].median(), color='r', label='median')    \n",
    "ax[0].legend();\n",
    "ax[-2].axis('off')\n",
    "ax[-1].axis('off');"
   ]
  },
  {
   "cell_type": "markdown",
   "id": "8ce56529",
   "metadata": {},
   "source": [
    "Vemos que muchos histogramas prácticamente no se ven porque la presencia de valores extremos distorsiona la escala. Volvemos a graficar los histogramas dentro del rango que nos parece razonable en cada caso."
   ]
  },
  {
   "cell_type": "code",
   "execution_count": null,
   "id": "e16f61c2",
   "metadata": {},
   "outputs": [],
   "source": [
    "scales={'Comments':[0,80],\n",
    "       'Consumers':[0,5000],\n",
    "       'Consumptions':[0,10000],\n",
    "       'Engaged followers':[0,3000],\n",
    "       'Engaged users':[0,5000],\n",
    "       'Impressions':[0,100000],\n",
    "       'Impressions by followers':[0,100000],\n",
    "       'Likes':[0,1000],\n",
    "       'Page total likes':[75000,145000],\n",
    "       'Reach':[0,50000],\n",
    "       'Reach by followers':[0,40000],\n",
    "       'Shares':[0,200],\n",
    "       'Total interactions':[0,1000]      \n",
    "      }\n",
    "\n",
    "f, ax = plt.subplots(3,5, figsize=(20,14), gridspec_kw={'wspace':0.5,'hspace':0.3})\n",
    "\n",
    "ax=ax.ravel()\n",
    "\n",
    "for i, col in enumerate(numeric_vars):\n",
    "    sns.histplot(facebook[col].astype(float), ax=ax[i], kde=False)\n",
    "    ax[i].axvline(x=facebook[col].mean(), color='k', label='mean')\n",
    "    ax[i].axvline(x=facebook[col].median(), color='r', label='median')\n",
    "    ax[i].axis(xmin=scales[col][0], xmax=scales[col][1])\n",
    "    \n",
    "ax[0].legend();\n",
    "ax[-2].axis('off')\n",
    "ax[-1].axis('off');"
   ]
  },
  {
   "cell_type": "markdown",
   "id": "8447dec1",
   "metadata": {},
   "source": [
    "Se ve que más allá de la presencia de outliers, las distribuciones son asimétricas con colas pesadas. Esto explica la diferencia entre la media y la mediana que se ve en las lineas rojas y negras en cada caso.\n",
    "\n",
    "Hacemos gráficos de barra para ver cómo se distribuyen las variables categóricas."
   ]
  },
  {
   "cell_type": "code",
   "execution_count": null,
   "id": "1f6c76a1",
   "metadata": {
    "scrolled": false
   },
   "outputs": [],
   "source": [
    "f, ax = plt.subplots(2,3, figsize=(20,12))\n",
    "ax = ax.ravel()\n",
    "for i, col in enumerate(categorical_vars):\n",
    "    sns.countplot(x=col, data=facebook, ax=ax[i], palette='viridis', hue=col, legend=False);\n",
    "\n",
    "ax[-1].axis('off');"
   ]
  },
  {
   "cell_type": "markdown",
   "id": "1d80e720",
   "metadata": {},
   "source": [
    "### Relación entre variables\n",
    "\n",
    "Los scatterplots nos permiten ver relaciones entre variables en la data cruda. En problemas multidimensionales puede ser impracticable hacer un pairplot para ver todos los pares de variables relacionados. Sin embargo es una buena práctica elegir al menos un subgrupo de variables de interés para explorarlos visualmente."
   ]
  },
  {
   "cell_type": "code",
   "execution_count": null,
   "id": "f1896f76",
   "metadata": {},
   "outputs": [],
   "source": [
    "# Relación entre variables de impacto\n",
    "impact_vars = ['Reach',\\\n",
    "               'Impressions',\\\n",
    "               'Engaged users',\\\n",
    "               'Consumers',\\\n",
    "               'Consumptions',\\\n",
    "               'Total interactions']\n",
    "\n",
    "sns.pairplot(data=facebook, vars=impact_vars);"
   ]
  },
  {
   "cell_type": "code",
   "execution_count": null,
   "id": "9f93353b",
   "metadata": {},
   "outputs": [],
   "source": [
    "facebook[impact_vars].corr()"
   ]
  },
  {
   "cell_type": "code",
   "execution_count": null,
   "id": "5631eed4",
   "metadata": {},
   "outputs": [],
   "source": [
    "# CORRELACIONES ENTRE VARIABLES DE IMPACTO\n",
    "plt.figure(figsize=(15,10))\n",
    "sns.heatmap(facebook[impact_vars].corr(), annot=True, cmap='RdBu', vmin=-1);"
   ]
  },
  {
   "cell_type": "markdown",
   "id": "00aeb06f",
   "metadata": {},
   "source": [
    "Vemos que hay nucleos de variables fuertemente correlacionadas. Siempre conviene complementar los coeficientes de correlación con una inspección de los scatterplots como la hecha más arriba. De otra manera podríamos perdernos de identificar relaciones no lineales entre las variables."
   ]
  },
  {
   "cell_type": "code",
   "execution_count": null,
   "id": "b7848e10",
   "metadata": {
    "scrolled": false
   },
   "outputs": [],
   "source": [
    "# RELACION ENTRE ATRIBUTOS DEL POST Y VARIABLES DE IMPACTO (Total interactions,'Consumptions')\n",
    "sns.pairplot(data=facebook,\\\n",
    "             x_vars=categorical_vars,\\\n",
    "             y_vars=['Total interactions','Consumptions'],\\\n",
    "             plot_kws={'alpha': 0.3});\n"
   ]
  },
  {
   "cell_type": "code",
   "execution_count": null,
   "id": "24d2036c",
   "metadata": {},
   "outputs": [],
   "source": [
    "# Relevancia de las variables temporales\n",
    "\n",
    "plt.figure(figsize=(10,6))\n",
    "sns.boxplot(x='Month',y='Total interactions',data=facebook)\n",
    "plt.ylim(0,750)\n",
    "plt.ylabel(\"Total interactions\")\n",
    "\n",
    "plt.figure(figsize=(10,6))\n",
    "sns.boxplot(x='Weekday',y='Total interactions',data=facebook)\n",
    "plt.ylim(0,750)\n",
    "plt.ylabel(\"Total interactions\")\n",
    "\n",
    "plt.figure(figsize=(10,6))\n",
    "sns.boxplot(x='Hour',y='Total interactions',data=facebook)\n",
    "plt.ylim(0,750)\n",
    "plt.ylabel(\"Total interactions\");\n"
   ]
  },
  {
   "cell_type": "code",
   "execution_count": null,
   "id": "8a584d3d",
   "metadata": {},
   "outputs": [],
   "source": [
    "# Importancia de pagar por publicidad\n",
    "sns.countplot(x='Paid', data=facebook);"
   ]
  },
  {
   "cell_type": "code",
   "execution_count": null,
   "id": "c991e4fa",
   "metadata": {},
   "outputs": [],
   "source": [
    "sns.boxplot(data=facebook, x='Paid', y='Total interactions')\n",
    "plt.ylim([0,750]);"
   ]
  },
  {
   "cell_type": "markdown",
   "id": "8b41e90a",
   "metadata": {},
   "source": [
    "* Vemos que en términos de la mediana, los post pagos obtienen más interacciones"
   ]
  },
  {
   "cell_type": "code",
   "execution_count": null,
   "id": "af451f4b",
   "metadata": {},
   "outputs": [],
   "source": [
    "facebook['Paid'] = facebook['Paid'].astype(str)\n",
    "sns.countplot(x='Weekday', hue='Paid', data=facebook);"
   ]
  },
  {
   "cell_type": "markdown",
   "id": "2d96e327",
   "metadata": {},
   "source": [
    "* La empresa invierte más en publicidad los días medios de la semana"
   ]
  },
  {
   "cell_type": "code",
   "execution_count": null,
   "id": "0e3469c5",
   "metadata": {},
   "outputs": [],
   "source": [
    "# Relacion entre mes y pago\n",
    "sns.countplot(x='Month', hue='Paid', data=facebook);"
   ]
  },
  {
   "cell_type": "code",
   "execution_count": null,
   "id": "e63600c5",
   "metadata": {},
   "outputs": [],
   "source": [
    "# Interacción entre hora y pago\n",
    "sns.countplot(x='Hour', hue='Paid', data=facebook);"
   ]
  },
  {
   "cell_type": "code",
   "execution_count": null,
   "id": "2f635ac7",
   "metadata": {},
   "outputs": [],
   "source": [
    "# Vemos que la compañía tiende a pagar más por los anuncios en mitad de la semana.\n",
    "# Veamos cómo se refleja esto en el impacto de los posteos.\n",
    "\n",
    "plt.figure(figsize=(10,6))\n",
    "sns.boxplot(x='Weekday', y='Total interactions', hue='Paid', data=facebook, palette='viridis')\n",
    "plt.ylim(0,750)\n",
    "plt.ylabel(\"Total interactions\");\n"
   ]
  },
  {
   "cell_type": "code",
   "execution_count": null,
   "id": "535bd85b",
   "metadata": {},
   "outputs": [],
   "source": [
    "# Interacción entre tipo de post y pago\n",
    "sns.countplot(x='Type', hue='Paid', data=facebook);"
   ]
  },
  {
   "cell_type": "code",
   "execution_count": null,
   "id": "a04168d8",
   "metadata": {},
   "outputs": [],
   "source": [
    "# Interacción entre tipo y categoria\n",
    "# 1. Acción (ofertas especiales, concursos, etc); \n",
    "# 2. Producto (publicidad directa sobre un producto, contenido explícito de la marca) \n",
    "# 3. Inspiración (contenido no relacionado explícitamente con la marca).\n",
    "\n",
    "sns.countplot(x='Type', hue='Category', data=facebook);"
   ]
  },
  {
   "cell_type": "code",
   "execution_count": null,
   "id": "9ba69f8d",
   "metadata": {},
   "outputs": [],
   "source": [
    "# Importancia de la categoría en el impacto\n",
    "sns.boxplot(x='Category', y='Total interactions', hue='Paid', data=facebook);\n",
    "plt.ylim([0,1000]);"
   ]
  },
  {
   "cell_type": "code",
   "execution_count": null,
   "id": "cd946dff",
   "metadata": {},
   "outputs": [],
   "source": [
    "# Importancia del tipo de post en el impacto\n",
    "sns.boxplot(x='Type', y='Total interactions', hue='Paid', data=facebook);\n",
    "plt.ylim([0,1000]);"
   ]
  },
  {
   "cell_type": "markdown",
   "id": "f3856100",
   "metadata": {},
   "source": [
    "- En promedio los post de tipo video obtienen más interacciones\n",
    "- Los posteos de fotos tienen el rango de variabilidad más grande, esto sugiere que el impacto depende fuertemente del contenido de la foto.\n",
    "- Los links tiene la peor performance en promedio.\n",
    "- No se ve diferencia entre pagar y no pagar por posteos de tipo link"
   ]
  },
  {
   "cell_type": "markdown",
   "id": "bb03eb20",
   "metadata": {},
   "source": [
    "### ¡Muchas gracias por la atención!"
   ]
  }
 ],
 "metadata": {
  "kernelspec": {
   "display_name": "pad_2025",
   "language": "python",
   "name": "python3"
  },
  "language_info": {
   "codemirror_mode": {
    "name": "ipython",
    "version": 3
   },
   "file_extension": ".py",
   "mimetype": "text/x-python",
   "name": "python",
   "nbconvert_exporter": "python",
   "pygments_lexer": "ipython3",
   "version": "3.11.12"
  }
 },
 "nbformat": 4,
 "nbformat_minor": 5
}
