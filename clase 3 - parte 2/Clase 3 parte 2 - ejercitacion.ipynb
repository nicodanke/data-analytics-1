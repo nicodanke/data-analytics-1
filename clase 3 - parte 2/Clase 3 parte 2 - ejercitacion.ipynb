{
 "cells": [
  {
   "cell_type": "markdown",
   "metadata": {},
   "source": [
    "<img src=\"img/Marca-ITBA-Color-ALTA.png\" width=\"250\">\n",
    "\n",
    "# Programación para el Análisis de Datos\n",
    "\n",
    "## Clase 3 parte 2 - ejercitación"
   ]
  },
  {
   "cell_type": "code",
   "execution_count": 1,
   "metadata": {},
   "outputs": [],
   "source": [
    "import numpy as np\n",
    "import pandas as pd"
   ]
  },
  {
   "cell_type": "markdown",
   "metadata": {},
   "source": [
    "### Ejercicio 1\n",
    "\n",
    "A partir de la siguiente `Serie` de datos, reemplazar las mayusculas por minusculas\n"
   ]
  },
  {
   "cell_type": "code",
   "execution_count": 2,
   "metadata": {},
   "outputs": [],
   "source": [
    "s = pd.Series(['X', 'Y', 'Z', 'Aaba', 'Baca', np.nan, 'CABA', None, 'bird', 'horse', 'dog'])\n"
   ]
  },
  {
   "cell_type": "code",
   "execution_count": 3,
   "metadata": {},
   "outputs": [
    {
     "data": {
      "text/plain": [
       "0         x\n",
       "1         y\n",
       "2         z\n",
       "3      aaba\n",
       "4      baca\n",
       "5       NaN\n",
       "6      caba\n",
       "7      None\n",
       "8      bird\n",
       "9     horse\n",
       "10      dog\n",
       "dtype: object"
      ]
     },
     "execution_count": 3,
     "metadata": {},
     "output_type": "execute_result"
    }
   ],
   "source": [
    "### Tu solución aquí:\n",
    "s.str.lower()"
   ]
  },
  {
   "cell_type": "markdown",
   "metadata": {},
   "source": [
    "### Ejercicio 2\n",
    "\n",
    "Reemplazar lo nulos (`None` y `np.nan`) de la serie por `'nulo'`"
   ]
  },
  {
   "cell_type": "code",
   "execution_count": 4,
   "metadata": {},
   "outputs": [],
   "source": [
    "s = pd.Series(['X', 'Y', 'Z', 'Aaba', 'Baca', np.nan, 'CABA', None, 'bird', 'horse', 'dog'])\n"
   ]
  },
  {
   "cell_type": "code",
   "execution_count": 7,
   "metadata": {},
   "outputs": [
    {
     "data": {
      "text/plain": [
       "0         X\n",
       "1         Y\n",
       "2         Z\n",
       "3      Aaba\n",
       "4      Baca\n",
       "5      nulo\n",
       "6      CABA\n",
       "7      nulo\n",
       "8      bird\n",
       "9     horse\n",
       "10      dog\n",
       "dtype: object"
      ]
     },
     "execution_count": 7,
     "metadata": {},
     "output_type": "execute_result"
    }
   ],
   "source": [
    "### Tu solución aquí:\n",
    "s = s.replace({np.nan: 'nulo', None: 'nulo'})\n",
    "\n",
    "s"
   ]
  },
  {
   "cell_type": "markdown",
   "metadata": {},
   "source": [
    "### Ejercicio 3\n",
    "\n",
    "Cambiar el formato de todas las columnas numéricas para que se expresen con 2 posiciones decimales.\n",
    "\n",
    "Ej: `0.1234`  $\\rightarrow$ `0.12`\n",
    "\n"
   ]
  },
  {
   "cell_type": "code",
   "execution_count": 8,
   "metadata": {},
   "outputs": [
    {
     "data": {
      "text/html": [
       "<div>\n",
       "<style scoped>\n",
       "    .dataframe tbody tr th:only-of-type {\n",
       "        vertical-align: middle;\n",
       "    }\n",
       "\n",
       "    .dataframe tbody tr th {\n",
       "        vertical-align: top;\n",
       "    }\n",
       "\n",
       "    .dataframe thead th {\n",
       "        text-align: right;\n",
       "    }\n",
       "</style>\n",
       "<table border=\"1\" class=\"dataframe\">\n",
       "  <thead>\n",
       "    <tr style=\"text-align: right;\">\n",
       "      <th></th>\n",
       "      <th>company_code</th>\n",
       "      <th>date_of_sale</th>\n",
       "      <th>sale_amount</th>\n",
       "      <th>unit_price</th>\n",
       "    </tr>\n",
       "  </thead>\n",
       "  <tbody>\n",
       "    <tr>\n",
       "      <th>0</th>\n",
       "      <td>Abcd</td>\n",
       "      <td>12/05/2002</td>\n",
       "      <td>123.48500</td>\n",
       "      <td>1.9990</td>\n",
       "    </tr>\n",
       "    <tr>\n",
       "      <th>1</th>\n",
       "      <td>EFGF</td>\n",
       "      <td>16/02/1999</td>\n",
       "      <td>233.33120</td>\n",
       "      <td>23.3333</td>\n",
       "    </tr>\n",
       "    <tr>\n",
       "      <th>2</th>\n",
       "      <td>skfsalf</td>\n",
       "      <td>25/09/1998</td>\n",
       "      <td>22.50000</td>\n",
       "      <td>0.2250</td>\n",
       "    </tr>\n",
       "    <tr>\n",
       "      <th>3</th>\n",
       "      <td>sdfslew</td>\n",
       "      <td>12/02/2022</td>\n",
       "      <td>2566.55200</td>\n",
       "      <td>15.6875</td>\n",
       "    </tr>\n",
       "    <tr>\n",
       "      <th>4</th>\n",
       "      <td>safsdf</td>\n",
       "      <td>15/09/1997</td>\n",
       "      <td>23.15807</td>\n",
       "      <td>0.0051</td>\n",
       "    </tr>\n",
       "  </tbody>\n",
       "</table>\n",
       "</div>"
      ],
      "text/plain": [
       "  company_code date_of_sale   sale_amount  unit_price\n",
       "0         Abcd    12/05/2002    123.48500      1.9990\n",
       "1         EFGF    16/02/1999    233.33120     23.3333\n",
       "2      skfsalf    25/09/1998     22.50000      0.2250\n",
       "3      sdfslew    12/02/2022   2566.55200     15.6875\n",
       "4       safsdf    15/09/1997     23.15807      0.0051"
      ]
     },
     "execution_count": 8,
     "metadata": {},
     "output_type": "execute_result"
    }
   ],
   "source": [
    "df = pd.DataFrame({\n",
    "    'company_code': ['Abcd','EFGF', 'skfsalf', 'sdfslew', 'safsdf'],\n",
    "    'date_of_sale ': ['12/05/2002','16/02/1999','25/09/1998','12/02/2022','15/09/1997'],\n",
    "    'sale_amount': [123.485, 233.3312, 22.5000, 2566.5520, 23.158070],\n",
    "    'unit_price': [1.999, 23.3333, 0.225000, 15.6875, 0.0051]})\n",
    "df"
   ]
  },
  {
   "cell_type": "code",
   "execution_count": 9,
   "metadata": {},
   "outputs": [
    {
     "data": {
      "text/html": [
       "<div>\n",
       "<style scoped>\n",
       "    .dataframe tbody tr th:only-of-type {\n",
       "        vertical-align: middle;\n",
       "    }\n",
       "\n",
       "    .dataframe tbody tr th {\n",
       "        vertical-align: top;\n",
       "    }\n",
       "\n",
       "    .dataframe thead th {\n",
       "        text-align: right;\n",
       "    }\n",
       "</style>\n",
       "<table border=\"1\" class=\"dataframe\">\n",
       "  <thead>\n",
       "    <tr style=\"text-align: right;\">\n",
       "      <th></th>\n",
       "      <th>company_code</th>\n",
       "      <th>date_of_sale</th>\n",
       "      <th>sale_amount</th>\n",
       "      <th>unit_price</th>\n",
       "    </tr>\n",
       "  </thead>\n",
       "  <tbody>\n",
       "    <tr>\n",
       "      <th>0</th>\n",
       "      <td>Abcd</td>\n",
       "      <td>12/05/2002</td>\n",
       "      <td>123.48</td>\n",
       "      <td>2.00</td>\n",
       "    </tr>\n",
       "    <tr>\n",
       "      <th>1</th>\n",
       "      <td>EFGF</td>\n",
       "      <td>16/02/1999</td>\n",
       "      <td>233.33</td>\n",
       "      <td>23.33</td>\n",
       "    </tr>\n",
       "    <tr>\n",
       "      <th>2</th>\n",
       "      <td>skfsalf</td>\n",
       "      <td>25/09/1998</td>\n",
       "      <td>22.50</td>\n",
       "      <td>0.22</td>\n",
       "    </tr>\n",
       "    <tr>\n",
       "      <th>3</th>\n",
       "      <td>sdfslew</td>\n",
       "      <td>12/02/2022</td>\n",
       "      <td>2566.55</td>\n",
       "      <td>15.69</td>\n",
       "    </tr>\n",
       "    <tr>\n",
       "      <th>4</th>\n",
       "      <td>safsdf</td>\n",
       "      <td>15/09/1997</td>\n",
       "      <td>23.16</td>\n",
       "      <td>0.01</td>\n",
       "    </tr>\n",
       "  </tbody>\n",
       "</table>\n",
       "</div>"
      ],
      "text/plain": [
       "  company_code date_of_sale   sale_amount  unit_price\n",
       "0         Abcd    12/05/2002       123.48        2.00\n",
       "1         EFGF    16/02/1999       233.33       23.33\n",
       "2      skfsalf    25/09/1998        22.50        0.22\n",
       "3      sdfslew    12/02/2022      2566.55       15.69\n",
       "4       safsdf    15/09/1997        23.16        0.01"
      ]
     },
     "execution_count": 9,
     "metadata": {},
     "output_type": "execute_result"
    }
   ],
   "source": [
    "### Completa con tu código aquí\n",
    "df = df.round(2)\n",
    "\n",
    "df\n",
    "###"
   ]
  },
  {
   "cell_type": "markdown",
   "metadata": {},
   "source": [
    "### Ejercicio 4\n",
    "\n",
    "Obtener el largo del texto que aparece en la columna `texto` y almacenarlo en la columna `text_len`.\n"
   ]
  },
  {
   "cell_type": "code",
   "execution_count": 10,
   "metadata": {},
   "outputs": [],
   "source": [
    "df = pd.DataFrame({\n",
    "    'texto': [\"Quisque\",\n",
    "            \"Mauris\",\n",
    "            \"Vest4bulum,\",\n",
    "            \"A 231\",\n",
    "            \"lñgula\"]\n",
    "})\n",
    "\n"
   ]
  },
  {
   "cell_type": "code",
   "execution_count": 16,
   "metadata": {},
   "outputs": [
    {
     "data": {
      "text/html": [
       "<div>\n",
       "<style scoped>\n",
       "    .dataframe tbody tr th:only-of-type {\n",
       "        vertical-align: middle;\n",
       "    }\n",
       "\n",
       "    .dataframe tbody tr th {\n",
       "        vertical-align: top;\n",
       "    }\n",
       "\n",
       "    .dataframe thead th {\n",
       "        text-align: right;\n",
       "    }\n",
       "</style>\n",
       "<table border=\"1\" class=\"dataframe\">\n",
       "  <thead>\n",
       "    <tr style=\"text-align: right;\">\n",
       "      <th></th>\n",
       "      <th>texto</th>\n",
       "      <th>text_len</th>\n",
       "    </tr>\n",
       "  </thead>\n",
       "  <tbody>\n",
       "    <tr>\n",
       "      <th>0</th>\n",
       "      <td>Quisque</td>\n",
       "      <td>7</td>\n",
       "    </tr>\n",
       "    <tr>\n",
       "      <th>1</th>\n",
       "      <td>Mauris</td>\n",
       "      <td>6</td>\n",
       "    </tr>\n",
       "    <tr>\n",
       "      <th>2</th>\n",
       "      <td>Vest4bulum,</td>\n",
       "      <td>11</td>\n",
       "    </tr>\n",
       "    <tr>\n",
       "      <th>3</th>\n",
       "      <td>A 231</td>\n",
       "      <td>5</td>\n",
       "    </tr>\n",
       "    <tr>\n",
       "      <th>4</th>\n",
       "      <td>lñgula</td>\n",
       "      <td>6</td>\n",
       "    </tr>\n",
       "  </tbody>\n",
       "</table>\n",
       "</div>"
      ],
      "text/plain": [
       "         texto  text_len\n",
       "0      Quisque         7\n",
       "1       Mauris         6\n",
       "2  Vest4bulum,        11\n",
       "3        A 231         5\n",
       "4       lñgula         6"
      ]
     },
     "execution_count": 16,
     "metadata": {},
     "output_type": "execute_result"
    }
   ],
   "source": [
    "### Completa con tu código aquí\n",
    "df.head()\n",
    "\n",
    "df['text_len'] = df['texto'].map(lambda x: len(x))\n",
    "\n",
    "df\n",
    "###"
   ]
  },
  {
   "cell_type": "code",
   "execution_count": null,
   "metadata": {},
   "outputs": [],
   "source": []
  }
 ],
 "metadata": {
  "kernelspec": {
   "display_name": "base",
   "language": "python",
   "name": "python3"
  },
  "language_info": {
   "codemirror_mode": {
    "name": "ipython",
    "version": 3
   },
   "file_extension": ".py",
   "mimetype": "text/x-python",
   "name": "python",
   "nbconvert_exporter": "python",
   "pygments_lexer": "ipython3",
   "version": "3.12.7"
  }
 },
 "nbformat": 4,
 "nbformat_minor": 4
}
