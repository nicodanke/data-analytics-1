{
 "cells": [
  {
   "cell_type": "markdown",
   "metadata": {},
   "source": [
    "<img src=\"datos/img/Marca-ITBA-Color-ALTA.png\" width=\"200\">\n",
    "\n",
    "# Clase 12 - Pandas - Transformación de datos\n",
    "\n",
    "\n",
    "**applymap()**: Solo disponible para `DataFrames`. Aplica una función para **cada uno** de los elementos\n",
    "\n",
    "**apply()** Disponible para `Series` y `DataFrames`. Se aplica una función sobre toda la **serie**. En el caso del `Dataframe`, que contiene multiples columnas, se aplica la función sobre cada una de las columnas.\n",
    "\n",
    "**map()** Solo disponible para `Series`. Aplica una función sobre cada uno de los elementos."
   ]
  },
  {
   "cell_type": "code",
   "execution_count": 1,
   "metadata": {},
   "outputs": [
    {
     "data": {
      "text/html": [
       "<div>\n",
       "<style scoped>\n",
       "    .dataframe tbody tr th:only-of-type {\n",
       "        vertical-align: middle;\n",
       "    }\n",
       "\n",
       "    .dataframe tbody tr th {\n",
       "        vertical-align: top;\n",
       "    }\n",
       "\n",
       "    .dataframe thead th {\n",
       "        text-align: right;\n",
       "    }\n",
       "</style>\n",
       "<table border=\"1\" class=\"dataframe\">\n",
       "  <thead>\n",
       "    <tr style=\"text-align: right;\">\n",
       "      <th></th>\n",
       "      <th>b</th>\n",
       "      <th>d</th>\n",
       "      <th>e</th>\n",
       "    </tr>\n",
       "  </thead>\n",
       "  <tbody>\n",
       "    <tr>\n",
       "      <th>Utah</th>\n",
       "      <td>0.848854</td>\n",
       "      <td>-0.828282</td>\n",
       "      <td>1.705294</td>\n",
       "    </tr>\n",
       "    <tr>\n",
       "      <th>Ohio</th>\n",
       "      <td>-0.777207</td>\n",
       "      <td>0.370354</td>\n",
       "      <td>-2.525608</td>\n",
       "    </tr>\n",
       "    <tr>\n",
       "      <th>Texas</th>\n",
       "      <td>-1.264096</td>\n",
       "      <td>-0.716700</td>\n",
       "      <td>0.863726</td>\n",
       "    </tr>\n",
       "    <tr>\n",
       "      <th>Oregon</th>\n",
       "      <td>0.589513</td>\n",
       "      <td>0.671146</td>\n",
       "      <td>-0.507900</td>\n",
       "    </tr>\n",
       "  </tbody>\n",
       "</table>\n",
       "</div>"
      ],
      "text/plain": [
       "               b         d         e\n",
       "Utah    0.848854 -0.828282  1.705294\n",
       "Ohio   -0.777207  0.370354 -2.525608\n",
       "Texas  -1.264096 -0.716700  0.863726\n",
       "Oregon  0.589513  0.671146 -0.507900"
      ]
     },
     "execution_count": 1,
     "metadata": {},
     "output_type": "execute_result"
    }
   ],
   "source": [
    "import numpy as np\n",
    "import pandas as pd\n",
    "df = pd.DataFrame(np.random.randn(4, 3), columns=list('bde'), index=['Utah', 'Ohio', 'Texas', 'Oregon'])\n",
    "df"
   ]
  },
  {
   "cell_type": "code",
   "execution_count": 2,
   "metadata": {},
   "outputs": [],
   "source": [
    "pd.set_option('display.max_rows', 100)"
   ]
  },
  {
   "cell_type": "code",
   "execution_count": 3,
   "metadata": {},
   "outputs": [
    {
     "data": {
      "text/html": [
       "<div>\n",
       "<style scoped>\n",
       "    .dataframe tbody tr th:only-of-type {\n",
       "        vertical-align: middle;\n",
       "    }\n",
       "\n",
       "    .dataframe tbody tr th {\n",
       "        vertical-align: top;\n",
       "    }\n",
       "\n",
       "    .dataframe thead th {\n",
       "        text-align: right;\n",
       "    }\n",
       "</style>\n",
       "<table border=\"1\" class=\"dataframe\">\n",
       "  <thead>\n",
       "    <tr style=\"text-align: right;\">\n",
       "      <th></th>\n",
       "      <th>orig_city</th>\n",
       "      <th>orig_lat</th>\n",
       "      <th>orig_long</th>\n",
       "      <th>dest_city</th>\n",
       "      <th>dest_lat</th>\n",
       "      <th>dest_long</th>\n",
       "    </tr>\n",
       "  </thead>\n",
       "  <tbody>\n",
       "    <tr>\n",
       "      <th>0</th>\n",
       "      <td>New York</td>\n",
       "      <td>40.7128</td>\n",
       "      <td>74.0060</td>\n",
       "      <td>Trenton</td>\n",
       "      <td>40.2206</td>\n",
       "      <td>40.2206</td>\n",
       "    </tr>\n",
       "    <tr>\n",
       "      <th>1</th>\n",
       "      <td>Charlotte</td>\n",
       "      <td>35.2271</td>\n",
       "      <td>80.8430</td>\n",
       "      <td>Texas</td>\n",
       "      <td>31.9686</td>\n",
       "      <td>31.9686</td>\n",
       "    </tr>\n",
       "    <tr>\n",
       "      <th>2</th>\n",
       "      <td>Boston</td>\n",
       "      <td>42.3600</td>\n",
       "      <td>71.0589</td>\n",
       "      <td>Sunnyvale</td>\n",
       "      <td>37.3688</td>\n",
       "      <td>37.3688</td>\n",
       "    </tr>\n",
       "    <tr>\n",
       "      <th>3</th>\n",
       "      <td>Bridgewater</td>\n",
       "      <td>40.5940</td>\n",
       "      <td>74.6040</td>\n",
       "      <td>San Jose</td>\n",
       "      <td>37.3382</td>\n",
       "      <td>37.3382</td>\n",
       "    </tr>\n",
       "  </tbody>\n",
       "</table>\n",
       "</div>"
      ],
      "text/plain": [
       "     orig_city  orig_lat  orig_long  dest_city  dest_lat  dest_long\n",
       "0     New York   40.7128    74.0060    Trenton   40.2206    40.2206\n",
       "1    Charlotte   35.2271    80.8430      Texas   31.9686    31.9686\n",
       "2       Boston   42.3600    71.0589  Sunnyvale   37.3688    37.3688\n",
       "3  Bridgewater   40.5940    74.6040   San Jose   37.3382    37.3382"
      ]
     },
     "execution_count": 3,
     "metadata": {},
     "output_type": "execute_result"
    }
   ],
   "source": [
    "df_coords = pd.DataFrame({'orig_city':['New York','Charlotte','Boston','Bridgewater'],\n",
    "'orig_lat':[40.7128,35.2271,42.36,40.594],\n",
    "'orig_long':[74.006,80.843,71.0589,74.604],\n",
    "'dest_city':['Trenton','Texas','Sunnyvale','San Jose'],\n",
    "'dest_lat':[40.2206,31.9686,37.3688,37.3382],\n",
    "'dest_long':[40.2206,31.9686,37.3688,37.3382]})\n",
    "df_coords"
   ]
  },
  {
   "cell_type": "code",
   "execution_count": 10,
   "metadata": {},
   "outputs": [],
   "source": [
    "from math import radians, cos, sin, asin, sqrt\n",
    "\n",
    "def haversine(row, rad):\n",
    "    \"\"\"\n",
    "    Calculate the great circle distance between two points\n",
    "    on the earth (specified in decimal degrees)\n",
    "    \"\"\"\n",
    "    # convert decimal degrees to radians\n",
    "    lon1, lat1, lon2, lat2 = map(radians, [row['dest_long'], row['dest_lat'],row['orig_long'], row['orig_lat']])\n",
    "\n",
    "    # haversine formula\n",
    "    dlon = lon2 - lon1\n",
    "    dlat = lat2 - lat1\n",
    "    a = sin(dlat/2)**2 + cos(lat1) * cos(lat2) * sin(dlon/2)**2\n",
    "    c = 2 * asin(sqrt(a))\n",
    "    r = rad # Radius of earth in kilometers. Use 3956 for miles\n",
    "    return c * r"
   ]
  },
  {
   "cell_type": "code",
   "execution_count": 11,
   "metadata": {},
   "outputs": [
    {
     "data": {
      "text/html": [
       "<div>\n",
       "<style scoped>\n",
       "    .dataframe tbody tr th:only-of-type {\n",
       "        vertical-align: middle;\n",
       "    }\n",
       "\n",
       "    .dataframe tbody tr th {\n",
       "        vertical-align: top;\n",
       "    }\n",
       "\n",
       "    .dataframe thead th {\n",
       "        text-align: right;\n",
       "    }\n",
       "</style>\n",
       "<table border=\"1\" class=\"dataframe\">\n",
       "  <thead>\n",
       "    <tr style=\"text-align: right;\">\n",
       "      <th></th>\n",
       "      <th>orig_city</th>\n",
       "      <th>orig_lat</th>\n",
       "      <th>orig_long</th>\n",
       "      <th>dest_city</th>\n",
       "      <th>dest_lat</th>\n",
       "      <th>dest_long</th>\n",
       "      <th>haversine_dist</th>\n",
       "    </tr>\n",
       "  </thead>\n",
       "  <tbody>\n",
       "    <tr>\n",
       "      <th>0</th>\n",
       "      <td>New York</td>\n",
       "      <td>40.7128</td>\n",
       "      <td>74.0060</td>\n",
       "      <td>Trenton</td>\n",
       "      <td>40.2206</td>\n",
       "      <td>40.2206</td>\n",
       "      <td>1763.974392</td>\n",
       "    </tr>\n",
       "    <tr>\n",
       "      <th>1</th>\n",
       "      <td>Charlotte</td>\n",
       "      <td>35.2271</td>\n",
       "      <td>80.8430</td>\n",
       "      <td>Texas</td>\n",
       "      <td>31.9686</td>\n",
       "      <td>31.9686</td>\n",
       "      <td>2791.594812</td>\n",
       "    </tr>\n",
       "    <tr>\n",
       "      <th>2</th>\n",
       "      <td>Boston</td>\n",
       "      <td>42.3600</td>\n",
       "      <td>71.0589</td>\n",
       "      <td>Sunnyvale</td>\n",
       "      <td>37.3688</td>\n",
       "      <td>37.3688</td>\n",
       "      <td>1806.117892</td>\n",
       "    </tr>\n",
       "    <tr>\n",
       "      <th>3</th>\n",
       "      <td>Bridgewater</td>\n",
       "      <td>40.5940</td>\n",
       "      <td>74.6040</td>\n",
       "      <td>San Jose</td>\n",
       "      <td>37.3382</td>\n",
       "      <td>37.3382</td>\n",
       "      <td>1998.176818</td>\n",
       "    </tr>\n",
       "  </tbody>\n",
       "</table>\n",
       "</div>"
      ],
      "text/plain": [
       "     orig_city  orig_lat  orig_long  dest_city  dest_lat  dest_long  \\\n",
       "0     New York   40.7128    74.0060    Trenton   40.2206    40.2206   \n",
       "1    Charlotte   35.2271    80.8430      Texas   31.9686    31.9686   \n",
       "2       Boston   42.3600    71.0589  Sunnyvale   37.3688    37.3688   \n",
       "3  Bridgewater   40.5940    74.6040   San Jose   37.3382    37.3382   \n",
       "\n",
       "   haversine_dist  \n",
       "0     1763.974392  \n",
       "1     2791.594812  \n",
       "2     1806.117892  \n",
       "3     1998.176818  "
      ]
     },
     "execution_count": 11,
     "metadata": {},
     "output_type": "execute_result"
    }
   ],
   "source": [
    "df_coords['haversine_dist']=df_coords.apply(haversine, axis=1, args=(3956,))\n",
    "df_coords"
   ]
  },
  {
   "cell_type": "markdown",
   "metadata": {},
   "source": [
    "### Caso de uso"
   ]
  },
  {
   "cell_type": "code",
   "execution_count": 12,
   "metadata": {
    "scrolled": false
   },
   "outputs": [
    {
     "data": {
      "text/html": [
       "<div>\n",
       "<style scoped>\n",
       "    .dataframe tbody tr th:only-of-type {\n",
       "        vertical-align: middle;\n",
       "    }\n",
       "\n",
       "    .dataframe tbody tr th {\n",
       "        vertical-align: top;\n",
       "    }\n",
       "\n",
       "    .dataframe thead th {\n",
       "        text-align: right;\n",
       "    }\n",
       "</style>\n",
       "<table border=\"1\" class=\"dataframe\">\n",
       "  <thead>\n",
       "    <tr style=\"text-align: right;\">\n",
       "      <th></th>\n",
       "      <th>Order Id</th>\n",
       "      <th>Date</th>\n",
       "      <th>Meal Id</th>\n",
       "      <th>Company Id</th>\n",
       "      <th>Date of Meal</th>\n",
       "      <th>Participants</th>\n",
       "      <th>Meal Price</th>\n",
       "      <th>Type of Meal</th>\n",
       "      <th>Heroes Adjustment</th>\n",
       "    </tr>\n",
       "  </thead>\n",
       "  <tbody>\n",
       "    <tr>\n",
       "      <th>49277</th>\n",
       "      <td>6C070JCLE49SNM7I</td>\n",
       "      <td>2018-04-27</td>\n",
       "      <td>8N2Y9Q4XVY0NY8TV</td>\n",
       "      <td>KOHVBXFCNVOGZHTE</td>\n",
       "      <td>2018-04-23 13:00:00+02:00</td>\n",
       "      <td>['Augustine Lewis']</td>\n",
       "      <td>730.0</td>\n",
       "      <td>Lunch</td>\n",
       "      <td>False</td>\n",
       "    </tr>\n",
       "    <tr>\n",
       "      <th>16397</th>\n",
       "      <td>3625F7MANQMM5P85</td>\n",
       "      <td>2016-12-02</td>\n",
       "      <td>80NR56WY8U7PIJK0</td>\n",
       "      <td>TPMYYKV7ATV54OVY</td>\n",
       "      <td>2016-11-27 13:00:00+01:00</td>\n",
       "      <td>['James Sullivan']</td>\n",
       "      <td>376.0</td>\n",
       "      <td>Lunch</td>\n",
       "      <td>False</td>\n",
       "    </tr>\n",
       "    <tr>\n",
       "      <th>3542</th>\n",
       "      <td>RMOQC2AS7O2O4NB8</td>\n",
       "      <td>2017-03-30</td>\n",
       "      <td>XD3HD6MV2GXG9AU3</td>\n",
       "      <td>Q8ZCVCZRB3C5X5PU</td>\n",
       "      <td>2017-03-26 20:00:00+02:00</td>\n",
       "      <td>['Angelita Chabot']</td>\n",
       "      <td>483.0</td>\n",
       "      <td>Dinner</td>\n",
       "      <td>False</td>\n",
       "    </tr>\n",
       "    <tr>\n",
       "      <th>45271</th>\n",
       "      <td>VF2DMQ4F3RG49V37</td>\n",
       "      <td>2016-08-19</td>\n",
       "      <td>T27BK6V2M32QGA5P</td>\n",
       "      <td>8HZ9X7SB7SDTZF07</td>\n",
       "      <td>2016-08-14 12:00:00+02:00</td>\n",
       "      <td>['Deedee Taylor' 'Cheryl Kuykendall' 'Jacqueli...</td>\n",
       "      <td>680.0</td>\n",
       "      <td>Lunch</td>\n",
       "      <td>False</td>\n",
       "    </tr>\n",
       "    <tr>\n",
       "      <th>26205</th>\n",
       "      <td>8JTWCPZ1B5M3Z1SN</td>\n",
       "      <td>2017-11-28</td>\n",
       "      <td>5T7RII9W453TY5BP</td>\n",
       "      <td>RFR6IND93D9FUN7Q</td>\n",
       "      <td>2017-11-24 20:00:00+01:00</td>\n",
       "      <td>['Albert Neeley' 'Fernando Ceja']</td>\n",
       "      <td>364.0</td>\n",
       "      <td>Dinner</td>\n",
       "      <td>False</td>\n",
       "    </tr>\n",
       "    <tr>\n",
       "      <th>37821</th>\n",
       "      <td>X7MVFKPA5UKVHPR2</td>\n",
       "      <td>2015-09-30</td>\n",
       "      <td>7LOC2YKG1B14DNU2</td>\n",
       "      <td>HDUJFXYHR6KD59HC</td>\n",
       "      <td>2015-09-27 09:00:00+02:00</td>\n",
       "      <td>['Michael Kaplan']</td>\n",
       "      <td>502.0</td>\n",
       "      <td>Breakfast</td>\n",
       "      <td>False</td>\n",
       "    </tr>\n",
       "    <tr>\n",
       "      <th>22721</th>\n",
       "      <td>YA9GYLN3JLKHQ1SK</td>\n",
       "      <td>2014-07-14</td>\n",
       "      <td>54V1JBXJRCJZE489</td>\n",
       "      <td>RCD4E5IGR476WJIN</td>\n",
       "      <td>2014-07-11 22:00:00+02:00</td>\n",
       "      <td>['Lila Jackson']</td>\n",
       "      <td>119.0</td>\n",
       "      <td>Dinner</td>\n",
       "      <td>False</td>\n",
       "    </tr>\n",
       "    <tr>\n",
       "      <th>18264</th>\n",
       "      <td>XXG5Y9KII4AEWCUR</td>\n",
       "      <td>2015-06-03</td>\n",
       "      <td>DD3UA6J7FN3P3ZLA</td>\n",
       "      <td>RNWCSFSIERU5N6P6</td>\n",
       "      <td>2015-05-31 09:00:00+02:00</td>\n",
       "      <td>['Sharon Tedrow']</td>\n",
       "      <td>692.0</td>\n",
       "      <td>Breakfast</td>\n",
       "      <td>False</td>\n",
       "    </tr>\n",
       "    <tr>\n",
       "      <th>28307</th>\n",
       "      <td>PKTJ3VMRY4GCEZB7</td>\n",
       "      <td>2018-07-09</td>\n",
       "      <td>2Y31WZ5RRNAOOSOE</td>\n",
       "      <td>QHX0B3XKDRLEWSA7</td>\n",
       "      <td>2018-07-09 22:00:00+02:00</td>\n",
       "      <td>['Mary Carrillo']</td>\n",
       "      <td>594.0</td>\n",
       "      <td>Dinner</td>\n",
       "      <td>False</td>\n",
       "    </tr>\n",
       "    <tr>\n",
       "      <th>43447</th>\n",
       "      <td>5VZGL8I5T47G3DE1</td>\n",
       "      <td>2018-08-30</td>\n",
       "      <td>M11IC79JHGM8II6J</td>\n",
       "      <td>MVZ7PBJPYARTK66G</td>\n",
       "      <td>2018-08-31 13:00:00+02:00</td>\n",
       "      <td>['Bobbie Mcdaniel']</td>\n",
       "      <td>220.0</td>\n",
       "      <td>Lunch</td>\n",
       "      <td>False</td>\n",
       "    </tr>\n",
       "  </tbody>\n",
       "</table>\n",
       "</div>"
      ],
      "text/plain": [
       "               Order Id        Date           Meal Id        Company Id  \\\n",
       "49277  6C070JCLE49SNM7I  2018-04-27  8N2Y9Q4XVY0NY8TV  KOHVBXFCNVOGZHTE   \n",
       "16397  3625F7MANQMM5P85  2016-12-02  80NR56WY8U7PIJK0  TPMYYKV7ATV54OVY   \n",
       "3542   RMOQC2AS7O2O4NB8  2017-03-30  XD3HD6MV2GXG9AU3  Q8ZCVCZRB3C5X5PU   \n",
       "45271  VF2DMQ4F3RG49V37  2016-08-19  T27BK6V2M32QGA5P  8HZ9X7SB7SDTZF07   \n",
       "26205  8JTWCPZ1B5M3Z1SN  2017-11-28  5T7RII9W453TY5BP  RFR6IND93D9FUN7Q   \n",
       "37821  X7MVFKPA5UKVHPR2  2015-09-30  7LOC2YKG1B14DNU2  HDUJFXYHR6KD59HC   \n",
       "22721  YA9GYLN3JLKHQ1SK  2014-07-14  54V1JBXJRCJZE489  RCD4E5IGR476WJIN   \n",
       "18264  XXG5Y9KII4AEWCUR  2015-06-03  DD3UA6J7FN3P3ZLA  RNWCSFSIERU5N6P6   \n",
       "28307  PKTJ3VMRY4GCEZB7  2018-07-09  2Y31WZ5RRNAOOSOE  QHX0B3XKDRLEWSA7   \n",
       "43447  5VZGL8I5T47G3DE1  2018-08-30  M11IC79JHGM8II6J  MVZ7PBJPYARTK66G   \n",
       "\n",
       "                    Date of Meal  \\\n",
       "49277  2018-04-23 13:00:00+02:00   \n",
       "16397  2016-11-27 13:00:00+01:00   \n",
       "3542   2017-03-26 20:00:00+02:00   \n",
       "45271  2016-08-14 12:00:00+02:00   \n",
       "26205  2017-11-24 20:00:00+01:00   \n",
       "37821  2015-09-27 09:00:00+02:00   \n",
       "22721  2014-07-11 22:00:00+02:00   \n",
       "18264  2015-05-31 09:00:00+02:00   \n",
       "28307  2018-07-09 22:00:00+02:00   \n",
       "43447  2018-08-31 13:00:00+02:00   \n",
       "\n",
       "                                            Participants  Meal Price  \\\n",
       "49277                                ['Augustine Lewis']       730.0   \n",
       "16397                                 ['James Sullivan']       376.0   \n",
       "3542                                 ['Angelita Chabot']       483.0   \n",
       "45271  ['Deedee Taylor' 'Cheryl Kuykendall' 'Jacqueli...       680.0   \n",
       "26205                  ['Albert Neeley' 'Fernando Ceja']       364.0   \n",
       "37821                                 ['Michael Kaplan']       502.0   \n",
       "22721                                   ['Lila Jackson']       119.0   \n",
       "18264                                  ['Sharon Tedrow']       692.0   \n",
       "28307                                  ['Mary Carrillo']       594.0   \n",
       "43447                                ['Bobbie Mcdaniel']       220.0   \n",
       "\n",
       "      Type of Meal  Heroes Adjustment  \n",
       "49277        Lunch              False  \n",
       "16397        Lunch              False  \n",
       "3542        Dinner              False  \n",
       "45271        Lunch              False  \n",
       "26205       Dinner              False  \n",
       "37821    Breakfast              False  \n",
       "22721       Dinner              False  \n",
       "18264    Breakfast              False  \n",
       "28307       Dinner              False  \n",
       "43447        Lunch              False  "
      ]
     },
     "execution_count": 12,
     "metadata": {},
     "output_type": "execute_result"
    }
   ],
   "source": [
    "import pandas as pd\n",
    "import numpy as np\n",
    "invoices = pd.read_csv('datos/data/invoices.csv', index_col=0)\n",
    "invoices.sample(10)"
   ]
  },
  {
   "cell_type": "code",
   "execution_count": 13,
   "metadata": {},
   "outputs": [
    {
     "data": {
      "text/plain": [
       "Order Id              object\n",
       "Date                  object\n",
       "Meal Id               object\n",
       "Company Id            object\n",
       "Date of Meal          object\n",
       "Participants          object\n",
       "Meal Price           float64\n",
       "Type of Meal          object\n",
       "Heroes Adjustment       bool\n",
       "dtype: object"
      ]
     },
     "execution_count": 13,
     "metadata": {},
     "output_type": "execute_result"
    }
   ],
   "source": [
    "invoices.dtypes"
   ]
  },
  {
   "cell_type": "markdown",
   "metadata": {},
   "source": [
    "### Ejercicio\n",
    "\n",
    "* ¿Qué estructura de datos tiene la columna Participants?\n",
    "\n",
    "* Transformarla de modo tal que contenga listas con los participantes"
   ]
  },
  {
   "cell_type": "code",
   "execution_count": 19,
   "metadata": {},
   "outputs": [
    {
     "data": {
      "text/plain": [
       "45578    ['Robert Poux' 'Seth Padilla' 'Shane Laford' '...\n",
       "8573     ['Sherry Powers' 'Elaine Steichen' 'Sally Evans']\n",
       "18988                ['Cynthia Moore' 'Virginia Caldwell']\n",
       "Name: Participants, dtype: object"
      ]
     },
     "execution_count": 19,
     "metadata": {},
     "output_type": "execute_result"
    }
   ],
   "source": [
    "invoices['Participants'].sample(3)"
   ]
  },
  {
   "cell_type": "code",
   "execution_count": 20,
   "metadata": {},
   "outputs": [
    {
     "name": "stdout",
     "output_type": "stream",
     "text": [
      "['Grace Savage' 'Anna Saucedo']\n"
     ]
    },
    {
     "data": {
      "text/plain": [
       "str"
      ]
     },
     "execution_count": 20,
     "metadata": {},
     "output_type": "execute_result"
    }
   ],
   "source": [
    "print(invoices['Participants'].loc[21909])\n",
    "type(invoices['Participants'].loc[21909])"
   ]
  },
  {
   "cell_type": "code",
   "execution_count": 25,
   "metadata": {},
   "outputs": [
    {
     "data": {
      "text/plain": [
       "\"['Grace Savage' 'Anna Saucedo']\""
      ]
     },
     "execution_count": 25,
     "metadata": {},
     "output_type": "execute_result"
    }
   ],
   "source": [
    "s = invoices['Participants'].loc[21909]\n",
    "s"
   ]
  },
  {
   "cell_type": "code",
   "execution_count": 38,
   "metadata": {},
   "outputs": [
    {
     "data": {
      "text/plain": [
       "['Grace Savage', 'Anna Saucedo']"
      ]
     },
     "execution_count": 38,
     "metadata": {},
     "output_type": "execute_result"
    }
   ],
   "source": [
    "s = invoices['Participants'].loc[21909]\n",
    "s = s.strip()\n",
    "# s = s.replace('[', '')\n",
    "# s = s.replace(']', '')\n",
    "s = s[1:-1]\n",
    "s = s.split(\"'\")\n",
    "s = [x for x in s if x.strip()]\n",
    "s"
   ]
  },
  {
   "cell_type": "code",
   "execution_count": 39,
   "metadata": {},
   "outputs": [],
   "source": [
    "from typing import List"
   ]
  },
  {
   "cell_type": "code",
   "execution_count": 40,
   "metadata": {},
   "outputs": [],
   "source": [
    "def list_participants(s: str) -> List[str]:\n",
    "    s = s.strip()\n",
    "    s = s[1:-1]\n",
    "    s = s.split(\"'\")\n",
    "    s = [x for x in s if x.strip()]\n",
    "    return s"
   ]
  },
  {
   "cell_type": "code",
   "execution_count": 41,
   "metadata": {},
   "outputs": [
    {
     "data": {
      "text/plain": [
       "0                         [David Bishop]\n",
       "1                         [David Bishop]\n",
       "2                       [Karen Stansell]\n",
       "3                         [Addie Patino]\n",
       "4         [Addie Patino, Susan Guerrero]\n",
       "                      ...               \n",
       "50012                   [Regina Shirley]\n",
       "50013    [Robin Ramos, Chester Mortimer]\n",
       "50014                      [Robin Ramos]\n",
       "50015    [Chester Mortimer, Robin Ramos]\n",
       "50016    [Chester Mortimer, Robin Ramos]\n",
       "Name: Participants, Length: 50017, dtype: object"
      ]
     },
     "execution_count": 41,
     "metadata": {},
     "output_type": "execute_result"
    }
   ],
   "source": [
    "invoices['Participants'] = invoices['Participants'].apply(list_participants)"
   ]
  },
  {
   "cell_type": "code",
   "execution_count": 46,
   "metadata": {},
   "outputs": [
    {
     "data": {
      "text/plain": [
       "27341    [Aubrey Jensen]\n",
       "Name: Participants, dtype: object"
      ]
     },
     "execution_count": 46,
     "metadata": {},
     "output_type": "execute_result"
    }
   ],
   "source": [
    "invoices['Participants'].sample()"
   ]
  },
  {
   "cell_type": "markdown",
   "metadata": {},
   "source": [
    "### Funciones para transformar los tipos de datos\n",
    "\n",
    "```\n",
    "astype('dtype')\n",
    "pd.to_numeric()\n",
    "pd.to_datetime()\n",
    "pd.to_timedelta()\n",
    "```"
   ]
  },
  {
   "cell_type": "code",
   "execution_count": 53,
   "metadata": {},
   "outputs": [
    {
     "data": {
      "text/plain": [
       "False"
      ]
     },
     "execution_count": 53,
     "metadata": {},
     "output_type": "execute_result"
    }
   ],
   "source": [
    "(invoices['Meal Price'] % 1 != 0).any()"
   ]
  },
  {
   "cell_type": "code",
   "execution_count": 55,
   "metadata": {},
   "outputs": [],
   "source": [
    "invoices['Type of Meal'] = invoices['Type of Meal'].astype('category')\n",
    "\n",
    "invoices['Date'] = invoices['Date'].astype('datetime64')\n",
    "\n",
    "invoices['Meal Price'] = invoices['Meal Price'].astype('int')"
   ]
  },
  {
   "cell_type": "code",
   "execution_count": 57,
   "metadata": {
    "scrolled": true
   },
   "outputs": [
    {
     "data": {
      "text/plain": [
       "Order Id                     object\n",
       "Date                 datetime64[ns]\n",
       "Meal Id                      object\n",
       "Company Id                   object\n",
       "Date of Meal                 object\n",
       "Participants                 object\n",
       "Meal Price                    int64\n",
       "Type of Meal               category\n",
       "Heroes Adjustment              bool\n",
       "dtype: object"
      ]
     },
     "execution_count": 57,
     "metadata": {},
     "output_type": "execute_result"
    }
   ],
   "source": [
    "invoices.dtypes"
   ]
  },
  {
   "cell_type": "code",
   "execution_count": 59,
   "metadata": {},
   "outputs": [
    {
     "data": {
      "text/plain": [
       "Order Id             0\n",
       "Date                 0\n",
       "Meal Id              0\n",
       "Company Id           0\n",
       "Date of Meal         0\n",
       "Participants         0\n",
       "Meal Price           0\n",
       "Type of Meal         0\n",
       "Heroes Adjustment    0\n",
       "dtype: int64"
      ]
     },
     "execution_count": 59,
     "metadata": {},
     "output_type": "execute_result"
    }
   ],
   "source": [
    "invoices.isnull().sum()"
   ]
  },
  {
   "cell_type": "code",
   "execution_count": 60,
   "metadata": {},
   "outputs": [],
   "source": [
    "invoices.loc[[10, 11, 12], 'Meal Price'] = 'nulo'"
   ]
  },
  {
   "cell_type": "code",
   "execution_count": 62,
   "metadata": {},
   "outputs": [
    {
     "data": {
      "text/plain": [
       "dtype('O')"
      ]
     },
     "execution_count": 62,
     "metadata": {},
     "output_type": "execute_result"
    }
   ],
   "source": [
    "invoices['Meal Price'].dtype"
   ]
  },
  {
   "cell_type": "code",
   "execution_count": 61,
   "metadata": {},
   "outputs": [
    {
     "name": "stdout",
     "output_type": "stream",
     "text": [
      "invalid literal for int() with base 10: 'nulo'\n"
     ]
    }
   ],
   "source": [
    "try:\n",
    "    invoices['Meal Price'].astype(int)\n",
    "except Exception as e:\n",
    "    print(e)"
   ]
  },
  {
   "cell_type": "code",
   "execution_count": 63,
   "metadata": {},
   "outputs": [
    {
     "data": {
      "text/plain": [
       "pandas.core.series.Series"
      ]
     },
     "execution_count": 63,
     "metadata": {},
     "output_type": "execute_result"
    }
   ],
   "source": [
    "type(invoices['Meal Price'])"
   ]
  },
  {
   "cell_type": "code",
   "execution_count": 65,
   "metadata": {},
   "outputs": [
    {
     "data": {
      "text/plain": [
       "<class 'int'>    50014\n",
       "<class 'str'>        3\n",
       "Name: Meal Price, dtype: int64"
      ]
     },
     "execution_count": 65,
     "metadata": {},
     "output_type": "execute_result"
    }
   ],
   "source": [
    "invoices['Meal Price'].apply(lambda x: type(x)).value_counts()"
   ]
  },
  {
   "cell_type": "code",
   "execution_count": 69,
   "metadata": {},
   "outputs": [
    {
     "data": {
      "text/plain": [
       "10    nulo\n",
       "11    nulo\n",
       "12    nulo\n",
       "Name: Meal Price, dtype: object"
      ]
     },
     "execution_count": 69,
     "metadata": {},
     "output_type": "execute_result"
    }
   ],
   "source": [
    "mask = invoices['Meal Price'].apply(lambda x: isinstance(x,str))\n",
    "invoices.loc[mask, 'Meal Price']"
   ]
  },
  {
   "cell_type": "code",
   "execution_count": 71,
   "metadata": {},
   "outputs": [],
   "source": [
    "invoices['Meal Price'] = pd.to_numeric(invoices['Meal Price'], errors='coerce')"
   ]
  },
  {
   "cell_type": "code",
   "execution_count": 72,
   "metadata": {},
   "outputs": [
    {
     "data": {
      "text/html": [
       "<div>\n",
       "<style scoped>\n",
       "    .dataframe tbody tr th:only-of-type {\n",
       "        vertical-align: middle;\n",
       "    }\n",
       "\n",
       "    .dataframe tbody tr th {\n",
       "        vertical-align: top;\n",
       "    }\n",
       "\n",
       "    .dataframe thead th {\n",
       "        text-align: right;\n",
       "    }\n",
       "</style>\n",
       "<table border=\"1\" class=\"dataframe\">\n",
       "  <thead>\n",
       "    <tr style=\"text-align: right;\">\n",
       "      <th></th>\n",
       "      <th>Order Id</th>\n",
       "      <th>Date</th>\n",
       "      <th>Meal Id</th>\n",
       "      <th>Company Id</th>\n",
       "      <th>Date of Meal</th>\n",
       "      <th>Participants</th>\n",
       "      <th>Meal Price</th>\n",
       "      <th>Type of Meal</th>\n",
       "      <th>Heroes Adjustment</th>\n",
       "    </tr>\n",
       "  </thead>\n",
       "  <tbody>\n",
       "    <tr>\n",
       "      <th>10</th>\n",
       "      <td>YITOTLOF0MWZ0VYX</td>\n",
       "      <td>2016-10-03</td>\n",
       "      <td>RGYX8772307H78ON</td>\n",
       "      <td>36MFTZOYMTAJP1RK</td>\n",
       "      <td>2016-10-01 22:00:00+02:00</td>\n",
       "      <td>[Ginger Hoagland, Amanda Knowles, Michael White]</td>\n",
       "      <td>NaN</td>\n",
       "      <td>Dinner</td>\n",
       "      <td>False</td>\n",
       "    </tr>\n",
       "    <tr>\n",
       "      <th>11</th>\n",
       "      <td>8RIGCF74GUEQHQEE</td>\n",
       "      <td>2018-07-23</td>\n",
       "      <td>5XK0KTFTD6OAP9ZP</td>\n",
       "      <td>36MFTZOYMTAJP1RK</td>\n",
       "      <td>2018-07-27 08:00:00+02:00</td>\n",
       "      <td>[Amanda Knowles]</td>\n",
       "      <td>NaN</td>\n",
       "      <td>Breakfast</td>\n",
       "      <td>False</td>\n",
       "    </tr>\n",
       "    <tr>\n",
       "      <th>12</th>\n",
       "      <td>TH60C9D8TPYS7DGG</td>\n",
       "      <td>2016-12-15</td>\n",
       "      <td>KDSMP2VJ22HNEPYF</td>\n",
       "      <td>36MFTZOYMTAJP1RK</td>\n",
       "      <td>2016-12-13 08:00:00+01:00</td>\n",
       "      <td>[Cheryl Feaster, Bret Adams, Ginger Hoagland]</td>\n",
       "      <td>NaN</td>\n",
       "      <td>Breakfast</td>\n",
       "      <td>False</td>\n",
       "    </tr>\n",
       "  </tbody>\n",
       "</table>\n",
       "</div>"
      ],
      "text/plain": [
       "            Order Id       Date           Meal Id        Company Id  \\\n",
       "10  YITOTLOF0MWZ0VYX 2016-10-03  RGYX8772307H78ON  36MFTZOYMTAJP1RK   \n",
       "11  8RIGCF74GUEQHQEE 2018-07-23  5XK0KTFTD6OAP9ZP  36MFTZOYMTAJP1RK   \n",
       "12  TH60C9D8TPYS7DGG 2016-12-15  KDSMP2VJ22HNEPYF  36MFTZOYMTAJP1RK   \n",
       "\n",
       "                 Date of Meal  \\\n",
       "10  2016-10-01 22:00:00+02:00   \n",
       "11  2018-07-27 08:00:00+02:00   \n",
       "12  2016-12-13 08:00:00+01:00   \n",
       "\n",
       "                                        Participants  Meal Price Type of Meal  \\\n",
       "10  [Ginger Hoagland, Amanda Knowles, Michael White]         NaN       Dinner   \n",
       "11                                  [Amanda Knowles]         NaN    Breakfast   \n",
       "12     [Cheryl Feaster, Bret Adams, Ginger Hoagland]         NaN    Breakfast   \n",
       "\n",
       "    Heroes Adjustment  \n",
       "10              False  \n",
       "11              False  \n",
       "12              False  "
      ]
     },
     "execution_count": 72,
     "metadata": {},
     "output_type": "execute_result"
    }
   ],
   "source": [
    "invoices.loc[[10,11,12]]"
   ]
  },
  {
   "cell_type": "code",
   "execution_count": 73,
   "metadata": {},
   "outputs": [
    {
     "data": {
      "text/plain": [
       "<class 'float'>    50017\n",
       "Name: Meal Price, dtype: int64"
      ]
     },
     "execution_count": 73,
     "metadata": {},
     "output_type": "execute_result"
    }
   ],
   "source": [
    "invoices['Meal Price'].apply(lambda x: type(x)).value_counts()"
   ]
  },
  {
   "cell_type": "code",
   "execution_count": 77,
   "metadata": {},
   "outputs": [
    {
     "data": {
      "text/plain": [
       "<AxesSubplot:>"
      ]
     },
     "execution_count": 77,
     "metadata": {},
     "output_type": "execute_result"
    },
    {
     "data": {
      "image/png": "[encoded data removed]",
      "text/plain": [
       "<Figure size 432x288 with 1 Axes>"
      ]
     },
     "metadata": {
      "needs_background": "light"
     },
     "output_type": "display_data"
    }
   ],
   "source": [
    "invoices['Meal Price'].hist(bins=50)"
   ]
  },
  {
   "cell_type": "code",
   "execution_count": 74,
   "metadata": {},
   "outputs": [
    {
     "data": {
      "text/plain": [
       "398.0"
      ]
     },
     "execution_count": 74,
     "metadata": {},
     "output_type": "execute_result"
    }
   ],
   "source": [
    "invoices['Meal Price'].median()"
   ]
  },
  {
   "cell_type": "code",
   "execution_count": 85,
   "metadata": {},
   "outputs": [
    {
     "data": {
      "text/plain": [
       "3"
      ]
     },
     "execution_count": 85,
     "metadata": {},
     "output_type": "execute_result"
    }
   ],
   "source": [
    "round(2.8)"
   ]
  },
  {
   "cell_type": "code",
   "execution_count": 79,
   "metadata": {},
   "outputs": [],
   "source": [
    "invoices['Meal Price'] = invoices['Meal Price'].fillna(invoices['Meal Price'].median())\n",
    "invoices['Meal Price'] = invoices['Meal Price'].astype(int)"
   ]
  },
  {
   "cell_type": "code",
   "execution_count": 80,
   "metadata": {},
   "outputs": [
    {
     "data": {
      "text/html": [
       "<div>\n",
       "<style scoped>\n",
       "    .dataframe tbody tr th:only-of-type {\n",
       "        vertical-align: middle;\n",
       "    }\n",
       "\n",
       "    .dataframe tbody tr th {\n",
       "        vertical-align: top;\n",
       "    }\n",
       "\n",
       "    .dataframe thead th {\n",
       "        text-align: right;\n",
       "    }\n",
       "</style>\n",
       "<table border=\"1\" class=\"dataframe\">\n",
       "  <thead>\n",
       "    <tr style=\"text-align: right;\">\n",
       "      <th></th>\n",
       "      <th>Order Id</th>\n",
       "      <th>Date</th>\n",
       "      <th>Meal Id</th>\n",
       "      <th>Company Id</th>\n",
       "      <th>Date of Meal</th>\n",
       "      <th>Participants</th>\n",
       "      <th>Meal Price</th>\n",
       "      <th>Type of Meal</th>\n",
       "      <th>Heroes Adjustment</th>\n",
       "    </tr>\n",
       "  </thead>\n",
       "  <tbody>\n",
       "    <tr>\n",
       "      <th>10</th>\n",
       "      <td>YITOTLOF0MWZ0VYX</td>\n",
       "      <td>2016-10-03</td>\n",
       "      <td>RGYX8772307H78ON</td>\n",
       "      <td>36MFTZOYMTAJP1RK</td>\n",
       "      <td>2016-10-01 22:00:00+02:00</td>\n",
       "      <td>[Ginger Hoagland, Amanda Knowles, Michael White]</td>\n",
       "      <td>398</td>\n",
       "      <td>Dinner</td>\n",
       "      <td>False</td>\n",
       "    </tr>\n",
       "    <tr>\n",
       "      <th>11</th>\n",
       "      <td>8RIGCF74GUEQHQEE</td>\n",
       "      <td>2018-07-23</td>\n",
       "      <td>5XK0KTFTD6OAP9ZP</td>\n",
       "      <td>36MFTZOYMTAJP1RK</td>\n",
       "      <td>2018-07-27 08:00:00+02:00</td>\n",
       "      <td>[Amanda Knowles]</td>\n",
       "      <td>398</td>\n",
       "      <td>Breakfast</td>\n",
       "      <td>False</td>\n",
       "    </tr>\n",
       "    <tr>\n",
       "      <th>12</th>\n",
       "      <td>TH60C9D8TPYS7DGG</td>\n",
       "      <td>2016-12-15</td>\n",
       "      <td>KDSMP2VJ22HNEPYF</td>\n",
       "      <td>36MFTZOYMTAJP1RK</td>\n",
       "      <td>2016-12-13 08:00:00+01:00</td>\n",
       "      <td>[Cheryl Feaster, Bret Adams, Ginger Hoagland]</td>\n",
       "      <td>398</td>\n",
       "      <td>Breakfast</td>\n",
       "      <td>False</td>\n",
       "    </tr>\n",
       "  </tbody>\n",
       "</table>\n",
       "</div>"
      ],
      "text/plain": [
       "            Order Id       Date           Meal Id        Company Id  \\\n",
       "10  YITOTLOF0MWZ0VYX 2016-10-03  RGYX8772307H78ON  36MFTZOYMTAJP1RK   \n",
       "11  8RIGCF74GUEQHQEE 2018-07-23  5XK0KTFTD6OAP9ZP  36MFTZOYMTAJP1RK   \n",
       "12  TH60C9D8TPYS7DGG 2016-12-15  KDSMP2VJ22HNEPYF  36MFTZOYMTAJP1RK   \n",
       "\n",
       "                 Date of Meal  \\\n",
       "10  2016-10-01 22:00:00+02:00   \n",
       "11  2018-07-27 08:00:00+02:00   \n",
       "12  2016-12-13 08:00:00+01:00   \n",
       "\n",
       "                                        Participants  Meal Price Type of Meal  \\\n",
       "10  [Ginger Hoagland, Amanda Knowles, Michael White]         398       Dinner   \n",
       "11                                  [Amanda Knowles]         398    Breakfast   \n",
       "12     [Cheryl Feaster, Bret Adams, Ginger Hoagland]         398    Breakfast   \n",
       "\n",
       "    Heroes Adjustment  \n",
       "10              False  \n",
       "11              False  \n",
       "12              False  "
      ]
     },
     "execution_count": 80,
     "metadata": {},
     "output_type": "execute_result"
    }
   ],
   "source": [
    "invoices.loc[[10,11,12]]"
   ]
  },
  {
   "cell_type": "markdown",
   "metadata": {},
   "source": [
    "### Fechas\n"
   ]
  },
  {
   "cell_type": "code",
   "execution_count": 89,
   "metadata": {},
   "outputs": [
    {
     "name": "stdout",
     "output_type": "stream",
     "text": [
      "2020-08-01 00:00:00\n",
      "2020-08-01 00:00:00\n",
      "2020-08-01 00:00:00\n",
      "2020-08-01 00:00:00\n",
      "2020-08-01 00:00:00\n",
      "2020-08-01 00:00:00\n",
      "2020-08-01 00:00:00\n",
      "2020-08-01 00:00:00\n"
     ]
    }
   ],
   "source": [
    "print(pd.to_datetime('2020-8-1'))\n",
    "print(pd.to_datetime('2020/8/1'))\n",
    "print(pd.to_datetime('8/1/2020'))\n",
    "print(pd.to_datetime('Aug, 1 2020'))\n",
    "print(pd.to_datetime('Aug - 1 2020'))\n",
    "print(pd.to_datetime('August - 1 2020'))\n",
    "print(pd.to_datetime('2020, August - 1'))\n",
    "print(pd.to_datetime('20200108', format=\"%Y%d%m\"))"
   ]
  },
  {
   "cell_type": "code",
   "execution_count": 91,
   "metadata": {},
   "outputs": [
    {
     "data": {
      "text/plain": [
       "0       2016-05-27\n",
       "1       2018-09-27\n",
       "2       2014-08-24\n",
       "3       2014-04-12\n",
       "4       2015-07-28\n",
       "           ...    \n",
       "50012   2017-09-20\n",
       "50013   2018-03-19\n",
       "50014   2017-09-21\n",
       "50015   2018-01-28\n",
       "50016   2017-09-06\n",
       "Name: Date, Length: 50017, dtype: datetime64[ns]"
      ]
     },
     "execution_count": 91,
     "metadata": {},
     "output_type": "execute_result"
    }
   ],
   "source": [
    "invoices['Date']"
   ]
  },
  {
   "cell_type": "code",
   "execution_count": 92,
   "metadata": {
    "scrolled": false
   },
   "outputs": [
    {
     "data": {
      "text/plain": [
       "0        2016-05-27\n",
       "1        2018-09-27\n",
       "2        2014-08-24\n",
       "3        2014-04-12\n",
       "4        2015-07-28\n",
       "            ...    \n",
       "50012    2017-09-20\n",
       "50013    2018-03-19\n",
       "50014    2017-09-21\n",
       "50015    2018-01-28\n",
       "50016    2017-09-06\n",
       "Name: Date, Length: 50017, dtype: object"
      ]
     },
     "execution_count": 92,
     "metadata": {},
     "output_type": "execute_result"
    }
   ],
   "source": [
    "invoices['Date'].dt.date"
   ]
  },
  {
   "cell_type": "code",
   "execution_count": 121,
   "metadata": {},
   "outputs": [
    {
     "data": {
      "text/plain": [
       "0           Friday\n",
       "1         Thursday\n",
       "2           Sunday\n",
       "3         Saturday\n",
       "4          Tuesday\n",
       "           ...    \n",
       "50012    Wednesday\n",
       "50013       Monday\n",
       "50014     Thursday\n",
       "50015       Sunday\n",
       "50016    Wednesday\n",
       "Name: Date, Length: 50017, dtype: object"
      ]
     },
     "execution_count": 121,
     "metadata": {},
     "output_type": "execute_result"
    }
   ],
   "source": [
    "invoices['Date'].dt.day_name()"
   ]
  },
  {
   "cell_type": "code",
   "execution_count": 98,
   "metadata": {},
   "outputs": [
    {
     "data": {
      "text/plain": [
       "0              May\n",
       "1        September\n",
       "2           August\n",
       "3            April\n",
       "4             July\n",
       "           ...    \n",
       "50012    September\n",
       "50013        March\n",
       "50014    September\n",
       "50015      January\n",
       "50016    September\n",
       "Name: Date, Length: 50017, dtype: object"
      ]
     },
     "execution_count": 98,
     "metadata": {},
     "output_type": "execute_result"
    }
   ],
   "source": [
    "invoices['Date'].dt.month_name()"
   ]
  },
  {
   "cell_type": "code",
   "execution_count": 99,
   "metadata": {},
   "outputs": [
    {
     "data": {
      "text/plain": [
       "0        31\n",
       "1        30\n",
       "2        31\n",
       "3        30\n",
       "4        31\n",
       "         ..\n",
       "50012    30\n",
       "50013    31\n",
       "50014    30\n",
       "50015    31\n",
       "50016    30\n",
       "Name: Date, Length: 50017, dtype: int64"
      ]
     },
     "execution_count": 99,
     "metadata": {},
     "output_type": "execute_result"
    }
   ],
   "source": [
    "invoices['Date'].dt.days_in_month"
   ]
  },
  {
   "cell_type": "code",
   "execution_count": 100,
   "metadata": {},
   "outputs": [
    {
     "data": {
      "text/plain": [
       "0        False\n",
       "1        False\n",
       "2        False\n",
       "3        False\n",
       "4        False\n",
       "         ...  \n",
       "50012    False\n",
       "50013    False\n",
       "50014    False\n",
       "50015    False\n",
       "50016    False\n",
       "Name: Date, Length: 50017, dtype: bool"
      ]
     },
     "execution_count": 100,
     "metadata": {},
     "output_type": "execute_result"
    }
   ],
   "source": [
    "invoices['Date'].dt.is_month_end"
   ]
  },
  {
   "cell_type": "code",
   "execution_count": 107,
   "metadata": {},
   "outputs": [
    {
     "data": {
      "text/plain": [
       "'Friday'"
      ]
     },
     "execution_count": 107,
     "metadata": {},
     "output_type": "execute_result"
    }
   ],
   "source": [
    "invoices['Date'].iloc[0].day_name()"
   ]
  },
  {
   "cell_type": "code",
   "execution_count": 101,
   "metadata": {},
   "outputs": [
    {
     "data": {
      "text/plain": [
       "0        2016-05-23/2016-05-29\n",
       "1        2018-09-24/2018-09-30\n",
       "2        2014-08-18/2014-08-24\n",
       "3        2014-04-07/2014-04-13\n",
       "4        2015-07-27/2015-08-02\n",
       "                 ...          \n",
       "50012    2017-09-18/2017-09-24\n",
       "50013    2018-03-19/2018-03-25\n",
       "50014    2017-09-18/2017-09-24\n",
       "50015    2018-01-22/2018-01-28\n",
       "50016    2017-09-04/2017-09-10\n",
       "Name: Date, Length: 50017, dtype: period[W-SUN]"
      ]
     },
     "execution_count": 101,
     "metadata": {},
     "output_type": "execute_result"
    }
   ],
   "source": [
    "invoices['Date'].dt.to_period('W') # W, M, Q, Y"
   ]
  },
  {
   "cell_type": "markdown",
   "metadata": {},
   "source": [
    "### Strings"
   ]
  },
  {
   "cell_type": "code",
   "execution_count": 108,
   "metadata": {},
   "outputs": [
    {
     "data": {
      "text/plain": [
       "0        breakfast\n",
       "1           dinner\n",
       "2            lunch\n",
       "3           dinner\n",
       "4            lunch\n",
       "           ...    \n",
       "50012    breakfast\n",
       "50013    breakfast\n",
       "50014       dinner\n",
       "50015       dinner\n",
       "50016        lunch\n",
       "Name: Type of Meal, Length: 50017, dtype: object"
      ]
     },
     "execution_count": 108,
     "metadata": {},
     "output_type": "execute_result"
    }
   ],
   "source": [
    "invoices['Type of Meal'].str.lower()"
   ]
  },
  {
   "cell_type": "code",
   "execution_count": 109,
   "metadata": {},
   "outputs": [
    {
     "data": {
      "text/plain": [
       "0        000000Breakfast\n",
       "1        000000000Dinner\n",
       "2        0000000000Lunch\n",
       "3        000000000Dinner\n",
       "4        0000000000Lunch\n",
       "              ...       \n",
       "50012    000000Breakfast\n",
       "50013    000000Breakfast\n",
       "50014    000000000Dinner\n",
       "50015    000000000Dinner\n",
       "50016    0000000000Lunch\n",
       "Name: Type of Meal, Length: 50017, dtype: object"
      ]
     },
     "execution_count": 109,
     "metadata": {},
     "output_type": "execute_result"
    }
   ],
   "source": [
    "invoices['Type of Meal'].str.zfill(width=15)"
   ]
  },
  {
   "cell_type": "code",
   "execution_count": 110,
   "metadata": {},
   "outputs": [
    {
     "data": {
      "text/plain": [
       "0         True\n",
       "1        False\n",
       "2        False\n",
       "3        False\n",
       "4        False\n",
       "         ...  \n",
       "50012     True\n",
       "50013     True\n",
       "50014    False\n",
       "50015    False\n",
       "50016    False\n",
       "Name: Type of Meal, Length: 50017, dtype: bool"
      ]
     },
     "execution_count": 110,
     "metadata": {},
     "output_type": "execute_result"
    }
   ],
   "source": [
    "invoices['Type of Meal'].str.endswith('ast')"
   ]
  },
  {
   "cell_type": "code",
   "execution_count": 111,
   "metadata": {},
   "outputs": [
    {
     "data": {
      "text/plain": [
       "0        BreakfastBreakfast\n",
       "1              DinnerDinner\n",
       "2                LunchLunch\n",
       "3              DinnerDinner\n",
       "4                LunchLunch\n",
       "                ...        \n",
       "50012    BreakfastBreakfast\n",
       "50013    BreakfastBreakfast\n",
       "50014          DinnerDinner\n",
       "50015          DinnerDinner\n",
       "50016            LunchLunch\n",
       "Name: Type of Meal, Length: 50017, dtype: object"
      ]
     },
     "execution_count": 111,
     "metadata": {},
     "output_type": "execute_result"
    }
   ],
   "source": [
    "invoices['Type of Meal'].str.repeat(2)"
   ]
  },
  {
   "cell_type": "markdown",
   "metadata": {},
   "source": [
    "### Categorias"
   ]
  },
  {
   "cell_type": "code",
   "execution_count": 112,
   "metadata": {},
   "outputs": [
    {
     "data": {
      "text/plain": [
       "False"
      ]
     },
     "execution_count": 112,
     "metadata": {},
     "output_type": "execute_result"
    }
   ],
   "source": [
    "invoices['Type of Meal'].cat.ordered"
   ]
  },
  {
   "cell_type": "code",
   "execution_count": 113,
   "metadata": {},
   "outputs": [
    {
     "data": {
      "text/plain": [
       "Index(['Breakfast', 'Dinner', 'Lunch'], dtype='object')"
      ]
     },
     "execution_count": 113,
     "metadata": {},
     "output_type": "execute_result"
    }
   ],
   "source": [
    "invoices['Type of Meal'].cat.categories"
   ]
  },
  {
   "cell_type": "code",
   "execution_count": 114,
   "metadata": {},
   "outputs": [
    {
     "data": {
      "text/plain": [
       "0        0\n",
       "1        1\n",
       "2        2\n",
       "3        1\n",
       "4        2\n",
       "        ..\n",
       "50012    0\n",
       "50013    0\n",
       "50014    1\n",
       "50015    1\n",
       "50016    2\n",
       "Length: 50017, dtype: int8"
      ]
     },
     "execution_count": 114,
     "metadata": {},
     "output_type": "execute_result"
    }
   ],
   "source": [
    "invoices['Type of Meal'].cat.codes"
   ]
  },
  {
   "cell_type": "code",
   "execution_count": 115,
   "metadata": {},
   "outputs": [
    {
     "data": {
      "text/plain": [
       "0        Breakfast\n",
       "1           Dinner\n",
       "2            Lunch\n",
       "3           Dinner\n",
       "4            Lunch\n",
       "           ...    \n",
       "50012    Breakfast\n",
       "50013    Breakfast\n",
       "50014       Dinner\n",
       "50015       Dinner\n",
       "50016        Lunch\n",
       "Name: Type of Meal, Length: 50017, dtype: category\n",
       "Categories (3, object): ['Lunch', 'Breakfast', 'Dinner']"
      ]
     },
     "execution_count": 115,
     "metadata": {},
     "output_type": "execute_result"
    }
   ],
   "source": [
    "invoices['Type of Meal'].cat.reorder_categories(\n",
    "    ['Lunch','Breakfast','Dinner']\n",
    ")"
   ]
  },
  {
   "cell_type": "code",
   "execution_count": 122,
   "metadata": {},
   "outputs": [
    {
     "name": "stdout",
     "output_type": "stream",
     "text": [
      "Cannot setitem on a Categorical with a new category, set the categories first\n"
     ]
    }
   ],
   "source": [
    "try:\n",
    "    invoices.loc[0, 'Type of Meal'] = 'Merienda'\n",
    "except Exception as e:\n",
    "    print(e)"
   ]
  },
  {
   "cell_type": "code",
   "execution_count": null,
   "metadata": {},
   "outputs": [],
   "source": []
  }
 ],
 "metadata": {
  "kernelspec": {
   "display_name": "Python 3 (ipykernel)",
   "language": "python",
   "name": "python3"
  },
  "language_info": {
   "codemirror_mode": {
    "name": "ipython",
    "version": 3
   },
   "file_extension": ".py",
   "mimetype": "text/x-python",
   "name": "python",
   "nbconvert_exporter": "python",
   "pygments_lexer": "ipython3",
   "version": "3.9.7"
  }
 },
 "nbformat": 4,
 "nbformat_minor": 4
}
