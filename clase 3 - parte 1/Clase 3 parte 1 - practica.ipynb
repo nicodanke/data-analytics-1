{
 "cells": [
  {
   "cell_type": "markdown",
   "metadata": {
    "id": "Eq7dWlnCTL-g"
   },
   "source": [
    "<img src=\"img/Marca-ITBA-Color-ALTA.png\" width=\"200\">\n",
    "\n",
    "# Programación para el Análisis de Datos\n",
    "\n",
    "## Clase 3 - Pandas - práctica\n"
   ]
  },
  {
   "cell_type": "code",
   "execution_count": null,
   "metadata": {
    "id": "hG6jDMIgTL-h"
   },
   "outputs": [],
   "source": [
    "import numpy as np\n",
    "import pandas as pd"
   ]
  },
  {
   "cell_type": "markdown",
   "metadata": {
    "id": "9wEGDOZcTL-k"
   },
   "source": [
    "### Ejercicio 1\n",
    "\n",
    "\n",
    "* Crear un dataframe que contenga la siguiente información:\n",
    "\n",
    "\n",
    "|    |  Nombre             | Posición | Número\n",
    "|---:|:---------           | :----    |:----\n",
    "|  0 | Nery Pumpido        | ARQ      | 18\n",
    "|  1 | José Cuciuffo       | DEF      | 9\n",
    "|  2 | José Luis Brown     | DEF      | 5\n",
    "|  3 | Oscar Ruggeri       | DEF      | 19\n",
    "|  4 | Sergio Batista      | MED      | 2\n",
    "|  5 | Ricardo Giusti      | MED      | 14\n",
    "|  6 | Jorge Burruchaga    | MED      | 7\n",
    "|  7 | Héctor Enrique      | MED      | 12\n",
    "|  8 | Julio Olarticoechea | MED      | 16\n",
    "|  9 | Jorge Valdano       | DEL      | 11\n",
    "|  10| Diego Maradona      | DEL      | 10\n"
   ]
  },
  {
   "cell_type": "code",
   "execution_count": null,
   "metadata": {
    "id": "rGD4GcGLTL-k",
    "outputId": "25c00f20-c967-46d9-d1de-e2e57b7dc041"
   },
   "outputs": [],
   "source": [
    "### Completa con tu código aquí:\n"
   ]
  },
  {
   "cell_type": "markdown",
   "metadata": {
    "id": "6LdLE62jTL-k"
   },
   "source": [
    "### Ejercicio 2\n",
    "\n",
    "* A partir del dataframe creado, generar una serie con el nombre de los mediocampistas\n",
    "\n",
    "**Ayuda:** usar una máscara booleana"
   ]
  },
  {
   "cell_type": "code",
   "execution_count": null,
   "metadata": {
    "id": "EOrragxNTL-l",
    "outputId": "7f1c3b92-cc48-42b5-9ff0-aebc3c8242da"
   },
   "outputs": [],
   "source": [
    "### Completa con tu código aquí:\n"
   ]
  },
  {
   "cell_type": "markdown",
   "metadata": {
    "id": "ETWuEr2STL-l"
   },
   "source": [
    "### Ejercicio 3\n",
    "\n",
    "* Mostrar un dataframe con el nombre y el número de todos los jugadores con número de camiseta par"
   ]
  },
  {
   "cell_type": "code",
   "execution_count": null,
   "metadata": {
    "id": "Sv8iOmxFTL-l",
    "outputId": "88e398ca-e1b3-4d6d-b9a6-b7940256dde2"
   },
   "outputs": [],
   "source": [
    "### Completa con tu código aquí:\n"
   ]
  },
  {
   "cell_type": "markdown",
   "metadata": {
    "id": "TrSI1gOHTL-l"
   },
   "source": [
    "### Ejercicio 4\n",
    "\n",
    "* Importar con pandas el dataset **'data/US Presidential Election Results - ResultsByTurnout.csv'**\n",
    "\n",
    "\n",
    "* Mirar qué tipo de datos hay en cada columna y si hay valores nulos"
   ]
  },
  {
   "cell_type": "code",
   "execution_count": null,
   "metadata": {
    "id": "txI5R0xRTL-l",
    "outputId": "67f9e86a-607d-4878-94d9-ecae1e2d80c1"
   },
   "outputs": [],
   "source": [
    "### Completa con tu código aquí:\n"
   ]
  },
  {
   "cell_type": "markdown",
   "metadata": {
    "id": "rx_IiF2CTL-l"
   },
   "source": [
    "### Ejercicio 5\n",
    "\n",
    "* ¿En qué año se registró el mayor porcentaje de participación (Turnout)? ¿Y el mínimo?"
   ]
  },
  {
   "cell_type": "code",
   "execution_count": null,
   "metadata": {
    "id": "RMJTr7ItTL-m",
    "outputId": "9fb37661-d2d3-4ab6-f068-fcd62a29bdda"
   },
   "outputs": [],
   "source": [
    "### Completa con tu código aquí:\n"
   ]
  },
  {
   "cell_type": "markdown",
   "metadata": {
    "id": "umuBDzzPTL-m"
   },
   "source": [
    "### Ejercicio 6\n",
    "\n",
    "* Convertir la columna TotalVotes  que es de tipo 'object' a tipo numérico. Para ello es necesario eliminar las comas que indican miles. \n",
    "\n",
    "**Ayuda:** aplicar los métodos str.replace(...) y luego .astype(...) sobre la serie TotalVotes"
   ]
  },
  {
   "cell_type": "code",
   "execution_count": null,
   "metadata": {
    "id": "GrVZTMY2TL-m",
    "outputId": "42a561b2-e217-44c6-d9fd-346edf7bf86b"
   },
   "outputs": [],
   "source": [
    "### Completa con tu código aquí:\n"
   ]
  },
  {
   "cell_type": "markdown",
   "metadata": {
    "id": "N-HskSyTTL-m"
   },
   "source": [
    "### Ejercicio 7\n",
    "\n",
    "* Generar una nueva columna que contenga la cantidad de gente empadronada (ElectoralRoll). Calcularlo a partir del número total de votos registrados (TotalVotes) y el porcentaje de participación (Turnout(%))"
   ]
  },
  {
   "cell_type": "code",
   "execution_count": null,
   "metadata": {
    "id": "QO-w4ZbsTL-m",
    "outputId": "7f451d8c-8b67-481c-dcb3-5429b79b9625"
   },
   "outputs": [],
   "source": [
    "### Completa con tu código aquí:\n"
   ]
  },
  {
   "cell_type": "markdown",
   "metadata": {
    "id": "K4aHUv71TL-m"
   },
   "source": [
    "### Ejercicio 8\n",
    "\n",
    "* ¿En qué año se registró por primera vez más del 50% de participación?"
   ]
  },
  {
   "cell_type": "code",
   "execution_count": null,
   "metadata": {
    "id": "w-2b7V-mTL-m",
    "outputId": "37089083-ea1b-4bd6-8015-08e7d4bf3a20"
   },
   "outputs": [],
   "source": [
    "### Completa con tu código aquí:\n"
   ]
  },
  {
   "cell_type": "markdown",
   "metadata": {
    "id": "1qrRC2-KTL-m"
   },
   "source": [
    "### Ejercicio 9\n",
    "\n",
    "* ¿Cuál fue el máximo, mímino, promedio y desvio estandar en el nivel de participación durante siglo XX?"
   ]
  },
  {
   "cell_type": "code",
   "execution_count": null,
   "metadata": {
    "id": "RZvUocdtTL-m",
    "outputId": "ac9503ff-d719-4e76-a273-629cea1bbb55"
   },
   "outputs": [],
   "source": [
    "### Completa con tu código aquí:\n"
   ]
  },
  {
   "cell_type": "code",
   "execution_count": null,
   "metadata": {
    "id": "2MciCwrjTL-m"
   },
   "outputs": [],
   "source": []
  }
 ],
 "metadata": {
  "colab": {
   "provenance": []
  },
  "kernelspec": {
   "display_name": "Python 3 (ipykernel)",
   "language": "python",
   "name": "python3"
  },
  "language_info": {
   "codemirror_mode": {
    "name": "ipython",
    "version": 3
   },
   "file_extension": ".py",
   "mimetype": "text/x-python",
   "name": "python",
   "nbconvert_exporter": "python",
   "pygments_lexer": "ipython3",
   "version": "3.9.16"
  }
 },
 "nbformat": 4,
 "nbformat_minor": 1
}
