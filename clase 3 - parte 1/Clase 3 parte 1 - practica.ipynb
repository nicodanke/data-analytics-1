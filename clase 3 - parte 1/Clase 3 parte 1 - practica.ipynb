{
 "cells": [
  {
   "cell_type": "markdown",
   "metadata": {
    "id": "Eq7dWlnCTL-g"
   },
   "source": [
    "<img src=\"img/Marca-ITBA-Color-ALTA.png\" width=\"200\">\n",
    "\n",
    "# Programación para el Análisis de Datos\n",
    "\n",
    "## Clase 3 - Pandas - práctica\n"
   ]
  },
  {
   "cell_type": "code",
   "execution_count": 1,
   "metadata": {
    "id": "hG6jDMIgTL-h"
   },
   "outputs": [],
   "source": [
    "import numpy as np\n",
    "import pandas as pd"
   ]
  },
  {
   "cell_type": "markdown",
   "metadata": {
    "id": "9wEGDOZcTL-k"
   },
   "source": [
    "### Ejercicio 1\n",
    "\n",
    "\n",
    "* Crear un dataframe que contenga la siguiente información:\n",
    "\n",
    "\n",
    "|    |  Nombre             | Posición | Número\n",
    "|---:|:---------           | :----    |:----\n",
    "|  0 | Nery Pumpido        | ARQ      | 18\n",
    "|  1 | José Cuciuffo       | DEF      | 9\n",
    "|  2 | José Luis Brown     | DEF      | 5\n",
    "|  3 | Oscar Ruggeri       | DEF      | 19\n",
    "|  4 | Sergio Batista      | MED      | 2\n",
    "|  5 | Ricardo Giusti      | MED      | 14\n",
    "|  6 | Jorge Burruchaga    | MED      | 7\n",
    "|  7 | Héctor Enrique      | MED      | 12\n",
    "|  8 | Julio Olarticoechea | MED      | 16\n",
    "|  9 | Jorge Valdano       | DEL      | 11\n",
    "|  10| Diego Maradona      | DEL      | 10\n"
   ]
  },
  {
   "cell_type": "code",
   "execution_count": 2,
   "metadata": {
    "id": "rGD4GcGLTL-k",
    "outputId": "25c00f20-c967-46d9-d1de-e2e57b7dc041"
   },
   "outputs": [
    {
     "data": {
      "text/html": [
       "<div>\n",
       "<style scoped>\n",
       "    .dataframe tbody tr th:only-of-type {\n",
       "        vertical-align: middle;\n",
       "    }\n",
       "\n",
       "    .dataframe tbody tr th {\n",
       "        vertical-align: top;\n",
       "    }\n",
       "\n",
       "    .dataframe thead th {\n",
       "        text-align: right;\n",
       "    }\n",
       "</style>\n",
       "<table border=\"1\" class=\"dataframe\">\n",
       "  <thead>\n",
       "    <tr style=\"text-align: right;\">\n",
       "      <th></th>\n",
       "      <th>Nombre</th>\n",
       "      <th>Posición</th>\n",
       "      <th>Número</th>\n",
       "    </tr>\n",
       "  </thead>\n",
       "  <tbody>\n",
       "    <tr>\n",
       "      <th>0</th>\n",
       "      <td>Nery Pumpido</td>\n",
       "      <td>ARQ</td>\n",
       "      <td>18</td>\n",
       "    </tr>\n",
       "    <tr>\n",
       "      <th>1</th>\n",
       "      <td>José Cuciuffo</td>\n",
       "      <td>DEF</td>\n",
       "      <td>9</td>\n",
       "    </tr>\n",
       "    <tr>\n",
       "      <th>2</th>\n",
       "      <td>José Luis Brown</td>\n",
       "      <td>DEF</td>\n",
       "      <td>5</td>\n",
       "    </tr>\n",
       "    <tr>\n",
       "      <th>3</th>\n",
       "      <td>Oscar Ruggeri</td>\n",
       "      <td>DEF</td>\n",
       "      <td>19</td>\n",
       "    </tr>\n",
       "    <tr>\n",
       "      <th>4</th>\n",
       "      <td>Sergio Batista</td>\n",
       "      <td>MED</td>\n",
       "      <td>2</td>\n",
       "    </tr>\n",
       "    <tr>\n",
       "      <th>5</th>\n",
       "      <td>Ricardo Giusti</td>\n",
       "      <td>MED</td>\n",
       "      <td>14</td>\n",
       "    </tr>\n",
       "    <tr>\n",
       "      <th>6</th>\n",
       "      <td>Jorge Burruchaga</td>\n",
       "      <td>MED</td>\n",
       "      <td>7</td>\n",
       "    </tr>\n",
       "    <tr>\n",
       "      <th>7</th>\n",
       "      <td>Héctor Enrique</td>\n",
       "      <td>MED</td>\n",
       "      <td>12</td>\n",
       "    </tr>\n",
       "    <tr>\n",
       "      <th>8</th>\n",
       "      <td>Julio Olarticoechea</td>\n",
       "      <td>MED</td>\n",
       "      <td>16</td>\n",
       "    </tr>\n",
       "    <tr>\n",
       "      <th>9</th>\n",
       "      <td>Jorge Valdano</td>\n",
       "      <td>DEL</td>\n",
       "      <td>11</td>\n",
       "    </tr>\n",
       "    <tr>\n",
       "      <th>10</th>\n",
       "      <td>Diego Maradona</td>\n",
       "      <td>DEL</td>\n",
       "      <td>10</td>\n",
       "    </tr>\n",
       "  </tbody>\n",
       "</table>\n",
       "</div>"
      ],
      "text/plain": [
       "                 Nombre Posición  Número\n",
       "0          Nery Pumpido      ARQ      18\n",
       "1         José Cuciuffo      DEF       9\n",
       "2       José Luis Brown      DEF       5\n",
       "3         Oscar Ruggeri      DEF      19\n",
       "4        Sergio Batista      MED       2\n",
       "5        Ricardo Giusti      MED      14\n",
       "6      Jorge Burruchaga      MED       7\n",
       "7        Héctor Enrique      MED      12\n",
       "8   Julio Olarticoechea      MED      16\n",
       "9         Jorge Valdano      DEL      11\n",
       "10       Diego Maradona      DEL      10"
      ]
     },
     "metadata": {},
     "output_type": "display_data"
    }
   ],
   "source": [
    "### Completa con tu código aquí:\n",
    "data = {'Nombre': ['Nery Pumpido', 'José Cuciuffo', 'José Luis Brown', 'Oscar Ruggeri', 'Sergio Batista', 'Ricardo Giusti', 'Jorge Burruchaga', 'Héctor Enrique', 'Julio Olarticoechea', 'Jorge Valdano', 'Diego Maradona'],\n",
    "        'Posición': ['ARQ', 'DEF', 'DEF', 'DEF', 'MED', 'MED', 'MED', 'MED', 'MED', 'DEL', 'DEL'],\n",
    "        'Número': [18, 9, 5, 19, 2, 14, 7, 12, 16, 11, 10]}\n",
    "\n",
    "df1 = pd.DataFrame(data)\n",
    "\n",
    "display(df1)"
   ]
  },
  {
   "cell_type": "markdown",
   "metadata": {
    "id": "6LdLE62jTL-k"
   },
   "source": [
    "### Ejercicio 2\n",
    "\n",
    "* A partir del dataframe creado, generar una serie con el nombre de los mediocampistas\n",
    "\n",
    "**Ayuda:** usar una máscara booleana"
   ]
  },
  {
   "cell_type": "code",
   "execution_count": 7,
   "metadata": {
    "id": "EOrragxNTL-l",
    "outputId": "7f1c3b92-cc48-42b5-9ff0-aebc3c8242da"
   },
   "outputs": [
    {
     "data": {
      "text/plain": [
       "0          Nery\n",
       "1          José\n",
       "2     José Luis\n",
       "3         Oscar\n",
       "4        Sergio\n",
       "5       Ricardo\n",
       "6         Jorge\n",
       "7        Héctor\n",
       "8         Julio\n",
       "9         Jorge\n",
       "10        Diego\n",
       "Name: Nombre, dtype: object"
      ]
     },
     "execution_count": 7,
     "metadata": {},
     "output_type": "execute_result"
    }
   ],
   "source": [
    "### Completa con tu código aquí:\n",
    "df1['Nombre'].apply(lambda x: x[:x.rfind(' ')])"
   ]
  },
  {
   "cell_type": "markdown",
   "metadata": {
    "id": "ETWuEr2STL-l"
   },
   "source": [
    "### Ejercicio 3\n",
    "\n",
    "* Mostrar un dataframe con el nombre y el número de todos los jugadores con número de camiseta par"
   ]
  },
  {
   "cell_type": "code",
   "execution_count": 8,
   "metadata": {
    "id": "Sv8iOmxFTL-l",
    "outputId": "88e398ca-e1b3-4d6d-b9a6-b7940256dde2"
   },
   "outputs": [
    {
     "data": {
      "text/html": [
       "<div>\n",
       "<style scoped>\n",
       "    .dataframe tbody tr th:only-of-type {\n",
       "        vertical-align: middle;\n",
       "    }\n",
       "\n",
       "    .dataframe tbody tr th {\n",
       "        vertical-align: top;\n",
       "    }\n",
       "\n",
       "    .dataframe thead th {\n",
       "        text-align: right;\n",
       "    }\n",
       "</style>\n",
       "<table border=\"1\" class=\"dataframe\">\n",
       "  <thead>\n",
       "    <tr style=\"text-align: right;\">\n",
       "      <th></th>\n",
       "      <th>SoloNombre</th>\n",
       "      <th>Número</th>\n",
       "    </tr>\n",
       "  </thead>\n",
       "  <tbody>\n",
       "    <tr>\n",
       "      <th>0</th>\n",
       "      <td>Nery</td>\n",
       "      <td>18</td>\n",
       "    </tr>\n",
       "    <tr>\n",
       "      <th>4</th>\n",
       "      <td>Sergio</td>\n",
       "      <td>2</td>\n",
       "    </tr>\n",
       "    <tr>\n",
       "      <th>5</th>\n",
       "      <td>Ricardo</td>\n",
       "      <td>14</td>\n",
       "    </tr>\n",
       "    <tr>\n",
       "      <th>7</th>\n",
       "      <td>Héctor</td>\n",
       "      <td>12</td>\n",
       "    </tr>\n",
       "    <tr>\n",
       "      <th>8</th>\n",
       "      <td>Julio</td>\n",
       "      <td>16</td>\n",
       "    </tr>\n",
       "    <tr>\n",
       "      <th>10</th>\n",
       "      <td>Diego</td>\n",
       "      <td>10</td>\n",
       "    </tr>\n",
       "  </tbody>\n",
       "</table>\n",
       "</div>"
      ],
      "text/plain": [
       "   SoloNombre  Número\n",
       "0        Nery      18\n",
       "4      Sergio       2\n",
       "5     Ricardo      14\n",
       "7      Héctor      12\n",
       "8       Julio      16\n",
       "10      Diego      10"
      ]
     },
     "execution_count": 8,
     "metadata": {},
     "output_type": "execute_result"
    }
   ],
   "source": [
    "### Completa con tu código aquí:\n",
    "df1['SoloNombre'] = df1['Nombre'].apply(lambda x: x[:x.rfind(' ')])\n",
    "df1.loc[df1['Número'] % 2 == 0, ['SoloNombre', 'Número']]"
   ]
  },
  {
   "cell_type": "markdown",
   "metadata": {
    "id": "TrSI1gOHTL-l"
   },
   "source": [
    "### Ejercicio 4\n",
    "\n",
    "* Importar con pandas el dataset **'data/US Presidential Election Results - ResultsByTurnout.csv'**\n",
    "\n",
    "\n",
    "* Mirar qué tipo de datos hay en cada columna y si hay valores nulos"
   ]
  },
  {
   "cell_type": "code",
   "execution_count": 15,
   "metadata": {
    "id": "txI5R0xRTL-l",
    "outputId": "67f9e86a-607d-4878-94d9-ecae1e2d80c1"
   },
   "outputs": [
    {
     "name": "stdout",
     "output_type": "stream",
     "text": [
      "<class 'pandas.core.frame.DataFrame'>\n",
      "RangeIndex: 59 entries, 0 to 58\n",
      "Data columns (total 5 columns):\n",
      " #   Column               Non-Null Count  Dtype  \n",
      "---  ------               --------------  -----  \n",
      " 0   ElectionYear         59 non-null     int64  \n",
      " 1   Turnout(%)           59 non-null     float64\n",
      " 2   TotalVotes           59 non-null     object \n",
      " 3   TotalElectoralVotes  59 non-null     int64  \n",
      " 4   ElectoralVotesToWin  59 non-null     int64  \n",
      "dtypes: float64(1), int64(3), object(1)\n",
      "memory usage: 2.4+ KB\n"
     ]
    }
   ],
   "source": [
    "### Completa con tu código aquí:\n",
    "election_df = pd.read_csv('data/US Presidential Election Results - ResultsByTurnout.csv')\n",
    "\n",
    "election_df.info()"
   ]
  },
  {
   "cell_type": "markdown",
   "metadata": {
    "id": "rx_IiF2CTL-l"
   },
   "source": [
    "### Ejercicio 5\n",
    "\n",
    "* ¿En qué año se registró el mayor porcentaje de participación (Turnout)? ¿Y el mínimo?"
   ]
  },
  {
   "cell_type": "code",
   "execution_count": 31,
   "metadata": {
    "id": "RMJTr7ItTL-m",
    "outputId": "9fb37661-d2d3-4ab6-f068-fcd62a29bdda"
   },
   "outputs": [
    {
     "name": "stdout",
     "output_type": "stream",
     "text": [
      "El año de mayor participación fue 1876 con una participación del 82.6% y el de menor participación fue 1792 con una participación del 6.3%\n"
     ]
    }
   ],
   "source": [
    "### Completa con tu código aquí:\n",
    "max_df = election_df.loc[election_df['Turnout(%)'] == election_df['Turnout(%)'].max(),]\n",
    "max_year = max_df['ElectionYear'].values[0]\n",
    "max_turnout = max_df['Turnout(%)'].values[0]\n",
    "\n",
    "min_df = election_df.loc[election_df['Turnout(%)'] == election_df['Turnout(%)'].min(),]\n",
    "min_year = min_df['ElectionYear'].values[0]\n",
    "min_turnout = min_df['Turnout(%)'].values[0]\n",
    "\n",
    "print(f'El año de mayor participación fue {max_year} con una participación del {max_turnout}% y el de menor participación fue {min_year} con una participación del {min_turnout}%')"
   ]
  },
  {
   "cell_type": "markdown",
   "metadata": {
    "id": "umuBDzzPTL-m"
   },
   "source": [
    "### Ejercicio 6\n",
    "\n",
    "* Convertir la columna TotalVotes  que es de tipo 'object' a tipo numérico. Para ello es necesario eliminar las comas que indican miles. \n",
    "\n",
    "**Ayuda:** aplicar los métodos str.replace(...) y luego .astype(...) sobre la serie TotalVotes"
   ]
  },
  {
   "cell_type": "code",
   "execution_count": 35,
   "metadata": {
    "id": "GrVZTMY2TL-m",
    "outputId": "42a561b2-e217-44c6-d9fd-346edf7bf86b"
   },
   "outputs": [
    {
     "data": {
      "text/html": [
       "<div>\n",
       "<style scoped>\n",
       "    .dataframe tbody tr th:only-of-type {\n",
       "        vertical-align: middle;\n",
       "    }\n",
       "\n",
       "    .dataframe tbody tr th {\n",
       "        vertical-align: top;\n",
       "    }\n",
       "\n",
       "    .dataframe thead th {\n",
       "        text-align: right;\n",
       "    }\n",
       "</style>\n",
       "<table border=\"1\" class=\"dataframe\">\n",
       "  <thead>\n",
       "    <tr style=\"text-align: right;\">\n",
       "      <th></th>\n",
       "      <th>ElectionYear</th>\n",
       "      <th>Turnout(%)</th>\n",
       "      <th>TotalVotes</th>\n",
       "      <th>TotalElectoralVotes</th>\n",
       "      <th>ElectoralVotesToWin</th>\n",
       "      <th>TotalVotesSanitized</th>\n",
       "    </tr>\n",
       "  </thead>\n",
       "  <tbody>\n",
       "    <tr>\n",
       "      <th>0</th>\n",
       "      <td>1788</td>\n",
       "      <td>11.6</td>\n",
       "      <td>39624</td>\n",
       "      <td>69</td>\n",
       "      <td>35</td>\n",
       "      <td>39624</td>\n",
       "    </tr>\n",
       "    <tr>\n",
       "      <th>1</th>\n",
       "      <td>1792</td>\n",
       "      <td>6.3</td>\n",
       "      <td>28300</td>\n",
       "      <td>132</td>\n",
       "      <td>66</td>\n",
       "      <td>28300</td>\n",
       "    </tr>\n",
       "    <tr>\n",
       "      <th>2</th>\n",
       "      <td>1796</td>\n",
       "      <td>20.1</td>\n",
       "      <td>66841</td>\n",
       "      <td>138</td>\n",
       "      <td>69</td>\n",
       "      <td>66841</td>\n",
       "    </tr>\n",
       "    <tr>\n",
       "      <th>3</th>\n",
       "      <td>1800</td>\n",
       "      <td>32.3</td>\n",
       "      <td>75142</td>\n",
       "      <td>138</td>\n",
       "      <td>69</td>\n",
       "      <td>75142</td>\n",
       "    </tr>\n",
       "    <tr>\n",
       "      <th>4</th>\n",
       "      <td>1804</td>\n",
       "      <td>23.8</td>\n",
       "      <td>143029</td>\n",
       "      <td>176</td>\n",
       "      <td>88</td>\n",
       "      <td>143029</td>\n",
       "    </tr>\n",
       "  </tbody>\n",
       "</table>\n",
       "</div>"
      ],
      "text/plain": [
       "   ElectionYear  Turnout(%)  TotalVotes  TotalElectoralVotes  \\\n",
       "0          1788        11.6       39624                   69   \n",
       "1          1792         6.3       28300                  132   \n",
       "2          1796        20.1       66841                  138   \n",
       "3          1800        32.3       75142                  138   \n",
       "4          1804        23.8      143029                  176   \n",
       "\n",
       "   ElectoralVotesToWin  TotalVotesSanitized  \n",
       "0                   35                39624  \n",
       "1                   66                28300  \n",
       "2                   69                66841  \n",
       "3                   69                75142  \n",
       "4                   88               143029  "
      ]
     },
     "execution_count": 35,
     "metadata": {},
     "output_type": "execute_result"
    }
   ],
   "source": [
    "### Completa con tu código aquí:\n",
    "election_df['TotalVotes'] = election_df['TotalVotes'].str.replace(',', '').astype(int)\n",
    "\n",
    "election_df.head()"
   ]
  },
  {
   "cell_type": "markdown",
   "metadata": {
    "id": "N-HskSyTTL-m"
   },
   "source": [
    "### Ejercicio 7\n",
    "\n",
    "* Generar una nueva columna que contenga la cantidad de gente empadronada (ElectoralRoll). Calcularlo a partir del número total de votos registrados (TotalVotes) y el porcentaje de participación (Turnout(%))"
   ]
  },
  {
   "cell_type": "code",
   "execution_count": 37,
   "metadata": {
    "id": "QO-w4ZbsTL-m",
    "outputId": "7f451d8c-8b67-481c-dcb3-5429b79b9625"
   },
   "outputs": [
    {
     "data": {
      "text/html": [
       "<div>\n",
       "<style scoped>\n",
       "    .dataframe tbody tr th:only-of-type {\n",
       "        vertical-align: middle;\n",
       "    }\n",
       "\n",
       "    .dataframe tbody tr th {\n",
       "        vertical-align: top;\n",
       "    }\n",
       "\n",
       "    .dataframe thead th {\n",
       "        text-align: right;\n",
       "    }\n",
       "</style>\n",
       "<table border=\"1\" class=\"dataframe\">\n",
       "  <thead>\n",
       "    <tr style=\"text-align: right;\">\n",
       "      <th></th>\n",
       "      <th>ElectionYear</th>\n",
       "      <th>Turnout(%)</th>\n",
       "      <th>TotalVotes</th>\n",
       "      <th>TotalElectoralVotes</th>\n",
       "      <th>ElectoralVotesToWin</th>\n",
       "      <th>TotalVotesSanitized</th>\n",
       "      <th>ElectoralRoll</th>\n",
       "    </tr>\n",
       "  </thead>\n",
       "  <tbody>\n",
       "    <tr>\n",
       "      <th>0</th>\n",
       "      <td>1788</td>\n",
       "      <td>11.6</td>\n",
       "      <td>39624</td>\n",
       "      <td>69</td>\n",
       "      <td>35</td>\n",
       "      <td>39624</td>\n",
       "      <td>341586.0</td>\n",
       "    </tr>\n",
       "    <tr>\n",
       "      <th>1</th>\n",
       "      <td>1792</td>\n",
       "      <td>6.3</td>\n",
       "      <td>28300</td>\n",
       "      <td>132</td>\n",
       "      <td>66</td>\n",
       "      <td>28300</td>\n",
       "      <td>449206.0</td>\n",
       "    </tr>\n",
       "    <tr>\n",
       "      <th>2</th>\n",
       "      <td>1796</td>\n",
       "      <td>20.1</td>\n",
       "      <td>66841</td>\n",
       "      <td>138</td>\n",
       "      <td>69</td>\n",
       "      <td>66841</td>\n",
       "      <td>332542.0</td>\n",
       "    </tr>\n",
       "    <tr>\n",
       "      <th>3</th>\n",
       "      <td>1800</td>\n",
       "      <td>32.3</td>\n",
       "      <td>75142</td>\n",
       "      <td>138</td>\n",
       "      <td>69</td>\n",
       "      <td>75142</td>\n",
       "      <td>232638.0</td>\n",
       "    </tr>\n",
       "    <tr>\n",
       "      <th>4</th>\n",
       "      <td>1804</td>\n",
       "      <td>23.8</td>\n",
       "      <td>143029</td>\n",
       "      <td>176</td>\n",
       "      <td>88</td>\n",
       "      <td>143029</td>\n",
       "      <td>600962.0</td>\n",
       "    </tr>\n",
       "  </tbody>\n",
       "</table>\n",
       "</div>"
      ],
      "text/plain": [
       "   ElectionYear  Turnout(%)  TotalVotes  TotalElectoralVotes  \\\n",
       "0          1788        11.6       39624                   69   \n",
       "1          1792         6.3       28300                  132   \n",
       "2          1796        20.1       66841                  138   \n",
       "3          1800        32.3       75142                  138   \n",
       "4          1804        23.8      143029                  176   \n",
       "\n",
       "   ElectoralVotesToWin  TotalVotesSanitized  ElectoralRoll  \n",
       "0                   35                39624       341586.0  \n",
       "1                   66                28300       449206.0  \n",
       "2                   69                66841       332542.0  \n",
       "3                   69                75142       232638.0  \n",
       "4                   88               143029       600962.0  "
      ]
     },
     "execution_count": 38,
     "metadata": {},
     "output_type": "execute_result"
    }
   ],
   "source": [
    "### Completa con tu código aquí:\n",
    "election_df['ElectoralRoll'] = ((100 *election_df['TotalVotes']) / election_df['Turnout(%)']).round(0)\n",
    "\n",
    "election_df.head()"
   ]
  },
  {
   "cell_type": "markdown",
   "metadata": {
    "id": "K4aHUv71TL-m"
   },
   "source": [
    "### Ejercicio 8\n",
    "\n",
    "* ¿En qué año se registró por primera vez más del 50% de participación?"
   ]
  },
  {
   "cell_type": "code",
   "execution_count": 41,
   "metadata": {
    "id": "w-2b7V-mTL-m",
    "outputId": "37089083-ea1b-4bd6-8015-08e7d4bf3a20"
   },
   "outputs": [
    {
     "name": "stdout",
     "output_type": "stream",
     "text": [
      "El año de la primera participación del 50% fue 1828\n"
     ]
    }
   ],
   "source": [
    "### Completa con tu código aquí:\n",
    "election_50_participation_df = election_df.loc[election_df['Turnout(%)'] > 50, ]['ElectionYear'].min()\n",
    "\n",
    "print(f'El año de la primera participación del 50% fue {election_50_participation_df}')"
   ]
  },
  {
   "cell_type": "markdown",
   "metadata": {
    "id": "1qrRC2-KTL-m"
   },
   "source": [
    "### Ejercicio 9\n",
    "\n",
    "* ¿Cuál fue el máximo, mímino, promedio y desvio estandar en el nivel de participación durante siglo XX?"
   ]
  },
  {
   "cell_type": "code",
   "execution_count": 47,
   "metadata": {
    "id": "RZvUocdtTL-m",
    "outputId": "ac9503ff-d719-4e76-a273-629cea1bbb55"
   },
   "outputs": [
    {
     "name": "stdout",
     "output_type": "stream",
     "text": [
      "El máximo de participación en el siglo XX fue de 73.7 y el mínimo de 48.9\n",
      "El promedio de participación en el siglo XX fue de 58.548 y el desvio estandar de 5.780002883505624\n"
     ]
    }
   ],
   "source": [
    "### Completa con tu código aquí:\n",
    "election_20_century_series = election_df.loc[(election_df['ElectionYear'] >= 1900) & (election_df['ElectionYear'] < 2000), ]['Turnout(%)'].describe()\n",
    "\n",
    "print('El máximo de participación en el siglo XX fue de', election_20_century_series['max'], 'y el mínimo de', election_20_century_series['min'])\n",
    "print('El promedio de participación en el siglo XX fue de', election_20_century_series['mean'], 'y el desvio estandar de', election_20_century_series['std'])\n"
   ]
  },
  {
   "cell_type": "code",
   "execution_count": null,
   "metadata": {
    "id": "2MciCwrjTL-m"
   },
   "outputs": [],
   "source": []
  }
 ],
 "metadata": {
  "colab": {
   "provenance": []
  },
  "kernelspec": {
   "display_name": "base",
   "language": "python",
   "name": "python3"
  },
  "language_info": {
   "codemirror_mode": {
    "name": "ipython",
    "version": 3
   },
   "file_extension": ".py",
   "mimetype": "text/x-python",
   "name": "python",
   "nbconvert_exporter": "python",
   "pygments_lexer": "ipython3",
   "version": "3.12.7"
  }
 },
 "nbformat": 4,
 "nbformat_minor": 1
}
