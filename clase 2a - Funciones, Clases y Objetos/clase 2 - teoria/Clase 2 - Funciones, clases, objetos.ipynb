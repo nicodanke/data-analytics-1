{
 "cells": [
  {
   "cell_type": "markdown",
   "metadata": {},
   "source": [
    "<img src=\"img/Marca-ITBA-Color-ALTA.png\" width=\"200\">\n",
    "\n",
    "\n",
    "# Programación para el Análisis de Datos\n",
    "\n",
    "## Clase 2 - funciones, clases y objetos\n",
    "\n",
    "### Objetivo\n",
    "\n",
    "En esta clase se analizarán los conceptos básicos para entender el funcionamiento y las ventajas de la utilización de funciones, clases y objetos en la programación.\n",
    "\n",
    "### Funciones\n",
    "\n",
    "Una función es un bloque de código reutilizable que puede ser ejecutado por el interprete mediante el nombre de la función.\n",
    "\n",
    "### Definición\n",
    "Para definir una función en python es necesario utilizar la palabra reservada (keyword) ***def*** y respetar la sintaxis.\n",
    "\n",
    "``` python\n",
    "def nombre_funcion():\n",
    "    \"Codigo de la función\"\n",
    "    ...\n",
    "```\n",
    "Una función puede ejecutar cualquier bloque de código contenido. El código de la función esta compuesto por todas las líneas tabuladas posteriores a ***def***."
   ]
  },
  {
   "cell_type": "code",
   "execution_count": 1,
   "metadata": {
    "ExecuteTime": {
     "end_time": "2020-09-08T16:13:50.865449Z",
     "start_time": "2020-09-08T16:13:50.852130Z"
    }
   },
   "outputs": [],
   "source": [
    "def mi_funcion():\n",
    "    # Principio de la función\n",
    "    print(\"Esta función esta siendo ejecutada\")\n",
    "    a = 1\n",
    "    b = a + 10\n",
    "    print(a , b)\n",
    "    # Fin de la funcion"
   ]
  },
  {
   "cell_type": "code",
   "execution_count": 2,
   "metadata": {},
   "outputs": [
    {
     "name": "stdout",
     "output_type": "stream",
     "text": [
      "Esta función esta siendo ejecutada\n",
      "1 11\n"
     ]
    }
   ],
   "source": [
    "# Para ejecutar la función es necesario invocarla\n",
    "mi_funcion()"
   ]
  },
  {
   "cell_type": "markdown",
   "metadata": {},
   "source": [
    "### Argumentos\n",
    "\n",
    "Las funciones permiten utilizar variables externas mediante argumentos. \n",
    "Existen distintas formas de definir argumentos de una función.\n",
    "La más simple es mediante **argumentos obligatorios**\n",
    "\n",
    "``` python\n",
    "def mostrar_valores(a, b):\n",
    "    print(\"a = {}\\nb= {}\".format(a, b))\n",
    "```\n",
    "\n",
    "Este tipo de argumentos son obligatorios para que la función pueda ejecutarse.\n",
    "Es importante tener en cuenta que, en este caso, la función considera el orden de los argumentos.\n",
    "\n"
   ]
  },
  {
   "cell_type": "code",
   "execution_count": 3,
   "metadata": {
    "ExecuteTime": {
     "end_time": "2020-09-08T16:23:55.012105Z",
     "start_time": "2020-09-08T16:23:55.002735Z"
    }
   },
   "outputs": [
    {
     "name": "stdout",
     "output_type": "stream",
     "text": [
      "primera variable = 1\n",
      "segunda variable = [3, 2]\n"
     ]
    }
   ],
   "source": [
    "def mostrar_valores(a, b):\n",
    "    print(\"primera variable = {}\\nsegunda variable = {}\".format(a, b))\n",
    "\n",
    "mostrar_valores(1, [3, 2])"
   ]
  },
  {
   "cell_type": "code",
   "execution_count": 4,
   "metadata": {},
   "outputs": [
    {
     "name": "stdout",
     "output_type": "stream",
     "text": [
      "primera variable = hola\n",
      "segunda variable = 9\n"
     ]
    }
   ],
   "source": [
    "c = 'hola'\n",
    "d = 9\n",
    "\n",
    "mostrar_valores(c, d)"
   ]
  },
  {
   "cell_type": "markdown",
   "metadata": {},
   "source": [
    "Si la cantidad de argumentos dados es erronea se produce una excepción:"
   ]
  },
  {
   "cell_type": "code",
   "execution_count": 5,
   "metadata": {},
   "outputs": [
    {
     "name": "stdout",
     "output_type": "stream",
     "text": [
      "mostrar_valores() missing 1 required positional argument: 'b'\n"
     ]
    }
   ],
   "source": [
    "try:\n",
    "    mostrar_valores(1)\n",
    "except Exception as e:\n",
    "    print(e)"
   ]
  },
  {
   "cell_type": "markdown",
   "metadata": {},
   "source": [
    "Python permite utilizar el nombre de los argumentos para invocar una función. Si bien esto no es necesario, es recomendable aplicar esta práctica, ya que facilita la lectura del código.\n",
    "\n",
    "En el siguiente ejemplo utilizaremos la función que definimos anteriormente."
   ]
  },
  {
   "cell_type": "code",
   "execution_count": 6,
   "metadata": {},
   "outputs": [
    {
     "name": "stdout",
     "output_type": "stream",
     "text": [
      "Caso 1\n",
      "primera variable = 1\n",
      "segunda variable = [3, 2]\n"
     ]
    }
   ],
   "source": [
    "print(\"Caso 1\")\n",
    "mostrar_valores(a=1, b=[3, 2])"
   ]
  },
  {
   "cell_type": "code",
   "execution_count": 7,
   "metadata": {},
   "outputs": [
    {
     "name": "stdout",
     "output_type": "stream",
     "text": [
      "Caso 2\n",
      "primera variable = [3, 2]\n",
      "segunda variable = 1\n"
     ]
    }
   ],
   "source": [
    "print(\"Caso 2\")\n",
    "mostrar_valores(b=1, a=[3, 2])"
   ]
  },
  {
   "cell_type": "code",
   "execution_count": 8,
   "metadata": {},
   "outputs": [
    {
     "name": "stdout",
     "output_type": "stream",
     "text": [
      "Caso 3\n",
      "primera variable = 1\n",
      "segunda variable = [3, 2]\n"
     ]
    }
   ],
   "source": [
    "print(\"Caso 3\")\n",
    "mostrar_valores(1, b=[3, 2])"
   ]
  },
  {
   "cell_type": "code",
   "execution_count": 9,
   "metadata": {},
   "outputs": [
    {
     "name": "stdout",
     "output_type": "stream",
     "text": [
      "Caso 4\n",
      "mostrar_valores() got multiple values for argument 'a'\n",
      "El interprete de Python no realiza suposiciones a la hora de asignar argumentos\n"
     ]
    }
   ],
   "source": [
    "# Python considera que el primer argumento corresponde al primer argumento posicional\n",
    "print(\"Caso 4\")\n",
    "try:\n",
    "    mostrar_valores(1, a=[3, 2])\n",
    "except Exception as e:\n",
    "    print(e)\n",
    "    print(\"El interprete de Python no realiza suposiciones a la hora de asignar argumentos\")"
   ]
  },
  {
   "cell_type": "markdown",
   "metadata": {},
   "source": [
    "Es necesario tener en cuenta que a la hora de invocar una función, python no permite utilizar argumentos sin nombre luego de haber utilizado un argumento con nombre (**keyword argument**)\n",
    "\n",
    "``` pyhton\n",
    "mostrar_valores(b=1, [3, 2])\n",
    "```\n",
    "SyntaxError: non-keyword arg after keyword arg\n",
    "\n",
    "Esto se considera un error de sintaxis.\n",
    "\n",
    "#### Valores por defecto\n",
    "\n",
    "Python permite asignar valores por defecto a los argumentos. De esta forma se pueden definir argumentos opcionales.\n"
   ]
  },
  {
   "cell_type": "code",
   "execution_count": 10,
   "metadata": {
    "ExecuteTime": {
     "end_time": "2020-09-08T16:56:35.569781Z",
     "start_time": "2020-09-08T16:56:35.560293Z"
    }
   },
   "outputs": [],
   "source": [
    "def mi_funcion(a=1, b=10, mostrar_suma=False):\n",
    "    print(\"a = {}\\nb = {}\".format(a, b))\n",
    "    if mostrar_suma:\n",
    "        print(\"a + b = {}\".format(a + b))"
   ]
  },
  {
   "cell_type": "code",
   "execution_count": 11,
   "metadata": {},
   "outputs": [
    {
     "name": "stdout",
     "output_type": "stream",
     "text": [
      "Caso 1\n",
      "a = 1\n",
      "b = 10\n"
     ]
    }
   ],
   "source": [
    "print(\"Caso 1\")\n",
    "mi_funcion()"
   ]
  },
  {
   "cell_type": "code",
   "execution_count": 12,
   "metadata": {},
   "outputs": [
    {
     "name": "stdout",
     "output_type": "stream",
     "text": [
      "Caso 2\n",
      "a = 11\n",
      "b = 10\n"
     ]
    }
   ],
   "source": [
    "print(\"Caso 2\")\n",
    "mi_funcion(11)"
   ]
  },
  {
   "cell_type": "code",
   "execution_count": 13,
   "metadata": {},
   "outputs": [
    {
     "name": "stdout",
     "output_type": "stream",
     "text": [
      "Caso 3\n",
      "a = 1\n",
      "b = 15\n"
     ]
    }
   ],
   "source": [
    "print(\"Caso 3\")\n",
    "mi_funcion(b=15)"
   ]
  },
  {
   "cell_type": "code",
   "execution_count": 14,
   "metadata": {},
   "outputs": [
    {
     "name": "stdout",
     "output_type": "stream",
     "text": [
      "Caso 4\n",
      "a = 3\n",
      "b = 4\n",
      "a + b = 7\n"
     ]
    }
   ],
   "source": [
    "print(\"Caso 4\")\n",
    "mi_funcion(3, 4, True)"
   ]
  },
  {
   "cell_type": "markdown",
   "metadata": {},
   "source": [
    "#### Argumentos de largo variable\n",
    "\n",
    "En ocasiones, una función tiene una cantidad de argumentos desconocida o no siempre recibe los mismos argumentos.\n",
    "En estos casos se pueden utilizar argumentos de largo variable ( **Variable-length arguments**)\n",
    "\n",
    "Estos argumentos se definen de la siguiente forma \n",
    "``` python \n",
    "def my_func([argumentos_fijos,] *argumentos_variables ):\n",
    "    \"Muestra por pantalla los argumentos fijos\"\n",
    "    print(\"Los argumentos fijos son: {}\".format(argumentos_fijos)\n",
    "    \"Muestra por pantalla, si existen, los argumentos variables\"\n",
    "    for var in argumentos_variables:\n",
    "          print(var)\n",
    "    return None\n",
    "```\n",
    "Cuando se antepone un asterisco al nombre del argumento, el interprete entiende que este es un argumento de tamaño variable.\n",
    "\n",
    "A medida que se agregan argumentos cuando se llama la función, estos se van almacenando en la variable **argumentos_variables** de forma secuencial."
   ]
  },
  {
   "cell_type": "code",
   "execution_count": 15,
   "metadata": {
    "ExecuteTime": {
     "end_time": "2020-09-08T17:56:44.338092Z",
     "start_time": "2020-09-08T17:56:44.328469Z"
    }
   },
   "outputs": [],
   "source": [
    "def my_func(arg1 , *argvar):\n",
    "    print(\"El argumento fijo vale: {}\".format(arg1))\n",
    "    print(\"El argumento variable vale: {}\".format(argvar))\n",
    "    print(\"type argumento variable: {}\".format(type(argvar)))\n",
    "    for var in argvar:\n",
    "          print(var)\n",
    "    return None\n",
    "          \n"
   ]
  },
  {
   "cell_type": "code",
   "execution_count": 16,
   "metadata": {},
   "outputs": [
    {
     "name": "stdout",
     "output_type": "stream",
     "text": [
      "El argumento fijo vale: 1\n",
      "El argumento variable vale: (2, 3, 4, 5)\n",
      "type argumento variable: <class 'tuple'>\n",
      "2\n",
      "3\n",
      "4\n",
      "5\n"
     ]
    }
   ],
   "source": [
    "my_func(1, 2, 3, 4, 5)"
   ]
  },
  {
   "cell_type": "code",
   "execution_count": 17,
   "metadata": {},
   "outputs": [],
   "source": [
    "def my_func(arg1 , **kargvar):\n",
    "    print(\"El argumento fijo vale: {}\".format(arg1))\n",
    "    print(\"El argumento variable vale: {}\".format(kargvar))\n",
    "    print(\"type argumento variable: {}\".format(type(kargvar)))\n",
    "    return None\n",
    "    "
   ]
  },
  {
   "cell_type": "code",
   "execution_count": 18,
   "metadata": {},
   "outputs": [
    {
     "name": "stdout",
     "output_type": "stream",
     "text": [
      "El argumento fijo vale: 1\n",
      "El argumento variable vale: {'segundo': 2, 'tercero': 3, 'cuarto': 4}\n",
      "type argumento variable: <class 'dict'>\n"
     ]
    }
   ],
   "source": [
    "      \n",
    "my_func(1, segundo=2, tercero=3, cuarto=4)"
   ]
  },
  {
   "cell_type": "code",
   "execution_count": 19,
   "metadata": {},
   "outputs": [
    {
     "name": "stdout",
     "output_type": "stream",
     "text": [
      "El argumento fijo vale: 1\n",
      "El argumento variable vale: {'segundo': 2, 'tercero': 3, 'cuarto': 4}\n",
      "type argumento variable: <class 'dict'>\n"
     ]
    }
   ],
   "source": [
    "my_func(segundo=2, tercero=3, cuarto=4, arg1=1)"
   ]
  },
  {
   "cell_type": "markdown",
   "metadata": {},
   "source": [
    "### Return\n",
    "\n",
    "Las funciones de python tienen la capacidad de procesar datos y devolver un resultado (o varios).\n",
    "\n",
    "En la clase anterior ya hemos utilizado funciones que retornan un valor, como por ejemplo la funcion *len()*.\n",
    "\n",
    "Para darle este comportamiento a nuestra función se utiliza la palabra clave **return**."
   ]
  },
  {
   "cell_type": "code",
   "execution_count": 20,
   "metadata": {
    "ExecuteTime": {
     "end_time": "2020-09-08T17:16:49.408088Z",
     "start_time": "2020-09-08T17:16:49.401663Z"
    }
   },
   "outputs": [],
   "source": [
    "from random import randint\n",
    "\n",
    "def func_return():\n",
    "    var1 = \"String1\"\n",
    "    var2 = randint(0,1000)\n",
    "    if var2 > 500:\n",
    "        return var1\n",
    "    else: \n",
    "        return var2\n",
    "    print(\"Este codigo no se ejecuta\")\n",
    "    \n"
   ]
  },
  {
   "cell_type": "code",
   "execution_count": 21,
   "metadata": {},
   "outputs": [
    {
     "name": "stdout",
     "output_type": "stream",
     "text": [
      "String1\n",
      "240\n",
      "36\n",
      "String1\n",
      "432\n"
     ]
    }
   ],
   "source": [
    "for i in range(5):\n",
    "    print(func_return())\n"
   ]
  },
  {
   "cell_type": "markdown",
   "metadata": {},
   "source": [
    "En el anterior ejemplo se puede ver que se puede utilizar la keyword **return** en multiples ocasiones, pero ésta se ejecutará únicamente una vez por llamada.\n",
    "Cuando el interprete lee *return*, retorna ese resultado al programa que ejecutó la función.\n",
    "\n",
    "</br>\n",
    "Al igual que la asignación multiple, es posible retornar múltiples variables\n"
   ]
  },
  {
   "cell_type": "code",
   "execution_count": 22,
   "metadata": {
    "ExecuteTime": {
     "end_time": "2020-09-08T17:42:06.108820Z",
     "start_time": "2020-09-08T17:42:06.099130Z"
    }
   },
   "outputs": [
    {
     "name": "stdout",
     "output_type": "stream",
     "text": [
      "La funcion retorna una variable de tipo: <class 'tuple'>\n"
     ]
    }
   ],
   "source": [
    "def func():\n",
    "    a = 10\n",
    "    return a, a+1, a**2\n",
    "\n",
    "print(\"La funcion retorna una variable de tipo: {}\".format(type(func())))"
   ]
  },
  {
   "cell_type": "code",
   "execution_count": 23,
   "metadata": {},
   "outputs": [
    {
     "name": "stdout",
     "output_type": "stream",
     "text": [
      "v1 = 10\n",
      "v2 = 11\n",
      "v3 = 100\n"
     ]
    }
   ],
   "source": [
    "# La tupla se puede asignar a múltiples variables:\n",
    "v1, v2, v3 = func()\n",
    "print(\"v1 = {}\\nv2 = {}\\nv3 = {}\".format(v1, v2, v3))\n"
   ]
  },
  {
   "cell_type": "code",
   "execution_count": 24,
   "metadata": {},
   "outputs": [
    {
     "name": "stdout",
     "output_type": "stream",
     "text": [
      "10 [11, 100]\n",
      "10 11 100\n"
     ]
    }
   ],
   "source": [
    "v1, *v2 = func()\n",
    "\n",
    "print(v1, v2)\n",
    "print(v1, *v2)"
   ]
  },
  {
   "cell_type": "markdown",
   "metadata": {},
   "source": [
    "### Funciones anónimas\n",
    "\n",
    "Una función anónima es simplemente una función que no tiene nombre.\n",
    "Estas funciones son mayormente utilizadas cuando una función es aplicada únicamente en un contexto particular. \n",
    "El caso de uso más común es utilizarlo con la función *map* y la función *filter*.\n",
    "\n",
    "#### Sintaxis\n",
    "\n",
    "``` python\n",
    "lambda arguments: expression\n",
    "```\n",
    "\n",
    "Las funciones anónimas son comunmente conocidas como funciones lambda. Esto se debe a que en multiples lenguajes de programación se utiliza esta palabra clave.\n",
    "\n",
    "Este tipo de funciones pueden contener únicamente una línea de código y retornan un valor.\n",
    "\n",
    "Una función anónima se puede asignar a una variable y utilizarse como una función.\n",
    "\n",
    "<!-- Averiguar si se puede sobreescribir para agregarle a las listas el map o el filter -->"
   ]
  },
  {
   "cell_type": "code",
   "execution_count": 25,
   "metadata": {
    "ExecuteTime": {
     "end_time": "2020-09-15T10:47:21.556951Z",
     "start_time": "2020-09-15T10:47:21.490326Z"
    }
   },
   "outputs": [
    {
     "name": "stdout",
     "output_type": "stream",
     "text": [
      "doble es de tipo <class 'function'>\n",
      "El resultado de doble(5) es 10\n"
     ]
    }
   ],
   "source": [
    "doble = lambda x : x * 2\n",
    "n = 5\n",
    "print(\"doble es de tipo {}\\nEl resultado de doble({}) es {}\".format(type(doble), n, doble(n)))"
   ]
  },
  {
   "cell_type": "markdown",
   "metadata": {},
   "source": [
    "la función doble tambien se podría definir como:\n",
    "``` python\n",
    "def doble(x):\n",
    "    return x * 2\n",
    "```\n",
    "Ambas definiciones son muy similares.\n",
    "Algunas diferencias entre una función y una función lambda son:\n",
    "- Las funciones lambda pueden contener únicamente una linea de código\n",
    "\n",
    "#### Ejemplos"
   ]
  },
  {
   "cell_type": "code",
   "execution_count": 26,
   "metadata": {
    "ExecuteTime": {
     "end_time": "2020-09-15T10:59:44.765331Z",
     "start_time": "2020-09-15T10:59:44.752485Z"
    }
   },
   "outputs": [
    {
     "name": "stdout",
     "output_type": "stream",
     "text": [
      "[3, 15, 12, 18, 24, 33, 9, 36]\n"
     ]
    }
   ],
   "source": [
    "# Un programa que obtiene el triple de sus elementos\n",
    "\n",
    "lista = [1, 5, 4, 6, 8, 11, 3, 12]\n",
    "\n",
    "nueva_lista = list(map(lambda x: x * 3 , lista))\n",
    "\n",
    "print(nueva_lista)"
   ]
  },
  {
   "cell_type": "code",
   "execution_count": 27,
   "metadata": {},
   "outputs": [
    {
     "data": {
      "text/plain": [
       "[3, 15, 12, 18, 24, 33, 9, 36]"
      ]
     },
     "execution_count": 27,
     "metadata": {},
     "output_type": "execute_result"
    }
   ],
   "source": [
    "def triple(x):\n",
    "    return 3*x\n",
    "\n",
    "list(map(triple, lista))"
   ]
  },
  {
   "cell_type": "code",
   "execution_count": 28,
   "metadata": {
    "ExecuteTime": {
     "end_time": "2020-09-15T10:57:41.219235Z",
     "start_time": "2020-09-15T10:57:41.213287Z"
    }
   },
   "outputs": [
    {
     "name": "stdout",
     "output_type": "stream",
     "text": [
      "[0, 8, 16, 24, 32, 40, 48, 56, 64, 72, 80, 88, 96]\n"
     ]
    }
   ],
   "source": [
    "# Un programa que obtiene los multiplos de 8\n",
    "\n",
    "lista = range(100)\n",
    "\n",
    "nueva_lista = list(filter(lambda x: x%8 == 0 , lista))\n",
    "\n",
    "print(nueva_lista)"
   ]
  },
  {
   "cell_type": "markdown",
   "metadata": {},
   "source": [
    "### NameSpace\n",
    "\n",
    "Python utiliza distintos espacios de memoria para almacenar variables y funciones\n",
    "\n",
    "Un NameSpace es un espacio de memoria donde se almacenan nombres de variables y su correspondiente ubicación en la memoria.\n",
    "\n",
    "En python hay 4 namespaces:\n",
    "- Built-In\n",
    "- Global\n",
    "- Enclosing\n",
    "- Local\n",
    "\n",
    "![namespace](img/namespace.png)\n",
    "\n",
    "#### Built-in\n",
    "Este namespace contiene todas las variables integradas a python por defecto. Este namespace se crea cuando se ejecuta el interprete y está presente en todo momento de la ejecución.\n",
    "\n",
    "Para ver las funciones presentes en este namespace es necesario ejecutar el siguiente código:\n",
    "``` python\n",
    "dir(__builtins__)\n",
    "```\n",
    "\n",
    "#### Global\n",
    "El namespace global corresponde a la variables definidas por el usuario dentro de la rama principal del programa (main)\n",
    "\n",
    "```python\n",
    "def a():\n",
    "    pass\n",
    "\n",
    "b = 1\n",
    "```\n",
    "\n",
    "En el ejemplo, *a* y *b* pertenecen al namespace *global*\n",
    "\n",
    "Python a su vez define un namespace global para cada uno de los módulos que importa. Para acceder a ese namespace se utiliza la siguiente sintaxis:\n",
    "nombreModulo.variableOFuncion\n",
    "\n",
    "Por ejemplo:"
   ]
  },
  {
   "cell_type": "code",
   "execution_count": 29,
   "metadata": {
    "ExecuteTime": {
     "end_time": "2020-09-15T11:44:45.765575Z",
     "start_time": "2020-09-15T11:44:45.751440Z"
    }
   },
   "outputs": [
    {
     "name": "stdout",
     "output_type": "stream",
     "text": [
      "En el namespace 'math' la funcion sin es el seno de un numero real.\n",
      "        En el namespace 'global' sin representa una funcion identidad (el valor que retorna es el valor de entrada)\n",
      "        x1 = 3.141592653589793\n",
      "        x2 = 1.2246467991473532e-16\n"
     ]
    }
   ],
   "source": [
    "import math\n",
    "\n",
    "sin = lambda x: x\n",
    "\n",
    "x1 = sin(math.pi)\n",
    "x2 = math.sin(math.pi)\n",
    "\n",
    "print(\"\"\"En el namespace 'math' la funcion sin es el seno de un numero real.\n",
    "        En el namespace 'global' sin representa una funcion identidad (el valor que retorna es el valor de entrada)\n",
    "        x1 = {}\n",
    "        x2 = {}\"\"\".format(x1, x2))"
   ]
  },
  {
   "cell_type": "markdown",
   "metadata": {},
   "source": [
    "Para ver los nombres definidos en el Namespace *global*, se puede utilizar la función `globals()`\n",
    "\n",
    "``` python\n",
    "print(globals())\n",
    "\n",
    "globals()\n",
    "```"
   ]
  },
  {
   "cell_type": "markdown",
   "metadata": {},
   "source": [
    "#### Enclosing y Local\n",
    "Cada vez que el interprete de python ejecuta una función, se crea un namespace.\n",
    "\n",
    "Es posible definir funciones adentro de funciones. \n",
    "\n",
    "Por ejemplo\n",
    "``` python\n",
    "def f():\n",
    "  print('Empieza f()')\n",
    "  \n",
    "  def g():\n",
    "    print('Empieza g()')\n",
    "    print('Termina g()')\n",
    "    return\n",
    "  g()\n",
    "  print('Termina f()')\n",
    "  return\n",
    "\n",
    "f()\n",
    "```\n",
    "\n",
    "El resultado de este bloque sería:\n",
    "``` bash\n",
    "Empieza f()\n",
    "Empieza g()\n",
    "Termina g()\n",
    "Termina f()\n",
    "```\n",
    "\n",
    "Empieza la ejecución del bloque (namespace *'main'*), se llama a la función f() (Se crea un namespace *'Enclosing'*). Luego f() llama a la función g() (se genera un namespace (*'local'* adentro del namespace de f())\n",
    "\n",
    "Cada uno de los namespaces existe hasta que finaliza la ejecución del mismo. \n",
    "En el caso de una función, cuando finaliza el bloque o se ejecuta un *return*.\n",
    "\n",
    "Para mostrar los nombres definidos en el namespace local se utiliza la funcion `locals()` que retorna un diccionario con los nombres y valores de las variables definidas."
   ]
  },
  {
   "cell_type": "code",
   "execution_count": 30,
   "metadata": {
    "ExecuteTime": {
     "end_time": "2020-09-15T12:30:40.123927Z",
     "start_time": "2020-09-15T12:30:40.103709Z"
    }
   },
   "outputs": [
    {
     "name": "stdout",
     "output_type": "stream",
     "text": [
      "{'x': 10, 'y': 0.5, 's': 'foo', 'l': [1, 2]}\n"
     ]
    }
   ],
   "source": [
    "def f(x, y):\n",
    "    s = 'foo'\n",
    "    l = [1, 2]\n",
    "    print(locals())\n",
    "\n",
    "f(10, 0.5)"
   ]
  },
  {
   "cell_type": "markdown",
   "metadata": {},
   "source": [
    "#### Scope de una variable\n",
    "\n",
    "En Python es importante entender en que namespace existe una variable. Esto es importante ya que se podría utilizar el mismo nombre para una variable y almacenar distintos valores.\n",
    "\n",
    "Por ejemplo, continuando con el módulo *math*:"
   ]
  },
  {
   "cell_type": "code",
   "execution_count": 31,
   "metadata": {},
   "outputs": [
    {
     "name": "stdout",
     "output_type": "stream",
     "text": [
      "3.141592653589793\n",
      "3.14\n",
      "3.141\n",
      "3.14\n"
     ]
    }
   ],
   "source": [
    "import math\n",
    "# math.pi = 3.14159...\n",
    "pi = 3.14\n",
    "\n",
    "def getPi():\n",
    "    pi = 3.141\n",
    "    print(pi)\n",
    "    \n",
    "    \n",
    "print(math.pi)\n",
    "print(pi)\n",
    "getPi()\n",
    "print(globals()['pi'])"
   ]
  },
  {
   "cell_type": "markdown",
   "metadata": {},
   "source": [
    "En el ejemplo, la variable pi tiene 3 valores distintos. En el modulo math es 3.14159265359, en el entorno principal ( o main) *pi* vale 3.14 y dentro de la función *getPi* vale 3.141\n",
    "\n",
    "Python utiliza la regla LEGB. Esto significa que el interpreta va a buscar la variable primero en el namespace *Local*, luego en el namespace *Enclosing*, luego en *Global* y por ultimo en *Built-In*. En caso de no encontrar el nombre buscado, el interprete eleva una Excepción del tipo *NameError exception*\n",
    "\n"
   ]
  },
  {
   "cell_type": "markdown",
   "metadata": {},
   "source": [
    "### Módulos\n",
    "\n",
    "Un módulo es un objeto de python que agrupa código. Este código puede contener variables y funciones.\n",
    "\n",
    "Dentro de la carpeta *src* se encuentra un archivo **module.py** que contiene el código en python mostrado a continuación.\n",
    "\n",
    "``` python\n",
    "\n",
    "print(\"Este es el modulo 'module.py'\")\n",
    "\n",
    "a = 10\n",
    "\n",
    "b = 20\n",
    "\n",
    "\n",
    "def f1(x, y):\n",
    "    print(\"esta función se encuentra en el modulo 'module'\")\n",
    "    return x, y\n",
    "\n",
    "```\n",
    "\n",
    "Para importar el archivo se utiliza la palabra clave **import**\n",
    "\n",
    "Al importarse un módulo, es ejecutado el código contenido en el archivo *.py* y se genera un namespace propio para ese módulo.\n",
    "\n",
    "En el siguiente bloque de código se importa el módulo analizado."
   ]
  },
  {
   "cell_type": "code",
   "execution_count": 32,
   "metadata": {
    "ExecuteTime": {
     "end_time": "2020-09-15T14:41:02.266447Z",
     "start_time": "2020-09-15T14:41:02.251561Z"
    }
   },
   "outputs": [
    {
     "name": "stdout",
     "output_type": "stream",
     "text": [
      "Este es el modulo 'module.py'\n",
      "10\n",
      "Esta función se encuentra en el modulo 'module'\n"
     ]
    },
    {
     "data": {
      "text/plain": [
       "(1, 2)"
      ]
     },
     "execution_count": 32,
     "metadata": {},
     "output_type": "execute_result"
    }
   ],
   "source": [
    "import src.module as m\n",
    "\n",
    "print(m.a)\n",
    "\n",
    "m.f1(1,2)"
   ]
  },
  {
   "cell_type": "markdown",
   "metadata": {},
   "source": [
    "Es importante conocer la ubicación del módulo para que el interprete sea capaz de encontrarlo. \n",
    "Los módulos instalados mediante conda y pip, se pueden importar directamente, ya que su ubicación se encuentra en el **path** del interprete.\n",
    "\n",
    "Al módulo importado se le puede dar un alias con la keyWord **as**, esto es útil cuando el nombre del módulo es largo.\n",
    "\n",
    "Los módulos se pueden estructurar en paquetes, como en este caso **src**. Los paquetes son una forma de estructurar el espacio de nombres de los módulos de Python utilizando la sintaxis de puntos (paquete.subpaquete.modulo).\n",
    "\n",
    "Además, tenemos a las librerías. Una librería es una colección de módulos y/o paquetes que proporcionan funcionalidades para un propósito específico o resuelven un conjunto particular de problemas. A menudo, las librerías son desarrolladas y distribuidas por terceros. Una librería consta de uno o más módulos y/o paquetes. Ejemplos de librerías son numpy, pandas, tensorflow, etc. \n"
   ]
  },
  {
   "cell_type": "markdown",
   "metadata": {},
   "source": [
    "También es posible importar unicamente algunas funciones del módulo al namespace del programa (**global**)\n"
   ]
  },
  {
   "cell_type": "code",
   "execution_count": 33,
   "metadata": {},
   "outputs": [
    {
     "name": "stdout",
     "output_type": "stream",
     "text": [
      "Esta función se encuentra en el modulo 'module'\n",
      "La suma de 1 y 2 es: 3\n"
     ]
    }
   ],
   "source": [
    "from src.module import f1, suma\n",
    "\n",
    "f1(1,2)\n",
    "\n",
    "print(\"La suma de 1 y 2 es: {}\".format(suma(1,2)))"
   ]
  },
  {
   "cell_type": "markdown",
   "metadata": {},
   "source": [
    "## Clases\n",
    "\n",
    "Una clase es un bloque de código que nos permite agrupar funciones, variables y constantes. Este blóque de código es facilmente accesible y se puede replicar la cantidad de veces que sea necesaria.\n",
    "\n",
    "Agrupar código nos permite desarrollar un código legible y mantenible.\n",
    "\n",
    "### Definición\n",
    "\n",
    "Para definir una clase se utiliza la palabra reservada **Class**\n",
    "\n",
    "``` python\n",
    "class Operaciones: \n",
    "    # Código de la clase\n",
    "    def suma(self, a, b):\n",
    "        return a + b\n",
    "    \n",
    "    def producto(self, a, b):\n",
    "        return a * b\n",
    "    \n",
    "    def cuadrado(self, a):\n",
    "        return pow(a,2)\n",
    "```\n",
    "\n",
    "El código que se encuentra en una clase es similar al que vimos en el módulo, pero se pueden ver algunas diferencias.\n",
    "\n",
    "Se puede ver que en cada función se utiliza como primer argumento la palabra reservada **self**. Esta keyword representa a la instancia de clase y es utilizada para acceder a las funciones y variables de la misma.\n",
    "\n",
    "Veamos ahora cómo utilizar una clase en el código.\n",
    "``` python\n",
    "o = Operaciones()\n",
    "\n",
    "o.suma(2, 3)\n",
    "## 5\n",
    "\n",
    "p = Operaciones()\n",
    "p.producto(2, 3)\n",
    "## 6\n",
    "```\n",
    "\n",
    "Se puede ver que una clase se asigna a una variable.  Esto se conoce como **instanciar**. Esa variable tendrá todas las funcionalidades de la clase, como por ejemplo las funciones y los atributos.\n",
    "\n",
    "Entonces se podria decir que la principal diferencia entre un módulo y una clase es que para utilizar el código de una clase hay que **instanciarla**. El resultado de esto es un **objeto**.\n",
    "\n",
    "En el código se puede ver que una misma clase se puede instanciar varias veces.\n",
    "\n",
    "### Instancia\n",
    "\n",
    "Una instancia es, entonces, una variable que contiene todas las funcionalidades de una clase.\n",
    "\n",
    "Para instanciar una clase se utiliza el nombre de la clase como función. \n",
    "\n",
    "Es una buena practica nombrar las clases con una mayuscula al inicio del nombre."
   ]
  },
  {
   "cell_type": "code",
   "execution_count": 34,
   "metadata": {},
   "outputs": [],
   "source": [
    "class Operaciones: \n",
    "    # Código de la clase mínimo\n",
    "    pass\n",
    "    \n",
    "o = Operaciones()"
   ]
  },
  {
   "cell_type": "markdown",
   "metadata": {},
   "source": [
    "Cuando se instancia una clase python llama a una funcion predefinida:  **\\_\\_init\\_\\_**\n",
    "Esta función se puede sobreescribir para agregar las funcionalidades necesarias.\n",
    "\n",
    "En el siguiente ejemplo agregamos la funcion **\\_\\_init\\_\\_** al código."
   ]
  },
  {
   "cell_type": "code",
   "execution_count": 35,
   "metadata": {},
   "outputs": [],
   "source": [
    "class Operaciones: \n",
    "    # Definicion de __init__\n",
    "    def __init__(self):\n",
    "        print(\"La clase Operaciones ha sido instanciada\")\n",
    "    "
   ]
  },
  {
   "cell_type": "code",
   "execution_count": 36,
   "metadata": {},
   "outputs": [
    {
     "name": "stdout",
     "output_type": "stream",
     "text": [
      "La clase Operaciones ha sido instanciada\n"
     ]
    }
   ],
   "source": [
    "o = Operaciones()"
   ]
  },
  {
   "cell_type": "markdown",
   "metadata": {},
   "source": [
    "La función de inicialización tambien puede tener argumentos específicos."
   ]
  },
  {
   "cell_type": "code",
   "execution_count": 37,
   "metadata": {},
   "outputs": [
    {
     "name": "stdout",
     "output_type": "stream",
     "text": [
      "La clase Operaciones ha sido inicializada con 1\n"
     ]
    }
   ],
   "source": [
    "class Operaciones: \n",
    "    def __init__(self, num):\n",
    "        print(\"La clase Operaciones ha sido inicializada con {}\".format(num))\n",
    "    \n",
    "o = Operaciones(1)"
   ]
  },
  {
   "cell_type": "code",
   "execution_count": 38,
   "metadata": {},
   "outputs": [
    {
     "name": "stdout",
     "output_type": "stream",
     "text": [
      "La clase Operaciones ha sido inicializada con 2\n"
     ]
    }
   ],
   "source": [
    "p = Operaciones(2)"
   ]
  },
  {
   "cell_type": "markdown",
   "metadata": {},
   "source": [
    "### Variables\n",
    "\n",
    "Al igual que en los módulos, las clases pueden contener variables propias. Estas variables suelen conocerce con el nombre de atributos.\n",
    "\n",
    "#### Variables de instancia\n",
    "Un atributo de instancia es definido en la función \\_\\_init\\_\\_. Cada instancia de la clase tendrá este atributo y podrá ser modificado sin alterar el valor en otras instancias.\n"
   ]
  },
  {
   "cell_type": "code",
   "execution_count": 39,
   "metadata": {},
   "outputs": [],
   "source": [
    "class Operaciones: \n",
    "    def __init__(self, num):\n",
    "        self.num = num\n"
   ]
  },
  {
   "cell_type": "code",
   "execution_count": 40,
   "metadata": {},
   "outputs": [
    {
     "name": "stdout",
     "output_type": "stream",
     "text": [
      "El atributo 'num' vale: 2\n"
     ]
    }
   ],
   "source": [
    "o = Operaciones(2)\n",
    "print(\"El atributo 'num' vale: {}\".format(o.num))\n"
   ]
  },
  {
   "cell_type": "code",
   "execution_count": 41,
   "metadata": {},
   "outputs": [
    {
     "name": "stdout",
     "output_type": "stream",
     "text": [
      "El atributo 'num' vale: 5\n"
     ]
    }
   ],
   "source": [
    "o.num = 5\n",
    "print(\"El atributo 'num' vale: {}\".format(o.num))\n"
   ]
  },
  {
   "cell_type": "code",
   "execution_count": 42,
   "metadata": {},
   "outputs": [
    {
     "data": {
      "text/plain": [
       "3"
      ]
     },
     "execution_count": 42,
     "metadata": {},
     "output_type": "execute_result"
    }
   ],
   "source": [
    "p = Operaciones(3)\n",
    "\n",
    "p.num"
   ]
  },
  {
   "cell_type": "markdown",
   "metadata": {},
   "source": [
    "#### Variables de clase\n",
    "\n",
    "Las variables de clase son comunes a todas las instancias de la clase y a la clase.\n",
    "Es buena práctica definir todas las variables de clase al inicio de la misma.\n",
    "\n",
    "A continuación se muestra un ejemplo de un atributo de clase:"
   ]
  },
  {
   "cell_type": "code",
   "execution_count": 43,
   "metadata": {},
   "outputs": [
    {
     "name": "stdout",
     "output_type": "stream",
     "text": [
      "El atributo 'class_attr' vale: 1\n",
      "El atributo 'class_attr' está definido para la clase: 1\n"
     ]
    }
   ],
   "source": [
    "class Operaciones: \n",
    "    class_attr = 1\n",
    "    def __init__(self, num):\n",
    "        self.inst_attr = num\n",
    "        \n",
    "o = Operaciones(2)\n",
    "\n",
    "print(\"El atributo 'class_attr' vale: {}\".format(o.class_attr))\n",
    "\n",
    "print(\"El atributo 'class_attr' está definido para la clase: {}\".format(Operaciones.class_attr))\n"
   ]
  },
  {
   "cell_type": "markdown",
   "metadata": {},
   "source": [
    "### Métodos\n",
    "Para agregar funcionalidades a la clase, se pueden agregar funciones a las clases. Estas funciones son conocidas como métodos.\n",
    "Una clase puede contener todos los métodos que se desee.\n",
    "El método debe contener siempre el argumento *self* en la primera posición. \n",
    "\n",
    "#### Métodos comunes\n",
    "Python define algunos métodos que son comunes a todas las clases y son útiles para interactuar con funciones específicas de python. Éstos son conocidos como **magic methods**.\n",
    "Estos métodos se caracterizan por estar rodeados por **\\_\\_**.\n",
    "\n",
    "Algunos ejemplos son:\n",
    "- \\_\\_init\\_\\_ : inicializa la instancia\n",
    "- \\_\\_call\\_\\_ : permite utilizar la clase como una función\n",
    "- \\_\\_srt\\_\\_ : esta función se ejecuta cuando se hace un print() de la clase\n",
    "- \\_\\_contains\\_\\_ : esta función se llama cuando se utiliza un operador de pertenencia como *in*\n",
    "\n",
    "Para mas información: [link](https://rszalski.github.io/magicmethods/#appendix1)\n",
    "\n",
    "En data science con frecuencia vamos a trabajar con clases que implementan algún determinado algoritmo, por ejemplo la regresión lineal. Cuando lleguemos a los módulos de Machine Learning y empecemos a trabajar con la librería `Scikit-Learn`, va a ser práctica común instanciar clases de modelos. \n",
    "\n",
    "Para tener una mejor comprensión de lo que vamos a estar haciendo al trabajar con clases de modelos, definamos una clase muy sencilla: \n",
    "\n",
    "Definimos la clase `Modelo`\n",
    "\n",
    "En esta clase podemos pasar parámetros al momento de instaciar la clase, que serán inicializados por el método `init`, mostar los párametros por pantalla y ejecutar "
   ]
  },
  {
   "cell_type": "code",
   "execution_count": 44,
   "metadata": {},
   "outputs": [],
   "source": [
    "class Modelo:\n",
    "    def __init__(self, parametro1, parametro2, modelo):\n",
    "        self.p1 = parametro1\n",
    "        self.p2 = parametro2\n",
    "        self.model = modelo\n",
    "    \n",
    "    def __str__(self):\n",
    "        return \"El modelo es {}, con parámetros: p1= {} y p2= {}\".format(self.model, self.p1, self.p2)\n",
    "    \n",
    "    def __call__(self, x):\n",
    "        if self.model == 'lineal':\n",
    "            return self.p1*x + self.p2 \n",
    "        \n",
    "        elif self.model == 'exponencial':\n",
    "            return self.p2*(self.p1**x)\n",
    "        \n",
    "        else:\n",
    "            print('Error: modelo no válido')\n",
    "      "
   ]
  },
  {
   "cell_type": "code",
   "execution_count": 45,
   "metadata": {},
   "outputs": [
    {
     "name": "stdout",
     "output_type": "stream",
     "text": [
      "El modelo es lineal, con parámetros: p1= 2 y p2= 5\n",
      "7\n"
     ]
    }
   ],
   "source": [
    "      \n",
    "modelo1 = Modelo(2, 5, 'lineal')\n",
    "\n",
    "print(modelo1)\n",
    "\n",
    "print(modelo1(1))"
   ]
  },
  {
   "cell_type": "code",
   "execution_count": 46,
   "metadata": {},
   "outputs": [
    {
     "data": {
      "text/plain": [
       "__main__.Modelo"
      ]
     },
     "execution_count": 46,
     "metadata": {},
     "output_type": "execute_result"
    }
   ],
   "source": [
    "type(modelo1)"
   ]
  },
  {
   "cell_type": "code",
   "execution_count": 47,
   "metadata": {},
   "outputs": [
    {
     "name": "stdout",
     "output_type": "stream",
     "text": [
      "El modelo es exponencial, con parámetros: p1= 2 y p2= 5\n"
     ]
    },
    {
     "data": {
      "text/plain": [
       "10"
      ]
     },
     "execution_count": 47,
     "metadata": {},
     "output_type": "execute_result"
    }
   ],
   "source": [
    "modelo2 = Modelo(2, 5, 'exponencial')\n",
    "\n",
    "print(modelo2)\n",
    "\n",
    "modelo2(1)"
   ]
  },
  {
   "cell_type": "markdown",
   "metadata": {},
   "source": [
    "#### Métodos personalizados\n",
    "\n",
    "Una de las mayores ventajas de utilizar métodos personalizados es agregar funcionalidades y crear clases más intuitivas y fáciles de usar.\n",
    "\n",
    "Volviendo al ejemplo anterior, se puede definir un método *predict* que realice la predición.\n",
    "\n",
    "Si bien, el comportamiento es el mismo, es mas intuitivo que el método tenga el nombre predict"
   ]
  },
  {
   "cell_type": "code",
   "execution_count": 48,
   "metadata": {},
   "outputs": [],
   "source": [
    "class Modelo:\n",
    "    def __init__(self, parametro1, parametro2, modelo):\n",
    "        self.p1 = parametro1\n",
    "        self.p2 = parametro2\n",
    "        self.model = modelo\n",
    "    \n",
    "    def __str__(self):\n",
    "        return \"El modelo es {}, con parámetros: p1= {} y p2= {}\".format(self.model, self.p1, self.p2)\n",
    "    \n",
    "    def predict(self, x):\n",
    "        if self.model == 'lineal':\n",
    "            return self.p1*x + self.p2 \n",
    "        \n",
    "        elif self.model == 'exponencial':\n",
    "            return self.p2*(self.p1**x)\n",
    "        \n",
    "        else:\n",
    "            print('Error: modelo no válido')\n",
    " "
   ]
  },
  {
   "cell_type": "code",
   "execution_count": 49,
   "metadata": {},
   "outputs": [
    {
     "name": "stdout",
     "output_type": "stream",
     "text": [
      "El modelo es exponencial, con parámetros: p1= 2 y p2= 5\n"
     ]
    },
    {
     "data": {
      "text/plain": [
       "10"
      ]
     },
     "execution_count": 49,
     "metadata": {},
     "output_type": "execute_result"
    }
   ],
   "source": [
    "modelo1 = Modelo(2, 5, 'exponencial')\n",
    "\n",
    "print(modelo1)\n",
    "\n",
    "modelo1.predict(1)"
   ]
  },
  {
   "cell_type": "code",
   "execution_count": 50,
   "metadata": {},
   "outputs": [
    {
     "data": {
      "text/plain": [
       "20"
      ]
     },
     "execution_count": 50,
     "metadata": {},
     "output_type": "execute_result"
    }
   ],
   "source": [
    "modelo1.predict(2)"
   ]
  },
  {
   "cell_type": "markdown",
   "metadata": {},
   "source": [
    "Algunos errores comunes corresponden al uso de *namespaces*. Cada clase que se instancia, genera un namespace local.\n",
    "Analicemos el siguiente ejemplo:"
   ]
  },
  {
   "cell_type": "code",
   "execution_count": 51,
   "metadata": {},
   "outputs": [],
   "source": [
    "class Modelo2:\n",
    "    def __init__(self, parametro1):\n",
    "        self.p1 = parametro1\n",
    "    \n",
    "    def __str__(self):\n",
    "        return \"El modelo tiene parámetro: p1 = {}\".format(self.p1)\n",
    "    \n",
    "    def predict(self, x):\n",
    "        return p1 + x\n",
    "    \n",
    "p1 = 4\n"
   ]
  },
  {
   "cell_type": "code",
   "execution_count": 52,
   "metadata": {},
   "outputs": [
    {
     "name": "stdout",
     "output_type": "stream",
     "text": [
      "El modelo tiene parámetro: p1 = 2\n"
     ]
    }
   ],
   "source": [
    "\n",
    "modelo2 = Modelo2(2)\n",
    "print(modelo2)"
   ]
  },
  {
   "cell_type": "code",
   "execution_count": 53,
   "metadata": {},
   "outputs": [
    {
     "data": {
      "text/plain": [
       "5"
      ]
     },
     "execution_count": 53,
     "metadata": {},
     "output_type": "execute_result"
    }
   ],
   "source": [
    "modelo2.predict(1)"
   ]
  },
  {
   "cell_type": "markdown",
   "metadata": {},
   "source": [
    "Se puede ver que la predicción no tiene el valor esperado.\n",
    "Viendo el código, se puede ver que predict retorna *p1 + x*\n",
    "``` python\n",
    "def predict(self, x):\n",
    "        return p1 + x\n",
    "```\n",
    "Al no utilizar la keyword *self*, el interprete busca la variable en un namespace superior. En este caso encuentra el nombre en el namespace *global* con un valor de *4*\n"
   ]
  },
  {
   "cell_type": "markdown",
   "metadata": {},
   "source": [
    "### Herencia\n",
    "\n",
    "La **herencia** es un mecanismo de la programación orientada a objetos que sirve para crear clases nuevas a partir de clases preexistentes. Se toman (heredan) atributos y comportamientos de las clases viejas y se los modifica para modelar una nueva situación.\n",
    "\n",
    "La clase vieja se llama **clase base** o **superclase** y la que se construye a partir de ella es una **clase derivada** o **subclase**.\n",
    "\n",
    "#### Herencia implicita\n",
    "\n",
    "Creamos 2 clases, la base y la derivada.\n"
   ]
  },
  {
   "cell_type": "code",
   "execution_count": 54,
   "metadata": {},
   "outputs": [],
   "source": [
    "class BaseImpl:\n",
    "    \n",
    "    def implicito(self):\n",
    "        print(\"Método implicito() de Base\")\n",
    "        \n",
    "        \n",
    "class DerivadaImpl(BaseImpl):\n",
    "    pass"
   ]
  },
  {
   "cell_type": "markdown",
   "metadata": {},
   "source": [
    "Instanciamos ambas clases, creando los objetos madre e hija."
   ]
  },
  {
   "cell_type": "code",
   "execution_count": 55,
   "metadata": {},
   "outputs": [],
   "source": [
    "madre_impl = BaseImpl()\n",
    "hija_impl = DerivadaImpl()"
   ]
  },
  {
   "cell_type": "markdown",
   "metadata": {},
   "source": [
    "Ejecutamos el método implicita() en el objeto madre de la clase base"
   ]
  },
  {
   "cell_type": "code",
   "execution_count": 56,
   "metadata": {},
   "outputs": [
    {
     "name": "stdout",
     "output_type": "stream",
     "text": [
      "Método implicito() de Base\n"
     ]
    }
   ],
   "source": [
    "madre_impl.implicito()"
   ]
  },
  {
   "cell_type": "markdown",
   "metadata": {},
   "source": [
    "Ejecutamos el método implicita() en el objeto hija de la clase derivada"
   ]
  },
  {
   "cell_type": "code",
   "execution_count": 57,
   "metadata": {},
   "outputs": [
    {
     "name": "stdout",
     "output_type": "stream",
     "text": [
      "Método implicito() de Base\n"
     ]
    }
   ],
   "source": [
    "hija_impl.implicito()"
   ]
  },
  {
   "cell_type": "markdown",
   "metadata": {},
   "source": [
    "A pesar de no haber definido una función `implicita()` en la clase Derivada, puedo llamar el método en el objeto hijo. Esto muestra que todas las funciones que están en una clase base van a estar en las clases derivadas."
   ]
  },
  {
   "cell_type": "markdown",
   "metadata": {},
   "source": [
    "#### Sobrescritura explícita\n",
    "\n",
    "Creamos 2 clases, la base y la derivada."
   ]
  },
  {
   "cell_type": "code",
   "execution_count": 58,
   "metadata": {},
   "outputs": [],
   "source": [
    "class BaseSobr:\n",
    "    \n",
    "    def sobrescritura(self):\n",
    "        print(\"Método sobrescritura() de Base\")\n",
    "        \n",
    "        \n",
    "class DerivadaSobr(BaseSobr):\n",
    "    \n",
    "    def sobrescritura(self):\n",
    "        print(\"Método sobrescritura() de Derivada\")"
   ]
  },
  {
   "cell_type": "code",
   "execution_count": 59,
   "metadata": {},
   "outputs": [],
   "source": [
    "madre_sobr = BaseSobr()\n",
    "hija_sobr = DerivadaSobr()"
   ]
  },
  {
   "cell_type": "code",
   "execution_count": 60,
   "metadata": {},
   "outputs": [
    {
     "name": "stdout",
     "output_type": "stream",
     "text": [
      "Método sobrescritura() de Base\n"
     ]
    }
   ],
   "source": [
    "madre_sobr.sobrescritura()"
   ]
  },
  {
   "cell_type": "markdown",
   "metadata": {},
   "source": [
    "El método sobrescritura() de la clase derivada reemplaza a la de la clase base:"
   ]
  },
  {
   "cell_type": "code",
   "execution_count": 61,
   "metadata": {},
   "outputs": [
    {
     "name": "stdout",
     "output_type": "stream",
     "text": [
      "Método sobrescritura() de Derivada\n"
     ]
    }
   ],
   "source": [
    "hija_sobr.sobrescritura()"
   ]
  },
  {
   "cell_type": "markdown",
   "metadata": {},
   "source": [
    "Veamos un ejemplo de clases con herencia. Vamos a definir una clase para crear perfiles de personas.\n",
    "\n",
    "Creamos a la clase Persona:"
   ]
  },
  {
   "cell_type": "code",
   "execution_count": 62,
   "metadata": {},
   "outputs": [],
   "source": [
    "class Persona:   \n",
    "    def __init__(self, nombre, apellido, dni):\n",
    "        \"\"\" Método init para ingresar nombre, apellido y dni al instanciar la clase\"\"\"\n",
    "        self.nombre = nombre\n",
    "        self.apellido = apellido\n",
    "        self.dni = dni\n",
    "        self.lista_estudios = []\n",
    "    \n",
    "    def estudios(self, estudio):\n",
    "        \"\"\" Método para agregar estudios a la lista de estudios\"\"\"\n",
    "        self.lista_estudios.append(estudio)\n",
    "               "
   ]
  },
  {
   "cell_type": "markdown",
   "metadata": {},
   "source": [
    "Creamos el objeto María a partir de la clase Persona:"
   ]
  },
  {
   "cell_type": "code",
   "execution_count": 63,
   "metadata": {},
   "outputs": [],
   "source": [
    "maria = Persona('María', 'Lopez', '29.892.382')\n",
    "\n",
    "maria.estudios('Lic Economia')\n",
    "maria.estudios('MBA')"
   ]
  },
  {
   "cell_type": "code",
   "execution_count": 64,
   "metadata": {},
   "outputs": [
    {
     "name": "stdout",
     "output_type": "stream",
     "text": [
      "Nombre: María\n",
      "Apellido: Lopez\n",
      "DNI: 29.892.382\n",
      "Estudios: ['Lic Economia', 'MBA']\n"
     ]
    }
   ],
   "source": [
    "print(\"Nombre: {}\".format(maria.nombre))\n",
    "print(\"Apellido: {}\".format(maria.apellido))\n",
    "print(\"DNI: {}\".format(maria.dni))\n",
    "print(\"Estudios: {}\".format(maria.lista_estudios))"
   ]
  },
  {
   "cell_type": "markdown",
   "metadata": {},
   "source": [
    "Ahora vamos a definir una subclase que crea alumnos de ITBA. \n",
    "\n",
    "Nota: la definición de clase a continuación contiene algunos problemas que abordaremos más adelante. ¿Pueden detectarlos?"
   ]
  },
  {
   "cell_type": "code",
   "execution_count": 65,
   "metadata": {},
   "outputs": [],
   "source": [
    "class AlumnoITBA(Persona):\n",
    "    '''Clase que hereda de Persona'''\n",
    "   \n",
    "    lista_de_cursos = []\n",
    "    \n",
    "    def agregarCurso(self, curso):\n",
    "        '''Método para agregar cursos'''\n",
    "        self.lista_de_cursos.append(curso)"
   ]
  },
  {
   "cell_type": "code",
   "execution_count": 66,
   "metadata": {},
   "outputs": [],
   "source": [
    "pedro = AlumnoITBA('Pedro','Mazzini', '32.564.278')\n",
    "pedro.estudios('Ing. Industrial')\n",
    "pedro.agregarCurso('Data Science')"
   ]
  },
  {
   "cell_type": "code",
   "execution_count": 67,
   "metadata": {},
   "outputs": [
    {
     "name": "stdout",
     "output_type": "stream",
     "text": [
      "Nombre: Pedro\n",
      "Apellido: Mazzini\n",
      "DNI: 32.564.278\n",
      "Estudios: ['Ing. Industrial']\n",
      "Cursos: ['Data Science']\n"
     ]
    }
   ],
   "source": [
    "print(\"Nombre: {}\".format(pedro.nombre))\n",
    "print(\"Apellido: {}\".format(pedro.apellido))\n",
    "print(\"DNI: {}\".format(pedro.dni))\n",
    "print(\"Estudios: {}\".format(pedro.lista_estudios))\n",
    "print(\"Cursos: {}\".format(pedro.lista_de_cursos))"
   ]
  },
  {
   "cell_type": "markdown",
   "metadata": {},
   "source": [
    "Para saber si una clase es subclase de otra, se utiliza la función `issubclass()`."
   ]
  },
  {
   "cell_type": "code",
   "execution_count": 68,
   "metadata": {},
   "outputs": [
    {
     "data": {
      "text/plain": [
       "True"
      ]
     },
     "execution_count": 68,
     "metadata": {},
     "output_type": "execute_result"
    }
   ],
   "source": [
    "# Sintaxis: issubclass(<clase_1>, <clase_2>)\n",
    "\n",
    "issubclass(AlumnoITBA, Persona)"
   ]
  },
  {
   "cell_type": "code",
   "execution_count": 69,
   "metadata": {},
   "outputs": [
    {
     "data": {
      "text/plain": [
       "False"
      ]
     },
     "execution_count": 69,
     "metadata": {},
     "output_type": "execute_result"
    }
   ],
   "source": [
    "issubclass(Persona, AlumnoITBA)"
   ]
  },
  {
   "cell_type": "markdown",
   "metadata": {},
   "source": [
    "¿ Qué pasaría si ITBA necesitara el género, además del nombre, apellido y DNI que nos da la clase Persona?\n",
    "\n",
    "Por otro lado, al definir la clase AlumnoITBA, nos quedó la lista de cursos como un atributo de clase, lo cual es incorrecto porque los cursos corresponden a cada alumno, es decir a la instancia. Para resolver estos temas usamos la función **super()**."
   ]
  },
  {
   "cell_type": "markdown",
   "metadata": {},
   "source": [
    "#### Sobrescritura de métodos con super()"
   ]
  },
  {
   "cell_type": "markdown",
   "metadata": {},
   "source": [
    "En algunos casos es conveniente reutilizar parte del código de un método de una **superclase** que ha sido sobrescrito por el método de la **subclase**.\n",
    "\n",
    "La funcion `super()` permite insertar el código del método de la superclase que ha sido sobreescrito."
   ]
  },
  {
   "cell_type": "code",
   "execution_count": 70,
   "metadata": {},
   "outputs": [],
   "source": [
    "class AlumnoITBA2(Persona):\n",
    "    \n",
    "    def __init__(self, nombre, apellido, dni, genero):\n",
    "        self.lista_de_cursos = []\n",
    "        if genero.lower() in ['masculino', 'femenino', 'otro']:\n",
    "            self.genero = genero\n",
    "        else:\n",
    "            raise ValueError\n",
    "        super().__init__(nombre, apellido, dni)\n",
    "        \n",
    "        \n",
    "    def agregar_curso(self, curso):\n",
    "        self.lista_de_cursos.append(curso)"
   ]
  },
  {
   "cell_type": "code",
   "execution_count": 71,
   "metadata": {},
   "outputs": [],
   "source": [
    "laura = AlumnoITBA2('Laura','Lagos','29.369.324','femenino')\n",
    "laura.estudios('Ing. Industrial')\n",
    "laura.agregar_curso('Data Engineering')"
   ]
  },
  {
   "cell_type": "code",
   "execution_count": 72,
   "metadata": {},
   "outputs": [
    {
     "name": "stdout",
     "output_type": "stream",
     "text": [
      "Nombre: Laura\n",
      "Apellido: Lagos\n",
      "Género: femenino\n",
      "DNI: 29.369.324\n",
      "Estudios: ['Ing. Industrial']\n",
      "Cursos: ['Data Engineering']\n"
     ]
    }
   ],
   "source": [
    "print(\"Nombre: {}\".format(laura.nombre))\n",
    "print(\"Apellido: {}\".format(laura.apellido))\n",
    "print(\"Género: {}\".format(laura.genero))\n",
    "print(\"DNI: {}\".format(laura.dni))\n",
    "print(\"Estudios: {}\".format(laura.lista_estudios))\n",
    "print(\"Cursos: {}\".format(laura.lista_de_cursos))"
   ]
  },
  {
   "cell_type": "code",
   "execution_count": 73,
   "metadata": {},
   "outputs": [],
   "source": [
    "laura.agregar_curso('Data Science')"
   ]
  },
  {
   "cell_type": "code",
   "execution_count": 74,
   "metadata": {},
   "outputs": [
    {
     "data": {
      "text/plain": [
       "['Data Engineering', 'Data Science']"
      ]
     },
     "execution_count": 74,
     "metadata": {},
     "output_type": "execute_result"
    }
   ],
   "source": [
    "laura.lista_de_cursos"
   ]
  },
  {
   "cell_type": "markdown",
   "metadata": {},
   "source": [
    "Para ver detalles sobre una clase, así como los métodos que hereda y de cuáles clases, podemos usar la función `help()`."
   ]
  },
  {
   "cell_type": "code",
   "execution_count": 75,
   "metadata": {},
   "outputs": [
    {
     "name": "stdout",
     "output_type": "stream",
     "text": [
      "Help on class AlumnoITBA2 in module __main__:\n",
      "\n",
      "class AlumnoITBA2(Persona)\n",
      " |  AlumnoITBA2(nombre, apellido, dni, genero)\n",
      " |\n",
      " |  Method resolution order:\n",
      " |      AlumnoITBA2\n",
      " |      Persona\n",
      " |      builtins.object\n",
      " |\n",
      " |  Methods defined here:\n",
      " |\n",
      " |  __init__(self, nombre, apellido, dni, genero)\n",
      " |      Método init para ingresar nombre, apellido y dni al instanciar la clase\n",
      " |\n",
      " |  agregar_curso(self, curso)\n",
      " |\n",
      " |  ----------------------------------------------------------------------\n",
      " |  Methods inherited from Persona:\n",
      " |\n",
      " |  estudios(self, estudio)\n",
      " |      Método para agregar estudios a la lista de estudios\n",
      " |\n",
      " |  ----------------------------------------------------------------------\n",
      " |  Data descriptors inherited from Persona:\n",
      " |\n",
      " |  __dict__\n",
      " |      dictionary for instance variables\n",
      " |\n",
      " |  __weakref__\n",
      " |      list of weak references to the object\n",
      "\n"
     ]
    }
   ],
   "source": [
    "help(AlumnoITBA2)"
   ]
  },
  {
   "cell_type": "markdown",
   "metadata": {},
   "source": [
    "Python permite agregar una documentación personalizada utilizando docstrings."
   ]
  },
  {
   "cell_type": "code",
   "execution_count": 76,
   "metadata": {},
   "outputs": [
    {
     "name": "stdout",
     "output_type": "stream",
     "text": [
      "Help on class AlumnoITBA2h in module __main__:\n",
      "\n",
      "class AlumnoITBA2h(Persona)\n",
      " |  AlumnoITBA2h(nombre, apellido, dni, genero)\n",
      " |\n",
      " |  Esta clase permite cargar alumnos del itba. Hereda todas las funcionalidades de la clase Persona\n",
      " |\n",
      " |  Method resolution order:\n",
      " |      AlumnoITBA2h\n",
      " |      Persona\n",
      " |      builtins.object\n",
      " |\n",
      " |  Methods defined here:\n",
      " |\n",
      " |  __init__(self, nombre, apellido, dni, genero)\n",
      " |      Añade el atributo genero al método __init__ de la superclase\n",
      " |      y definimos la lista de cursos dentro del init\n",
      " |\n",
      " |  agregar_curso(self, curso)\n",
      " |      Método para agregar cursos\n",
      " |\n",
      " |  ----------------------------------------------------------------------\n",
      " |  Methods inherited from Persona:\n",
      " |\n",
      " |  estudios(self, estudio)\n",
      " |      Método para agregar estudios a la lista de estudios\n",
      " |\n",
      " |  ----------------------------------------------------------------------\n",
      " |  Data descriptors inherited from Persona:\n",
      " |\n",
      " |  __dict__\n",
      " |      dictionary for instance variables\n",
      " |\n",
      " |  __weakref__\n",
      " |      list of weak references to the object\n",
      "\n"
     ]
    }
   ],
   "source": [
    "class AlumnoITBA2h(Persona):\n",
    "    \"\"\"\n",
    "        Esta clase permite cargar alumnos del itba. Hereda todas las funcionalidades de la clase Persona\n",
    "    \"\"\"\n",
    "    def __init__(self, nombre, apellido, dni, genero):\n",
    "        '''Añade el atributo genero al método __init__ de la superclase \n",
    "        y definimos la lista de cursos dentro del init'''\n",
    "        self.lista_de_cursos = []\n",
    "        if genero.lower() in ['masculino', 'femenino', 'otro']:\n",
    "            self.genero = genero\n",
    "        else:\n",
    "            raise ValueError\n",
    "        super().__init__(nombre, apellido, dni)\n",
    "        \n",
    "        \n",
    "    def agregar_curso(self, curso):\n",
    "        '''Método para agregar cursos'''\n",
    "        self.lista_de_cursos.append(curso)\n",
    "        \n",
    "help(AlumnoITBA2h)"
   ]
  },
  {
   "cell_type": "markdown",
   "metadata": {},
   "source": [
    "En las siguientes clases utilizaremos diversas clases. Es común que los módulos implementen clases para modularizar las funcionalidades.\n",
    "\n",
    "Por ejemplo el módulo numpy define 'ndarray'. En la siguiente clase veremos en profundidad las funcionalidades de este módulo.\n"
   ]
  },
  {
   "cell_type": "markdown",
   "metadata": {},
   "source": [
    "<!-- <span style=\"font-size:1.5em\">Fin de la clase.</span> -->\n",
    "\n",
    "<span style=\"font-size:2em\">¡Muchas gracias por su atención!</span>"
   ]
  }
 ],
 "metadata": {
  "kernelspec": {
   "display_name": "base",
   "language": "python",
   "name": "python3"
  },
  "language_info": {
   "codemirror_mode": {
    "name": "ipython",
    "version": 3
   },
   "file_extension": ".py",
   "mimetype": "text/x-python",
   "name": "python",
   "nbconvert_exporter": "python",
   "pygments_lexer": "ipython3",
   "version": "3.12.7"
  },
  "toc": {
   "base_numbering": 1,
   "nav_menu": {},
   "number_sections": true,
   "sideBar": true,
   "skip_h1_title": false,
   "title_cell": "Table of Contents",
   "title_sidebar": "Contents",
   "toc_cell": false,
   "toc_position": {},
   "toc_section_display": true,
   "toc_window_display": false
  }
 },
 "nbformat": 4,
 "nbformat_minor": 4
}
