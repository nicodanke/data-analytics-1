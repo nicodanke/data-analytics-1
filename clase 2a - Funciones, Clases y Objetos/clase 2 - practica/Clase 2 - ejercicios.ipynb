{
 "cells": [
  {
   "cell_type": "markdown",
   "metadata": {},
   "source": [
    "<img src=\"img/Marca-ITBA-Color-ALTA.png\" width=\"200\">\n",
    "\n",
    "# Programación para el Análisis de Datos\n",
    "\n",
    "## Ejercicios clase 2"
   ]
  },
  {
   "cell_type": "markdown",
   "metadata": {},
   "source": [
    "### Ejercicio 1\n",
    "Crear una función que reciba una cantidad variable de argumentos y retorne la suma de todas sus componentes\n",
    "\n",
    "Por ejemplo:\n",
    "```\n",
    "f1(1, 3, 5)\n",
    ">> 9\n",
    "```"
   ]
  },
  {
   "cell_type": "code",
   "execution_count": 1,
   "metadata": {},
   "outputs": [
    {
     "name": "stdout",
     "output_type": "stream",
     "text": [
      "17\n"
     ]
    }
   ],
   "source": [
    "## Completa con tu código\n",
    "def f1(*argvar):\n",
    "    return sum(list(argvar))\n",
    "##\n",
    "\n",
    "try:\n",
    "    print(f1(1, 2, 5, 9))\n",
    "except:\n",
    "    pass"
   ]
  },
  {
   "cell_type": "markdown",
   "metadata": {},
   "source": [
    "### Ejercicio 2\n",
    "\n",
    "Crear una funcion `mostrar_alumno()` que tome como argumento el nombre y una lista de materias aprobadas y retorne un string con el siquiente formato:\n",
    "```\n",
    "\"\"\"\n",
    "    El alumno {nombre} aprobo las materias:\n",
    "        - {materia1}\n",
    "        - {materia2}\n",
    "\"\"\"\n",
    "```\n",
    "En caso de no haber aprobado ninguna materia retornar:\n",
    "```\n",
    "\"\"\"\n",
    "    El alumno {nombre} no aprobo ninguna materia\n",
    "\"\"\"\n",
    "```\n",
    "\n",
    "**Pistas:**\n",
    "- Utilizar la función format para imprimir el valor de una variable en un string\n",
    "- Utilizar *'\\n'* para indicar un salto de linea"
   ]
  },
  {
   "cell_type": "code",
   "execution_count": 2,
   "metadata": {},
   "outputs": [
    {
     "name": "stdout",
     "output_type": "stream",
     "text": [
      "El alumno Juan aprobo las materias:\n",
      "\t- Datos 1\n",
      "\t- Datos 2\n",
      "El alumno Pedro no aprobo ninguna materia\n"
     ]
    }
   ],
   "source": [
    "def mostrar_alumno(nombre='', materias_aprobadas=[]):\n",
    "    ## Completa con tu código\n",
    "    if (len(materias_aprobadas) == 0):\n",
    "        print(f'El alumno {nombre} no aprobo ninguna materia')\n",
    "    else:\n",
    "        print(f'El alumno {nombre} aprobo las materias:')\n",
    "        for x in materias_aprobadas:\n",
    "            print(f'\\t- {x}')\n",
    "    ##\n",
    "    return None\n",
    "\n",
    "mostrar_alumno('Juan', ['Datos 1', 'Datos 2'])\n",
    "mostrar_alumno('Pedro', [])"
   ]
  },
  {
   "cell_type": "markdown",
   "metadata": {},
   "source": [
    "### Ejercicio 3\n",
    "\n",
    "\n",
    "Escribir una función que a partir de una lista de números retorne una lista de tuplas conteniendo todos los subsets de largo 2 que existan.\n",
    "\n",
    "Por ejemplo, para la lista `[4, 5, 6]`, el resultado es:\n",
    "```\n",
    "[(4, 4), (4, 5), (4, 6), (5, 4), (5, 5), (5, 6), (6, 4), (6, 5), (6, 6)]\n",
    "```"
   ]
  },
  {
   "cell_type": "code",
   "execution_count": 3,
   "metadata": {},
   "outputs": [
    {
     "name": "stdout",
     "output_type": "stream",
     "text": [
      "[(4, 4), (4, 5), (4, 6), (5, 4), (5, 5), (5, 6), (6, 4), (6, 5), (6, 6)]\n"
     ]
    }
   ],
   "source": [
    "def prod_cartesiano(lista=None):\n",
    "    result = []\n",
    "## Completa con tu código\n",
    "    for x in lista:\n",
    "        for y in lista:\n",
    "            result.append((x, y))\n",
    "\n",
    "##\n",
    "    return result\n",
    "\n",
    "print(prod_cartesiano([4,5,6]))"
   ]
  },
  {
   "cell_type": "markdown",
   "metadata": {},
   "source": [
    "### Ejercicio 4\n",
    "\n",
    "Crear una clase ``Cliente`` que tenga los atributos `\"nombre\"`, `\"nombre_plan\"` y `\"saldo\"`.\n",
    "Estos atributos deben poder cargarse al instanciar la clase.\n",
    "\n",
    "```\n",
    "a = Cliente(nombre='Pablo', nombre_plan='Prepago', saldo=500) \n",
    "```\n",
    "\n",
    "Mostrar por pantalla todos los valores de la instancia definida"
   ]
  },
  {
   "cell_type": "code",
   "execution_count": 4,
   "metadata": {},
   "outputs": [
    {
     "name": "stdout",
     "output_type": "stream",
     "text": [
      "Nombre: Pablo - Nombre Plan: Prepago - Saldo: 500\n"
     ]
    }
   ],
   "source": [
    "class Cliente:\n",
    "## Completa con tu código\n",
    "    def __init__(self, nombre, nombre_plan, saldo):\n",
    "        self.nombre = nombre\n",
    "        self.nombre_plan = nombre_plan\n",
    "        self.saldo = saldo\n",
    "\n",
    "    def __str__(self):\n",
    "        return f'Nombre: {self.nombre} - Nombre Plan: {self.nombre_plan} - Saldo: {self.saldo}'\n",
    "##\n",
    "\n",
    "a = Cliente(nombre='Pablo', nombre_plan='Prepago', saldo=500)\n",
    "print(a)\n"
   ]
  },
  {
   "cell_type": "markdown",
   "metadata": {},
   "source": [
    "### Ejercicio 5\n",
    "\n",
    "A la clase definida en el ejercicio anterior agregarle un método que a partir del precio por minuto calcule la cantidad de minutos que puede llamar el cliente.\n",
    "\n",
    "El atributo `precio_minuto` debe ser un atributo de clase\n"
   ]
  },
  {
   "cell_type": "code",
   "execution_count": 5,
   "metadata": {},
   "outputs": [
    {
     "name": "stdout",
     "output_type": "stream",
     "text": [
      "Nombre: Pablo - Nombre Plan: Prepago - Saldo: 500\n",
      "\n"
     ]
    }
   ],
   "source": [
    "class Cliente:\n",
    "## Completa con tu código\n",
    "    precio_minuto = 10\n",
    "    def __init__(self, nombre, nombre_plan, saldo):\n",
    "        self.nombre = nombre\n",
    "        self.nombre_plan = nombre_plan\n",
    "        self.saldo = saldo\n",
    "\n",
    "    def __str__(self):\n",
    "        return f'Nombre: {self.nombre} - Nombre Plan: {self.nombre_plan} - Saldo: {self.saldo}'\n",
    "    \n",
    "    def minutos_disponibles(self):\n",
    "        return self.saldo / self.precio_minuto\n",
    "##\n",
    "\n",
    "a = Cliente(nombre='Pablo', nombre_plan='Prepago', saldo=500)\n",
    "print(a)\n",
    "print()\n"
   ]
  },
  {
   "cell_type": "markdown",
   "metadata": {},
   "source": [
    "### Ejercicio 6\n",
    "\n",
    "A partir de la clase Cliente, definir un atributo de clase que sea un diccionario que relacione planes con servicios asociados.\n",
    "```\n",
    "planes = {\n",
    "        \"plan1\":{\"minutos\":100, \"SMS\":50, \"GB\":1.5},\n",
    "        \"plan2\":{\"minutos\":50, \"SMS\":100, \"GB\":1},\n",
    "        \"ilimitado\":{\"minutos\":9999, \"SMS\":9999, \"GB\":9999}\n",
    "    }\n",
    "```\n",
    "\n",
    "A partir de este diccionario crear un método que calcule la cantidad de saldo que tiene para cada uno de los servicios.\n"
   ]
  },
  {
   "cell_type": "code",
   "execution_count": 6,
   "metadata": {},
   "outputs": [
    {
     "name": "stdout",
     "output_type": "stream",
     "text": [
      "90\n",
      "45\n",
      "1.3\n"
     ]
    }
   ],
   "source": [
    "class Cliente:\n",
    "    ### Definición de atributos de clase\n",
    "    planes = {\n",
    "        \"plan1\":{\"minutos\":100, \"SMS\":50, \"GB\":1.5},\n",
    "        \"plan2\":{\"minutos\":50, \"SMS\":100, \"GB\":1},\n",
    "        \"ilimitado\":{\"minutos\":9999, \"SMS\":9999, \"GB\":9999}\n",
    "    }\n",
    "    \n",
    "    ###\n",
    "    def __init__(self, nombre='', plan='', minutos_consumidos=0, SMS_consumidos=0, GB_consumidos=0):\n",
    "        self.nombre=nombre\n",
    "        self.plan=plan\n",
    "        self.minutos_consumidos=minutos_consumidos\n",
    "        self.SMS_consumidos=SMS_consumidos\n",
    "        self.GB_consumidos=GB_consumidos\n",
    "        \n",
    "    def calcular_saldo(self):\n",
    "        \n",
    "        ### Completa con tu codigo aqui\n",
    "        planInfo = self.planes[self.plan]\n",
    "        minutos_disponibles = planInfo['minutos'] - self.minutos_consumidos\n",
    "        SMS_disponibles = planInfo['SMS'] - self.SMS_consumidos\n",
    "        GB_disponibles = planInfo['GB'] - self.GB_consumidos\n",
    "        ###\n",
    "        return minutos_disponibles, SMS_disponibles, GB_disponibles\n",
    "    \n",
    "c1 = Cliente(nombre='Estela', plan=\"plan1\", minutos_consumidos=10, SMS_consumidos=5, GB_consumidos=0.2)\n",
    "\n",
    "minutos_disponibles, SMS_disponibles, GB_disponibles = c1.calcular_saldo()\n",
    "\n",
    "print(minutos_disponibles)\n",
    "print(SMS_disponibles)\n",
    "print(GB_disponibles)"
   ]
  }
 ],
 "metadata": {
  "kernelspec": {
   "display_name": "base",
   "language": "python",
   "name": "python3"
  },
  "language_info": {
   "codemirror_mode": {
    "name": "ipython",
    "version": 3
   },
   "file_extension": ".py",
   "mimetype": "text/x-python",
   "name": "python",
   "nbconvert_exporter": "python",
   "pygments_lexer": "ipython3",
   "version": "3.12.7"
  }
 },
 "nbformat": 4,
 "nbformat_minor": 4
}
