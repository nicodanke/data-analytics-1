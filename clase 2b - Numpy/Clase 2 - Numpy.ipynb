{
 "cells": [
  {
   "cell_type": "markdown",
   "metadata": {},
   "source": [
    "<img src=\"img/Marca-ITBA-Color-ALTA.png\" width=\"200\">\n",
    "\n",
    "# Programación para el Análisis de Datos\n",
    "\n",
    "## Clase 2 - parte 1 - Numpy\n",
    "\n",
    "\n",
    "### Referencias y bibliografía de consulta:\n",
    "\n",
    "- Python for Data Analysis by Wes McKinney (O’Reilly) 2018 - capítulo 4\n",
    "\n",
    "- https://numpy.org/\n",
    "\n",
    "- [Documentación de numpy](https://devdocs.io/numpy~1.16/)\n",
    "\n",
    "\n",
    "## 1 - Definición\n",
    "\n",
    "Numpy (Numerical Python) es un módulo desarrollado por Travis Oliphant en 2006, aunque el proyecto comenzó en 1995.\n",
    "Este módulo es ampliamente usado por usuarios y otros módulos, principalmente por el manejo eficiente de información.\n",
    "En este módulo se agregan nuevos tipos de datos y operaciones para hacer realizar operaciones matriciales.\n",
    "\n",
    "Las principales caracteristicas que se integran en este módulo son:\n",
    "- `ndarray`: un eficiente array multidimensional que proporciona rápidas operaciones aritméticas y capacidades de broadcasting flexibles.\n",
    "- Funciones matemáticas para operaciones rápidas en matrices enteras de datos sin tener que escribir bucles.\n",
    "- Herramientas para integrar el código C / C ++ y Fortran\n",
    "- Herramientas de álgebra lineal y estadísticas\n",
    "\n",
    "\n",
    "El primer paso para utilizar este módulo es importarlo.\n",
    "Es una convención utilizar el alias `np` para referirse a este módulo"
   ]
  },
  {
   "cell_type": "code",
   "execution_count": null,
   "metadata": {
    "ExecuteTime": {
     "end_time": "2020-09-15T16:55:53.463383Z",
     "start_time": "2020-09-15T16:55:53.316275Z"
    }
   },
   "outputs": [],
   "source": [
    "import os\n",
    "import numpy as np\n",
    "\n",
    "print(\"Se está utilizando la versión {} de numpy\".format(np.__version__))"
   ]
  },
  {
   "cell_type": "markdown",
   "metadata": {},
   "source": [
    "Una de las razones por las que `NumPy` es tan importante para los cálculos numéricos en Python es porque está diseñado para ser **eficiente en grandes arrays de datos**. Hay un número de razones para esto:\n",
    "\n",
    "- `NumPy` almacena internamente los datos en un bloque contiguo de memoria.\n",
    "\n",
    "- Las operaciones de `NumPy` realizan cálculos complejos en arrays enteros sin necesidad de bucles.\n",
    "\n",
    "Para evaluar la diferencia de rendimiento, consideremos un array de `NumPy` de un millón de enteros, y la lista Python equivalente:"
   ]
  },
  {
   "cell_type": "code",
   "execution_count": 2,
   "metadata": {
    "ExecuteTime": {
     "end_time": "2020-09-15T16:30:26.829451Z",
     "start_time": "2020-09-15T16:30:26.605537Z"
    }
   },
   "outputs": [],
   "source": [
    "my_arr = np.arange(1000000)\n",
    "my_list = list(range(1000000))"
   ]
  },
  {
   "cell_type": "markdown",
   "metadata": {},
   "source": [
    "Para evaluar la velocidad de ejecución se utiliza un comando de jupyter, *%time*. que devuelve el tiempo de ejecución de un bloque de código"
   ]
  },
  {
   "cell_type": "code",
   "execution_count": null,
   "metadata": {
    "ExecuteTime": {
     "end_time": "2020-09-15T16:32:35.504076Z",
     "start_time": "2020-09-15T16:32:35.296651Z"
    }
   },
   "outputs": [],
   "source": [
    "%time my_arr2 = my_arr * 2\n",
    "%time my_list2 = [x * 2 for x in my_list]"
   ]
  },
  {
   "cell_type": "markdown",
   "metadata": {},
   "source": [
    "Los algoritmos basados en NumPy son generalmente de 10 a 100 veces más rápidos (o más) que sus contrapartes Python puras y usan significativamente menos memoria.\n",
    "\n",
    "Vamos a explorar el motivo por el que numpy es mas eficiente que python"
   ]
  },
  {
   "cell_type": "markdown",
   "metadata": {},
   "source": [
    "<img src=\"img/array_vs_lista.png\">\n",
    "\n",
    "En la imagen se puede ver que la principal diferencia ente una lista y un Numpy Array. Los arrays utilizan memoria contigua para almacenarse, en cambio, las listas almacenan los punteros hacia la información que almacenan.\n",
    "\n",
    "Otra gran diferencia es que las variables, y en particular cada dato de una lista, de python almacenan información en el header. Esto disminuye la performance a la hora de leer un dato, pero da una mayor flexibilidad"
   ]
  },
  {
   "cell_type": "markdown",
   "metadata": {},
   "source": [
    "### 1.1 - ND Array\n",
    "Un `ndarray` es una estructura de datos que permite agrupar elementos en una única variable.\n",
    "\n",
    "A diferencia de las listas de Python, los elementos de un array son todos del mismo tipo. Esto contribuye significativamente a la eficiencia de Numpy\n",
    "\n",
    "###### Dimensiones de un array\n",
    "- Los arrays de 1 dimensión representan **vectores** \n",
    "- Los arrays de 2 dimensiones representan **matrices**\n",
    "- Los arrays de 3 o más dimensiones representan **tensores**.  \n",
    "\n",
    "<img src=\"img/numpy_arrays.jpg\" width=\"450\">"
   ]
  },
  {
   "cell_type": "markdown",
   "metadata": {},
   "source": [
    "Numpy agrega varios tipo de dato y además integra un objeto especial **dtype** que contiene la información (o metadata) que el ndarray necesita para interpretar un trozo de memoria como un tipo particular de datos.\n",
    "\n",
    "Los tipos de dato mas utilizados son:\n",
    "- 'float8'\n",
    "- 'float16'\n",
    "- 'float32'\n",
    "- 'float64'\n",
    "- 'int8'\n",
    "- 'int16'\n",
    "- 'int32'\n",
    "- 'int64'\n",
    "- 'uint8'\n",
    "- 'uint16'\n",
    "- 'uint32'\n",
    "- 'uint64'\n",
    " "
   ]
  },
  {
   "cell_type": "code",
   "execution_count": null,
   "metadata": {
    "ExecuteTime": {
     "end_time": "2020-09-15T17:13:07.614481Z",
     "start_time": "2020-09-15T17:13:07.599487Z"
    }
   },
   "outputs": [],
   "source": [
    "array = np.array([1, 2, 3], dtype=np.float64)\n",
    "array.dtype"
   ]
  },
  {
   "cell_type": "code",
   "execution_count": null,
   "metadata": {},
   "outputs": [],
   "source": [
    "print(array)"
   ]
  },
  {
   "cell_type": "code",
   "execution_count": null,
   "metadata": {},
   "outputs": [],
   "source": [
    "type(array)"
   ]
  },
  {
   "cell_type": "markdown",
   "metadata": {},
   "source": [
    "## 2 - Operaciones básicas\n",
    "\n",
    "### 2.1 - Inicialización\n",
    "La forma más fácil de crear un array es usar la función **numpy.array()**. Ésta acepta cualquier objeto de tipo secuencia (incluyendo otros arrays) y produce un nuevo array de NumPy que contiene los datos que le pasamos.\n",
    "\n",
    "Por ejemplo, una lista es un buen candidato para la conversión:"
   ]
  },
  {
   "cell_type": "code",
   "execution_count": null,
   "metadata": {
    "ExecuteTime": {
     "end_time": "2020-09-15T16:52:27.996203Z",
     "start_time": "2020-09-15T16:52:27.986149Z"
    }
   },
   "outputs": [],
   "source": [
    "lista1 = [6, 7.5, 8, 0, 1]\n",
    "array1 = np.array(lista1)\n",
    "print(\"array1 es un {} que contiene los elementos: {}\".format(type(array1), array1))\n"
   ]
  },
  {
   "cell_type": "markdown",
   "metadata": {},
   "source": [
    "Notar que el tipo de dato de todos los componentes del array son iguales."
   ]
  },
  {
   "cell_type": "code",
   "execution_count": null,
   "metadata": {},
   "outputs": [],
   "source": [
    "lista1 = [6, 7.5, '8', 0, 1]\n",
    "array1 = np.array(lista1)\n",
    "print(\"array1 es un {} que contiene los elementos: {}\".format(type(array1), array1))\n"
   ]
  },
  {
   "cell_type": "markdown",
   "metadata": {},
   "source": [
    "Se puede ver en el ejemplo anterior que todos los componentes son de tipo string.\n",
    "Numpy realiza la conversión del tipo de dato para que sea compatible."
   ]
  },
  {
   "cell_type": "markdown",
   "metadata": {},
   "source": [
    "Secuencias anidadas, como por ejemplo una lista de listas de la misma longitud, serán convertidas en un array multidimensional de dimensión NxM (N filas y M columnas).\n",
    "En el siguiente ejemplo se muestra como se puede crear una matriz de 2x4 "
   ]
  },
  {
   "cell_type": "code",
   "execution_count": null,
   "metadata": {
    "ExecuteTime": {
     "end_time": "2020-09-15T16:50:55.716424Z",
     "start_time": "2020-09-15T16:50:55.699086Z"
    }
   },
   "outputs": [],
   "source": [
    "lista2 = [[1, 2, 3, 4], [5, 6, 7, 8]]\n",
    "array2 = np.array(lista2)\n",
    "array2"
   ]
  },
  {
   "cell_type": "markdown",
   "metadata": {},
   "source": [
    "Dado que lista2 es una lista de listas, el array de Numpy array2 tiene 2 dimensiones.\n",
    "\n",
    "El atributo ndim de un array nos indica la cantidad de dimensiones del array. El atributo shape nos indica la longitud (cantidad de elementos) para cada dimensión."
   ]
  },
  {
   "cell_type": "code",
   "execution_count": null,
   "metadata": {},
   "outputs": [],
   "source": [
    "array2.ndim"
   ]
  },
  {
   "cell_type": "code",
   "execution_count": null,
   "metadata": {},
   "outputs": [],
   "source": [
    "array2.shape"
   ]
  },
  {
   "cell_type": "markdown",
   "metadata": {},
   "source": [
    "A menos que se especifique explícitamente `np.array()` trata de inferir un buen tipo de datos para el array que crea. El tipo de datos se almacena en un objeto de metadatos `dtype`; por ejemplo, en los dos ejemplos anteriores que tenemos: "
   ]
  },
  {
   "cell_type": "code",
   "execution_count": null,
   "metadata": {
    "ExecuteTime": {
     "end_time": "2020-09-15T16:52:31.675938Z",
     "start_time": "2020-09-15T16:52:31.661732Z"
    }
   },
   "outputs": [],
   "source": [
    "print(array1.dtype)\n",
    "print(array2.dtype)"
   ]
  },
  {
   "cell_type": "markdown",
   "metadata": {},
   "source": [
    "Además de la función array(), Numpy provee funciones para crear e inicializar arrays con determinadas características.\n",
    "\n",
    "Podemos crear arrays vacíos, de ceros, de unos, de valores aleatorios, de valores que sigan determinada distribución, entre otras posibilidades.\n",
    "\n",
    "#### zeros\n",
    "Para generar arrays de ceros usamos la función `numpy.zeros(shape, dtype=float)`. Debemos indicar el shape del array y el dtype y devuelve un array con dichas características cuyos elementos son todos ceros."
   ]
  },
  {
   "cell_type": "code",
   "execution_count": null,
   "metadata": {},
   "outputs": [],
   "source": [
    "np.zeros((5,), dtype=int)"
   ]
  },
  {
   "cell_type": "markdown",
   "metadata": {},
   "source": [
    "#### ones\n",
    "Para generar arrays de unos usamos la función `numpy.ones(shape, dtype=float)`. Debemos indicar el shape del array y el dtype y devuelve un array con dichas características cuyos elementos son todos ceros."
   ]
  },
  {
   "cell_type": "code",
   "execution_count": null,
   "metadata": {},
   "outputs": [],
   "source": [
    "np.ones((2,4), dtype=int)"
   ]
  },
  {
   "cell_type": "markdown",
   "metadata": {},
   "source": [
    "#### identity\n",
    "Para generar la matriz identidad de 2 dimensiones usamos la función `numpy.identity(n, dtype=None)`"
   ]
  },
  {
   "cell_type": "code",
   "execution_count": null,
   "metadata": {},
   "outputs": [],
   "source": [
    "np.identity(3)"
   ]
  },
  {
   "cell_type": "markdown",
   "metadata": {},
   "source": [
    "#### arange\n",
    "La función `numpy.arange()` es una versión basada en arrays de la función range() de Python."
   ]
  },
  {
   "cell_type": "code",
   "execution_count": null,
   "metadata": {},
   "outputs": [],
   "source": [
    "np.arange(2, 100, step=25)"
   ]
  },
  {
   "cell_type": "markdown",
   "metadata": {},
   "source": [
    "#### linspace\n",
    "La función `numpy.linspace()` es similar a `numpy.arange()`, con la diferencia que se le puede indicar la cantidad de elementos que posee."
   ]
  },
  {
   "cell_type": "code",
   "execution_count": null,
   "metadata": {
    "ExecuteTime": {
     "end_time": "2020-09-15T17:04:52.875748Z",
     "start_time": "2020-09-15T17:04:52.857772Z"
    }
   },
   "outputs": [],
   "source": [
    "np.linspace(2, 100, num=10)"
   ]
  },
  {
   "cell_type": "markdown",
   "metadata": {},
   "source": [
    "### 2.2 -  Indexing\n",
    "\n",
    "Frecuentemente vamos a necesitar seleccionar algunos elementos de un array, de acuerdo a algún criterio según las necesidades de nuestro problema. La operación mediante la cual accedemos a un determinado subconjunto de los datos del array se denomina `indexing`. \n",
    "\n",
    "Existen tres tipos de indexing en `Numpy`:\n",
    "\n",
    "- `Array Slicing`: accedemos a los elementos con los parámetros start,stop,step. \n",
    "\n",
    "- `Fancy Indexing`: accedemos a los elementos mediante una lista de índices.\n",
    "\n",
    "- `Boolean Indexing`: creamos una \"máscara booleana\" para acceder a ciertos elementos.\n",
    "\n",
    "#### Slicing\n",
    "\n",
    "El slicing es similar al de las listas de Python [start:stop:step].\n",
    "\n",
    "<img src=\"img/slicing.jpg\" width=\"350\">"
   ]
  },
  {
   "cell_type": "markdown",
   "metadata": {},
   "source": [
    "Veamos algunos ejemplos:"
   ]
  },
  {
   "cell_type": "code",
   "execution_count": null,
   "metadata": {},
   "outputs": [],
   "source": [
    "array6 = np.arange(10)\n",
    "array6"
   ]
  },
  {
   "cell_type": "code",
   "execution_count": null,
   "metadata": {},
   "outputs": [],
   "source": [
    "array6[5] "
   ]
  },
  {
   "cell_type": "code",
   "execution_count": null,
   "metadata": {},
   "outputs": [],
   "source": [
    "array6[5:8]"
   ]
  },
  {
   "cell_type": "code",
   "execution_count": null,
   "metadata": {},
   "outputs": [],
   "source": [
    "array6[5:8] = 12\n",
    "array6"
   ]
  },
  {
   "cell_type": "code",
   "execution_count": null,
   "metadata": {},
   "outputs": [],
   "source": [
    "lista = [0,1,2,3,4,5,6]\n",
    "lista"
   ]
  },
  {
   "cell_type": "code",
   "execution_count": null,
   "metadata": {},
   "outputs": [],
   "source": [
    "try:\n",
    "    lista[1:4] = 10\n",
    "except TypeError as e:\n",
    "    print(e)\n"
   ]
  },
  {
   "cell_type": "code",
   "execution_count": 24,
   "metadata": {},
   "outputs": [],
   "source": [
    "\n",
    "lista[1:4] = [10,10,10]"
   ]
  },
  {
   "cell_type": "code",
   "execution_count": null,
   "metadata": {},
   "outputs": [],
   "source": [
    "lista"
   ]
  },
  {
   "cell_type": "markdown",
   "metadata": {},
   "source": [
    "Como podemos ver, si asignamos un valor escalar a un slice, como en: \n",
    "\n",
    "```Python\n",
    "array6[5:8] = 12\n",
    "\n",
    "``` \n",
    "el valor se propaga a toda la selección. "
   ]
  },
  {
   "cell_type": "markdown",
   "metadata": {},
   "source": [
    "Una primera distinción importante respecto a las listas de Python es que los slices de arrays son vistas del array original. Esto significa que los datos no se copian, y cualquier modificación de la vista se reflejará en el array de origen.\n",
    "\n",
    "Para dar un ejemplo de esto, primero creo un slice array6:"
   ]
  },
  {
   "cell_type": "code",
   "execution_count": null,
   "metadata": {},
   "outputs": [],
   "source": [
    "arr_slice = array6[5:8]\n",
    "arr_slice"
   ]
  },
  {
   "cell_type": "code",
   "execution_count": null,
   "metadata": {},
   "outputs": [],
   "source": [
    "array6"
   ]
  },
  {
   "cell_type": "markdown",
   "metadata": {},
   "source": [
    "Ahora, cuando cambio los valores en arr_slice, las mutaciones se reflejan en el array original array6:"
   ]
  },
  {
   "cell_type": "code",
   "execution_count": null,
   "metadata": {},
   "outputs": [],
   "source": [
    "arr_slice[1] = 12345\n",
    "array6"
   ]
  },
  {
   "cell_type": "markdown",
   "metadata": {},
   "source": [
    "El slice [:] selecciona todos los elementos del array:"
   ]
  },
  {
   "cell_type": "code",
   "execution_count": null,
   "metadata": {},
   "outputs": [],
   "source": [
    "arr_slice[:] = 64\n",
    "array6"
   ]
  },
  {
   "cell_type": "markdown",
   "metadata": {},
   "source": [
    "Esta característica de `Numpy` (el hecho de no copiar los datos por default) se debe a que `NumPy` ha sido diseñado para poder trabajar con matrices muy grandes y por lo tanto busca optimizar el rendimiento y el uso de memoria. "
   ]
  },
  {
   "cell_type": "markdown",
   "metadata": {},
   "source": [
    "Cuando tenemos más de una dimensión, podemos hacer slicing sobre cada una de ellas separándolas con una coma. \n",
    "\n",
    "Veamos un ejemplo creando un array de 2D con la función `np.random.randn()` que genera los elementos a partir de una distribución normal estándar.  "
   ]
  },
  {
   "cell_type": "code",
   "execution_count": null,
   "metadata": {},
   "outputs": [],
   "source": [
    "array2D = np.random.randn(3,4)\n",
    "array2D"
   ]
  },
  {
   "cell_type": "markdown",
   "metadata": {},
   "source": [
    "Los dos puntos `:` indican que accedemos a todos los elementos de cada fila y el cero después de la coma indica que sólamente lo hacemos para la columna 0 (la primera):"
   ]
  },
  {
   "cell_type": "code",
   "execution_count": null,
   "metadata": {},
   "outputs": [],
   "source": [
    "array2D[:, 0]"
   ]
  },
  {
   "cell_type": "markdown",
   "metadata": {},
   "source": [
    "Accedemos a la segunda fila"
   ]
  },
  {
   "cell_type": "code",
   "execution_count": null,
   "metadata": {},
   "outputs": [],
   "source": [
    "array2D[1, :]"
   ]
  },
  {
   "cell_type": "markdown",
   "metadata": {},
   "source": [
    "Otra forma de acceder a la segunda fila"
   ]
  },
  {
   "cell_type": "code",
   "execution_count": null,
   "metadata": {},
   "outputs": [],
   "source": [
    "array2D[1]"
   ]
  },
  {
   "cell_type": "markdown",
   "metadata": {},
   "source": [
    "Todas la filas, un slice de la segunda y tercer columna (índices 1 y 2)"
   ]
  },
  {
   "cell_type": "code",
   "execution_count": null,
   "metadata": {},
   "outputs": [],
   "source": [
    "array2D[:, 1:3]"
   ]
  },
  {
   "cell_type": "markdown",
   "metadata": {},
   "source": [
    "Todas las filas, todas las columnas listadas en orden inverso"
   ]
  },
  {
   "cell_type": "code",
   "execution_count": null,
   "metadata": {},
   "outputs": [],
   "source": [
    "array2D"
   ]
  },
  {
   "cell_type": "code",
   "execution_count": null,
   "metadata": {},
   "outputs": [],
   "source": [
    "array2D[:, ::-1]"
   ]
  },
  {
   "cell_type": "markdown",
   "metadata": {},
   "source": [
    "#### Fancy Indexing\n",
    "\n",
    "\n",
    "Esta técnica consiste en generar listas que contienen los índices de los elementos que queremos seleccionar y utilizar estas listas para indexar.\n",
    "\n",
    "Veamos algunos ejemplos:"
   ]
  },
  {
   "cell_type": "code",
   "execution_count": null,
   "metadata": {},
   "outputs": [],
   "source": [
    "array2D"
   ]
  },
  {
   "cell_type": "markdown",
   "metadata": {},
   "source": [
    "Nos quedamos con todas las columnas y las filas 1, 3, 2 y repetimos la 2 (índices 0,2,1,1)"
   ]
  },
  {
   "cell_type": "code",
   "execution_count": null,
   "metadata": {},
   "outputs": [],
   "source": [
    "lista_indices_filas = [0, 2, 1, 1]\n",
    "array2D[lista_indices_filas]"
   ]
  },
  {
   "cell_type": "markdown",
   "metadata": {},
   "source": [
    "Nos quedamos con todas las filas y las columnas 3, 4, 2, y repetimos la 3 (índices 2,3,1,2)"
   ]
  },
  {
   "cell_type": "code",
   "execution_count": null,
   "metadata": {},
   "outputs": [],
   "source": [
    "lista_indices_columnas = [2, 3, 1, 2]\n",
    "array2D[:, lista_indices_columnas]"
   ]
  },
  {
   "cell_type": "markdown",
   "metadata": {},
   "source": [
    "Combinando filas y columnas:"
   ]
  },
  {
   "cell_type": "code",
   "execution_count": null,
   "metadata": {},
   "outputs": [],
   "source": [
    "array2D[lista_indices_filas, lista_indices_columnas]"
   ]
  },
  {
   "cell_type": "markdown",
   "metadata": {},
   "source": [
    "#### Boolean Indexing\n",
    "\n",
    "Esta técnica consiste en crear una \"máscara booleana\", que es una lista de valores True y False que sirve para seleccionar sólo los elementos cuyo índice coincide con un valor True.\n",
    "\n",
    "Veamos algunos ejemplos sobre array2D:"
   ]
  },
  {
   "cell_type": "code",
   "execution_count": null,
   "metadata": {},
   "outputs": [],
   "source": [
    "array2D"
   ]
  },
  {
   "cell_type": "code",
   "execution_count": null,
   "metadata": {},
   "outputs": [],
   "source": [
    "mayor0 = array2D > 0\n",
    "mayor0"
   ]
  },
  {
   "cell_type": "markdown",
   "metadata": {},
   "source": [
    "La máscara tiene valor True en aquellos elementos de array2D con valor mayor a 0, y False en los que tienen valor menor o igual a 0.\n",
    "\n",
    "Ahora usemos esa máscara para seleccionar los elementos que cumplen esa condición, o sea los que tienen valor True en la máscara:"
   ]
  },
  {
   "cell_type": "code",
   "execution_count": null,
   "metadata": {},
   "outputs": [],
   "source": [
    "array2D[mayor0]"
   ]
  },
  {
   "cell_type": "markdown",
   "metadata": {},
   "source": [
    "Definamos ahora una condición más compleja: vamos a seleccionar los elementos que sean mayores a 0 y menores 0.75:"
   ]
  },
  {
   "cell_type": "code",
   "execution_count": null,
   "metadata": {},
   "outputs": [],
   "source": [
    "mayor0_menor075 = (array2D > 0) & (array2D < 0.75)\n",
    "mayor0_menor075"
   ]
  },
  {
   "cell_type": "markdown",
   "metadata": {},
   "source": [
    "Ahora usemos esa máscara para seleccionar los elementos que cumplen esa condición, o sea los que tienen valor True en la máscara:"
   ]
  },
  {
   "cell_type": "code",
   "execution_count": null,
   "metadata": {},
   "outputs": [],
   "source": [
    "array2D[mayor0_menor075]"
   ]
  },
  {
   "cell_type": "markdown",
   "metadata": {},
   "source": [
    "### 2.3 - Modificación de las dimensiones\n",
    "\n",
    "De forma similar a las listas, los objetos en numpy son mutables. Una funcionalidad útil en matrices, es la modificación de dimensiones.\n",
    "\n",
    "Algunos ejemplos podrían ser, transponer una matriz, modificar el tamaño de una imagen o serializar datos.\n",
    "\n",
    "#### Reshape\n",
    "\n",
    "Esta función permite modificar las dimensiones de un narray sin modificar la información que contiene.\n",
    "\n",
    "Supongamos que se quiere obtener una matriz de *M*x*N* a partir de una lista de números.\n"
   ]
  },
  {
   "cell_type": "code",
   "execution_count": null,
   "metadata": {},
   "outputs": [],
   "source": [
    "arr = np.array([1, 2, 3, 4, 5, 6, 7, 8, 9, 10])\n",
    "\n",
    "arr"
   ]
  },
  {
   "cell_type": "code",
   "execution_count": null,
   "metadata": {},
   "outputs": [],
   "source": [
    "arr.reshape(5, 2)"
   ]
  },
  {
   "cell_type": "markdown",
   "metadata": {},
   "source": [
    "En ejemplo se utilizan M=5 para obtener 5 filas y N=2 para obtener 2 columnas.\n",
    "\n",
    "Supongamos que queremos serializar una matriz convirtiéndola en un ndarray de una única fila, pero no se conoce la cantidad de componentes que tiene la matriz.\n",
    "\n",
    "Reshape posibilita dejar como incognita una de las dimensiones para que el módulo realice el cálculo.\n"
   ]
  },
  {
   "cell_type": "code",
   "execution_count": null,
   "metadata": {},
   "outputs": [],
   "source": [
    "arr = np.array(range(15)).reshape(3 , -1)\n",
    "print(arr.shape)\n",
    "print(arr)"
   ]
  },
  {
   "cell_type": "code",
   "execution_count": null,
   "metadata": {},
   "outputs": [],
   "source": [
    "arr_reshape = arr.reshape(1, -1)\n",
    "\n",
    "print(arr_reshape.shape)\n",
    "print(arr_reshape)"
   ]
  },
  {
   "cell_type": "markdown",
   "metadata": {},
   "source": [
    "#### Concatenate\n",
    "\n",
    "La función concatenate permite concatenar matrices, siempre y cuando sean compatibles las dimensiones de las mismas.\n",
    "\n",
    "Esta funcionalidad puede ser utilizada para hacer un append a una tabla."
   ]
  },
  {
   "cell_type": "code",
   "execution_count": null,
   "metadata": {},
   "outputs": [],
   "source": [
    "array2D_1 = np.arange(0,9).reshape((3,3))\n",
    "array2D_2 = np.arange(10,19).reshape(3,3)\n",
    "\n",
    "display('array2D_1 = ', array2D_1)\n",
    "print('\\n')\n",
    "display('array2D_2 = ', array2D_2)"
   ]
  },
  {
   "cell_type": "markdown",
   "metadata": {},
   "source": [
    "Concatemanos las columnas (axis=1):"
   ]
  },
  {
   "cell_type": "code",
   "execution_count": null,
   "metadata": {},
   "outputs": [],
   "source": [
    "np.concatenate((array2D_1, array2D_2), axis=1)"
   ]
  },
  {
   "cell_type": "markdown",
   "metadata": {},
   "source": [
    "Concatemanos las filas (axis=0):"
   ]
  },
  {
   "cell_type": "code",
   "execution_count": null,
   "metadata": {},
   "outputs": [],
   "source": [
    "np.concatenate((array2D_1, array2D_2), axis=0)"
   ]
  },
  {
   "cell_type": "markdown",
   "metadata": {},
   "source": [
    "## 3 - Métodos matemáticos y estadísticos\n",
    "\n",
    "La clase array dispone de un conjunto de funciones matemáticas que calculan estadísticas sobre los elementos de los arrays. \n",
    "\n",
    "Se pueden utilizar agregaciones (a menudo llamadas reducciones) como la suma, la media y la std (desviación estándar) ya sea llamando al método de la clase de array o utilizando la función NumPy de nivel superior.\n",
    "\n",
    "Veamos algunos ejemplos sobre una matriz (array 2D) generado a partir de números aleatorios."
   ]
  },
  {
   "cell_type": "code",
   "execution_count": null,
   "metadata": {},
   "outputs": [],
   "source": [
    "array7 = np.array([[1, 2, 3], [4, 5, 6], [7, 8, 9]])\n",
    "array7"
   ]
  },
  {
   "cell_type": "markdown",
   "metadata": {},
   "source": [
    "Si no especificamos el axis sobre el cual realizar la operación, el método `mean()` va a calcular la media de todos los elementos del array:"
   ]
  },
  {
   "cell_type": "code",
   "execution_count": null,
   "metadata": {},
   "outputs": [],
   "source": [
    "array7.mean()"
   ]
  },
  {
   "cell_type": "code",
   "execution_count": null,
   "metadata": {},
   "outputs": [],
   "source": [
    "type(array7)"
   ]
  },
  {
   "cell_type": "markdown",
   "metadata": {},
   "source": [
    "Podemos obtener el mismo resultado utilizando la función de Numpy `numpy.mean()`."
   ]
  },
  {
   "cell_type": "code",
   "execution_count": null,
   "metadata": {},
   "outputs": [],
   "source": [
    "np.mean(array7)"
   ]
  },
  {
   "cell_type": "markdown",
   "metadata": {},
   "source": [
    "veamos como realizar la suma de los elementos:"
   ]
  },
  {
   "cell_type": "code",
   "execution_count": null,
   "metadata": {},
   "outputs": [],
   "source": [
    "array7.sum()"
   ]
  },
  {
   "cell_type": "markdown",
   "metadata": {},
   "source": [
    "Las funciones como la media y la suma toman un argumento de eje opcional que calcula la estadística sobre el eje dado, dando como resultado un array con una dimensión menos.\n",
    "\n",
    "El `axis 0` es el primer eje, es decir las filas. En este caso la operación se realiza iterando en las filas (sumando los valores de las filas) por lo que obtendremos un valor para cada columna. "
   ]
  },
  {
   "cell_type": "code",
   "execution_count": null,
   "metadata": {},
   "outputs": [],
   "source": [
    "array7"
   ]
  },
  {
   "cell_type": "code",
   "execution_count": null,
   "metadata": {},
   "outputs": [],
   "source": [
    "array7.sum(axis=0)"
   ]
  },
  {
   "cell_type": "code",
   "execution_count": null,
   "metadata": {},
   "outputs": [],
   "source": [
    "array7.sum(axis=1)"
   ]
  },
  {
   "cell_type": "markdown",
   "metadata": {},
   "source": [
    "El `axis 1` es el segundo eje, es decir las columnas. En este caso la operación se realiza iterando en las columnas (sumando los valores de las columnas) por lo que obtendremos un valor para cada fila. "
   ]
  },
  {
   "cell_type": "code",
   "execution_count": null,
   "metadata": {},
   "outputs": [],
   "source": [
    "array7.mean(axis=1)"
   ]
  },
  {
   "cell_type": "markdown",
   "metadata": {},
   "source": [
    "Métodos como `cumsum()` (cumulative sum) o `cumprod()` (cumulative product) no reducen los datos, sino que operan de acuerdo al eje definido con el argumento axis pero devuelven un array con el mismo `shape` que el original: "
   ]
  },
  {
   "cell_type": "code",
   "execution_count": null,
   "metadata": {},
   "outputs": [],
   "source": [
    "array8 = np.array([0, 1, 2, 3, 4, 5, 6, 7])\n",
    "array8.cumsum()"
   ]
  },
  {
   "cell_type": "code",
   "execution_count": null,
   "metadata": {},
   "outputs": [],
   "source": [
    "array9 = np.array([[0, 1, 2], [3, 4, 5], [6, 7, 8]])\n",
    "array9"
   ]
  },
  {
   "cell_type": "code",
   "execution_count": null,
   "metadata": {},
   "outputs": [],
   "source": [
    "array9.cumsum(axis=0)"
   ]
  },
  {
   "cell_type": "code",
   "execution_count": null,
   "metadata": {},
   "outputs": [],
   "source": [
    "array9.cumprod(axis=1)"
   ]
  },
  {
   "cell_type": "markdown",
   "metadata": {},
   "source": [
    "## 4 - Broadcasting\n",
    "\n",
    "Numpy puede manejar operaciones en matrices de diferentes dimensiones. La matriz más pequeña se extenderá para que coincida con la forma de la más grande. \n",
    "\n",
    "Veamos un ejemplo:\n",
    "\n",
    "$$\n",
    "\\begin{bmatrix}\n",
    "    A_{1,1} & A_{1,2} \\\\\\\\\n",
    "    A_{2,1} & A_{2,2} \\\\\\\\\n",
    "    A_{3,1} & A_{3,2}\n",
    "\\end{bmatrix}+\n",
    "\\begin{bmatrix}\n",
    "    B_{1,1} \\\\\\\\\n",
    "    B_{2,1} \\\\\\\\\n",
    "    B_{3,1}\n",
    "\\end{bmatrix}\n",
    "$$\n",
    "\n",
    "es equivalente a:\n",
    "\n",
    "$$\n",
    "\\begin{bmatrix}\n",
    "    A_{1,1} & A_{1,2} \\\\\\\\\n",
    "    A_{2,1} & A_{2,2} \\\\\\\\\n",
    "    A_{3,1} & A_{3,2}\n",
    "\\end{bmatrix}+\n",
    "\\begin{bmatrix}\n",
    "    B_{1,1} & B_{1,1} \\\\\\\\\n",
    "    B_{2,1} & B_{2,1} \\\\\\\\\n",
    "    B_{3,1} & B_{3,1}\n",
    "\\end{bmatrix}=\n",
    "\\begin{bmatrix}\n",
    "    A_{1,1} + B_{1,1} & A_{1,2} + B_{1,1} \\\\\\\\\n",
    "    A_{2,1} + B_{2,1} & A_{2,2} + B_{2,1} \\\\\\\\\n",
    "    A_{3,1} + B_{3,1} & A_{3,2} + B_{3,1}\n",
    "\\end{bmatrix}\n",
    "$$\n",
    "\n",
    "\n",
    "Numpy puede manejar operaciones en matrices de diferentes dimensiones. La matriz más pequeña se extenderá para que coincida con la forma de la más grande. \n",
    "\n",
    "Veamos un ejemplo en código:"
   ]
  },
  {
   "cell_type": "code",
   "execution_count": null,
   "metadata": {},
   "outputs": [],
   "source": [
    "A = np.array([[1, 2], [3, 4], [5, 6]])\n",
    "A"
   ]
  },
  {
   "cell_type": "code",
   "execution_count": null,
   "metadata": {},
   "outputs": [],
   "source": [
    "A.shape"
   ]
  },
  {
   "cell_type": "code",
   "execution_count": null,
   "metadata": {},
   "outputs": [],
   "source": [
    "B = np.array([[2], [4], [6]])\n",
    "B"
   ]
  },
  {
   "cell_type": "code",
   "execution_count": null,
   "metadata": {},
   "outputs": [],
   "source": [
    "B.shape"
   ]
  },
  {
   "cell_type": "code",
   "execution_count": null,
   "metadata": {},
   "outputs": [],
   "source": [
    "# Broadcasting\n",
    "C=A+B\n",
    "C"
   ]
  },
  {
   "cell_type": "code",
   "execution_count": null,
   "metadata": {},
   "outputs": [],
   "source": [
    "C.shape"
   ]
  },
  {
   "cell_type": "markdown",
   "metadata": {},
   "source": [
    "#### Reglas del Broacasting: \n",
    "\n",
    "El broadcasting en NumPy sigue un conjunto estricto de reglas para determinar la interacción entre las dos arrays:\n",
    "\n",
    "Regla 1: si los dos arrays difieren en su número de dimensiones, la forma de la que tiene menos dimensiones se rellena con unos en su lado delantero (izquierdo).\n",
    "\n",
    "\n",
    "Regla 2: si la forma de los dos arrays no coincide en alguna dimensión, el array  con forma igual a 1 en esa dimensión se estira para que coincida con la otra.\n",
    "\n",
    "Regla 3: si en alguna dimensión los tamaños son diferentes y ninguno es igual a 1, se genera un error.\n",
    "\n",
    "<img src=\"img/broad1.png\" width=\"400\">\n",
    "<div class='epigraph' align=\"center\"><i>Broadcasting ejemplo 1</i></div><br>\n",
    "\n",
    "<img src=\"img/broad2.png\" width=\"400\">\n",
    "<div class='epigraph' align=\"center\"><i>Broadcasting ejemplo 2</i></div><br>"
   ]
  },
  {
   "cell_type": "markdown",
   "metadata": {},
   "source": [
    "#### Ejemplo 1"
   ]
  },
  {
   "cell_type": "code",
   "execution_count": 72,
   "metadata": {},
   "outputs": [],
   "source": [
    "M = np.ones((2,3))\n",
    "a = np.arange(3)"
   ]
  },
  {
   "cell_type": "code",
   "execution_count": null,
   "metadata": {},
   "outputs": [],
   "source": [
    "print('M = {}'.format(M))\n",
    "print('Shape M:', M.shape)"
   ]
  },
  {
   "cell_type": "code",
   "execution_count": null,
   "metadata": {},
   "outputs": [],
   "source": [
    "print('a = {}'.format(a))\n",
    "print('Shape a:', a.shape)"
   ]
  },
  {
   "cell_type": "markdown",
   "metadata": {},
   "source": [
    "Por regla 1:\n",
    "- M.shape -> (2,3)\n",
    "- a.shape -> (1,3)\n",
    "\n",
    "Por regla 2:\n",
    "- M.shape -> (2,3)\n",
    "- a.shape -> (2,3)"
   ]
  },
  {
   "cell_type": "code",
   "execution_count": null,
   "metadata": {},
   "outputs": [],
   "source": [
    "print('M + a = {}'.format(M + a))\n",
    "print('Shape M + a:', (M+a).shape)"
   ]
  },
  {
   "cell_type": "markdown",
   "metadata": {},
   "source": [
    "#### Ejemplo 2"
   ]
  },
  {
   "cell_type": "code",
   "execution_count": 76,
   "metadata": {},
   "outputs": [],
   "source": [
    "a = np.arange(3).reshape((3,1))\n",
    "b = np.arange(3)"
   ]
  },
  {
   "cell_type": "code",
   "execution_count": null,
   "metadata": {},
   "outputs": [],
   "source": [
    "print('a = {}'.format(a))\n",
    "print('Shape a:', a.shape)"
   ]
  },
  {
   "cell_type": "code",
   "execution_count": null,
   "metadata": {},
   "outputs": [],
   "source": [
    "print('b = {}'.format(b))\n",
    "print('Shape b:', b.shape)"
   ]
  },
  {
   "cell_type": "markdown",
   "metadata": {},
   "source": [
    "Por regla 1:\n",
    "- a.shape -> (3,1)\n",
    "- b.shape -> (1,3)\n",
    "\n",
    "Por regla 2:\n",
    "- a.shape -> (3,3)\n",
    "- b.shape -> (3,3)"
   ]
  },
  {
   "cell_type": "code",
   "execution_count": null,
   "metadata": {},
   "outputs": [],
   "source": [
    "print('a + b = {}'.format(a + b))\n",
    "print('Shape a + b:', (a+b).shape)"
   ]
  },
  {
   "cell_type": "markdown",
   "metadata": {},
   "source": [
    "#### Ejemplo 3"
   ]
  },
  {
   "cell_type": "code",
   "execution_count": 80,
   "metadata": {},
   "outputs": [],
   "source": [
    "M = np.ones((3,2))\n",
    "a = np.arange(3)"
   ]
  },
  {
   "cell_type": "code",
   "execution_count": null,
   "metadata": {},
   "outputs": [],
   "source": [
    "print('M = {}'.format(M))\n",
    "print('Shape M:', M.shape)"
   ]
  },
  {
   "cell_type": "code",
   "execution_count": null,
   "metadata": {},
   "outputs": [],
   "source": [
    "print('a = {}'.format(a))\n",
    "print('Shape a:', a.shape)"
   ]
  },
  {
   "cell_type": "markdown",
   "metadata": {},
   "source": [
    "Por regla 1:\n",
    "- a.shape -> (3,2)\n",
    "- b.shape -> (1,3)\n",
    "\n",
    "Por regla 2:\n",
    "- a.shape -> (3,2)\n",
    "- b.shape -> (3,3)"
   ]
  },
  {
   "cell_type": "code",
   "execution_count": null,
   "metadata": {},
   "outputs": [],
   "source": [
    "try:\n",
    "    print('M + a = {}'.format(M + a))\n",
    "except Exception as e:\n",
    "    print(\"Error:\", e)"
   ]
  },
  {
   "cell_type": "markdown",
   "metadata": {},
   "source": [
    "Es importante ser cuidadoso con las operaciones matemáticas, ya que existen casos en los que el resultado de una operación no es el deseado"
   ]
  },
  {
   "cell_type": "markdown",
   "metadata": {},
   "source": [
    "En la siguiente parte comenzaremos a analizar un módulo que permite la manipulación de datos a alto nivel **PANDAS**.\n",
    "\n",
    "\n",
    "<span style=\"font-size:2em\">¡Muchas gracias por su atención!</span>"
   ]
  }
 ],
 "metadata": {
  "kernelspec": {
   "display_name": "pad_2025",
   "language": "python",
   "name": "python3"
  },
  "language_info": {
   "codemirror_mode": {
    "name": "ipython",
    "version": 3
   },
   "file_extension": ".py",
   "mimetype": "text/x-python",
   "name": "python",
   "nbconvert_exporter": "python",
   "pygments_lexer": "ipython3",
   "version": "3.11.12"
  },
  "toc": {
   "base_numbering": 1,
   "nav_menu": {},
   "number_sections": true,
   "sideBar": true,
   "skip_h1_title": false,
   "title_cell": "Table of Contents",
   "title_sidebar": "Contents",
   "toc_cell": false,
   "toc_position": {},
   "toc_section_display": true,
   "toc_window_display": false
  }
 },
 "nbformat": 4,
 "nbformat_minor": 4
}
