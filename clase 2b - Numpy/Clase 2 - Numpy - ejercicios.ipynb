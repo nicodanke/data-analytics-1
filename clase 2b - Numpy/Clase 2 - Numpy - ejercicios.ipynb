{
 "cells": [
  {
   "cell_type": "markdown",
   "metadata": {},
   "source": [
    "<img src=\"img/Marca-ITBA-Color-ALTA.png\" width=\"200\">\n",
    "\n",
    "# Programación para el Análisis de Datos\n",
    "\n",
    "## Clase 2 - Numpy - ejercicios"
   ]
  },
  {
   "cell_type": "code",
   "execution_count": 49,
   "metadata": {},
   "outputs": [],
   "source": [
    "import numpy as np"
   ]
  },
  {
   "cell_type": "markdown",
   "metadata": {},
   "source": [
    "### Ejercicio 1\n",
    "\n",
    "A partir de la lista de valores numéricos `l`, cree un array de NumPy `a`."
   ]
  },
  {
   "cell_type": "code",
   "execution_count": 50,
   "metadata": {},
   "outputs": [
    {
     "data": {
      "text/plain": [
       "array([ 3,  5, 10,  7])"
      ]
     },
     "execution_count": 50,
     "metadata": {},
     "output_type": "execute_result"
    }
   ],
   "source": [
    "l = [3, 5, 10, 7]\n",
    "\n",
    "### Completa con tu código aquí\n",
    "a = np.array(l)\n",
    "###\n",
    "a"
   ]
  },
  {
   "cell_type": "markdown",
   "metadata": {},
   "source": [
    "### Ejercicio 2\n",
    "\n",
    "Reemplazar todos los números impares por el número $-1$\n"
   ]
  },
  {
   "cell_type": "code",
   "execution_count": 51,
   "metadata": {},
   "outputs": [
    {
     "name": "stdout",
     "output_type": "stream",
     "text": [
      "[ 0 -1  2 -1  4 -1  6 -1  8 -1]\n"
     ]
    }
   ],
   "source": [
    "arr2 = np.array([0, 1, 2, 3, 4, 5, 6, 7, 8, 9])\n",
    "\n",
    "### Completa con tu código aquí\n",
    "arr2[arr2 % 2 != 0] = -1\n",
    "###\n",
    "print(arr2)"
   ]
  },
  {
   "cell_type": "markdown",
   "metadata": {},
   "source": [
    "### Ejercicio 3\n",
    "\n",
    "A partir de los array 1D `x` e `y`, crear un array 1D `z` que sea el resultado de eliminar en `x` los elementos presentes en `y`.\n",
    "\n",
    "\n",
    "**pista**\n",
    "- ver la función [*setdiff1d*](https://numpy.org/doc/stable/reference/generated/numpy.setdiff1d.html)"
   ]
  },
  {
   "cell_type": "code",
   "execution_count": 52,
   "metadata": {},
   "outputs": [
    {
     "name": "stdout",
     "output_type": "stream",
     "text": [
      "[1 2 3 4]\n"
     ]
    }
   ],
   "source": [
    "x = np.array([1,2,3,4,5])\n",
    "y = np.array([5,6,7,8,9])\n",
    "\n",
    "### Completa con tu código aquí\n",
    "z = np.setdiff1d(x, y)\n",
    "\n",
    "print(z)\n",
    "####"
   ]
  },
  {
   "cell_type": "markdown",
   "metadata": {},
   "source": [
    "### Ejercicio 4\n",
    "\n",
    "Definir una función que obtiene los elementos de una matriz que sean mayores a 10 y multiplos de 3"
   ]
  },
  {
   "cell_type": "code",
   "execution_count": 53,
   "metadata": {},
   "outputs": [
    {
     "data": {
      "text/plain": [
       "array([ 12,  15,  18,  21,  24,  27,  30,  33,  36,  39,  42,  45,  48,\n",
       "        51,  54,  57,  60,  63,  66,  69,  72,  75,  78,  81,  84,  87,\n",
       "        90,  93,  96,  99, 102, 105, 108, 111, 114, 117, 120, 123, 126,\n",
       "       129, 132, 135, 138, 141, 144, 147, 150, 153, 156, 159, 162, 165,\n",
       "       168, 171, 174, 177, 180, 183, 186, 189, 192, 195, 198, 201, 204,\n",
       "       207, 210, 213, 216, 219, 222, 225, 228, 231, 234, 237, 240, 243,\n",
       "       246, 249, 252, 255, 258, 261, 264, 267, 270, 273, 276, 279, 282,\n",
       "       285, 288, 291, 294, 297, 300, 303, 306, 309, 312, 315, 318, 321,\n",
       "       324, 327, 330, 333, 336, 339, 342, 345, 348, 351, 354, 357, 360,\n",
       "       363, 366, 369, 372, 375, 378, 381, 384, 387, 390, 393, 396, 399,\n",
       "       402, 405, 408, 411, 414, 417, 420, 423, 426, 429, 432, 435, 438,\n",
       "       441, 444, 447, 450, 453, 456, 459, 462, 465, 468, 471, 474, 477,\n",
       "       480, 483, 486, 489, 492, 495, 498, 501, 504, 507, 510, 513, 516,\n",
       "       519, 522, 525, 528, 531, 534, 537, 540, 543, 546, 549, 552, 555,\n",
       "       558, 561, 564, 567, 570, 573, 576, 579, 582, 585, 588, 591, 594,\n",
       "       597, 600, 603, 606, 609, 612, 615, 618, 621, 624, 627, 630, 633,\n",
       "       636, 639, 642, 645, 648, 651, 654, 657, 660, 663, 666, 669, 672,\n",
       "       675, 678, 681, 684, 687, 690, 693, 696, 699, 702, 705, 708, 711,\n",
       "       714, 717, 720, 723, 726, 729, 732, 735, 738, 741, 744, 747, 750,\n",
       "       753, 756, 759, 762, 765, 768, 771, 774, 777, 780, 783, 786, 789,\n",
       "       792, 795, 798, 801, 804, 807, 810, 813, 816, 819, 822, 825, 828,\n",
       "       831, 834, 837, 840, 843, 846, 849, 852, 855, 858, 861, 864, 867,\n",
       "       870, 873, 876, 879, 882, 885, 888, 891, 894, 897, 900, 903, 906,\n",
       "       909, 912, 915, 918, 921, 924, 927, 930, 933, 936, 939, 942, 945,\n",
       "       948, 951, 954, 957, 960, 963, 966, 969, 972, 975, 978, 981, 984,\n",
       "       987, 990, 993, 996, 999])"
      ]
     },
     "execution_count": 53,
     "metadata": {},
     "output_type": "execute_result"
    }
   ],
   "source": [
    "def m10_mult3(X):\n",
    "### Completa con tu código aquí\n",
    "    return X[(X > 10) & (X % 3 == 0)]\n",
    "###\n",
    "\n",
    "A = np.arange(1000).reshape(5,-1)\n",
    "\n",
    "m10_mult3(A)"
   ]
  },
  {
   "cell_type": "markdown",
   "metadata": {},
   "source": [
    "### Ejercicio 5\n",
    "\n",
    "Escribir una función que reciba un array de numpy y sume todos los multiplos de 7 y 9 menores a 100"
   ]
  },
  {
   "cell_type": "code",
   "execution_count": 54,
   "metadata": {},
   "outputs": [
    {
     "data": {
      "text/plain": [
       "63"
      ]
     },
     "execution_count": 54,
     "metadata": {},
     "output_type": "execute_result"
    }
   ],
   "source": [
    "def sum_m7_m9(r):\n",
    "    ### Completa con tu código aquí:\n",
    "    return r[(r % 7 == 0) & (r % 9 == 0) & (r < 100)].sum()\n",
    "    ###\n",
    "    \n",
    "a = np.arange(1, 200)\n",
    "\n",
    "sum_m7_m9(a)"
   ]
  },
  {
   "cell_type": "markdown",
   "metadata": {},
   "source": [
    "### Ejercicio 6\n",
    "\n",
    "Crear una función que calcule la media movil con una ventana de largo 3.\n",
    "\n",
    "**pista:**\n",
    "- $$SMA = \\frac{A_{n-2} + A_{n-1} + A_{n}}{3}$$\n",
    "- Método [*cumsum*](https://numpy.org/doc/stable/reference/generated/numpy.cumsum.html)"
   ]
  },
  {
   "cell_type": "code",
   "execution_count": 55,
   "metadata": {},
   "outputs": [
    {
     "name": "stdout",
     "output_type": "stream",
     "text": [
      "[7 4 3 0 2 0 1 2 7 1]\n"
     ]
    },
    {
     "data": {
      "text/plain": [
       "array([4.66666667, 2.33333333, 1.66666667, 0.66666667, 1.        ,\n",
       "       1.        , 3.33333333, 3.33333333])"
      ]
     },
     "execution_count": 55,
     "metadata": {},
     "output_type": "execute_result"
    }
   ],
   "source": [
    "### Completa con tu código aquí:\n",
    "def media_movil(r, window_size):\n",
    "    b = np.cumsum(r)\n",
    "    b[window_size:] = b[window_size:] - b[:-window_size]\n",
    "    return b[window_size - 1:] / window_size\n",
    "\n",
    "\n",
    "a = np.random.randint(10, size=10)\n",
    "print(a)\n",
    "\n",
    "media_movil(a, 3)\n",
    "\n"
   ]
  }
 ],
 "metadata": {
  "kernelspec": {
   "display_name": "base",
   "language": "python",
   "name": "python3"
  },
  "language_info": {
   "codemirror_mode": {
    "name": "ipython",
    "version": 3
   },
   "file_extension": ".py",
   "mimetype": "text/x-python",
   "name": "python",
   "nbconvert_exporter": "python",
   "pygments_lexer": "ipython3",
   "version": "3.12.7"
  }
 },
 "nbformat": 4,
 "nbformat_minor": 4
}
