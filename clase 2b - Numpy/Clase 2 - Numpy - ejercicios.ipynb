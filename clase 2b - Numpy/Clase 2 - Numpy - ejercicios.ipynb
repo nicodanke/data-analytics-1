{
 "cells": [
  {
   "cell_type": "markdown",
   "metadata": {},
   "source": [
    "<img src=\"img/Marca-ITBA-Color-ALTA.png\" width=\"200\">\n",
    "\n",
    "# Programación para el Análisis de Datos\n",
    "\n",
    "## Clase 2 - Numpy - ejercicios"
   ]
  },
  {
   "cell_type": "code",
   "execution_count": null,
   "metadata": {},
   "outputs": [],
   "source": [
    "import numpy as np"
   ]
  },
  {
   "cell_type": "markdown",
   "metadata": {},
   "source": [
    "### Ejercicio 1\n",
    "\n",
    "A partir de la lista de valores numéricos `l`, cree un array de NumPy `a`."
   ]
  },
  {
   "cell_type": "code",
   "execution_count": null,
   "metadata": {},
   "outputs": [],
   "source": [
    "l = [3, 5, 10, 7]\n",
    "\n",
    "### Completa con tu código aquí\n",
    "\n",
    "###\n",
    "a"
   ]
  },
  {
   "cell_type": "markdown",
   "metadata": {},
   "source": [
    "### Ejercicio 2\n",
    "\n",
    "Reemplazar todos los números impares por el número $-1$\n"
   ]
  },
  {
   "cell_type": "code",
   "execution_count": null,
   "metadata": {},
   "outputs": [],
   "source": [
    "arr2 = np.array([0, 1, 2, 3, 4, 5, 6, 7, 8, 9])\n",
    "\n",
    "### Completa con tu código aquí\n",
    "\n",
    "###\n",
    "print(arr2)"
   ]
  },
  {
   "cell_type": "markdown",
   "metadata": {},
   "source": [
    "### Ejercicio 3\n",
    "\n",
    "A partir de los array 1D `x` e `y`, crear un array 1D `z` que sea el resultado de eliminar en `x` los elementos presentes en `y`.\n",
    "\n",
    "\n",
    "**pista**\n",
    "- ver la función [*setdiff1d*](https://numpy.org/doc/stable/reference/generated/numpy.setdiff1d.html)"
   ]
  },
  {
   "cell_type": "code",
   "execution_count": null,
   "metadata": {},
   "outputs": [],
   "source": [
    "x = np.array([1,2,3,4,5])\n",
    "y = np.array([5,6,7,8,9])\n",
    "\n",
    "### Completa con tu código aquí\n",
    "\n",
    "####"
   ]
  },
  {
   "cell_type": "markdown",
   "metadata": {},
   "source": [
    "### Ejercicio 4\n",
    "\n",
    "Definir una función que obtiene los elementos de una matriz que sean mayores a 10 y multiplos de 3"
   ]
  },
  {
   "cell_type": "code",
   "execution_count": null,
   "metadata": {},
   "outputs": [],
   "source": [
    "def m10_mult3(X):\n",
    "### Completa con tu código aquí\n",
    "   \n",
    "###\n",
    "\n",
    "A = np.arange(1000).reshape(5,-1)\n",
    "\n",
    "m10_mult3(A)"
   ]
  },
  {
   "cell_type": "markdown",
   "metadata": {},
   "source": [
    "### Ejercicio 5\n",
    "\n",
    "Escribir una función que reciba un array de numpy y sume todos los multiplos de 7 y 9 menores a 100"
   ]
  },
  {
   "cell_type": "code",
   "execution_count": null,
   "metadata": {},
   "outputs": [],
   "source": [
    "def sum_m7_m9(r):\n",
    "    ### Completa con tu código aquí:\n",
    "\n",
    "    ###\n",
    "    \n",
    "a = np.arange(1, 200)\n",
    "\n",
    "sum_m7_m9(a)"
   ]
  },
  {
   "cell_type": "markdown",
   "metadata": {},
   "source": [
    "### Ejercicio 6\n",
    "\n",
    "Crear una función que calcule la media movil con una ventana de largo 3.\n",
    "\n",
    "**pista:**\n",
    "- $$SMA = \\frac{A_{n-2} + A_{n-1} + A_{n}}{3}$$\n",
    "- Método [*cumsum*](https://numpy.org/doc/stable/reference/generated/numpy.cumsum.html)"
   ]
  },
  {
   "cell_type": "code",
   "execution_count": null,
   "metadata": {},
   "outputs": [],
   "source": [
    "### Completa con tu código aquí:\n",
    "\n",
    "a = np.random.randint(10, size=10000)\n",
    "print(a)"
   ]
  }
 ],
 "metadata": {
  "kernelspec": {
   "display_name": "Python 3 (ipykernel)",
   "language": "python",
   "name": "python3"
  },
  "language_info": {
   "codemirror_mode": {
    "name": "ipython",
    "version": 3
   },
   "file_extension": ".py",
   "mimetype": "text/x-python",
   "name": "python",
   "nbconvert_exporter": "python",
   "pygments_lexer": "ipython3",
   "version": "3.11.8"
  }
 },
 "nbformat": 4,
 "nbformat_minor": 4
}
